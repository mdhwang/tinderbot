{
 "cells": [
  {
   "cell_type": "code",
   "execution_count": 23,
   "metadata": {},
   "outputs": [
    {
     "name": "stderr",
     "output_type": "stream",
     "text": [
      "[nltk_data] Downloading package stopwords to\n",
      "[nltk_data]     /Users/matthewhwang/nltk_data...\n",
      "[nltk_data]   Package stopwords is already up-to-date!\n",
      "[nltk_data] Downloading package punkt to\n",
      "[nltk_data]     /Users/matthewhwang/nltk_data...\n",
      "[nltk_data]   Package punkt is already up-to-date!\n"
     ]
    }
   ],
   "source": [
    "import pandas as pd\n",
    "import nltk\n",
    "nltk.download('stopwords')\n",
    "nltk.download('punkt')\n",
    "from clean import *\n",
    "\n",
    "import pickle\n"
   ]
  },
  {
   "cell_type": "code",
   "execution_count": 5,
   "metadata": {},
   "outputs": [],
   "source": [
    "class User:\n",
    "    def __init__(self, name, age, college, job, city, gender, distance, details, anthem, profile_pic_urls):\n",
    "        self.name = name\n",
    "        self.age = age\n",
    "        self.college = college\n",
    "        self.job = job\n",
    "        self.city = city\n",
    "        self.gender = gender\n",
    "        self.distance = distance\n",
    "        self.details = details\n",
    "        self.anthem = anthem\n",
    "        self.profile_pic_urls = profile_pic_urls"
   ]
  },
  {
   "cell_type": "code",
   "execution_count": 8,
   "metadata": {},
   "outputs": [
    {
     "name": "stdout",
     "output_type": "stream",
     "text": [
      "-----------------\n",
      "CLEANING DATA\n",
      "...\n",
      "FOUND 118396 ENTRIES\n",
      "REMOVED 40960 EMPTY ENTRIES\n",
      "REMOVED 1224 DUPLICATED ENTRIES\n",
      "76212 ENTRIES REMAIN\n",
      "-----------------\n",
      "FILLING MISSING CITY VALUES\n",
      "FOUND 57254 MISSING VALUES\n",
      "1264 MISSING CITY VALUES REMAIN (0.02%)\n",
      "-----------------\n",
      "ADDING LOCATION COORDINATE VALUES\n",
      "COULD NOT FIND LOCATION DATA FOR 1999 ENTRIES (0.03%)\n"
     ]
    }
   ],
   "source": [
    "df = pd.read_csv('data/raw/profile_data.csv')\n",
    "df = clean(df)\n",
    "df = fill_missing_cities(df)\n",
    "df = add_location_values(df)"
   ]
  },
  {
   "cell_type": "code",
   "execution_count": 18,
   "metadata": {},
   "outputs": [],
   "source": [
    "users = []\n",
    "for i in range(0,len(df)):\n",
    "    links = [x.strip('\"').strip(\"'\") for x in df.iloc[i,9]]\n",
    "    users.append(User(df.iloc[i,0],\n",
    "                      df.iloc[i,1],\n",
    "                      df.iloc[i,2],\n",
    "                      df.iloc[i,3],\n",
    "                      df.iloc[i,4],\n",
    "                      df.iloc[i,5],\n",
    "                      df.iloc[i,6],\n",
    "                      df.iloc[i,7],\n",
    "                      df.iloc[i,8],\n",
    "                      links))"
   ]
  },
  {
   "cell_type": "code",
   "execution_count": 19,
   "metadata": {},
   "outputs": [
    {
     "name": "stdout",
     "output_type": "stream",
     "text": [
      "Barnegat\n",
      "<class 'str'>\n"
     ]
    }
   ],
   "source": [
    "print(users[0].city)\n",
    "print(type(users[0].city))"
   ]
  },
  {
   "cell_type": "code",
   "execution_count": 20,
   "metadata": {},
   "outputs": [
    {
     "data": {
      "text/plain": [
       "'https://images-ssl.gotinder.com/5dc0814dfc09b801007b6c1b/640x800_75_90983506-a499-436b-80d4-d3d7944bf2f6.webp'"
      ]
     },
     "execution_count": 20,
     "metadata": {},
     "output_type": "execute_result"
    }
   ],
   "source": [
    "users[0].profile_pic_urls[0]"
   ]
  },
  {
   "cell_type": "code",
   "execution_count": 21,
   "metadata": {},
   "outputs": [
    {
     "name": "stdout",
     "output_type": "stream",
     "text": [
      "https://images-ssl.gotinder.com/5dc0814dfc09b801007b6c1b/640x800_75_90983506-a499-436b-80d4-d3d7944bf2f6.webp\n"
     ]
    }
   ],
   "source": [
    "print(users[0].profile_pic_urls[0])"
   ]
  },
  {
   "cell_type": "code",
   "execution_count": 22,
   "metadata": {},
   "outputs": [
    {
     "data": {
      "text/plain": [
       "76212"
      ]
     },
     "execution_count": 22,
     "metadata": {},
     "output_type": "execute_result"
    }
   ],
   "source": [
    "len(users)"
   ]
  },
  {
   "cell_type": "code",
   "execution_count": 24,
   "metadata": {},
   "outputs": [],
   "source": [
    "pickle.dump(users, open(\"users.p\", \"wb\"))"
   ]
  },
  {
   "cell_type": "code",
   "execution_count": null,
   "metadata": {},
   "outputs": [],
   "source": []
  }
 ],
 "metadata": {
  "kernelspec": {
   "display_name": "Python 3",
   "language": "python",
   "name": "python3"
  },
  "language_info": {
   "codemirror_mode": {
    "name": "ipython",
    "version": 3
   },
   "file_extension": ".py",
   "mimetype": "text/x-python",
   "name": "python",
   "nbconvert_exporter": "python",
   "pygments_lexer": "ipython3",
   "version": "3.7.3"
  }
 },
 "nbformat": 4,
 "nbformat_minor": 2
}
