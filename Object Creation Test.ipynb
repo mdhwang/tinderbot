{
 "cells": [
  {
   "cell_type": "code",
   "execution_count": 1,
   "metadata": {},
   "outputs": [],
   "source": [
    "import pandas as pd"
   ]
  },
  {
   "cell_type": "code",
   "execution_count": 14,
   "metadata": {},
   "outputs": [],
   "source": [
    "df = pd.read_csv('data/raw/profile_data.csv')"
   ]
  },
  {
   "cell_type": "code",
   "execution_count": 15,
   "metadata": {},
   "outputs": [
    {
     "data": {
      "text/plain": [
       "Index(['name', 'age', 'college', 'job', 'city', 'gender', 'distance',\n",
       "       'details', 'anthem', 'profile_pic_urls'],\n",
       "      dtype='object')"
      ]
     },
     "execution_count": 15,
     "metadata": {},
     "output_type": "execute_result"
    }
   ],
   "source": [
    "df.columns"
   ]
  },
  {
   "cell_type": "code",
   "execution_count": 16,
   "metadata": {},
   "outputs": [],
   "source": [
    "class User:\n",
    "    def __init__(self, name, age, college, job, city, gender, distance, details, anthem, profile_pic_urls):\n",
    "        self.name = name\n",
    "        self.age = age\n",
    "        self.college = college\n",
    "        self.job = job\n",
    "        self.city = city\n",
    "        self.gender = gender\n",
    "        self.distance = distance\n",
    "        self.details = details\n",
    "        self.anthem = anthem\n",
    "        self.profile_pic_urls = profile_pic_urls"
   ]
  },
  {
   "cell_type": "code",
   "execution_count": 23,
   "metadata": {},
   "outputs": [],
   "source": [
    "users = []\n",
    "for i in range(0,len(df)):\n",
    "    users.append(User(df.iloc[i,0],\n",
    "                      df.iloc[i,1],\n",
    "                      df.iloc[i,2],\n",
    "                      df.iloc[i,3],\n",
    "                      df.iloc[i,4],\n",
    "                      df.iloc[i,5],\n",
    "                      df.iloc[i,6],\n",
    "                      df.iloc[i,7],\n",
    "                      df.iloc[i,8],\n",
    "                      df.iloc[i,9]))"
   ]
  },
  {
   "cell_type": "code",
   "execution_count": 30,
   "metadata": {},
   "outputs": [
    {
     "name": "stdout",
     "output_type": "stream",
     "text": [
      "Lives in Barnegat\n",
      "<class 'str'>\n"
     ]
    }
   ],
   "source": [
    "print(users[0].city)\n",
    "print(type(users[0].city))"
   ]
  },
  {
   "cell_type": "code",
   "execution_count": 18,
   "metadata": {},
   "outputs": [
    {
     "data": {
      "text/plain": [
       "\"['https://images-ssl.gotinder.com/5dc0814dfc09b801007b6c1b/640x800_75_90983506-a499-436b-80d4-d3d7944bf2f6.webp', 'https://images-ssl.gotinder.com/5dc0814dfc09b801007b6c1b/640x800_75_70d06d7f-7bf8-418b-84b9-d285b139a3db.webp', 'https://images-ssl.gotinder.com/5dc0814dfc09b801007b6c1b/640x800_75_f6c88ec2-6883-433b-85a6-3086faee56cf.webp', 'https://images-ssl.gotinder.com/5dc0814dfc09b801007b6c1b/640x800_75_620ec41b-b461-455e-b66e-937810b968c1.webp']\""
      ]
     },
     "execution_count": 18,
     "metadata": {},
     "output_type": "execute_result"
    }
   ],
   "source": [
    "a.profile_pic_urls"
   ]
  },
  {
   "cell_type": "code",
   "execution_count": null,
   "metadata": {},
   "outputs": [],
   "source": []
  }
 ],
 "metadata": {
  "kernelspec": {
   "display_name": "Python 3",
   "language": "python",
   "name": "python3"
  },
  "language_info": {
   "codemirror_mode": {
    "name": "ipython",
    "version": 3
   },
   "file_extension": ".py",
   "mimetype": "text/x-python",
   "name": "python",
   "nbconvert_exporter": "python",
   "pygments_lexer": "ipython3",
   "version": "3.7.3"
  }
 },
 "nbformat": 4,
 "nbformat_minor": 2
}
