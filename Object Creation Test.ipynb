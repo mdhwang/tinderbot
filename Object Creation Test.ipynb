{
 "cells": [
  {
   "cell_type": "code",
   "execution_count": null,
   "metadata": {},
   "outputs": [],
   "source": [
    "import pandas as pd\n",
    "import nltk\n",
    "from clean import *\n",
    "from faces import *\n",
    "\n",
    "import pickle\n",
    "\n",
    "from PIL import Image\n",
    "import cv2\n",
    "import numpy as np\n",
    "from google.colab.patches import cv2_imshow\n",
    "\n",
    "import wget\n",
    "\n",
    "frontalface_default_path = \"cascades/haarcascade_frontalface_default.xml\"\n",
    "frontalface_alt_path = \"cascades/haarcascade_frontalface_alt.xml\"\n",
    "frontalface_alt2_path = \"cascades/haarcascade_frontalface_alt2.xml\"\n",
    "profileface_path = \"cascades/haarcascade_profileface.xml\"\n",
    "\n",
    "\n",
    "face_cascade = cv2.CascadeClassifier(frontalface_default_path)\n",
    "facealt_cascade = cv2.CascadeClassifier(frontalface_alt_path)\n",
    "facealt2_cascade = cv2.CascadeClassifier(frontalface_alt2_path)\n",
    "profileface_cascasde = cv2.CascadeClassifier(profileface_path)"
   ]
  },
  {
   "cell_type": "code",
   "execution_count": null,
   "metadata": {},
   "outputs": [],
   "source": [
    "df.iloc[2,9]"
   ]
  },
  {
   "cell_type": "code",
   "execution_count": null,
   "metadata": {},
   "outputs": [],
   "source": [
    "class User:\n",
    "    def __init__(self, name, age, college, job, city, gender, distance, details, anthem, urls, faces ):\n",
    "        self.name = name\n",
    "        self.age = age\n",
    "        self.college = college\n",
    "        self.job = job\n",
    "        self.city = city\n",
    "        self.gender = gender\n",
    "        self.distance = distance\n",
    "        self.details = details\n",
    "        self.anthem = anthem\n",
    "        self.urls = urls\n",
    "        self.faces = faces"
   ]
  },
  {
   "cell_type": "code",
   "execution_count": null,
   "metadata": {},
   "outputs": [],
   "source": [
    "df = pd.read_csv('data/raw/profile_data.csv')\n",
    "df = clean(df)\n",
    "df = fill_missing_cities(df)\n",
    "df = add_location_values(df)"
   ]
  },
  {
   "cell_type": "code",
   "execution_count": null,
   "metadata": {},
   "outputs": [],
   "source": [
    "def find_face(img):\n",
    "    img = Image.open(img).convert('RGB')\n",
    "    img = np.array(img)\n",
    "    gray = cv2.cvtColor(img, cv2.COLOR_BGR2GRAY)\n",
    "    faces = facealt_cascade.detectMultiScale(gray, 1.1, 4)\n",
    "    \n",
    "    print(\"Found {} faces\".format(len(faces)))\n",
    "    face_arr = []\n",
    "    for(x , y,  w,  h) in faces:\n",
    "        face_arr.append(gray[y:y+h,x:x+h])\n",
    "    for each in face_arr:\n",
    "        cv2_imshow(each)\n",
    "    return face_arr"
   ]
  },
  {
   "cell_type": "code",
   "execution_count": null,
   "metadata": {},
   "outputs": [],
   "source": [
    "users = []\n",
    "for i in range(51,len(df)):\n",
    "    links = [x.strip('\"').strip(\"'\") for x in df.iloc[i,9]]\n",
    "    faces = []\n",
    "    for url in links:\n",
    "        print(url)\n",
    "        try:\n",
    "            img = wget.download(url,out='data/images')\n",
    "            print(img)\n",
    "            found = find_face(img)\n",
    "            if found:\n",
    "                faces.append(found)\n",
    "        except:\n",
    "            print('Forbidden URL')\n",
    "    if faces:\n",
    "        users.append(User(df.iloc[i,0],\n",
    "                      df.iloc[i,1],\n",
    "                      df.iloc[i,2],\n",
    "                      df.iloc[i,3],\n",
    "                      df.iloc[i,4],\n",
    "                      df.iloc[i,5],\n",
    "                      df.iloc[i,6],\n",
    "                      df.iloc[i,7],\n",
    "                      df.iloc[i,8],\n",
    "                      links,\n",
    "                      faces))"
   ]
  },
  {
   "cell_type": "code",
   "execution_count": null,
   "metadata": {},
   "outputs": [],
   "source": [
    "len(users)"
   ]
  },
  {
   "cell_type": "code",
   "execution_count": null,
   "metadata": {},
   "outputs": [],
   "source": [
    "users[2].faces"
   ]
  },
  {
   "cell_type": "code",
   "execution_count": null,
   "metadata": {},
   "outputs": [],
   "source": [
    "users[0].urls"
   ]
  },
  {
   "cell_type": "code",
   "execution_count": null,
   "metadata": {},
   "outputs": [],
   "source": [
    "pickle.dump(users, open( \"users.p\", \"wb\" ))"
   ]
  },
  {
   "cell_type": "code",
   "execution_count": null,
   "metadata": {},
   "outputs": [],
   "source": [
    "len(users[1].faces)"
   ]
  },
  {
   "cell_type": "code",
   "execution_count": null,
   "metadata": {},
   "outputs": [],
   "source": [
    "len(users[1].urls)"
   ]
  },
  {
   "cell_type": "code",
   "execution_count": null,
   "metadata": {},
   "outputs": [],
   "source": [
    "len(df)"
   ]
  },
  {
   "cell_type": "code",
   "execution_count": null,
   "metadata": {},
   "outputs": [],
   "source": []
  }
 ],
 "metadata": {
  "kernelspec": {
   "display_name": "Python 3",
   "language": "python",
   "name": "python3"
  },
  "language_info": {
   "codemirror_mode": {
    "name": "ipython",
    "version": 3
   },
   "file_extension": ".py",
   "mimetype": "text/x-python",
   "name": "python",
   "nbconvert_exporter": "python",
   "pygments_lexer": "ipython3",
   "version": "3.7.3"
  }
 },
 "nbformat": 4,
 "nbformat_minor": 2
}
