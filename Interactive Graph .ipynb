{
 "cells": [
  {
   "cell_type": "code",
   "execution_count": 1,
   "metadata": {},
   "outputs": [
    {
     "name": "stderr",
     "output_type": "stream",
     "text": [
      "/Users/matthewhwang/anaconda3/lib/python3.7/site-packages/dask/config.py:168: YAMLLoadWarning:\n",
      "\n",
      "calling yaml.load() without Loader=... is deprecated, as the default Loader is unsafe. Please read https://msg.pyyaml.org/load for full details.\n",
      "\n",
      "/Users/matthewhwang/anaconda3/lib/python3.7/site-packages/distributed/config.py:20: YAMLLoadWarning:\n",
      "\n",
      "calling yaml.load() without Loader=... is deprecated, as the default Loader is unsafe. Please read https://msg.pyyaml.org/load for full details.\n",
      "\n"
     ]
    }
   ],
   "source": [
    "import pandas as pd\n",
    "from clean import *\n",
    "\n",
    "import plotly.express as px"
   ]
  },
  {
   "cell_type": "code",
   "execution_count": 2,
   "metadata": {},
   "outputs": [],
   "source": [
    "data = pd.read_csv('data/profile_data.csv')"
   ]
  },
  {
   "cell_type": "code",
   "execution_count": 3,
   "metadata": {},
   "outputs": [
    {
     "name": "stdout",
     "output_type": "stream",
     "text": [
      "-----------------\n",
      "CLEANING DATA\n",
      "...\n",
      "FOUND 56783 ENTRIES\n",
      "REMOVED 0 EMPTY ENTRIES\n",
      "REMOVED 0 DUPLICATED ENTRIES\n",
      "-----------------\n",
      "CALCULATING STATS\n",
      "...\n",
      "FOUND 56783 ENTRIES\n",
      "56335 ENTRIES HAVE AGE DATA (99.2%)\n",
      "19773 ENTRIES HAVE COLLEGE DATA (34.8%)\n",
      "14456 ENTRIES HAVE CITY DATA (25.5%)\n",
      "14540 ENTRIES HAVE JOB DATA (25.6%)\n",
      "10153 ENTRIES HAVE GENDER DATA (17.9%)\n",
      "55631 ENTRIES HAVE DISTANCE DATA (98.0%)\n",
      "42256 ENTRIES HAVE DETAIL DATA (74.4%)\n",
      "15078 ENTRIES HAVE ANTHEM DATA (26.6%)\n",
      "...\n",
      "AVERAGE AGE IN DATA SET: 24\n",
      "NUMBER OF UNIQUE COLLEGES: 7793\n",
      "NUMBER OF UNIQUE JOBS: 9530\n",
      "NUMBER OF UNIQUE CITIES: 2793\n"
     ]
    }
   ],
   "source": [
    "data = clean(data)\n",
    "stats(data)"
   ]
  },
  {
   "cell_type": "code",
   "execution_count": null,
   "metadata": {},
   "outputs": [],
   "source": [
    "song = data.groupby('anthem').count().name.idxmax()"
   ]
  },
  {
   "cell_type": "code",
   "execution_count": 22,
   "metadata": {},
   "outputs": [
    {
     "data": {
      "text/plain": [
       "anthem\n",
       "(\"'39 - Remastered 2011\", 'Queen')                                                                                                                     1\n",
       "(\"'Cause I'm A Man\", 'Tame Impala')                                                                                                                    1\n",
       "(\"'S Wonderful\", 'João Gilberto')                                                                                                                      1\n",
       "(\"'פאוץ\", 'Noa Kirel')                                                                                                                                 1\n",
       "(\"(I Can't Get No) Satisfaction - Mono Version\", 'The Rolling Stones')                                                                                 1\n",
       "(\"(Joe Gets Kicked Out of School for Using) Drugs With Friends (But Says This Isn't a Problem)\", 'Car Seat Headrest')                                  1\n",
       "(\"(Sittin' On) The Dock Of The Bay\", 'Otis Redding')                                                                                                   1\n",
       "(\"(Sittin' On) the Dock of the Bay - Mono\", 'Otis Redding')                                                                                            1\n",
       "(\"(Sittin' On) the Dock of the Bay\", 'Otis Redding')                                                                                                   1\n",
       "(\"(You're The) Devil In Disguise\", 'Elvis Presley')                                                                                                    1\n",
       "(\"(You're The) Devil in Disguise\", 'Elvis Presley')                                                                                                    1\n",
       "(\"223's (feat. 9lokknine)\", 'YNW Melly, 9lokknine')                                                                                                    4\n",
       "(\"6's to 9's (feat. Rationale)\", 'Big Wild, Rationale')                                                                                                1\n",
       "(\"80's Comedown Machine\", 'The Strokes')                                                                                                               1\n",
       "(\"93 'Til Infinity\", 'Souls Of Mischief')                                                                                                              4\n",
       "(\"A Cruel Angel's Thesis - Director's Edit Version\", 'Shiro Sagisu, Yoko Takahashi')                                                                   1\n",
       "(\"A Detailed and Poetic Physical Threat to the Person Who Intentionally Vandalized My 1994 Dodge Intrepid Behind Kate's Apartment\", 'Pet Symmetry')    1\n",
       "(\"A Tale That Wasn't Right\", 'Helloween')                                                                                                              1\n",
       "(\"A Woman's Worth\", 'Alicia Keys')                                                                                                                     2\n",
       "(\"Aaron's Party (Come Get It)\", 'Aaron Carter')                                                                                                        1\n",
       "(\"Ain't Gon Let Up\", 'DG Yola')                                                                                                                        1\n",
       "(\"Ain't Gonna Find Love\", 'Donell Lewis')                                                                                                              1\n",
       "(\"Ain't It Fun\", 'Paramore')                                                                                                                           2\n",
       "(\"Ain't No Fun (If the Homies Cant Have None) (feat. Nate Dogg, Warren G & Kurupt)\", 'Snoop Dogg, Kurupt, Nate Dogg, Warren G')                        1\n",
       "(\"Ain't No Mountain High Enough - Mono Version\", 'Marvin Gaye, Tammi Terrell')                                                                         1\n",
       "(\"Ain't No Mountain High Enough\", 'Marvin Gaye, Tammi Terrell')                                                                                        1\n",
       "(\"Ain't No Rest for the Wicked\", 'Cage The Elephant')                                                                                                  2\n",
       "(\"Ain't No Sunshine\", 'Bill Withers')                                                                                                                  1\n",
       "(\"Ain't Nobody Like You\", 'Yung Bae, josh pan')                                                                                                        1\n",
       "(\"Ain't Nobody Takin My Baby\", 'Russ')                                                                                                                 1\n",
       "                                                                                                                                                      ..\n",
       "('Ćma', 'Clock Machine')                                                                                                                               1\n",
       "('Ε. Signaler', 'Damso')                                                                                                                               1\n",
       "('Влюбился в неё', 'Deesmi, Onlife')                                                                                                                   1\n",
       "('Зацепила', 'VERBEE')                                                                                                                                 1\n",
       "('Коронаминус', 'Gidayyat, Gazan')                                                                                                                     1\n",
       "('Мамасита', 'Jah Khalib')                                                                                                                             1\n",
       "('Миллион алых роз', 'Egor Kreed')                                                                                                                     1\n",
       "('Неон', 'Elena Temnikova')                                                                                                                            1\n",
       "('Смерти Больше Нет', 'IC3PEAK')                                                                                                                       1\n",
       "('Степь', 'Loqiemean, 104')                                                                                                                            1\n",
       "('Танцевать', 'Molchat Doma')                                                                                                                          1\n",
       "('Тарантино', 'Mot')                                                                                                                                   1\n",
       "('Тоска', 'Molchat Doma')                                                                                                                              1\n",
       "('суки я в шлеме', 'прыгай киска')                                                                                                                     1\n",
       "('וידוי', 'Yehudit Ravitz')                                                                                                                            1\n",
       "('ภาวนา', 'MEYOU')                                                                                                                                     1\n",
       "('さよならはエモーション', 'Sakanaction')                                                                                                                         1\n",
       "('グッデイ・グッバイ - 2018 Remaster', 'KIRINJI')                                                                                                               1\n",
       "('十二月的妳', 'Fire EX.')                                                                                                                                  1\n",
       "('味道 feat. Zion.T & Crush', 'Khalil Fong, Zion.T, Crush')                                                                                              1\n",
       "('夜空中最亮的星', '杨晓')                                                                                                                                      1\n",
       "('安靜', 'Jay Chou')                                                                                                                                     1\n",
       "('寒鴉少年', 'Hua Chen Yu')                                                                                                                                1\n",
       "('屍を越えてゆけ', 'AAAMYYY')                                                                                                                                 1\n",
       "('控制', 'FAZI')                                                                                                                                         1\n",
       "('連名帶姓', 'A-Mei Chang')                                                                                                                                1\n",
       "('非国民的ヒーロー', 'Seiko Oomori')                                                                                                                           1\n",
       "('내가 너의 곁에 잠시 살았다는 걸', 'Kim Yeon Woo')                                                                                                                 1\n",
       "('뻥 Bbung', 'Flowsik')                                                                                                                                 1\n",
       "('주문 Mirotic', 'TVXQ!')                                                                                                                                1\n",
       "Name: name, Length: 9214, dtype: int64"
      ]
     },
     "execution_count": 22,
     "metadata": {},
     "output_type": "execute_result"
    }
   ],
   "source": []
  },
  {
   "cell_type": "code",
   "execution_count": 30,
   "metadata": {},
   "outputs": [
    {
     "name": "stdout",
     "output_type": "stream",
     "text": [
      "Enter age group:35\n",
      "Most 35 year olds live in Los Angeles\n"
     ]
    }
   ],
   "source": [
    "age_query = int(input(\"Enter age group:\"))\n",
    "place = data.groupby('city').count().name.idxmax()\n",
    "print('Most {} year olds live in {}'.format(age_query,place))"
   ]
  },
  {
   "cell_type": "code",
   "execution_count": 18,
   "metadata": {},
   "outputs": [
    {
     "data": {
      "text/html": [
       "<div>\n",
       "<style scoped>\n",
       "    .dataframe tbody tr th:only-of-type {\n",
       "        vertical-align: middle;\n",
       "    }\n",
       "\n",
       "    .dataframe tbody tr th {\n",
       "        vertical-align: top;\n",
       "    }\n",
       "\n",
       "    .dataframe thead th {\n",
       "        text-align: right;\n",
       "    }\n",
       "</style>\n",
       "<table border=\"1\" class=\"dataframe\">\n",
       "  <thead>\n",
       "    <tr style=\"text-align: right;\">\n",
       "      <th></th>\n",
       "      <th>name</th>\n",
       "      <th>age</th>\n",
       "      <th>college</th>\n",
       "      <th>job</th>\n",
       "      <th>city</th>\n",
       "      <th>gender</th>\n",
       "      <th>distance</th>\n",
       "      <th>details</th>\n",
       "      <th>anthem</th>\n",
       "      <th>profile_pic_urls</th>\n",
       "    </tr>\n",
       "  </thead>\n",
       "  <tbody>\n",
       "    <tr>\n",
       "      <th>0</th>\n",
       "      <td>Gianna</td>\n",
       "      <td>19.0</td>\n",
       "      <td>NaN</td>\n",
       "      <td>NaN</td>\n",
       "      <td>Barnegat</td>\n",
       "      <td>NaN</td>\n",
       "      <td>2430.0</td>\n",
       "      <td>ig- _.giaannaa_\\r\\nsc- gianna8378</td>\n",
       "      <td>('Slide (Remix) (feat. Pop Smoke, A Boogie Wit...</td>\n",
       "      <td>['https://images-ssl.gotinder.com/5dc0814dfc09...</td>\n",
       "    </tr>\n",
       "    <tr>\n",
       "      <th>1</th>\n",
       "      <td>Lauren</td>\n",
       "      <td>21.0</td>\n",
       "      <td>Florida State University</td>\n",
       "      <td>NaN</td>\n",
       "      <td>NaN</td>\n",
       "      <td>NaN</td>\n",
       "      <td>1981.0</td>\n",
       "      <td>A meme</td>\n",
       "      <td>NaN</td>\n",
       "      <td>['https://images-ssl.gotinder.com/5e8a352520cc...</td>\n",
       "    </tr>\n",
       "    <tr>\n",
       "      <th>2</th>\n",
       "      <td>Britanny</td>\n",
       "      <td>19.0</td>\n",
       "      <td>Santa Ana College</td>\n",
       "      <td>Boys and girls club</td>\n",
       "      <td>Garden Grove</td>\n",
       "      <td>NaN</td>\n",
       "      <td>19.0</td>\n",
       "      <td>Get to know me ☺️ Never been to Disneyland 😅 S...</td>\n",
       "      <td>NaN</td>\n",
       "      <td>['https://images-ssl.gotinder.com/5cace3ad9b7a...</td>\n",
       "    </tr>\n",
       "    <tr>\n",
       "      <th>3</th>\n",
       "      <td>Kayla</td>\n",
       "      <td>28.0</td>\n",
       "      <td>School</td>\n",
       "      <td>NaN</td>\n",
       "      <td>Los Angeles</td>\n",
       "      <td>Woman</td>\n",
       "      <td>18.0</td>\n",
       "      <td>I am a creative person that loves simple, inno...</td>\n",
       "      <td>NaN</td>\n",
       "      <td>['https://images-ssl.gotinder.com/5e90cb67da1c...</td>\n",
       "    </tr>\n",
       "    <tr>\n",
       "      <th>4</th>\n",
       "      <td>Kimberly</td>\n",
       "      <td>18.0</td>\n",
       "      <td>California State University, Los Angeles</td>\n",
       "      <td>NaN</td>\n",
       "      <td>NaN</td>\n",
       "      <td>Woman</td>\n",
       "      <td>15.0</td>\n",
       "      <td>Just for fun\\r\\nI’m 5’2</td>\n",
       "      <td>NaN</td>\n",
       "      <td>['https://images-ssl.gotinder.com/5e0ffa53349f...</td>\n",
       "    </tr>\n",
       "  </tbody>\n",
       "</table>\n",
       "</div>"
      ],
      "text/plain": [
       "       name   age                                   college  \\\n",
       "0    Gianna  19.0                                       NaN   \n",
       "1    Lauren  21.0                  Florida State University   \n",
       "2  Britanny  19.0                         Santa Ana College   \n",
       "3     Kayla  28.0                                    School   \n",
       "4  Kimberly  18.0  California State University, Los Angeles   \n",
       "\n",
       "                   job          city gender  distance  \\\n",
       "0                  NaN      Barnegat    NaN    2430.0   \n",
       "1                  NaN           NaN    NaN    1981.0   \n",
       "2  Boys and girls club  Garden Grove    NaN      19.0   \n",
       "3                  NaN   Los Angeles  Woman      18.0   \n",
       "4                  NaN           NaN  Woman      15.0   \n",
       "\n",
       "                                             details  \\\n",
       "0                 ig- _.giaannaa_\\r\\nsc- gianna8378    \n",
       "1                                            A meme    \n",
       "2  Get to know me ☺️ Never been to Disneyland 😅 S...   \n",
       "3  I am a creative person that loves simple, inno...   \n",
       "4                           Just for fun\\r\\nI’m 5’2    \n",
       "\n",
       "                                              anthem  \\\n",
       "0  ('Slide (Remix) (feat. Pop Smoke, A Boogie Wit...   \n",
       "1                                                NaN   \n",
       "2                                                NaN   \n",
       "3                                                NaN   \n",
       "4                                                NaN   \n",
       "\n",
       "                                    profile_pic_urls  \n",
       "0  ['https://images-ssl.gotinder.com/5dc0814dfc09...  \n",
       "1  ['https://images-ssl.gotinder.com/5e8a352520cc...  \n",
       "2  ['https://images-ssl.gotinder.com/5cace3ad9b7a...  \n",
       "3  ['https://images-ssl.gotinder.com/5e90cb67da1c...  \n",
       "4  ['https://images-ssl.gotinder.com/5e0ffa53349f...  "
      ]
     },
     "execution_count": 18,
     "metadata": {},
     "output_type": "execute_result"
    }
   ],
   "source": [
    "data.head()"
   ]
  },
  {
   "cell_type": "code",
   "execution_count": null,
   "metadata": {},
   "outputs": [],
   "source": []
  }
 ],
 "metadata": {
  "kernelspec": {
   "display_name": "Python 3",
   "language": "python",
   "name": "python3"
  },
  "language_info": {
   "codemirror_mode": {
    "name": "ipython",
    "version": 3
   },
   "file_extension": ".py",
   "mimetype": "text/x-python",
   "name": "python",
   "nbconvert_exporter": "python",
   "pygments_lexer": "ipython3",
   "version": "3.7.3"
  }
 },
 "nbformat": 4,
 "nbformat_minor": 2
}
