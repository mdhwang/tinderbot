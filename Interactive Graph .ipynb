{
 "cells": [
  {
   "cell_type": "code",
   "execution_count": 6,
   "metadata": {},
   "outputs": [
    {
     "name": "stderr",
     "output_type": "stream",
     "text": [
      "/Users/matthewhwang/anaconda3/lib/python3.7/site-packages/dask/config.py:168: YAMLLoadWarning:\n",
      "\n",
      "calling yaml.load() without Loader=... is deprecated, as the default Loader is unsafe. Please read https://msg.pyyaml.org/load for full details.\n",
      "\n",
      "/Users/matthewhwang/anaconda3/lib/python3.7/site-packages/distributed/config.py:20: YAMLLoadWarning:\n",
      "\n",
      "calling yaml.load() without Loader=... is deprecated, as the default Loader is unsafe. Please read https://msg.pyyaml.org/load for full details.\n",
      "\n"
     ]
    }
   ],
   "source": [
    "import pandas as pd\n",
    "from clean import *\n",
    "\n",
    "import plotly.express as px"
   ]
  },
  {
   "cell_type": "code",
   "execution_count": 7,
   "metadata": {},
   "outputs": [],
   "source": [
    "data = pd.read_csv('data/profile_data.csv')"
   ]
  },
  {
   "cell_type": "code",
   "execution_count": 8,
   "metadata": {},
   "outputs": [
    {
     "name": "stdout",
     "output_type": "stream",
     "text": [
      "-----------------\n",
      "CLEANING DATA\n",
      "...\n",
      "FOUND 56783 ENTRIES\n",
      "REMOVED 0 EMPTY ENTRIES\n",
      "REMOVED 0 DUPLICATED ENTRIES\n",
      "-----------------\n",
      "CALCULATING STATS\n",
      "...\n",
      "FOUND 56783 ENTRIES\n",
      "56335 ENTRIES HAVE AGE DATA (99.2%)\n",
      "19773 ENTRIES HAVE COLLEGE DATA (34.8%)\n",
      "14456 ENTRIES HAVE CITY DATA (25.5%)\n",
      "14540 ENTRIES HAVE JOB DATA (25.6%)\n",
      "10153 ENTRIES HAVE GENDER DATA (17.9%)\n",
      "55631 ENTRIES HAVE DISTANCE DATA (98.0%)\n",
      "42256 ENTRIES HAVE DETAIL DATA (74.4%)\n",
      "15078 ENTRIES HAVE ANTHEM DATA (26.6%)\n",
      "...\n",
      "AVERAGE AGE IN DATA SET: 24\n",
      "NUMBER OF UNIQUE COLLEGES: 7793\n",
      "NUMBER OF UNIQUE JOBS: 9530\n",
      "NUMBER OF UNIQUE CITIES: 2793\n"
     ]
    }
   ],
   "source": [
    "data = clean(data)\n",
    "stats(data)"
   ]
  },
  {
   "cell_type": "code",
   "execution_count": null,
   "metadata": {},
   "outputs": [],
   "source": [
    "song = data.groupby('anthem').count().name.idxmax()"
   ]
  },
  {
   "cell_type": "code",
   "execution_count": 22,
   "metadata": {},
   "outputs": [
    {
     "data": {
      "text/plain": [
       "anthem\n",
       "(\"'39 - Remastered 2011\", 'Queen')                                                                                                                     1\n",
       "(\"'Cause I'm A Man\", 'Tame Impala')                                                                                                                    1\n",
       "(\"'S Wonderful\", 'João Gilberto')                                                                                                                      1\n",
       "(\"'פאוץ\", 'Noa Kirel')                                                                                                                                 1\n",
       "(\"(I Can't Get No) Satisfaction - Mono Version\", 'The Rolling Stones')                                                                                 1\n",
       "(\"(Joe Gets Kicked Out of School for Using) Drugs With Friends (But Says This Isn't a Problem)\", 'Car Seat Headrest')                                  1\n",
       "(\"(Sittin' On) The Dock Of The Bay\", 'Otis Redding')                                                                                                   1\n",
       "(\"(Sittin' On) the Dock of the Bay - Mono\", 'Otis Redding')                                                                                            1\n",
       "(\"(Sittin' On) the Dock of the Bay\", 'Otis Redding')                                                                                                   1\n",
       "(\"(You're The) Devil In Disguise\", 'Elvis Presley')                                                                                                    1\n",
       "(\"(You're The) Devil in Disguise\", 'Elvis Presley')                                                                                                    1\n",
       "(\"223's (feat. 9lokknine)\", 'YNW Melly, 9lokknine')                                                                                                    4\n",
       "(\"6's to 9's (feat. Rationale)\", 'Big Wild, Rationale')                                                                                                1\n",
       "(\"80's Comedown Machine\", 'The Strokes')                                                                                                               1\n",
       "(\"93 'Til Infinity\", 'Souls Of Mischief')                                                                                                              4\n",
       "(\"A Cruel Angel's Thesis - Director's Edit Version\", 'Shiro Sagisu, Yoko Takahashi')                                                                   1\n",
       "(\"A Detailed and Poetic Physical Threat to the Person Who Intentionally Vandalized My 1994 Dodge Intrepid Behind Kate's Apartment\", 'Pet Symmetry')    1\n",
       "(\"A Tale That Wasn't Right\", 'Helloween')                                                                                                              1\n",
       "(\"A Woman's Worth\", 'Alicia Keys')                                                                                                                     2\n",
       "(\"Aaron's Party (Come Get It)\", 'Aaron Carter')                                                                                                        1\n",
       "(\"Ain't Gon Let Up\", 'DG Yola')                                                                                                                        1\n",
       "(\"Ain't Gonna Find Love\", 'Donell Lewis')                                                                                                              1\n",
       "(\"Ain't It Fun\", 'Paramore')                                                                                                                           2\n",
       "(\"Ain't No Fun (If the Homies Cant Have None) (feat. Nate Dogg, Warren G & Kurupt)\", 'Snoop Dogg, Kurupt, Nate Dogg, Warren G')                        1\n",
       "(\"Ain't No Mountain High Enough - Mono Version\", 'Marvin Gaye, Tammi Terrell')                                                                         1\n",
       "(\"Ain't No Mountain High Enough\", 'Marvin Gaye, Tammi Terrell')                                                                                        1\n",
       "(\"Ain't No Rest for the Wicked\", 'Cage The Elephant')                                                                                                  2\n",
       "(\"Ain't No Sunshine\", 'Bill Withers')                                                                                                                  1\n",
       "(\"Ain't Nobody Like You\", 'Yung Bae, josh pan')                                                                                                        1\n",
       "(\"Ain't Nobody Takin My Baby\", 'Russ')                                                                                                                 1\n",
       "                                                                                                                                                      ..\n",
       "('Ćma', 'Clock Machine')                                                                                                                               1\n",
       "('Ε. Signaler', 'Damso')                                                                                                                               1\n",
       "('Влюбился в неё', 'Deesmi, Onlife')                                                                                                                   1\n",
       "('Зацепила', 'VERBEE')                                                                                                                                 1\n",
       "('Коронаминус', 'Gidayyat, Gazan')                                                                                                                     1\n",
       "('Мамасита', 'Jah Khalib')                                                                                                                             1\n",
       "('Миллион алых роз', 'Egor Kreed')                                                                                                                     1\n",
       "('Неон', 'Elena Temnikova')                                                                                                                            1\n",
       "('Смерти Больше Нет', 'IC3PEAK')                                                                                                                       1\n",
       "('Степь', 'Loqiemean, 104')                                                                                                                            1\n",
       "('Танцевать', 'Molchat Doma')                                                                                                                          1\n",
       "('Тарантино', 'Mot')                                                                                                                                   1\n",
       "('Тоска', 'Molchat Doma')                                                                                                                              1\n",
       "('суки я в шлеме', 'прыгай киска')                                                                                                                     1\n",
       "('וידוי', 'Yehudit Ravitz')                                                                                                                            1\n",
       "('ภาวนา', 'MEYOU')                                                                                                                                     1\n",
       "('さよならはエモーション', 'Sakanaction')                                                                                                                         1\n",
       "('グッデイ・グッバイ - 2018 Remaster', 'KIRINJI')                                                                                                               1\n",
       "('十二月的妳', 'Fire EX.')                                                                                                                                  1\n",
       "('味道 feat. Zion.T & Crush', 'Khalil Fong, Zion.T, Crush')                                                                                              1\n",
       "('夜空中最亮的星', '杨晓')                                                                                                                                      1\n",
       "('安靜', 'Jay Chou')                                                                                                                                     1\n",
       "('寒鴉少年', 'Hua Chen Yu')                                                                                                                                1\n",
       "('屍を越えてゆけ', 'AAAMYYY')                                                                                                                                 1\n",
       "('控制', 'FAZI')                                                                                                                                         1\n",
       "('連名帶姓', 'A-Mei Chang')                                                                                                                                1\n",
       "('非国民的ヒーロー', 'Seiko Oomori')                                                                                                                           1\n",
       "('내가 너의 곁에 잠시 살았다는 걸', 'Kim Yeon Woo')                                                                                                                 1\n",
       "('뻥 Bbung', 'Flowsik')                                                                                                                                 1\n",
       "('주문 Mirotic', 'TVXQ!')                                                                                                                                1\n",
       "Name: name, Length: 9214, dtype: int64"
      ]
     },
     "execution_count": 22,
     "metadata": {},
     "output_type": "execute_result"
    }
   ],
   "source": []
  },
  {
   "cell_type": "code",
   "execution_count": 30,
   "metadata": {},
   "outputs": [
    {
     "name": "stdout",
     "output_type": "stream",
     "text": [
      "Enter age group:35\n",
      "Most 35 year olds live in Los Angeles\n"
     ]
    }
   ],
   "source": [
    "age_query = int(input(\"Enter age group:\"))\n",
    "place = data.groupby('city').count().name.idxmax()\n",
    "print('Most {} year olds live in {}'.format(age_query,place))"
   ]
  },
  {
   "cell_type": "code",
   "execution_count": 18,
   "metadata": {},
   "outputs": [
    {
     "data": {
      "text/html": [
       "<div>\n",
       "<style scoped>\n",
       "    .dataframe tbody tr th:only-of-type {\n",
       "        vertical-align: middle;\n",
       "    }\n",
       "\n",
       "    .dataframe tbody tr th {\n",
       "        vertical-align: top;\n",
       "    }\n",
       "\n",
       "    .dataframe thead th {\n",
       "        text-align: right;\n",
       "    }\n",
       "</style>\n",
       "<table border=\"1\" class=\"dataframe\">\n",
       "  <thead>\n",
       "    <tr style=\"text-align: right;\">\n",
       "      <th></th>\n",
       "      <th>name</th>\n",
       "      <th>age</th>\n",
       "      <th>college</th>\n",
       "      <th>job</th>\n",
       "      <th>city</th>\n",
       "      <th>gender</th>\n",
       "      <th>distance</th>\n",
       "      <th>details</th>\n",
       "      <th>anthem</th>\n",
       "      <th>profile_pic_urls</th>\n",
       "    </tr>\n",
       "  </thead>\n",
       "  <tbody>\n",
       "    <tr>\n",
       "      <th>0</th>\n",
       "      <td>Gianna</td>\n",
       "      <td>19.0</td>\n",
       "      <td>NaN</td>\n",
       "      <td>NaN</td>\n",
       "      <td>Barnegat</td>\n",
       "      <td>NaN</td>\n",
       "      <td>2430.0</td>\n",
       "      <td>ig- _.giaannaa_\\r\\nsc- gianna8378</td>\n",
       "      <td>('Slide (Remix) (feat. Pop Smoke, A Boogie Wit...</td>\n",
       "      <td>['https://images-ssl.gotinder.com/5dc0814dfc09...</td>\n",
       "    </tr>\n",
       "    <tr>\n",
       "      <th>1</th>\n",
       "      <td>Lauren</td>\n",
       "      <td>21.0</td>\n",
       "      <td>Florida State University</td>\n",
       "      <td>NaN</td>\n",
       "      <td>NaN</td>\n",
       "      <td>NaN</td>\n",
       "      <td>1981.0</td>\n",
       "      <td>A meme</td>\n",
       "      <td>NaN</td>\n",
       "      <td>['https://images-ssl.gotinder.com/5e8a352520cc...</td>\n",
       "    </tr>\n",
       "    <tr>\n",
       "      <th>2</th>\n",
       "      <td>Britanny</td>\n",
       "      <td>19.0</td>\n",
       "      <td>Santa Ana College</td>\n",
       "      <td>Boys and girls club</td>\n",
       "      <td>Garden Grove</td>\n",
       "      <td>NaN</td>\n",
       "      <td>19.0</td>\n",
       "      <td>Get to know me ☺️ Never been to Disneyland 😅 S...</td>\n",
       "      <td>NaN</td>\n",
       "      <td>['https://images-ssl.gotinder.com/5cace3ad9b7a...</td>\n",
       "    </tr>\n",
       "    <tr>\n",
       "      <th>3</th>\n",
       "      <td>Kayla</td>\n",
       "      <td>28.0</td>\n",
       "      <td>School</td>\n",
       "      <td>NaN</td>\n",
       "      <td>Los Angeles</td>\n",
       "      <td>Woman</td>\n",
       "      <td>18.0</td>\n",
       "      <td>I am a creative person that loves simple, inno...</td>\n",
       "      <td>NaN</td>\n",
       "      <td>['https://images-ssl.gotinder.com/5e90cb67da1c...</td>\n",
       "    </tr>\n",
       "    <tr>\n",
       "      <th>4</th>\n",
       "      <td>Kimberly</td>\n",
       "      <td>18.0</td>\n",
       "      <td>California State University, Los Angeles</td>\n",
       "      <td>NaN</td>\n",
       "      <td>NaN</td>\n",
       "      <td>Woman</td>\n",
       "      <td>15.0</td>\n",
       "      <td>Just for fun\\r\\nI’m 5’2</td>\n",
       "      <td>NaN</td>\n",
       "      <td>['https://images-ssl.gotinder.com/5e0ffa53349f...</td>\n",
       "    </tr>\n",
       "  </tbody>\n",
       "</table>\n",
       "</div>"
      ],
      "text/plain": [
       "       name   age                                   college  \\\n",
       "0    Gianna  19.0                                       NaN   \n",
       "1    Lauren  21.0                  Florida State University   \n",
       "2  Britanny  19.0                         Santa Ana College   \n",
       "3     Kayla  28.0                                    School   \n",
       "4  Kimberly  18.0  California State University, Los Angeles   \n",
       "\n",
       "                   job          city gender  distance  \\\n",
       "0                  NaN      Barnegat    NaN    2430.0   \n",
       "1                  NaN           NaN    NaN    1981.0   \n",
       "2  Boys and girls club  Garden Grove    NaN      19.0   \n",
       "3                  NaN   Los Angeles  Woman      18.0   \n",
       "4                  NaN           NaN  Woman      15.0   \n",
       "\n",
       "                                             details  \\\n",
       "0                 ig- _.giaannaa_\\r\\nsc- gianna8378    \n",
       "1                                            A meme    \n",
       "2  Get to know me ☺️ Never been to Disneyland 😅 S...   \n",
       "3  I am a creative person that loves simple, inno...   \n",
       "4                           Just for fun\\r\\nI’m 5’2    \n",
       "\n",
       "                                              anthem  \\\n",
       "0  ('Slide (Remix) (feat. Pop Smoke, A Boogie Wit...   \n",
       "1                                                NaN   \n",
       "2                                                NaN   \n",
       "3                                                NaN   \n",
       "4                                                NaN   \n",
       "\n",
       "                                    profile_pic_urls  \n",
       "0  ['https://images-ssl.gotinder.com/5dc0814dfc09...  \n",
       "1  ['https://images-ssl.gotinder.com/5e8a352520cc...  \n",
       "2  ['https://images-ssl.gotinder.com/5cace3ad9b7a...  \n",
       "3  ['https://images-ssl.gotinder.com/5e90cb67da1c...  \n",
       "4  ['https://images-ssl.gotinder.com/5e0ffa53349f...  "
      ]
     },
     "execution_count": 18,
     "metadata": {},
     "output_type": "execute_result"
    }
   ],
   "source": [
    "data.head()"
   ]
  },
  {
   "cell_type": "code",
   "execution_count": 14,
   "metadata": {},
   "outputs": [],
   "source": [
    "def calc_similarity(data,category,value):\n",
    "    '''\n",
    "    Take details per user in specified dataset with category equal to value\n",
    "    Vectorize each\n",
    "    Compare each to each and calculate mean\n",
    "    Get distribution of means of all users\n",
    "    Calculate and label users based on standard deviations away from mean\n",
    "    Export report based on results (to be interactive in future)\n",
    "    '''\n",
    "\n",
    "    print(\"Calculating user similarity on dataset where {} equals {}\".format(category,value))\n",
    "    specified = data[data[category]==value]\n",
    "    specified = specified[-specified[category].isna()]\n",
    "    specified = specified[-specified['details'].isna()]\n",
    "    print(\"Found {} Users\".format(len(specified)))\n",
    "    contents = specified.details\n",
    "    \n",
    "    # Vectorize details per user\n",
    "    vectorizer, vocabulary = build_text_vectorizer(contents,\n",
    "                             use_tfidf=True,\n",
    "                             use_stemmer=True,\n",
    "                             max_features=5000)\n",
    "    X = vectorizer(contents)\n",
    "    return X\n",
    "#     means = []\n",
    "#     for each in X:\n",
    "#         #compare each to each"
   ]
  },
  {
   "cell_type": "code",
   "execution_count": 24,
   "metadata": {},
   "outputs": [
    {
     "name": "stdout",
     "output_type": "stream",
     "text": [
      "Calculating user similarity on dataset where city equals Pasadena\n",
      "Found 104 Users\n"
     ]
    }
   ],
   "source": [
    "test = calc_similarity(data,'city','Pasadena')"
   ]
  },
  {
   "cell_type": "code",
   "execution_count": 25,
   "metadata": {},
   "outputs": [],
   "source": [
    "import numpy as np\n",
    "\n",
    "def cosine_distance(a, b):\n",
    "    \"\"\"Compute the cosine dissimilarity between two numpy arrays.\n",
    "    Parameters\n",
    "    ----------\n",
    "    a: numpy array\n",
    "    b: numpy array\n",
    "    Returns\n",
    "    -------\n",
    "    distance: float\n",
    "    \"\"\"\n",
    "    return 1 - np.dot(a, b) / np.sqrt(np.dot(a, a) * np.dot(b, b))"
   ]
  },
  {
   "cell_type": "code",
   "execution_count": 30,
   "metadata": {},
   "outputs": [],
   "source": [
    "from sklearn.metrics.pairwise import cosine_similarity\n",
    "from scipy import spatial"
   ]
  },
  {
   "cell_type": "code",
   "execution_count": 85,
   "metadata": {},
   "outputs": [],
   "source": [
    "avg1 = np.mean(test,axis=0)"
   ]
  },
  {
   "cell_type": "code",
   "execution_count": 104,
   "metadata": {},
   "outputs": [
    {
     "data": {
      "text/plain": [
       "(1, 911)"
      ]
     },
     "execution_count": 104,
     "metadata": {},
     "output_type": "execute_result"
    }
   ],
   "source": [
    "avg1.reshape(1,-1).shape"
   ]
  },
  {
   "cell_type": "code",
   "execution_count": 114,
   "metadata": {},
   "outputs": [],
   "source": [
    "# AVERAGE COSINE TEST\n",
    "cosine_diff = []\n",
    "for user in test:\n",
    "    cosine_diff.append(cosine_similarity(user.reshape(1,-1),avg1.reshape(1,-1))[0][0])"
   ]
  },
  {
   "cell_type": "code",
   "execution_count": 116,
   "metadata": {},
   "outputs": [
    {
     "data": {
      "text/plain": [
       "0.20525283374266903"
      ]
     },
     "execution_count": 116,
     "metadata": {},
     "output_type": "execute_result"
    }
   ],
   "source": [
    "cosine_diff[0]"
   ]
  },
  {
   "cell_type": "code",
   "execution_count": 84,
   "metadata": {},
   "outputs": [
    {
     "data": {
      "text/plain": [
       "(911,)"
      ]
     },
     "execution_count": 84,
     "metadata": {},
     "output_type": "execute_result"
    }
   ],
   "source": [
    "test[0].shape"
   ]
  },
  {
   "cell_type": "code",
   "execution_count": 126,
   "metadata": {},
   "outputs": [
    {
     "data": {
      "text/plain": [
       "104"
      ]
     },
     "execution_count": 126,
     "metadata": {},
     "output_type": "execute_result"
    }
   ],
   "source": []
  },
  {
   "cell_type": "code",
   "execution_count": 127,
   "metadata": {},
   "outputs": [],
   "source": [
    "cosine_diff_each = []\n",
    "for user in test:\n",
    "    average = []\n",
    "    for other in test:\n",
    "        average.append(cosine_similarity(user.reshape(1, -1),other.reshape(1, -1))[0][0])\n",
    "    cosine_diff_each.append(np.mean(average))"
   ]
  },
  {
   "cell_type": "code",
   "execution_count": 128,
   "metadata": {},
   "outputs": [
    {
     "data": {
      "text/plain": [
       "[0.033217067275219885,\n",
       " 0.020623662983073034,\n",
       " 0.013790848826189993,\n",
       " 0.03214134695681702,\n",
       " 0.020308531162758915,\n",
       " 0.02952980300653479,\n",
       " 0.01497215106932855,\n",
       " 0.0188154633603541,\n",
       " 0.0363343534733859,\n",
       " 0.03260364880251138,\n",
       " 0.023089895462408378,\n",
       " 0.03977280219833413,\n",
       " 0.02209534380665114,\n",
       " 0.024518697234698017,\n",
       " 0.04326485608695458,\n",
       " 0.01730927437942031,\n",
       " 0.029812077702545146,\n",
       " 0.022756434031593883,\n",
       " 0.020035778747470093,\n",
       " 0.023084511967245515,\n",
       " 0.025195538243854402,\n",
       " 0.032309371465113215,\n",
       " 0.0351630312137233,\n",
       " 0.018437156151321684,\n",
       " 0.02617098575477064,\n",
       " 0.017122260853480432,\n",
       " 0.020438357723630642,\n",
       " 0.04954354635325631,\n",
       " 0.033405993089157524,\n",
       " 0.031626783247436986,\n",
       " 0.030624145314093684,\n",
       " 0.04159377559189116,\n",
       " 0.020115216549536297,\n",
       " 0.019172248977503394,\n",
       " 0.025823710666797058,\n",
       " 0.02850934400309358,\n",
       " 0.01258930827494218,\n",
       " 0.013678149383639742,\n",
       " 0.03121307348506758,\n",
       " 0.01715036494780279,\n",
       " 0.030556587292969284,\n",
       " 0.023170569278996418,\n",
       " 0.031962826173988775,\n",
       " 0.01966582329607528,\n",
       " 0.03572318570758292,\n",
       " 0.009615384615384616,\n",
       " 0.03234061667785218,\n",
       " 0.026739380950639373,\n",
       " 0.020736280798993003,\n",
       " 0.039877873775678814,\n",
       " 0.02891069675418254,\n",
       " 0.037279240986266074,\n",
       " 0.03442889339759528,\n",
       " 0.0376709392576479,\n",
       " 0.038539754634891135,\n",
       " 0.020851336038536512,\n",
       " 0.02592235938564018,\n",
       " 0.020046225776199196,\n",
       " 0.021944632570113472,\n",
       " 0.030437636189110814,\n",
       " 0.016257316292579913,\n",
       " 0.021205851822238584,\n",
       " 0.01948640794439954,\n",
       " 0.018017292892470303,\n",
       " 0.03134805054612733,\n",
       " 0.0440524427726945,\n",
       " 0.016883251142572296,\n",
       " 0.045071639275291925,\n",
       " 0.014109063595744818,\n",
       " 0.02723719277285228,\n",
       " 0.016634816421799755,\n",
       " 0.013476528230261102,\n",
       " 0.015798146219571582,\n",
       " 0.0,\n",
       " 0.03837560215848169,\n",
       " 0.009615384615384618,\n",
       " 0.0400594357452443,\n",
       " 0.0404415967361414,\n",
       " 0.031214780896948582,\n",
       " 0.03773661696412438,\n",
       " 0.024075836377599556,\n",
       " 0.030069151512551594,\n",
       " 0.018974746326635226,\n",
       " 0.0,\n",
       " 0.015822816002659706,\n",
       " 0.027683157416647116,\n",
       " 0.010518115228191193,\n",
       " 0.02373652169113668,\n",
       " 0.02040871265517781,\n",
       " 0.03414483240187218,\n",
       " 0.01578569542325253,\n",
       " 0.03405908113005866,\n",
       " 0.02928741406734074,\n",
       " 0.023065510153903842,\n",
       " 0.03757164772166706,\n",
       " 0.02470600225359371,\n",
       " 0.021982919021162742,\n",
       " 0.03719095775147151,\n",
       " 0.011610903455088568,\n",
       " 0.032436715479735805,\n",
       " 0.04694979368131869,\n",
       " 0.035889591476825446,\n",
       " 0.034596137262991516,\n",
       " 0.021848050399399268]"
      ]
     },
     "execution_count": 128,
     "metadata": {},
     "output_type": "execute_result"
    }
   ],
   "source": [
    "cosine_diff_each"
   ]
  },
  {
   "cell_type": "code",
   "execution_count": 45,
   "metadata": {},
   "outputs": [],
   "source": [
    "df = data[data.city==\"Pasadena\"]"
   ]
  },
  {
   "cell_type": "code",
   "execution_count": 46,
   "metadata": {},
   "outputs": [],
   "source": [
    "df = df[-df.details.isna()]"
   ]
  },
  {
   "cell_type": "code",
   "execution_count": 129,
   "metadata": {},
   "outputs": [],
   "source": [
    "df['cosine'] = cosine_diff_each\n",
    "df['words'] = df.details.apply(lambda x: len(x.split(' ')))"
   ]
  },
  {
   "cell_type": "code",
   "execution_count": 130,
   "metadata": {},
   "outputs": [
    {
     "data": {
      "text/html": [
       "<div>\n",
       "<style scoped>\n",
       "    .dataframe tbody tr th:only-of-type {\n",
       "        vertical-align: middle;\n",
       "    }\n",
       "\n",
       "    .dataframe tbody tr th {\n",
       "        vertical-align: top;\n",
       "    }\n",
       "\n",
       "    .dataframe thead th {\n",
       "        text-align: right;\n",
       "    }\n",
       "</style>\n",
       "<table border=\"1\" class=\"dataframe\">\n",
       "  <thead>\n",
       "    <tr style=\"text-align: right;\">\n",
       "      <th></th>\n",
       "      <th>name</th>\n",
       "      <th>age</th>\n",
       "      <th>college</th>\n",
       "      <th>job</th>\n",
       "      <th>city</th>\n",
       "      <th>gender</th>\n",
       "      <th>distance</th>\n",
       "      <th>details</th>\n",
       "      <th>anthem</th>\n",
       "      <th>profile_pic_urls</th>\n",
       "      <th>cosine</th>\n",
       "      <th>words</th>\n",
       "    </tr>\n",
       "  </thead>\n",
       "  <tbody>\n",
       "    <tr>\n",
       "      <th>42023</th>\n",
       "      <td>Jasi</td>\n",
       "      <td>29.0</td>\n",
       "      <td>NaN</td>\n",
       "      <td>Fashion Stylist</td>\n",
       "      <td>Pasadena</td>\n",
       "      <td>NaN</td>\n",
       "      <td>2.0</td>\n",
       "      <td>🦂</td>\n",
       "      <td>NaN</td>\n",
       "      <td>['https://images-ssl.gotinder.com/5e779a19e073...</td>\n",
       "      <td>0.000000</td>\n",
       "      <td>2</td>\n",
       "    </tr>\n",
       "    <tr>\n",
       "      <th>48433</th>\n",
       "      <td>Bianca</td>\n",
       "      <td>28.0</td>\n",
       "      <td>Mount Saint Mary's University</td>\n",
       "      <td>Nursing student</td>\n",
       "      <td>Pasadena</td>\n",
       "      <td>NaN</td>\n",
       "      <td>6.0</td>\n",
       "      <td>🇷🇴</td>\n",
       "      <td>('Crashing (feat. Bahari)', 'ILLENIUM, Bahari')</td>\n",
       "      <td>['https://images-ssl.gotinder.com/5d671ba066ef...</td>\n",
       "      <td>0.000000</td>\n",
       "      <td>2</td>\n",
       "    </tr>\n",
       "    <tr>\n",
       "      <th>21872</th>\n",
       "      <td>Mimi</td>\n",
       "      <td>30.0</td>\n",
       "      <td>NaN</td>\n",
       "      <td>Nurse at Kaiser Permanente</td>\n",
       "      <td>Pasadena</td>\n",
       "      <td>Woman</td>\n",
       "      <td>2.0</td>\n",
       "      <td>Hold the vision, trust the process ❤️</td>\n",
       "      <td>NaN</td>\n",
       "      <td>['https://images-ssl.gotinder.com/5e93aa1d7f69...</td>\n",
       "      <td>0.009615</td>\n",
       "      <td>8</td>\n",
       "    </tr>\n",
       "    <tr>\n",
       "      <th>43093</th>\n",
       "      <td>Jasmine</td>\n",
       "      <td>24.0</td>\n",
       "      <td>California State University, Los Angeles</td>\n",
       "      <td>NaN</td>\n",
       "      <td>Pasadena</td>\n",
       "      <td>NaN</td>\n",
       "      <td>3.0</td>\n",
       "      <td>Reggae ❤️ Vegetarian 🌱</td>\n",
       "      <td>('Fish in the Sea', 'Common Kings, Marc E. Bas...</td>\n",
       "      <td>['https://images-ssl.gotinder.com/5daa6e811f45...</td>\n",
       "      <td>0.009615</td>\n",
       "      <td>5</td>\n",
       "    </tr>\n",
       "    <tr>\n",
       "      <th>48938</th>\n",
       "      <td>Kristen</td>\n",
       "      <td>29.0</td>\n",
       "      <td>NaN</td>\n",
       "      <td>Marriage and Family Therapist at Non-Profit</td>\n",
       "      <td>Pasadena</td>\n",
       "      <td>Woman</td>\n",
       "      <td>11.0</td>\n",
       "      <td>No Wit\\nNo Banter\\nNo Chance</td>\n",
       "      <td>(\"Don't Stand So Close To Me\", 'The Police')</td>\n",
       "      <td>['https://images-ssl.gotinder.com/5e49ef688d8b...</td>\n",
       "      <td>0.010518</td>\n",
       "      <td>5</td>\n",
       "    </tr>\n",
       "    <tr>\n",
       "      <th>53776</th>\n",
       "      <td>Katheryn</td>\n",
       "      <td>24.0</td>\n",
       "      <td>NaN</td>\n",
       "      <td>NaN</td>\n",
       "      <td>Pasadena</td>\n",
       "      <td>Woman</td>\n",
       "      <td>5.0</td>\n",
       "      <td>Overthinking is my mood.</td>\n",
       "      <td>('Bird Set Free', 'Sia')</td>\n",
       "      <td>['https://images-ssl.gotinder.com/5e7422d7066b...</td>\n",
       "      <td>0.011611</td>\n",
       "      <td>5</td>\n",
       "    </tr>\n",
       "    <tr>\n",
       "      <th>16706</th>\n",
       "      <td>Anays</td>\n",
       "      <td>25.0</td>\n",
       "      <td>Pasadena City College</td>\n",
       "      <td>NaN</td>\n",
       "      <td>Pasadena</td>\n",
       "      <td>NaN</td>\n",
       "      <td>2.0</td>\n",
       "      <td>Hi I’m Kobe’s WCW 💜 💛</td>\n",
       "      <td>NaN</td>\n",
       "      <td>['https://images-ssl.gotinder.com/5d70657118f4...</td>\n",
       "      <td>0.012589</td>\n",
       "      <td>7</td>\n",
       "    </tr>\n",
       "    <tr>\n",
       "      <th>35585</th>\n",
       "      <td>Tisha</td>\n",
       "      <td>19.0</td>\n",
       "      <td>NaN</td>\n",
       "      <td>NaN</td>\n",
       "      <td>Pasadena</td>\n",
       "      <td>Woman</td>\n",
       "      <td>2.0</td>\n",
       "      <td>i’m bored 😗</td>\n",
       "      <td>('Youngblood', '5 Seconds of Summer')</td>\n",
       "      <td>['https://images-ssl.gotinder.com/5e96ac783268...</td>\n",
       "      <td>0.013477</td>\n",
       "      <td>4</td>\n",
       "    </tr>\n",
       "    <tr>\n",
       "      <th>17246</th>\n",
       "      <td>Alex</td>\n",
       "      <td>30.0</td>\n",
       "      <td>NaN</td>\n",
       "      <td>Postdoc at Caltech</td>\n",
       "      <td>Pasadena</td>\n",
       "      <td>NaN</td>\n",
       "      <td>2.0</td>\n",
       "      <td>The outdoors and physics</td>\n",
       "      <td>NaN</td>\n",
       "      <td>['https://images-ssl.gotinder.com/5d313bd427a9...</td>\n",
       "      <td>0.013678</td>\n",
       "      <td>5</td>\n",
       "    </tr>\n",
       "    <tr>\n",
       "      <th>2402</th>\n",
       "      <td>Kelly</td>\n",
       "      <td>28.0</td>\n",
       "      <td>University of Southern California</td>\n",
       "      <td>2nd Grade Teacher at Private Christian school</td>\n",
       "      <td>Pasadena</td>\n",
       "      <td>NaN</td>\n",
       "      <td>4.0</td>\n",
       "      <td>2nd grade teacher 🍎 ,Christian 🙏 ,creative 🎨 s...</td>\n",
       "      <td>NaN</td>\n",
       "      <td>['https://images-ssl.gotinder.com/5c720084f8d6...</td>\n",
       "      <td>0.013791</td>\n",
       "      <td>31</td>\n",
       "    </tr>\n",
       "    <tr>\n",
       "      <th>32185</th>\n",
       "      <td>Dolly</td>\n",
       "      <td>20.0</td>\n",
       "      <td>Pasadena City College</td>\n",
       "      <td>Student</td>\n",
       "      <td>Pasadena</td>\n",
       "      <td>NaN</td>\n",
       "      <td>2.0</td>\n",
       "      <td>Chinese. Fairly British + British accent. Acti...</td>\n",
       "      <td>NaN</td>\n",
       "      <td>['https://images-ssl.gotinder.com/5e895d6f4aed...</td>\n",
       "      <td>0.014109</td>\n",
       "      <td>11</td>\n",
       "    </tr>\n",
       "    <tr>\n",
       "      <th>4205</th>\n",
       "      <td>Wailana</td>\n",
       "      <td>29.0</td>\n",
       "      <td>Azusa Pacific University</td>\n",
       "      <td>Behavior Analyst</td>\n",
       "      <td>Pasadena</td>\n",
       "      <td>Woman</td>\n",
       "      <td>2.0</td>\n",
       "      <td>Originally from Hawaii but have been in LA for...</td>\n",
       "      <td>NaN</td>\n",
       "      <td>['https://images-ssl.gotinder.com/5e3634142aa3...</td>\n",
       "      <td>0.014972</td>\n",
       "      <td>14</td>\n",
       "    </tr>\n",
       "    <tr>\n",
       "      <th>52257</th>\n",
       "      <td>Feliciana</td>\n",
       "      <td>42.0</td>\n",
       "      <td>Pitzer College</td>\n",
       "      <td>NaN</td>\n",
       "      <td>Pasadena</td>\n",
       "      <td>Woman</td>\n",
       "      <td>2.0</td>\n",
       "      <td>Highly intellectual, and, spiritually inclined...</td>\n",
       "      <td>('Sufi Woman', 'Jidenna')</td>\n",
       "      <td>['https://images-ssl.gotinder.com/5e1e78ae8b7d...</td>\n",
       "      <td>0.015786</td>\n",
       "      <td>38</td>\n",
       "    </tr>\n",
       "    <tr>\n",
       "      <th>35673</th>\n",
       "      <td>Kenia</td>\n",
       "      <td>28.0</td>\n",
       "      <td>NaN</td>\n",
       "      <td>Designer Ambassador</td>\n",
       "      <td>Pasadena</td>\n",
       "      <td>NaN</td>\n",
       "      <td>11.0</td>\n",
       "      <td>Not great at this bio part so just ask ☺️  🇲🇽</td>\n",
       "      <td>NaN</td>\n",
       "      <td>['https://images-ssl.gotinder.com/5e8a498476e5...</td>\n",
       "      <td>0.015798</td>\n",
       "      <td>13</td>\n",
       "    </tr>\n",
       "    <tr>\n",
       "      <th>48537</th>\n",
       "      <td>Holly</td>\n",
       "      <td>32.0</td>\n",
       "      <td>NaN</td>\n",
       "      <td>NaN</td>\n",
       "      <td>Pasadena</td>\n",
       "      <td>NaN</td>\n",
       "      <td>3.0</td>\n",
       "      <td>CEO &amp; Founder. Yogi. Dog mom.</td>\n",
       "      <td>NaN</td>\n",
       "      <td>['https://images-ssl.gotinder.com/5e8edf1b0571...</td>\n",
       "      <td>0.015823</td>\n",
       "      <td>7</td>\n",
       "    </tr>\n",
       "    <tr>\n",
       "      <th>28994</th>\n",
       "      <td>Sav</td>\n",
       "      <td>21.0</td>\n",
       "      <td>NaN</td>\n",
       "      <td>NaN</td>\n",
       "      <td>Pasadena</td>\n",
       "      <td>Gender Fluid</td>\n",
       "      <td>2.0</td>\n",
       "      <td>sav rose. 21. city of roses. multi-racial. plu...</td>\n",
       "      <td>('Wake Up', 'The Green')</td>\n",
       "      <td>['https://images-ssl.gotinder.com/568ef80485d2...</td>\n",
       "      <td>0.016257</td>\n",
       "      <td>32</td>\n",
       "    </tr>\n",
       "    <tr>\n",
       "      <th>35526</th>\n",
       "      <td>Caroline</td>\n",
       "      <td>29.0</td>\n",
       "      <td>UC Davis</td>\n",
       "      <td>Hair Stylist at A Hair Salon</td>\n",
       "      <td>Pasadena</td>\n",
       "      <td>NaN</td>\n",
       "      <td>3.0</td>\n",
       "      <td>Human connection anyone? Let’s FaceTime throug...</td>\n",
       "      <td>('A Better Son/Daughter', 'Rilo Kiley')</td>\n",
       "      <td>['https://images-ssl.gotinder.com/5396bb5d381d...</td>\n",
       "      <td>0.016635</td>\n",
       "      <td>9</td>\n",
       "    </tr>\n",
       "    <tr>\n",
       "      <th>30787</th>\n",
       "      <td>Desi</td>\n",
       "      <td>26.0</td>\n",
       "      <td>NaN</td>\n",
       "      <td>NaN</td>\n",
       "      <td>Pasadena</td>\n",
       "      <td>NaN</td>\n",
       "      <td>2.0</td>\n",
       "      <td>✨ i am a man dressed as a woman. 🤫 your secret...</td>\n",
       "      <td>('My Neck, My Back (Lick It)', 'Khia')</td>\n",
       "      <td>['https://images-ssl.gotinder.com/5e744de0e073...</td>\n",
       "      <td>0.016883</td>\n",
       "      <td>23</td>\n",
       "    </tr>\n",
       "    <tr>\n",
       "      <th>12740</th>\n",
       "      <td>Audrey</td>\n",
       "      <td>24.0</td>\n",
       "      <td>NaN</td>\n",
       "      <td>Illustrator</td>\n",
       "      <td>Pasadena</td>\n",
       "      <td>NaN</td>\n",
       "      <td>4.0</td>\n",
       "      <td>🌟 Full-time designer; creator of pins, earring...</td>\n",
       "      <td>('Moonlight', 'Ariana Grande')</td>\n",
       "      <td>['https://images-ssl.gotinder.com/5ddf076b5cb5...</td>\n",
       "      <td>0.017122</td>\n",
       "      <td>16</td>\n",
       "    </tr>\n",
       "    <tr>\n",
       "      <th>17581</th>\n",
       "      <td>Sara</td>\n",
       "      <td>34.0</td>\n",
       "      <td>NaN</td>\n",
       "      <td>NaN</td>\n",
       "      <td>Pasadena</td>\n",
       "      <td>NaN</td>\n",
       "      <td>2.0</td>\n",
       "      <td>Everything is terrible but at least we can sti...</td>\n",
       "      <td>('Total Eclipse of the Heart', 'Bonnie Tyler')</td>\n",
       "      <td>['https://images-ssl.gotinder.com/5325120405f7...</td>\n",
       "      <td>0.017150</td>\n",
       "      <td>26</td>\n",
       "    </tr>\n",
       "    <tr>\n",
       "      <th>8007</th>\n",
       "      <td>Maya</td>\n",
       "      <td>37.0</td>\n",
       "      <td>NaN</td>\n",
       "      <td>NaN</td>\n",
       "      <td>Pasadena</td>\n",
       "      <td>NaN</td>\n",
       "      <td>2.0</td>\n",
       "      <td>You can't buy happiness, but you can buy dough...</td>\n",
       "      <td>NaN</td>\n",
       "      <td>['https://images-ssl.gotinder.com/5e1385829bca...</td>\n",
       "      <td>0.017309</td>\n",
       "      <td>17</td>\n",
       "    </tr>\n",
       "    <tr>\n",
       "      <th>29728</th>\n",
       "      <td>Carolyn</td>\n",
       "      <td>30.0</td>\n",
       "      <td>NaN</td>\n",
       "      <td>Quality Engineer</td>\n",
       "      <td>Pasadena</td>\n",
       "      <td>NaN</td>\n",
       "      <td>3.0</td>\n",
       "      <td>Snowboarder, hiker, biker, sunburner 🤦🏻‍♀️ 🤷🏻‍...</td>\n",
       "      <td>NaN</td>\n",
       "      <td>['https://images-ssl.gotinder.com/564fce7e5dec...</td>\n",
       "      <td>0.018017</td>\n",
       "      <td>18</td>\n",
       "    </tr>\n",
       "    <tr>\n",
       "      <th>11572</th>\n",
       "      <td>Mickey</td>\n",
       "      <td>33.0</td>\n",
       "      <td>College for Creative Studies</td>\n",
       "      <td>NaN</td>\n",
       "      <td>Pasadena</td>\n",
       "      <td>NaN</td>\n",
       "      <td>2.0</td>\n",
       "      <td>Day 18, am cutie in quarantine. What’s up?</td>\n",
       "      <td>NaN</td>\n",
       "      <td>['https://images-ssl.gotinder.com/5e7c4edb0081...</td>\n",
       "      <td>0.018437</td>\n",
       "      <td>9</td>\n",
       "    </tr>\n",
       "    <tr>\n",
       "      <th>4797</th>\n",
       "      <td>Jordyn</td>\n",
       "      <td>29.0</td>\n",
       "      <td>Arizona State University</td>\n",
       "      <td>NaN</td>\n",
       "      <td>Pasadena</td>\n",
       "      <td>Trans Woman</td>\n",
       "      <td>2.0</td>\n",
       "      <td>Trans girl tomboy. Bi. Poly. Anti-capitalist. ...</td>\n",
       "      <td>('Gemini', 'Boards of Canada')</td>\n",
       "      <td>['https://images-ssl.gotinder.com/5ca306917300...</td>\n",
       "      <td>0.018815</td>\n",
       "      <td>20</td>\n",
       "    </tr>\n",
       "    <tr>\n",
       "      <th>48382</th>\n",
       "      <td>Tamar</td>\n",
       "      <td>22.0</td>\n",
       "      <td>NaN</td>\n",
       "      <td>NaN</td>\n",
       "      <td>Pasadena</td>\n",
       "      <td>NaN</td>\n",
       "      <td>4.0</td>\n",
       "      <td>Quarantine sucks :( what’s the move?</td>\n",
       "      <td>NaN</td>\n",
       "      <td>['https://images-ssl.gotinder.com/5bc2e644f7c7...</td>\n",
       "      <td>0.018975</td>\n",
       "      <td>7</td>\n",
       "    </tr>\n",
       "    <tr>\n",
       "      <th>15960</th>\n",
       "      <td>Jessica</td>\n",
       "      <td>29.0</td>\n",
       "      <td>University of Richmond</td>\n",
       "      <td>Private Investigator at Media Industry</td>\n",
       "      <td>Pasadena</td>\n",
       "      <td>Woman</td>\n",
       "      <td>3.0</td>\n",
       "      <td>Runner\\r\\nSoutherner \\r\\nBeer Enthusiast \\r\\nS...</td>\n",
       "      <td>NaN</td>\n",
       "      <td>['https://images-ssl.gotinder.com/5d4a4b822dbf...</td>\n",
       "      <td>0.019172</td>\n",
       "      <td>16</td>\n",
       "    </tr>\n",
       "    <tr>\n",
       "      <th>29524</th>\n",
       "      <td>Amy</td>\n",
       "      <td>25.0</td>\n",
       "      <td>Mount Wachusett Community College</td>\n",
       "      <td>in home caregiver</td>\n",
       "      <td>Pasadena</td>\n",
       "      <td>Woman</td>\n",
       "      <td>2.0</td>\n",
       "      <td>I just want to be wine &amp; dined &amp; texted period...</td>\n",
       "      <td>('Spaceship', 'Kesha')</td>\n",
       "      <td>['https://images-ssl.gotinder.com/5e1651fb906e...</td>\n",
       "      <td>0.019486</td>\n",
       "      <td>13</td>\n",
       "    </tr>\n",
       "    <tr>\n",
       "      <th>19222</th>\n",
       "      <td>Aja</td>\n",
       "      <td>22.0</td>\n",
       "      <td>Monmouth University</td>\n",
       "      <td>sugar baby</td>\n",
       "      <td>Pasadena</td>\n",
       "      <td>NaN</td>\n",
       "      <td>2.0</td>\n",
       "      <td>just quarantine browsin</td>\n",
       "      <td>NaN</td>\n",
       "      <td>['https://images-ssl.gotinder.com/597708618592...</td>\n",
       "      <td>0.019666</td>\n",
       "      <td>4</td>\n",
       "    </tr>\n",
       "    <tr>\n",
       "      <th>9700</th>\n",
       "      <td>Clarissa</td>\n",
       "      <td>23.0</td>\n",
       "      <td>Cal Poly Pomona</td>\n",
       "      <td>Veterinary Technician</td>\n",
       "      <td>Pasadena</td>\n",
       "      <td>NaN</td>\n",
       "      <td>4.0</td>\n",
       "      <td>Sometimes I like to wear stretchy pants in my ...</td>\n",
       "      <td>('Ocean Drive', 'Duke Dumont')</td>\n",
       "      <td>['https://images-ssl.gotinder.com/594b4b9cdd1c...</td>\n",
       "      <td>0.020036</td>\n",
       "      <td>14</td>\n",
       "    </tr>\n",
       "    <tr>\n",
       "      <th>28543</th>\n",
       "      <td>Lynae</td>\n",
       "      <td>31.0</td>\n",
       "      <td>Pasadena City College</td>\n",
       "      <td>Preschool Teacher at Teacher</td>\n",
       "      <td>Pasadena</td>\n",
       "      <td>Woman</td>\n",
       "      <td>6.0</td>\n",
       "      <td>I'm a preschool teacher! I have a calico cat t...</td>\n",
       "      <td>NaN</td>\n",
       "      <td>['https://images-ssl.gotinder.com/59505f03d108...</td>\n",
       "      <td>0.020046</td>\n",
       "      <td>22</td>\n",
       "    </tr>\n",
       "    <tr>\n",
       "      <th>...</th>\n",
       "      <td>...</td>\n",
       "      <td>...</td>\n",
       "      <td>...</td>\n",
       "      <td>...</td>\n",
       "      <td>...</td>\n",
       "      <td>...</td>\n",
       "      <td>...</td>\n",
       "      <td>...</td>\n",
       "      <td>...</td>\n",
       "      <td>...</td>\n",
       "      <td>...</td>\n",
       "      <td>...</td>\n",
       "    </tr>\n",
       "    <tr>\n",
       "      <th>21980</th>\n",
       "      <td>April</td>\n",
       "      <td>24.0</td>\n",
       "      <td>North-West College-Glendale</td>\n",
       "      <td>Student. Your future Nurse.</td>\n",
       "      <td>Pasadena</td>\n",
       "      <td>NaN</td>\n",
       "      <td>3.0</td>\n",
       "      <td>Asian. Petite. 4'11. 97lbs. Certified Muslim. ...</td>\n",
       "      <td>('South of the Border (feat. Camila Cabello &amp; ...</td>\n",
       "      <td>['https://images-ssl.gotinder.com/5dce3963438b...</td>\n",
       "      <td>0.032341</td>\n",
       "      <td>88</td>\n",
       "    </tr>\n",
       "    <tr>\n",
       "      <th>53820</th>\n",
       "      <td>Evergreen</td>\n",
       "      <td>33.0</td>\n",
       "      <td>NaN</td>\n",
       "      <td>NaN</td>\n",
       "      <td>Pasadena</td>\n",
       "      <td>Woman</td>\n",
       "      <td>2.0</td>\n",
       "      <td>Call me weird but, talking on the phone, FaceT...</td>\n",
       "      <td>('Surefire', 'John Legend')</td>\n",
       "      <td>['https://images-ssl.gotinder.com/59811e07fa29...</td>\n",
       "      <td>0.032437</td>\n",
       "      <td>98</td>\n",
       "    </tr>\n",
       "    <tr>\n",
       "      <th>6674</th>\n",
       "      <td>Nicole</td>\n",
       "      <td>29.0</td>\n",
       "      <td>NaN</td>\n",
       "      <td>NaN</td>\n",
       "      <td>Pasadena</td>\n",
       "      <td>NaN</td>\n",
       "      <td>3.0</td>\n",
       "      <td>Just looking for my 👽 to explore the 🌎 with</td>\n",
       "      <td>NaN</td>\n",
       "      <td>['https://images-ssl.gotinder.com/5b1d9b80a56e...</td>\n",
       "      <td>0.032604</td>\n",
       "      <td>11</td>\n",
       "    </tr>\n",
       "    <tr>\n",
       "      <th>941</th>\n",
       "      <td>Amy</td>\n",
       "      <td>23.0</td>\n",
       "      <td>Pasadena City College</td>\n",
       "      <td>NaN</td>\n",
       "      <td>Pasadena</td>\n",
       "      <td>NaN</td>\n",
       "      <td>2.0</td>\n",
       "      <td>Hi :) all lot of guys have ask why I don’t sho...</td>\n",
       "      <td>NaN</td>\n",
       "      <td>['https://images-ssl.gotinder.com/55e65c30cd28...</td>\n",
       "      <td>0.033217</td>\n",
       "      <td>60</td>\n",
       "    </tr>\n",
       "    <tr>\n",
       "      <th>13479</th>\n",
       "      <td>Maddie</td>\n",
       "      <td>31.0</td>\n",
       "      <td>NaN</td>\n",
       "      <td>Casting assistant at Dan Bell Casting</td>\n",
       "      <td>Pasadena</td>\n",
       "      <td>NaN</td>\n",
       "      <td>3.0</td>\n",
       "      <td>I’m a sports loving, beach going, tequila and ...</td>\n",
       "      <td>('Dreams - 2004 Remaster', 'Fleetwood Mac')</td>\n",
       "      <td>['https://images-ssl.gotinder.com/510aa3b66776...</td>\n",
       "      <td>0.033406</td>\n",
       "      <td>39</td>\n",
       "    </tr>\n",
       "    <tr>\n",
       "      <th>52564</th>\n",
       "      <td>Jennifer</td>\n",
       "      <td>26.0</td>\n",
       "      <td>University of Southern California</td>\n",
       "      <td>NaN</td>\n",
       "      <td>Pasadena</td>\n",
       "      <td>NaN</td>\n",
       "      <td>2.0</td>\n",
       "      <td>Currently in Beijing on vacation. Lives in LA....</td>\n",
       "      <td>NaN</td>\n",
       "      <td>['https://images-ssl.gotinder.com/5bcab67b1474...</td>\n",
       "      <td>0.034059</td>\n",
       "      <td>21</td>\n",
       "    </tr>\n",
       "    <tr>\n",
       "      <th>51631</th>\n",
       "      <td>Jessica</td>\n",
       "      <td>24.0</td>\n",
       "      <td>NaN</td>\n",
       "      <td>NaN</td>\n",
       "      <td>Pasadena</td>\n",
       "      <td>Woman</td>\n",
       "      <td>7.0</td>\n",
       "      <td>Honestly living in the wrong state! Should hav...</td>\n",
       "      <td>('Night Train', 'Jason Aldean')</td>\n",
       "      <td>['https://images-ssl.gotinder.com/5ad2ee917aaf...</td>\n",
       "      <td>0.034145</td>\n",
       "      <td>75</td>\n",
       "    </tr>\n",
       "    <tr>\n",
       "      <th>24274</th>\n",
       "      <td>Pyren</td>\n",
       "      <td>31.0</td>\n",
       "      <td>Capella University</td>\n",
       "      <td>eSports, Motorcycle Racer, Military</td>\n",
       "      <td>Pasadena</td>\n",
       "      <td>NaN</td>\n",
       "      <td>2.0</td>\n",
       "      <td>Former Overwatch Coach &amp; Analyst, motorcycle e...</td>\n",
       "      <td>NaN</td>\n",
       "      <td>['https://images-ssl.gotinder.com/5aae2fb3500a...</td>\n",
       "      <td>0.034429</td>\n",
       "      <td>23</td>\n",
       "    </tr>\n",
       "    <tr>\n",
       "      <th>55312</th>\n",
       "      <td>Kelly</td>\n",
       "      <td>25.0</td>\n",
       "      <td>NaN</td>\n",
       "      <td>Assistant Store Manager</td>\n",
       "      <td>Pasadena</td>\n",
       "      <td>Woman</td>\n",
       "      <td>2.0</td>\n",
       "      <td>Looking for someone I can vibe with and go on ...</td>\n",
       "      <td>('hot girl bummer', 'blackbear')</td>\n",
       "      <td>['https://images-ssl.gotinder.com/5df084d78555...</td>\n",
       "      <td>0.034596</td>\n",
       "      <td>40</td>\n",
       "    </tr>\n",
       "    <tr>\n",
       "      <th>11511</th>\n",
       "      <td>Kelly</td>\n",
       "      <td>31.0</td>\n",
       "      <td>San Diego State University</td>\n",
       "      <td>Sales &amp; Marketing Manager at Fashion Industry</td>\n",
       "      <td>Pasadena</td>\n",
       "      <td>Woman</td>\n",
       "      <td>3.0</td>\n",
       "      <td>Looking for that special person who I can make...</td>\n",
       "      <td>('Yummy', 'Justin Bieber')</td>\n",
       "      <td>['https://images-ssl.gotinder.com/5e5b74364ef8...</td>\n",
       "      <td>0.035163</td>\n",
       "      <td>16</td>\n",
       "    </tr>\n",
       "    <tr>\n",
       "      <th>20811</th>\n",
       "      <td>Julie anne</td>\n",
       "      <td>24.0</td>\n",
       "      <td>Auburn University</td>\n",
       "      <td>Actor</td>\n",
       "      <td>Pasadena</td>\n",
       "      <td>Woman</td>\n",
       "      <td>1827.0</td>\n",
       "      <td>I really love Jesus and people!\\r\\nYes I’m rea...</td>\n",
       "      <td>NaN</td>\n",
       "      <td>['https://images-ssl.gotinder.com/5e6669fc0f87...</td>\n",
       "      <td>0.035723</td>\n",
       "      <td>11</td>\n",
       "    </tr>\n",
       "    <tr>\n",
       "      <th>54838</th>\n",
       "      <td>Lashante</td>\n",
       "      <td>29.0</td>\n",
       "      <td>NaN</td>\n",
       "      <td>Sales floor Team Member at Target</td>\n",
       "      <td>Pasadena</td>\n",
       "      <td>NaN</td>\n",
       "      <td>13.0</td>\n",
       "      <td>Hello My name is Lashante I’m 29 years old I’m...</td>\n",
       "      <td>('Woah', 'Lil Baby')</td>\n",
       "      <td>['https://images-ssl.gotinder.com/5c69d8f5da90...</td>\n",
       "      <td>0.035890</td>\n",
       "      <td>38</td>\n",
       "    </tr>\n",
       "    <tr>\n",
       "      <th>5994</th>\n",
       "      <td>Juliane</td>\n",
       "      <td>33.0</td>\n",
       "      <td>NaN</td>\n",
       "      <td>Musician</td>\n",
       "      <td>Pasadena</td>\n",
       "      <td>NaN</td>\n",
       "      <td>2.0</td>\n",
       "      <td>Hi! I'm Juliane. What you see is what you get ...</td>\n",
       "      <td>NaN</td>\n",
       "      <td>['https://images-ssl.gotinder.com/5e0b036be089...</td>\n",
       "      <td>0.036334</td>\n",
       "      <td>38</td>\n",
       "    </tr>\n",
       "    <tr>\n",
       "      <th>53676</th>\n",
       "      <td>Ovsanna</td>\n",
       "      <td>27.0</td>\n",
       "      <td>University of California, Irvine</td>\n",
       "      <td>NaN</td>\n",
       "      <td>Pasadena</td>\n",
       "      <td>NaN</td>\n",
       "      <td>2.0</td>\n",
       "      <td>Hi there, I love watching sports, enjoying my ...</td>\n",
       "      <td>NaN</td>\n",
       "      <td>['https://images-ssl.gotinder.com/5e8ffd2bca5e...</td>\n",
       "      <td>0.037191</td>\n",
       "      <td>29</td>\n",
       "    </tr>\n",
       "    <tr>\n",
       "      <th>24229</th>\n",
       "      <td>Katy</td>\n",
       "      <td>28.0</td>\n",
       "      <td>California State University, San Marcos</td>\n",
       "      <td>Social worker at Health Right 360</td>\n",
       "      <td>Pasadena</td>\n",
       "      <td>NaN</td>\n",
       "      <td>4.0</td>\n",
       "      <td>Masters grad 🎓 👩‍🎓 GOAL digger, helping others...</td>\n",
       "      <td>NaN</td>\n",
       "      <td>['https://images-ssl.gotinder.com/592c7fe21481...</td>\n",
       "      <td>0.037279</td>\n",
       "      <td>40</td>\n",
       "    </tr>\n",
       "    <tr>\n",
       "      <th>52919</th>\n",
       "      <td>Michelle</td>\n",
       "      <td>24.0</td>\n",
       "      <td>NaN</td>\n",
       "      <td>NaN</td>\n",
       "      <td>Pasadena</td>\n",
       "      <td>NaN</td>\n",
       "      <td>6.0</td>\n",
       "      <td>Guatemalan &amp; Mexican\\nI like being outdoors. I...</td>\n",
       "      <td>NaN</td>\n",
       "      <td>['https://images-ssl.gotinder.com/5cbc19e3654f...</td>\n",
       "      <td>0.037572</td>\n",
       "      <td>33</td>\n",
       "    </tr>\n",
       "    <tr>\n",
       "      <th>25264</th>\n",
       "      <td>Day</td>\n",
       "      <td>21.0</td>\n",
       "      <td>NaN</td>\n",
       "      <td>Employed</td>\n",
       "      <td>Pasadena</td>\n",
       "      <td>NaN</td>\n",
       "      <td>3.0</td>\n",
       "      <td>full name is Daylyn, but you can call me Day 🌞...</td>\n",
       "      <td>('LOYAL (feat. Drake)', 'PARTYNEXTDOOR, Drake')</td>\n",
       "      <td>['https://images-ssl.gotinder.com/5e20f6f18f41...</td>\n",
       "      <td>0.037671</td>\n",
       "      <td>51</td>\n",
       "    </tr>\n",
       "    <tr>\n",
       "      <th>43980</th>\n",
       "      <td>Kelli</td>\n",
       "      <td>29.0</td>\n",
       "      <td>NaN</td>\n",
       "      <td>NaN</td>\n",
       "      <td>Pasadena</td>\n",
       "      <td>NaN</td>\n",
       "      <td>18.0</td>\n",
       "      <td>Looking for something real...</td>\n",
       "      <td>NaN</td>\n",
       "      <td>['https://images-ssl.gotinder.com/5e9a8695d93a...</td>\n",
       "      <td>0.037737</td>\n",
       "      <td>5</td>\n",
       "    </tr>\n",
       "    <tr>\n",
       "      <th>43045</th>\n",
       "      <td>Brooke</td>\n",
       "      <td>41.0</td>\n",
       "      <td>NaN</td>\n",
       "      <td>Currently, I pour paint because it is fun. Pre...</td>\n",
       "      <td>Pasadena</td>\n",
       "      <td>NaN</td>\n",
       "      <td>2.0</td>\n",
       "      <td>Looking for a good time; nothing too serious. ...</td>\n",
       "      <td>NaN</td>\n",
       "      <td>['https://images-ssl.gotinder.com/5cecd1017ea0...</td>\n",
       "      <td>0.038376</td>\n",
       "      <td>82</td>\n",
       "    </tr>\n",
       "    <tr>\n",
       "      <th>26296</th>\n",
       "      <td>Sky</td>\n",
       "      <td>26.0</td>\n",
       "      <td>NaN</td>\n",
       "      <td>NaN</td>\n",
       "      <td>Pasadena</td>\n",
       "      <td>Woman</td>\n",
       "      <td>3.0</td>\n",
       "      <td>Sure you're tired of swiping, so I'll get stra...</td>\n",
       "      <td>('We Are the People', 'Empire of the Sun')</td>\n",
       "      <td>['https://images-ssl.gotinder.com/5358b1ce598c...</td>\n",
       "      <td>0.038540</td>\n",
       "      <td>79</td>\n",
       "    </tr>\n",
       "    <tr>\n",
       "      <th>6856</th>\n",
       "      <td>Erica</td>\n",
       "      <td>34.0</td>\n",
       "      <td>NaN</td>\n",
       "      <td>Financial Officer at USC</td>\n",
       "      <td>Pasadena</td>\n",
       "      <td>NaN</td>\n",
       "      <td>2.0</td>\n",
       "      <td>I love to CrossFit and spend time with my fami...</td>\n",
       "      <td>NaN</td>\n",
       "      <td>['https://images-ssl.gotinder.com/5e6e57d82d6e...</td>\n",
       "      <td>0.039773</td>\n",
       "      <td>20</td>\n",
       "    </tr>\n",
       "    <tr>\n",
       "      <th>23943</th>\n",
       "      <td>Honey</td>\n",
       "      <td>27.0</td>\n",
       "      <td>Pasadena City College</td>\n",
       "      <td>Nonprofit organization</td>\n",
       "      <td>Pasadena</td>\n",
       "      <td>Woman</td>\n",
       "      <td>2.0</td>\n",
       "      <td>I’m just a thick girl out here trying to make ...</td>\n",
       "      <td>('Captain Hook', 'Megan Thee Stallion')</td>\n",
       "      <td>['https://images-ssl.gotinder.com/5e64d3cd5e9e...</td>\n",
       "      <td>0.039878</td>\n",
       "      <td>56</td>\n",
       "    </tr>\n",
       "    <tr>\n",
       "      <th>43384</th>\n",
       "      <td>Theresa</td>\n",
       "      <td>38.0</td>\n",
       "      <td>Electoral College</td>\n",
       "      <td>NaN</td>\n",
       "      <td>Pasadena</td>\n",
       "      <td>NaN</td>\n",
       "      <td>2.0</td>\n",
       "      <td>I'm in an open marriage, looking for ongoing F...</td>\n",
       "      <td>('One Time', 'Marian Hill')</td>\n",
       "      <td>['https://images-ssl.gotinder.com/579c4b8d54c9...</td>\n",
       "      <td>0.040059</td>\n",
       "      <td>92</td>\n",
       "    </tr>\n",
       "    <tr>\n",
       "      <th>43876</th>\n",
       "      <td>Elsa</td>\n",
       "      <td>19.0</td>\n",
       "      <td>NaN</td>\n",
       "      <td>Medical assistant</td>\n",
       "      <td>Pasadena</td>\n",
       "      <td>NaN</td>\n",
       "      <td>2.0</td>\n",
       "      <td>Looking for new friends to talk to</td>\n",
       "      <td>NaN</td>\n",
       "      <td>['https://images-ssl.gotinder.com/5e9aa1b2a6f1...</td>\n",
       "      <td>0.040442</td>\n",
       "      <td>8</td>\n",
       "    </tr>\n",
       "    <tr>\n",
       "      <th>15581</th>\n",
       "      <td>Allie</td>\n",
       "      <td>23.0</td>\n",
       "      <td>Azusa Pacific University</td>\n",
       "      <td>ICU RN</td>\n",
       "      <td>Pasadena</td>\n",
       "      <td>NaN</td>\n",
       "      <td>3.0</td>\n",
       "      <td>just an oncology nurse who loves margaritas, t...</td>\n",
       "      <td>NaN</td>\n",
       "      <td>['https://images-ssl.gotinder.com/5a78d97924ca...</td>\n",
       "      <td>0.041594</td>\n",
       "      <td>20</td>\n",
       "    </tr>\n",
       "    <tr>\n",
       "      <th>7531</th>\n",
       "      <td>Jessica</td>\n",
       "      <td>28.0</td>\n",
       "      <td>Cal Poly, Pomona</td>\n",
       "      <td>ECommerce at Live Nation</td>\n",
       "      <td>Pasadena</td>\n",
       "      <td>Woman</td>\n",
       "      <td>2.0</td>\n",
       "      <td>Dog mom, beer drinker, part-time hiker, full-t...</td>\n",
       "      <td>NaN</td>\n",
       "      <td>['https://images-ssl.gotinder.com/5e33c35a3e7d...</td>\n",
       "      <td>0.043265</td>\n",
       "      <td>26</td>\n",
       "    </tr>\n",
       "    <tr>\n",
       "      <th>30649</th>\n",
       "      <td>Hope</td>\n",
       "      <td>25.0</td>\n",
       "      <td>CSUN</td>\n",
       "      <td>Vet Tech</td>\n",
       "      <td>Pasadena</td>\n",
       "      <td>NaN</td>\n",
       "      <td>1.0</td>\n",
       "      <td>Let’s watch a movie and have some wine\\r\\nI’m ...</td>\n",
       "      <td>(\"Why Should I Worry - from 'Oliver &amp; Company'...</td>\n",
       "      <td>['https://images-ssl.gotinder.com/564603f2c01e...</td>\n",
       "      <td>0.044052</td>\n",
       "      <td>90</td>\n",
       "    </tr>\n",
       "    <tr>\n",
       "      <th>31387</th>\n",
       "      <td>Lara</td>\n",
       "      <td>36.0</td>\n",
       "      <td>UCLA</td>\n",
       "      <td>Personal trainer at Independent</td>\n",
       "      <td>Pasadena</td>\n",
       "      <td>NaN</td>\n",
       "      <td>2.0</td>\n",
       "      <td>I’d love to find someone cool to hang with who...</td>\n",
       "      <td>NaN</td>\n",
       "      <td>['https://images-ssl.gotinder.com/592c54d6794c...</td>\n",
       "      <td>0.045072</td>\n",
       "      <td>46</td>\n",
       "    </tr>\n",
       "    <tr>\n",
       "      <th>54192</th>\n",
       "      <td>Margretta</td>\n",
       "      <td>28.0</td>\n",
       "      <td>Fuller Theological Seminary</td>\n",
       "      <td>NaN</td>\n",
       "      <td>Pasadena</td>\n",
       "      <td>Woman</td>\n",
       "      <td>1.0</td>\n",
       "      <td>A Christ follower. A life-long learner. Curiou...</td>\n",
       "      <td>NaN</td>\n",
       "      <td>['https://images-ssl.gotinder.com/5e771b6dd8b6...</td>\n",
       "      <td>0.046950</td>\n",
       "      <td>42</td>\n",
       "    </tr>\n",
       "    <tr>\n",
       "      <th>13378</th>\n",
       "      <td>Mallory</td>\n",
       "      <td>31.0</td>\n",
       "      <td>NaN</td>\n",
       "      <td>LA city</td>\n",
       "      <td>Pasadena</td>\n",
       "      <td>NaN</td>\n",
       "      <td>2.0</td>\n",
       "      <td>I love to dress up and be a girly girl (heels ...</td>\n",
       "      <td>NaN</td>\n",
       "      <td>['https://images-ssl.gotinder.com/5daeeb033cdc...</td>\n",
       "      <td>0.049544</td>\n",
       "      <td>89</td>\n",
       "    </tr>\n",
       "  </tbody>\n",
       "</table>\n",
       "<p>104 rows × 12 columns</p>\n",
       "</div>"
      ],
      "text/plain": [
       "             name   age                                   college  \\\n",
       "42023        Jasi  29.0                                       NaN   \n",
       "48433      Bianca  28.0             Mount Saint Mary's University   \n",
       "21872        Mimi  30.0                                       NaN   \n",
       "43093     Jasmine  24.0  California State University, Los Angeles   \n",
       "48938     Kristen  29.0                                       NaN   \n",
       "53776    Katheryn  24.0                                       NaN   \n",
       "16706       Anays  25.0                     Pasadena City College   \n",
       "35585       Tisha  19.0                                       NaN   \n",
       "17246        Alex  30.0                                       NaN   \n",
       "2402        Kelly  28.0         University of Southern California   \n",
       "32185       Dolly  20.0                     Pasadena City College   \n",
       "4205      Wailana  29.0                  Azusa Pacific University   \n",
       "52257   Feliciana  42.0                            Pitzer College   \n",
       "35673       Kenia  28.0                                       NaN   \n",
       "48537       Holly  32.0                                       NaN   \n",
       "28994         Sav  21.0                                       NaN   \n",
       "35526    Caroline  29.0                                  UC Davis   \n",
       "30787        Desi  26.0                                       NaN   \n",
       "12740      Audrey  24.0                                       NaN   \n",
       "17581        Sara  34.0                                       NaN   \n",
       "8007         Maya  37.0                                       NaN   \n",
       "29728     Carolyn  30.0                                       NaN   \n",
       "11572      Mickey  33.0              College for Creative Studies   \n",
       "4797       Jordyn  29.0                  Arizona State University   \n",
       "48382       Tamar  22.0                                       NaN   \n",
       "15960     Jessica  29.0                    University of Richmond   \n",
       "29524         Amy  25.0         Mount Wachusett Community College   \n",
       "19222         Aja  22.0                       Monmouth University   \n",
       "9700     Clarissa  23.0                           Cal Poly Pomona   \n",
       "28543       Lynae  31.0                     Pasadena City College   \n",
       "...           ...   ...                                       ...   \n",
       "21980       April  24.0               North-West College-Glendale   \n",
       "53820   Evergreen  33.0                                       NaN   \n",
       "6674       Nicole  29.0                                       NaN   \n",
       "941           Amy  23.0                     Pasadena City College   \n",
       "13479      Maddie  31.0                                       NaN   \n",
       "52564    Jennifer  26.0         University of Southern California   \n",
       "51631     Jessica  24.0                                       NaN   \n",
       "24274       Pyren  31.0                        Capella University   \n",
       "55312       Kelly  25.0                                       NaN   \n",
       "11511       Kelly  31.0                San Diego State University   \n",
       "20811  Julie anne  24.0                         Auburn University   \n",
       "54838    Lashante  29.0                                       NaN   \n",
       "5994      Juliane  33.0                                       NaN   \n",
       "53676     Ovsanna  27.0          University of California, Irvine   \n",
       "24229        Katy  28.0   California State University, San Marcos   \n",
       "52919    Michelle  24.0                                       NaN   \n",
       "25264         Day  21.0                                       NaN   \n",
       "43980       Kelli  29.0                                       NaN   \n",
       "43045      Brooke  41.0                                       NaN   \n",
       "26296         Sky  26.0                                       NaN   \n",
       "6856        Erica  34.0                                       NaN   \n",
       "23943       Honey  27.0                     Pasadena City College   \n",
       "43384     Theresa  38.0                         Electoral College   \n",
       "43876        Elsa  19.0                                       NaN   \n",
       "15581       Allie  23.0                  Azusa Pacific University   \n",
       "7531      Jessica  28.0                          Cal Poly, Pomona   \n",
       "30649        Hope  25.0                                      CSUN   \n",
       "31387        Lara  36.0                                      UCLA   \n",
       "54192   Margretta  28.0               Fuller Theological Seminary   \n",
       "13378     Mallory  31.0                                       NaN   \n",
       "\n",
       "                                                     job      city  \\\n",
       "42023                                    Fashion Stylist  Pasadena   \n",
       "48433                                    Nursing student  Pasadena   \n",
       "21872                         Nurse at Kaiser Permanente  Pasadena   \n",
       "43093                                                NaN  Pasadena   \n",
       "48938        Marriage and Family Therapist at Non-Profit  Pasadena   \n",
       "53776                                                NaN  Pasadena   \n",
       "16706                                                NaN  Pasadena   \n",
       "35585                                                NaN  Pasadena   \n",
       "17246                                 Postdoc at Caltech  Pasadena   \n",
       "2402       2nd Grade Teacher at Private Christian school  Pasadena   \n",
       "32185                                            Student  Pasadena   \n",
       "4205                                    Behavior Analyst  Pasadena   \n",
       "52257                                                NaN  Pasadena   \n",
       "35673                                Designer Ambassador  Pasadena   \n",
       "48537                                                NaN  Pasadena   \n",
       "28994                                                NaN  Pasadena   \n",
       "35526                       Hair Stylist at A Hair Salon  Pasadena   \n",
       "30787                                                NaN  Pasadena   \n",
       "12740                                        Illustrator  Pasadena   \n",
       "17581                                                NaN  Pasadena   \n",
       "8007                                                 NaN  Pasadena   \n",
       "29728                                   Quality Engineer  Pasadena   \n",
       "11572                                                NaN  Pasadena   \n",
       "4797                                                 NaN  Pasadena   \n",
       "48382                                                NaN  Pasadena   \n",
       "15960             Private Investigator at Media Industry  Pasadena   \n",
       "29524                                  in home caregiver  Pasadena   \n",
       "19222                                         sugar baby  Pasadena   \n",
       "9700                               Veterinary Technician  Pasadena   \n",
       "28543                       Preschool Teacher at Teacher  Pasadena   \n",
       "...                                                  ...       ...   \n",
       "21980                        Student. Your future Nurse.  Pasadena   \n",
       "53820                                                NaN  Pasadena   \n",
       "6674                                                 NaN  Pasadena   \n",
       "941                                                  NaN  Pasadena   \n",
       "13479              Casting assistant at Dan Bell Casting  Pasadena   \n",
       "52564                                                NaN  Pasadena   \n",
       "51631                                                NaN  Pasadena   \n",
       "24274                eSports, Motorcycle Racer, Military  Pasadena   \n",
       "55312                            Assistant Store Manager  Pasadena   \n",
       "11511      Sales & Marketing Manager at Fashion Industry  Pasadena   \n",
       "20811                                              Actor  Pasadena   \n",
       "54838                  Sales floor Team Member at Target  Pasadena   \n",
       "5994                                            Musician  Pasadena   \n",
       "53676                                                NaN  Pasadena   \n",
       "24229                  Social worker at Health Right 360  Pasadena   \n",
       "52919                                                NaN  Pasadena   \n",
       "25264                                           Employed  Pasadena   \n",
       "43980                                                NaN  Pasadena   \n",
       "43045  Currently, I pour paint because it is fun. Pre...  Pasadena   \n",
       "26296                                                NaN  Pasadena   \n",
       "6856                            Financial Officer at USC  Pasadena   \n",
       "23943                             Nonprofit organization  Pasadena   \n",
       "43384                                                NaN  Pasadena   \n",
       "43876                                  Medical assistant  Pasadena   \n",
       "15581                                             ICU RN  Pasadena   \n",
       "7531                            ECommerce at Live Nation  Pasadena   \n",
       "30649                                           Vet Tech  Pasadena   \n",
       "31387                    Personal trainer at Independent  Pasadena   \n",
       "54192                                                NaN  Pasadena   \n",
       "13378                                            LA city  Pasadena   \n",
       "\n",
       "             gender  distance  \\\n",
       "42023           NaN       2.0   \n",
       "48433           NaN       6.0   \n",
       "21872         Woman       2.0   \n",
       "43093           NaN       3.0   \n",
       "48938         Woman      11.0   \n",
       "53776         Woman       5.0   \n",
       "16706           NaN       2.0   \n",
       "35585         Woman       2.0   \n",
       "17246           NaN       2.0   \n",
       "2402            NaN       4.0   \n",
       "32185           NaN       2.0   \n",
       "4205          Woman       2.0   \n",
       "52257         Woman       2.0   \n",
       "35673           NaN      11.0   \n",
       "48537           NaN       3.0   \n",
       "28994  Gender Fluid       2.0   \n",
       "35526           NaN       3.0   \n",
       "30787           NaN       2.0   \n",
       "12740           NaN       4.0   \n",
       "17581           NaN       2.0   \n",
       "8007            NaN       2.0   \n",
       "29728           NaN       3.0   \n",
       "11572           NaN       2.0   \n",
       "4797    Trans Woman       2.0   \n",
       "48382           NaN       4.0   \n",
       "15960         Woman       3.0   \n",
       "29524         Woman       2.0   \n",
       "19222           NaN       2.0   \n",
       "9700            NaN       4.0   \n",
       "28543         Woman       6.0   \n",
       "...             ...       ...   \n",
       "21980           NaN       3.0   \n",
       "53820         Woman       2.0   \n",
       "6674            NaN       3.0   \n",
       "941             NaN       2.0   \n",
       "13479           NaN       3.0   \n",
       "52564           NaN       2.0   \n",
       "51631         Woman       7.0   \n",
       "24274           NaN       2.0   \n",
       "55312         Woman       2.0   \n",
       "11511         Woman       3.0   \n",
       "20811         Woman    1827.0   \n",
       "54838           NaN      13.0   \n",
       "5994            NaN       2.0   \n",
       "53676           NaN       2.0   \n",
       "24229           NaN       4.0   \n",
       "52919           NaN       6.0   \n",
       "25264           NaN       3.0   \n",
       "43980           NaN      18.0   \n",
       "43045           NaN       2.0   \n",
       "26296         Woman       3.0   \n",
       "6856            NaN       2.0   \n",
       "23943         Woman       2.0   \n",
       "43384           NaN       2.0   \n",
       "43876           NaN       2.0   \n",
       "15581           NaN       3.0   \n",
       "7531          Woman       2.0   \n",
       "30649           NaN       1.0   \n",
       "31387           NaN       2.0   \n",
       "54192         Woman       1.0   \n",
       "13378           NaN       2.0   \n",
       "\n",
       "                                                 details  \\\n",
       "42023                                                 🦂    \n",
       "48433                                                🇷🇴    \n",
       "21872             Hold the vision, trust the process ❤️    \n",
       "43093                            Reggae ❤️ Vegetarian 🌱    \n",
       "48938                      No Wit\\nNo Banter\\nNo Chance    \n",
       "53776                          Overthinking is my mood.    \n",
       "16706                             Hi I’m Kobe’s WCW 💜 💛    \n",
       "35585                                       i’m bored 😗    \n",
       "17246                          The outdoors and physics    \n",
       "2402   2nd grade teacher 🍎 ,Christian 🙏 ,creative 🎨 s...   \n",
       "32185  Chinese. Fairly British + British accent. Acti...   \n",
       "4205   Originally from Hawaii but have been in LA for...   \n",
       "52257  Highly intellectual, and, spiritually inclined...   \n",
       "35673     Not great at this bio part so just ask ☺️  🇲🇽    \n",
       "48537                     CEO & Founder. Yogi. Dog mom.    \n",
       "28994  sav rose. 21. city of roses. multi-racial. plu...   \n",
       "35526  Human connection anyone? Let’s FaceTime throug...   \n",
       "30787  ✨ i am a man dressed as a woman. 🤫 your secret...   \n",
       "12740  🌟 Full-time designer; creator of pins, earring...   \n",
       "17581  Everything is terrible but at least we can sti...   \n",
       "8007   You can't buy happiness, but you can buy dough...   \n",
       "29728  Snowboarder, hiker, biker, sunburner 🤦🏻‍♀️ 🤷🏻‍...   \n",
       "11572        Day 18, am cutie in quarantine. What’s up?    \n",
       "4797   Trans girl tomboy. Bi. Poly. Anti-capitalist. ...   \n",
       "48382              Quarantine sucks :( what’s the move?    \n",
       "15960  Runner\\r\\nSoutherner \\r\\nBeer Enthusiast \\r\\nS...   \n",
       "29524  I just want to be wine & dined & texted period...   \n",
       "19222                           just quarantine browsin    \n",
       "9700   Sometimes I like to wear stretchy pants in my ...   \n",
       "28543  I'm a preschool teacher! I have a calico cat t...   \n",
       "...                                                  ...   \n",
       "21980  Asian. Petite. 4'11. 97lbs. Certified Muslim. ...   \n",
       "53820  Call me weird but, talking on the phone, FaceT...   \n",
       "6674        Just looking for my 👽 to explore the 🌎 with    \n",
       "941    Hi :) all lot of guys have ask why I don’t sho...   \n",
       "13479  I’m a sports loving, beach going, tequila and ...   \n",
       "52564  Currently in Beijing on vacation. Lives in LA....   \n",
       "51631  Honestly living in the wrong state! Should hav...   \n",
       "24274  Former Overwatch Coach & Analyst, motorcycle e...   \n",
       "55312  Looking for someone I can vibe with and go on ...   \n",
       "11511  Looking for that special person who I can make...   \n",
       "20811  I really love Jesus and people!\\r\\nYes I’m rea...   \n",
       "54838  Hello My name is Lashante I’m 29 years old I’m...   \n",
       "5994   Hi! I'm Juliane. What you see is what you get ...   \n",
       "53676  Hi there, I love watching sports, enjoying my ...   \n",
       "24229  Masters grad 🎓 👩‍🎓 GOAL digger, helping others...   \n",
       "52919  Guatemalan & Mexican\\nI like being outdoors. I...   \n",
       "25264  full name is Daylyn, but you can call me Day 🌞...   \n",
       "43980                     Looking for something real...    \n",
       "43045  Looking for a good time; nothing too serious. ...   \n",
       "26296  Sure you're tired of swiping, so I'll get stra...   \n",
       "6856   I love to CrossFit and spend time with my fami...   \n",
       "23943  I’m just a thick girl out here trying to make ...   \n",
       "43384  I'm in an open marriage, looking for ongoing F...   \n",
       "43876                Looking for new friends to talk to    \n",
       "15581  just an oncology nurse who loves margaritas, t...   \n",
       "7531   Dog mom, beer drinker, part-time hiker, full-t...   \n",
       "30649  Let’s watch a movie and have some wine\\r\\nI’m ...   \n",
       "31387  I’d love to find someone cool to hang with who...   \n",
       "54192  A Christ follower. A life-long learner. Curiou...   \n",
       "13378  I love to dress up and be a girly girl (heels ...   \n",
       "\n",
       "                                                  anthem  \\\n",
       "42023                                                NaN   \n",
       "48433    ('Crashing (feat. Bahari)', 'ILLENIUM, Bahari')   \n",
       "21872                                                NaN   \n",
       "43093  ('Fish in the Sea', 'Common Kings, Marc E. Bas...   \n",
       "48938       (\"Don't Stand So Close To Me\", 'The Police')   \n",
       "53776                           ('Bird Set Free', 'Sia')   \n",
       "16706                                                NaN   \n",
       "35585              ('Youngblood', '5 Seconds of Summer')   \n",
       "17246                                                NaN   \n",
       "2402                                                 NaN   \n",
       "32185                                                NaN   \n",
       "4205                                                 NaN   \n",
       "52257                          ('Sufi Woman', 'Jidenna')   \n",
       "35673                                                NaN   \n",
       "48537                                                NaN   \n",
       "28994                           ('Wake Up', 'The Green')   \n",
       "35526            ('A Better Son/Daughter', 'Rilo Kiley')   \n",
       "30787             ('My Neck, My Back (Lick It)', 'Khia')   \n",
       "12740                     ('Moonlight', 'Ariana Grande')   \n",
       "17581     ('Total Eclipse of the Heart', 'Bonnie Tyler')   \n",
       "8007                                                 NaN   \n",
       "29728                                                NaN   \n",
       "11572                                                NaN   \n",
       "4797                      ('Gemini', 'Boards of Canada')   \n",
       "48382                                                NaN   \n",
       "15960                                                NaN   \n",
       "29524                             ('Spaceship', 'Kesha')   \n",
       "19222                                                NaN   \n",
       "9700                      ('Ocean Drive', 'Duke Dumont')   \n",
       "28543                                                NaN   \n",
       "...                                                  ...   \n",
       "21980  ('South of the Border (feat. Camila Cabello & ...   \n",
       "53820                        ('Surefire', 'John Legend')   \n",
       "6674                                                 NaN   \n",
       "941                                                  NaN   \n",
       "13479        ('Dreams - 2004 Remaster', 'Fleetwood Mac')   \n",
       "52564                                                NaN   \n",
       "51631                    ('Night Train', 'Jason Aldean')   \n",
       "24274                                                NaN   \n",
       "55312                   ('hot girl bummer', 'blackbear')   \n",
       "11511                         ('Yummy', 'Justin Bieber')   \n",
       "20811                                                NaN   \n",
       "54838                               ('Woah', 'Lil Baby')   \n",
       "5994                                                 NaN   \n",
       "53676                                                NaN   \n",
       "24229                                                NaN   \n",
       "52919                                                NaN   \n",
       "25264    ('LOYAL (feat. Drake)', 'PARTYNEXTDOOR, Drake')   \n",
       "43980                                                NaN   \n",
       "43045                                                NaN   \n",
       "26296         ('We Are the People', 'Empire of the Sun')   \n",
       "6856                                                 NaN   \n",
       "23943            ('Captain Hook', 'Megan Thee Stallion')   \n",
       "43384                        ('One Time', 'Marian Hill')   \n",
       "43876                                                NaN   \n",
       "15581                                                NaN   \n",
       "7531                                                 NaN   \n",
       "30649  (\"Why Should I Worry - from 'Oliver & Company'...   \n",
       "31387                                                NaN   \n",
       "54192                                                NaN   \n",
       "13378                                                NaN   \n",
       "\n",
       "                                        profile_pic_urls    cosine  words  \n",
       "42023  ['https://images-ssl.gotinder.com/5e779a19e073...  0.000000      2  \n",
       "48433  ['https://images-ssl.gotinder.com/5d671ba066ef...  0.000000      2  \n",
       "21872  ['https://images-ssl.gotinder.com/5e93aa1d7f69...  0.009615      8  \n",
       "43093  ['https://images-ssl.gotinder.com/5daa6e811f45...  0.009615      5  \n",
       "48938  ['https://images-ssl.gotinder.com/5e49ef688d8b...  0.010518      5  \n",
       "53776  ['https://images-ssl.gotinder.com/5e7422d7066b...  0.011611      5  \n",
       "16706  ['https://images-ssl.gotinder.com/5d70657118f4...  0.012589      7  \n",
       "35585  ['https://images-ssl.gotinder.com/5e96ac783268...  0.013477      4  \n",
       "17246  ['https://images-ssl.gotinder.com/5d313bd427a9...  0.013678      5  \n",
       "2402   ['https://images-ssl.gotinder.com/5c720084f8d6...  0.013791     31  \n",
       "32185  ['https://images-ssl.gotinder.com/5e895d6f4aed...  0.014109     11  \n",
       "4205   ['https://images-ssl.gotinder.com/5e3634142aa3...  0.014972     14  \n",
       "52257  ['https://images-ssl.gotinder.com/5e1e78ae8b7d...  0.015786     38  \n",
       "35673  ['https://images-ssl.gotinder.com/5e8a498476e5...  0.015798     13  \n",
       "48537  ['https://images-ssl.gotinder.com/5e8edf1b0571...  0.015823      7  \n",
       "28994  ['https://images-ssl.gotinder.com/568ef80485d2...  0.016257     32  \n",
       "35526  ['https://images-ssl.gotinder.com/5396bb5d381d...  0.016635      9  \n",
       "30787  ['https://images-ssl.gotinder.com/5e744de0e073...  0.016883     23  \n",
       "12740  ['https://images-ssl.gotinder.com/5ddf076b5cb5...  0.017122     16  \n",
       "17581  ['https://images-ssl.gotinder.com/5325120405f7...  0.017150     26  \n",
       "8007   ['https://images-ssl.gotinder.com/5e1385829bca...  0.017309     17  \n",
       "29728  ['https://images-ssl.gotinder.com/564fce7e5dec...  0.018017     18  \n",
       "11572  ['https://images-ssl.gotinder.com/5e7c4edb0081...  0.018437      9  \n",
       "4797   ['https://images-ssl.gotinder.com/5ca306917300...  0.018815     20  \n",
       "48382  ['https://images-ssl.gotinder.com/5bc2e644f7c7...  0.018975      7  \n",
       "15960  ['https://images-ssl.gotinder.com/5d4a4b822dbf...  0.019172     16  \n",
       "29524  ['https://images-ssl.gotinder.com/5e1651fb906e...  0.019486     13  \n",
       "19222  ['https://images-ssl.gotinder.com/597708618592...  0.019666      4  \n",
       "9700   ['https://images-ssl.gotinder.com/594b4b9cdd1c...  0.020036     14  \n",
       "28543  ['https://images-ssl.gotinder.com/59505f03d108...  0.020046     22  \n",
       "...                                                  ...       ...    ...  \n",
       "21980  ['https://images-ssl.gotinder.com/5dce3963438b...  0.032341     88  \n",
       "53820  ['https://images-ssl.gotinder.com/59811e07fa29...  0.032437     98  \n",
       "6674   ['https://images-ssl.gotinder.com/5b1d9b80a56e...  0.032604     11  \n",
       "941    ['https://images-ssl.gotinder.com/55e65c30cd28...  0.033217     60  \n",
       "13479  ['https://images-ssl.gotinder.com/510aa3b66776...  0.033406     39  \n",
       "52564  ['https://images-ssl.gotinder.com/5bcab67b1474...  0.034059     21  \n",
       "51631  ['https://images-ssl.gotinder.com/5ad2ee917aaf...  0.034145     75  \n",
       "24274  ['https://images-ssl.gotinder.com/5aae2fb3500a...  0.034429     23  \n",
       "55312  ['https://images-ssl.gotinder.com/5df084d78555...  0.034596     40  \n",
       "11511  ['https://images-ssl.gotinder.com/5e5b74364ef8...  0.035163     16  \n",
       "20811  ['https://images-ssl.gotinder.com/5e6669fc0f87...  0.035723     11  \n",
       "54838  ['https://images-ssl.gotinder.com/5c69d8f5da90...  0.035890     38  \n",
       "5994   ['https://images-ssl.gotinder.com/5e0b036be089...  0.036334     38  \n",
       "53676  ['https://images-ssl.gotinder.com/5e8ffd2bca5e...  0.037191     29  \n",
       "24229  ['https://images-ssl.gotinder.com/592c7fe21481...  0.037279     40  \n",
       "52919  ['https://images-ssl.gotinder.com/5cbc19e3654f...  0.037572     33  \n",
       "25264  ['https://images-ssl.gotinder.com/5e20f6f18f41...  0.037671     51  \n",
       "43980  ['https://images-ssl.gotinder.com/5e9a8695d93a...  0.037737      5  \n",
       "43045  ['https://images-ssl.gotinder.com/5cecd1017ea0...  0.038376     82  \n",
       "26296  ['https://images-ssl.gotinder.com/5358b1ce598c...  0.038540     79  \n",
       "6856   ['https://images-ssl.gotinder.com/5e6e57d82d6e...  0.039773     20  \n",
       "23943  ['https://images-ssl.gotinder.com/5e64d3cd5e9e...  0.039878     56  \n",
       "43384  ['https://images-ssl.gotinder.com/579c4b8d54c9...  0.040059     92  \n",
       "43876  ['https://images-ssl.gotinder.com/5e9aa1b2a6f1...  0.040442      8  \n",
       "15581  ['https://images-ssl.gotinder.com/5a78d97924ca...  0.041594     20  \n",
       "7531   ['https://images-ssl.gotinder.com/5e33c35a3e7d...  0.043265     26  \n",
       "30649  ['https://images-ssl.gotinder.com/564603f2c01e...  0.044052     90  \n",
       "31387  ['https://images-ssl.gotinder.com/592c54d6794c...  0.045072     46  \n",
       "54192  ['https://images-ssl.gotinder.com/5e771b6dd8b6...  0.046950     42  \n",
       "13378  ['https://images-ssl.gotinder.com/5daeeb033cdc...  0.049544     89  \n",
       "\n",
       "[104 rows x 12 columns]"
      ]
     },
     "execution_count": 130,
     "metadata": {},
     "output_type": "execute_result"
    }
   ],
   "source": [
    "df.sort_values('cosine')"
   ]
  },
  {
   "cell_type": "code",
   "execution_count": 131,
   "metadata": {},
   "outputs": [
    {
     "data": {
      "application/vnd.plotly.v1+json": {
       "config": {
        "plotlyServerURL": "https://plot.ly"
       },
       "data": [
        {
         "alignmentgroup": "True",
         "bingroup": "x",
         "hovertemplate": "cosine=%{x}<br>count=%{y}<extra></extra>",
         "legendgroup": "",
         "marker": {
          "color": "#636efa"
         },
         "name": "",
         "nbinsx": 50,
         "offsetgroup": "",
         "orientation": "v",
         "showlegend": false,
         "type": "histogram",
         "x": [
          0.033217067275219885,
          0.020623662983073034,
          0.013790848826189993,
          0.03214134695681702,
          0.020308531162758915,
          0.02952980300653479,
          0.01497215106932855,
          0.0188154633603541,
          0.0363343534733859,
          0.03260364880251138,
          0.023089895462408378,
          0.03977280219833413,
          0.02209534380665114,
          0.024518697234698017,
          0.04326485608695458,
          0.01730927437942031,
          0.029812077702545146,
          0.022756434031593883,
          0.020035778747470093,
          0.023084511967245515,
          0.025195538243854402,
          0.032309371465113215,
          0.0351630312137233,
          0.018437156151321684,
          0.02617098575477064,
          0.017122260853480432,
          0.020438357723630642,
          0.04954354635325631,
          0.033405993089157524,
          0.031626783247436986,
          0.030624145314093684,
          0.04159377559189116,
          0.020115216549536297,
          0.019172248977503394,
          0.025823710666797058,
          0.02850934400309358,
          0.01258930827494218,
          0.013678149383639742,
          0.03121307348506758,
          0.01715036494780279,
          0.030556587292969284,
          0.023170569278996418,
          0.031962826173988775,
          0.01966582329607528,
          0.03572318570758292,
          0.009615384615384616,
          0.03234061667785218,
          0.026739380950639373,
          0.020736280798993003,
          0.039877873775678814,
          0.02891069675418254,
          0.037279240986266074,
          0.03442889339759528,
          0.0376709392576479,
          0.038539754634891135,
          0.020851336038536512,
          0.02592235938564018,
          0.020046225776199196,
          0.021944632570113472,
          0.030437636189110814,
          0.016257316292579913,
          0.021205851822238584,
          0.01948640794439954,
          0.018017292892470303,
          0.03134805054612733,
          0.0440524427726945,
          0.016883251142572296,
          0.045071639275291925,
          0.014109063595744818,
          0.02723719277285228,
          0.016634816421799755,
          0.013476528230261102,
          0.015798146219571582,
          0,
          0.03837560215848169,
          0.009615384615384618,
          0.0400594357452443,
          0.0404415967361414,
          0.031214780896948582,
          0.03773661696412438,
          0.024075836377599556,
          0.030069151512551594,
          0.018974746326635226,
          0,
          0.015822816002659706,
          0.027683157416647116,
          0.010518115228191193,
          0.02373652169113668,
          0.02040871265517781,
          0.03414483240187218,
          0.01578569542325253,
          0.03405908113005866,
          0.02928741406734074,
          0.023065510153903842,
          0.03757164772166706,
          0.02470600225359371,
          0.021982919021162742,
          0.03719095775147151,
          0.011610903455088568,
          0.032436715479735805,
          0.04694979368131869,
          0.035889591476825446,
          0.034596137262991516,
          0.021848050399399268
         ],
         "xaxis": "x",
         "yaxis": "y"
        }
       ],
       "layout": {
        "barmode": "relative",
        "legend": {
         "tracegroupgap": 0
        },
        "margin": {
         "t": 60
        },
        "template": {
         "data": {
          "bar": [
           {
            "error_x": {
             "color": "#2a3f5f"
            },
            "error_y": {
             "color": "#2a3f5f"
            },
            "marker": {
             "line": {
              "color": "#E5ECF6",
              "width": 0.5
             }
            },
            "type": "bar"
           }
          ],
          "barpolar": [
           {
            "marker": {
             "line": {
              "color": "#E5ECF6",
              "width": 0.5
             }
            },
            "type": "barpolar"
           }
          ],
          "carpet": [
           {
            "aaxis": {
             "endlinecolor": "#2a3f5f",
             "gridcolor": "white",
             "linecolor": "white",
             "minorgridcolor": "white",
             "startlinecolor": "#2a3f5f"
            },
            "baxis": {
             "endlinecolor": "#2a3f5f",
             "gridcolor": "white",
             "linecolor": "white",
             "minorgridcolor": "white",
             "startlinecolor": "#2a3f5f"
            },
            "type": "carpet"
           }
          ],
          "choropleth": [
           {
            "colorbar": {
             "outlinewidth": 0,
             "ticks": ""
            },
            "type": "choropleth"
           }
          ],
          "contour": [
           {
            "colorbar": {
             "outlinewidth": 0,
             "ticks": ""
            },
            "colorscale": [
             [
              0,
              "#0d0887"
             ],
             [
              0.1111111111111111,
              "#46039f"
             ],
             [
              0.2222222222222222,
              "#7201a8"
             ],
             [
              0.3333333333333333,
              "#9c179e"
             ],
             [
              0.4444444444444444,
              "#bd3786"
             ],
             [
              0.5555555555555556,
              "#d8576b"
             ],
             [
              0.6666666666666666,
              "#ed7953"
             ],
             [
              0.7777777777777778,
              "#fb9f3a"
             ],
             [
              0.8888888888888888,
              "#fdca26"
             ],
             [
              1,
              "#f0f921"
             ]
            ],
            "type": "contour"
           }
          ],
          "contourcarpet": [
           {
            "colorbar": {
             "outlinewidth": 0,
             "ticks": ""
            },
            "type": "contourcarpet"
           }
          ],
          "heatmap": [
           {
            "colorbar": {
             "outlinewidth": 0,
             "ticks": ""
            },
            "colorscale": [
             [
              0,
              "#0d0887"
             ],
             [
              0.1111111111111111,
              "#46039f"
             ],
             [
              0.2222222222222222,
              "#7201a8"
             ],
             [
              0.3333333333333333,
              "#9c179e"
             ],
             [
              0.4444444444444444,
              "#bd3786"
             ],
             [
              0.5555555555555556,
              "#d8576b"
             ],
             [
              0.6666666666666666,
              "#ed7953"
             ],
             [
              0.7777777777777778,
              "#fb9f3a"
             ],
             [
              0.8888888888888888,
              "#fdca26"
             ],
             [
              1,
              "#f0f921"
             ]
            ],
            "type": "heatmap"
           }
          ],
          "heatmapgl": [
           {
            "colorbar": {
             "outlinewidth": 0,
             "ticks": ""
            },
            "colorscale": [
             [
              0,
              "#0d0887"
             ],
             [
              0.1111111111111111,
              "#46039f"
             ],
             [
              0.2222222222222222,
              "#7201a8"
             ],
             [
              0.3333333333333333,
              "#9c179e"
             ],
             [
              0.4444444444444444,
              "#bd3786"
             ],
             [
              0.5555555555555556,
              "#d8576b"
             ],
             [
              0.6666666666666666,
              "#ed7953"
             ],
             [
              0.7777777777777778,
              "#fb9f3a"
             ],
             [
              0.8888888888888888,
              "#fdca26"
             ],
             [
              1,
              "#f0f921"
             ]
            ],
            "type": "heatmapgl"
           }
          ],
          "histogram": [
           {
            "marker": {
             "colorbar": {
              "outlinewidth": 0,
              "ticks": ""
             }
            },
            "type": "histogram"
           }
          ],
          "histogram2d": [
           {
            "colorbar": {
             "outlinewidth": 0,
             "ticks": ""
            },
            "colorscale": [
             [
              0,
              "#0d0887"
             ],
             [
              0.1111111111111111,
              "#46039f"
             ],
             [
              0.2222222222222222,
              "#7201a8"
             ],
             [
              0.3333333333333333,
              "#9c179e"
             ],
             [
              0.4444444444444444,
              "#bd3786"
             ],
             [
              0.5555555555555556,
              "#d8576b"
             ],
             [
              0.6666666666666666,
              "#ed7953"
             ],
             [
              0.7777777777777778,
              "#fb9f3a"
             ],
             [
              0.8888888888888888,
              "#fdca26"
             ],
             [
              1,
              "#f0f921"
             ]
            ],
            "type": "histogram2d"
           }
          ],
          "histogram2dcontour": [
           {
            "colorbar": {
             "outlinewidth": 0,
             "ticks": ""
            },
            "colorscale": [
             [
              0,
              "#0d0887"
             ],
             [
              0.1111111111111111,
              "#46039f"
             ],
             [
              0.2222222222222222,
              "#7201a8"
             ],
             [
              0.3333333333333333,
              "#9c179e"
             ],
             [
              0.4444444444444444,
              "#bd3786"
             ],
             [
              0.5555555555555556,
              "#d8576b"
             ],
             [
              0.6666666666666666,
              "#ed7953"
             ],
             [
              0.7777777777777778,
              "#fb9f3a"
             ],
             [
              0.8888888888888888,
              "#fdca26"
             ],
             [
              1,
              "#f0f921"
             ]
            ],
            "type": "histogram2dcontour"
           }
          ],
          "mesh3d": [
           {
            "colorbar": {
             "outlinewidth": 0,
             "ticks": ""
            },
            "type": "mesh3d"
           }
          ],
          "parcoords": [
           {
            "line": {
             "colorbar": {
              "outlinewidth": 0,
              "ticks": ""
             }
            },
            "type": "parcoords"
           }
          ],
          "pie": [
           {
            "automargin": true,
            "type": "pie"
           }
          ],
          "scatter": [
           {
            "marker": {
             "colorbar": {
              "outlinewidth": 0,
              "ticks": ""
             }
            },
            "type": "scatter"
           }
          ],
          "scatter3d": [
           {
            "line": {
             "colorbar": {
              "outlinewidth": 0,
              "ticks": ""
             }
            },
            "marker": {
             "colorbar": {
              "outlinewidth": 0,
              "ticks": ""
             }
            },
            "type": "scatter3d"
           }
          ],
          "scattercarpet": [
           {
            "marker": {
             "colorbar": {
              "outlinewidth": 0,
              "ticks": ""
             }
            },
            "type": "scattercarpet"
           }
          ],
          "scattergeo": [
           {
            "marker": {
             "colorbar": {
              "outlinewidth": 0,
              "ticks": ""
             }
            },
            "type": "scattergeo"
           }
          ],
          "scattergl": [
           {
            "marker": {
             "colorbar": {
              "outlinewidth": 0,
              "ticks": ""
             }
            },
            "type": "scattergl"
           }
          ],
          "scattermapbox": [
           {
            "marker": {
             "colorbar": {
              "outlinewidth": 0,
              "ticks": ""
             }
            },
            "type": "scattermapbox"
           }
          ],
          "scatterpolar": [
           {
            "marker": {
             "colorbar": {
              "outlinewidth": 0,
              "ticks": ""
             }
            },
            "type": "scatterpolar"
           }
          ],
          "scatterpolargl": [
           {
            "marker": {
             "colorbar": {
              "outlinewidth": 0,
              "ticks": ""
             }
            },
            "type": "scatterpolargl"
           }
          ],
          "scatterternary": [
           {
            "marker": {
             "colorbar": {
              "outlinewidth": 0,
              "ticks": ""
             }
            },
            "type": "scatterternary"
           }
          ],
          "surface": [
           {
            "colorbar": {
             "outlinewidth": 0,
             "ticks": ""
            },
            "colorscale": [
             [
              0,
              "#0d0887"
             ],
             [
              0.1111111111111111,
              "#46039f"
             ],
             [
              0.2222222222222222,
              "#7201a8"
             ],
             [
              0.3333333333333333,
              "#9c179e"
             ],
             [
              0.4444444444444444,
              "#bd3786"
             ],
             [
              0.5555555555555556,
              "#d8576b"
             ],
             [
              0.6666666666666666,
              "#ed7953"
             ],
             [
              0.7777777777777778,
              "#fb9f3a"
             ],
             [
              0.8888888888888888,
              "#fdca26"
             ],
             [
              1,
              "#f0f921"
             ]
            ],
            "type": "surface"
           }
          ],
          "table": [
           {
            "cells": {
             "fill": {
              "color": "#EBF0F8"
             },
             "line": {
              "color": "white"
             }
            },
            "header": {
             "fill": {
              "color": "#C8D4E3"
             },
             "line": {
              "color": "white"
             }
            },
            "type": "table"
           }
          ]
         },
         "layout": {
          "annotationdefaults": {
           "arrowcolor": "#2a3f5f",
           "arrowhead": 0,
           "arrowwidth": 1
          },
          "coloraxis": {
           "colorbar": {
            "outlinewidth": 0,
            "ticks": ""
           }
          },
          "colorscale": {
           "diverging": [
            [
             0,
             "#8e0152"
            ],
            [
             0.1,
             "#c51b7d"
            ],
            [
             0.2,
             "#de77ae"
            ],
            [
             0.3,
             "#f1b6da"
            ],
            [
             0.4,
             "#fde0ef"
            ],
            [
             0.5,
             "#f7f7f7"
            ],
            [
             0.6,
             "#e6f5d0"
            ],
            [
             0.7,
             "#b8e186"
            ],
            [
             0.8,
             "#7fbc41"
            ],
            [
             0.9,
             "#4d9221"
            ],
            [
             1,
             "#276419"
            ]
           ],
           "sequential": [
            [
             0,
             "#0d0887"
            ],
            [
             0.1111111111111111,
             "#46039f"
            ],
            [
             0.2222222222222222,
             "#7201a8"
            ],
            [
             0.3333333333333333,
             "#9c179e"
            ],
            [
             0.4444444444444444,
             "#bd3786"
            ],
            [
             0.5555555555555556,
             "#d8576b"
            ],
            [
             0.6666666666666666,
             "#ed7953"
            ],
            [
             0.7777777777777778,
             "#fb9f3a"
            ],
            [
             0.8888888888888888,
             "#fdca26"
            ],
            [
             1,
             "#f0f921"
            ]
           ],
           "sequentialminus": [
            [
             0,
             "#0d0887"
            ],
            [
             0.1111111111111111,
             "#46039f"
            ],
            [
             0.2222222222222222,
             "#7201a8"
            ],
            [
             0.3333333333333333,
             "#9c179e"
            ],
            [
             0.4444444444444444,
             "#bd3786"
            ],
            [
             0.5555555555555556,
             "#d8576b"
            ],
            [
             0.6666666666666666,
             "#ed7953"
            ],
            [
             0.7777777777777778,
             "#fb9f3a"
            ],
            [
             0.8888888888888888,
             "#fdca26"
            ],
            [
             1,
             "#f0f921"
            ]
           ]
          },
          "colorway": [
           "#636efa",
           "#EF553B",
           "#00cc96",
           "#ab63fa",
           "#FFA15A",
           "#19d3f3",
           "#FF6692",
           "#B6E880",
           "#FF97FF",
           "#FECB52"
          ],
          "font": {
           "color": "#2a3f5f"
          },
          "geo": {
           "bgcolor": "white",
           "lakecolor": "white",
           "landcolor": "#E5ECF6",
           "showlakes": true,
           "showland": true,
           "subunitcolor": "white"
          },
          "hoverlabel": {
           "align": "left"
          },
          "hovermode": "closest",
          "mapbox": {
           "style": "light"
          },
          "paper_bgcolor": "white",
          "plot_bgcolor": "#E5ECF6",
          "polar": {
           "angularaxis": {
            "gridcolor": "white",
            "linecolor": "white",
            "ticks": ""
           },
           "bgcolor": "#E5ECF6",
           "radialaxis": {
            "gridcolor": "white",
            "linecolor": "white",
            "ticks": ""
           }
          },
          "scene": {
           "xaxis": {
            "backgroundcolor": "#E5ECF6",
            "gridcolor": "white",
            "gridwidth": 2,
            "linecolor": "white",
            "showbackground": true,
            "ticks": "",
            "zerolinecolor": "white"
           },
           "yaxis": {
            "backgroundcolor": "#E5ECF6",
            "gridcolor": "white",
            "gridwidth": 2,
            "linecolor": "white",
            "showbackground": true,
            "ticks": "",
            "zerolinecolor": "white"
           },
           "zaxis": {
            "backgroundcolor": "#E5ECF6",
            "gridcolor": "white",
            "gridwidth": 2,
            "linecolor": "white",
            "showbackground": true,
            "ticks": "",
            "zerolinecolor": "white"
           }
          },
          "shapedefaults": {
           "line": {
            "color": "#2a3f5f"
           }
          },
          "ternary": {
           "aaxis": {
            "gridcolor": "white",
            "linecolor": "white",
            "ticks": ""
           },
           "baxis": {
            "gridcolor": "white",
            "linecolor": "white",
            "ticks": ""
           },
           "bgcolor": "#E5ECF6",
           "caxis": {
            "gridcolor": "white",
            "linecolor": "white",
            "ticks": ""
           }
          },
          "title": {
           "x": 0.05
          },
          "xaxis": {
           "automargin": true,
           "gridcolor": "white",
           "linecolor": "white",
           "ticks": "",
           "title": {
            "standoff": 15
           },
           "zerolinecolor": "white",
           "zerolinewidth": 2
          },
          "yaxis": {
           "automargin": true,
           "gridcolor": "white",
           "linecolor": "white",
           "ticks": "",
           "title": {
            "standoff": 15
           },
           "zerolinecolor": "white",
           "zerolinewidth": 2
          }
         }
        },
        "xaxis": {
         "anchor": "y",
         "domain": [
          0,
          1
         ],
         "title": {
          "text": "cosine"
         }
        },
        "yaxis": {
         "anchor": "x",
         "domain": [
          0,
          1
         ],
         "title": {
          "text": "count"
         }
        }
       }
      },
      "text/html": [
       "<div>\n",
       "        \n",
       "        \n",
       "            <div id=\"3c2a36e4-a643-4fba-9358-872734b89ca7\" class=\"plotly-graph-div\" style=\"height:525px; width:100%;\"></div>\n",
       "            <script type=\"text/javascript\">\n",
       "                require([\"plotly\"], function(Plotly) {\n",
       "                    window.PLOTLYENV=window.PLOTLYENV || {};\n",
       "                    \n",
       "                if (document.getElementById(\"3c2a36e4-a643-4fba-9358-872734b89ca7\")) {\n",
       "                    Plotly.newPlot(\n",
       "                        '3c2a36e4-a643-4fba-9358-872734b89ca7',\n",
       "                        [{\"alignmentgroup\": \"True\", \"bingroup\": \"x\", \"hovertemplate\": \"cosine=%{x}<br>count=%{y}<extra></extra>\", \"legendgroup\": \"\", \"marker\": {\"color\": \"#636efa\"}, \"name\": \"\", \"nbinsx\": 50, \"offsetgroup\": \"\", \"orientation\": \"v\", \"showlegend\": false, \"type\": \"histogram\", \"x\": [0.033217067275219885, 0.020623662983073034, 0.013790848826189993, 0.03214134695681702, 0.020308531162758915, 0.02952980300653479, 0.01497215106932855, 0.0188154633603541, 0.0363343534733859, 0.03260364880251138, 0.023089895462408378, 0.03977280219833413, 0.02209534380665114, 0.024518697234698017, 0.04326485608695458, 0.01730927437942031, 0.029812077702545146, 0.022756434031593883, 0.020035778747470093, 0.023084511967245515, 0.025195538243854402, 0.032309371465113215, 0.0351630312137233, 0.018437156151321684, 0.02617098575477064, 0.017122260853480432, 0.020438357723630642, 0.04954354635325631, 0.033405993089157524, 0.031626783247436986, 0.030624145314093684, 0.04159377559189116, 0.020115216549536297, 0.019172248977503394, 0.025823710666797058, 0.02850934400309358, 0.01258930827494218, 0.013678149383639742, 0.03121307348506758, 0.01715036494780279, 0.030556587292969284, 0.023170569278996418, 0.031962826173988775, 0.01966582329607528, 0.03572318570758292, 0.009615384615384616, 0.03234061667785218, 0.026739380950639373, 0.020736280798993003, 0.039877873775678814, 0.02891069675418254, 0.037279240986266074, 0.03442889339759528, 0.0376709392576479, 0.038539754634891135, 0.020851336038536512, 0.02592235938564018, 0.020046225776199196, 0.021944632570113472, 0.030437636189110814, 0.016257316292579913, 0.021205851822238584, 0.01948640794439954, 0.018017292892470303, 0.03134805054612733, 0.0440524427726945, 0.016883251142572296, 0.045071639275291925, 0.014109063595744818, 0.02723719277285228, 0.016634816421799755, 0.013476528230261102, 0.015798146219571582, 0.0, 0.03837560215848169, 0.009615384615384618, 0.0400594357452443, 0.0404415967361414, 0.031214780896948582, 0.03773661696412438, 0.024075836377599556, 0.030069151512551594, 0.018974746326635226, 0.0, 0.015822816002659706, 0.027683157416647116, 0.010518115228191193, 0.02373652169113668, 0.02040871265517781, 0.03414483240187218, 0.01578569542325253, 0.03405908113005866, 0.02928741406734074, 0.023065510153903842, 0.03757164772166706, 0.02470600225359371, 0.021982919021162742, 0.03719095775147151, 0.011610903455088568, 0.032436715479735805, 0.04694979368131869, 0.035889591476825446, 0.034596137262991516, 0.021848050399399268], \"xaxis\": \"x\", \"yaxis\": \"y\"}],\n",
       "                        {\"barmode\": \"relative\", \"legend\": {\"tracegroupgap\": 0}, \"margin\": {\"t\": 60}, \"template\": {\"data\": {\"bar\": [{\"error_x\": {\"color\": \"#2a3f5f\"}, \"error_y\": {\"color\": \"#2a3f5f\"}, \"marker\": {\"line\": {\"color\": \"#E5ECF6\", \"width\": 0.5}}, \"type\": \"bar\"}], \"barpolar\": [{\"marker\": {\"line\": {\"color\": \"#E5ECF6\", \"width\": 0.5}}, \"type\": \"barpolar\"}], \"carpet\": [{\"aaxis\": {\"endlinecolor\": \"#2a3f5f\", \"gridcolor\": \"white\", \"linecolor\": \"white\", \"minorgridcolor\": \"white\", \"startlinecolor\": \"#2a3f5f\"}, \"baxis\": {\"endlinecolor\": \"#2a3f5f\", \"gridcolor\": \"white\", \"linecolor\": \"white\", \"minorgridcolor\": \"white\", \"startlinecolor\": \"#2a3f5f\"}, \"type\": \"carpet\"}], \"choropleth\": [{\"colorbar\": {\"outlinewidth\": 0, \"ticks\": \"\"}, \"type\": \"choropleth\"}], \"contour\": [{\"colorbar\": {\"outlinewidth\": 0, \"ticks\": \"\"}, \"colorscale\": [[0.0, \"#0d0887\"], [0.1111111111111111, \"#46039f\"], [0.2222222222222222, \"#7201a8\"], [0.3333333333333333, \"#9c179e\"], [0.4444444444444444, \"#bd3786\"], [0.5555555555555556, \"#d8576b\"], [0.6666666666666666, \"#ed7953\"], [0.7777777777777778, \"#fb9f3a\"], [0.8888888888888888, \"#fdca26\"], [1.0, \"#f0f921\"]], \"type\": \"contour\"}], \"contourcarpet\": [{\"colorbar\": {\"outlinewidth\": 0, \"ticks\": \"\"}, \"type\": \"contourcarpet\"}], \"heatmap\": [{\"colorbar\": {\"outlinewidth\": 0, \"ticks\": \"\"}, \"colorscale\": [[0.0, \"#0d0887\"], [0.1111111111111111, \"#46039f\"], [0.2222222222222222, \"#7201a8\"], [0.3333333333333333, \"#9c179e\"], [0.4444444444444444, \"#bd3786\"], [0.5555555555555556, \"#d8576b\"], [0.6666666666666666, \"#ed7953\"], [0.7777777777777778, \"#fb9f3a\"], [0.8888888888888888, \"#fdca26\"], [1.0, \"#f0f921\"]], \"type\": \"heatmap\"}], \"heatmapgl\": [{\"colorbar\": {\"outlinewidth\": 0, \"ticks\": \"\"}, \"colorscale\": [[0.0, \"#0d0887\"], [0.1111111111111111, \"#46039f\"], [0.2222222222222222, \"#7201a8\"], [0.3333333333333333, \"#9c179e\"], [0.4444444444444444, \"#bd3786\"], [0.5555555555555556, \"#d8576b\"], [0.6666666666666666, \"#ed7953\"], [0.7777777777777778, \"#fb9f3a\"], [0.8888888888888888, \"#fdca26\"], [1.0, \"#f0f921\"]], \"type\": \"heatmapgl\"}], \"histogram\": [{\"marker\": {\"colorbar\": {\"outlinewidth\": 0, \"ticks\": \"\"}}, \"type\": \"histogram\"}], \"histogram2d\": [{\"colorbar\": {\"outlinewidth\": 0, \"ticks\": \"\"}, \"colorscale\": [[0.0, \"#0d0887\"], [0.1111111111111111, \"#46039f\"], [0.2222222222222222, \"#7201a8\"], [0.3333333333333333, \"#9c179e\"], [0.4444444444444444, \"#bd3786\"], [0.5555555555555556, \"#d8576b\"], [0.6666666666666666, \"#ed7953\"], [0.7777777777777778, \"#fb9f3a\"], [0.8888888888888888, \"#fdca26\"], [1.0, \"#f0f921\"]], \"type\": \"histogram2d\"}], \"histogram2dcontour\": [{\"colorbar\": {\"outlinewidth\": 0, \"ticks\": \"\"}, \"colorscale\": [[0.0, \"#0d0887\"], [0.1111111111111111, \"#46039f\"], [0.2222222222222222, \"#7201a8\"], [0.3333333333333333, \"#9c179e\"], [0.4444444444444444, \"#bd3786\"], [0.5555555555555556, \"#d8576b\"], [0.6666666666666666, \"#ed7953\"], [0.7777777777777778, \"#fb9f3a\"], [0.8888888888888888, \"#fdca26\"], [1.0, \"#f0f921\"]], \"type\": \"histogram2dcontour\"}], \"mesh3d\": [{\"colorbar\": {\"outlinewidth\": 0, \"ticks\": \"\"}, \"type\": \"mesh3d\"}], \"parcoords\": [{\"line\": {\"colorbar\": {\"outlinewidth\": 0, \"ticks\": \"\"}}, \"type\": \"parcoords\"}], \"pie\": [{\"automargin\": true, \"type\": \"pie\"}], \"scatter\": [{\"marker\": {\"colorbar\": {\"outlinewidth\": 0, \"ticks\": \"\"}}, \"type\": \"scatter\"}], \"scatter3d\": [{\"line\": {\"colorbar\": {\"outlinewidth\": 0, \"ticks\": \"\"}}, \"marker\": {\"colorbar\": {\"outlinewidth\": 0, \"ticks\": \"\"}}, \"type\": \"scatter3d\"}], \"scattercarpet\": [{\"marker\": {\"colorbar\": {\"outlinewidth\": 0, \"ticks\": \"\"}}, \"type\": \"scattercarpet\"}], \"scattergeo\": [{\"marker\": {\"colorbar\": {\"outlinewidth\": 0, \"ticks\": \"\"}}, \"type\": \"scattergeo\"}], \"scattergl\": [{\"marker\": {\"colorbar\": {\"outlinewidth\": 0, \"ticks\": \"\"}}, \"type\": \"scattergl\"}], \"scattermapbox\": [{\"marker\": {\"colorbar\": {\"outlinewidth\": 0, \"ticks\": \"\"}}, \"type\": \"scattermapbox\"}], \"scatterpolar\": [{\"marker\": {\"colorbar\": {\"outlinewidth\": 0, \"ticks\": \"\"}}, \"type\": \"scatterpolar\"}], \"scatterpolargl\": [{\"marker\": {\"colorbar\": {\"outlinewidth\": 0, \"ticks\": \"\"}}, \"type\": \"scatterpolargl\"}], \"scatterternary\": [{\"marker\": {\"colorbar\": {\"outlinewidth\": 0, \"ticks\": \"\"}}, \"type\": \"scatterternary\"}], \"surface\": [{\"colorbar\": {\"outlinewidth\": 0, \"ticks\": \"\"}, \"colorscale\": [[0.0, \"#0d0887\"], [0.1111111111111111, \"#46039f\"], [0.2222222222222222, \"#7201a8\"], [0.3333333333333333, \"#9c179e\"], [0.4444444444444444, \"#bd3786\"], [0.5555555555555556, \"#d8576b\"], [0.6666666666666666, \"#ed7953\"], [0.7777777777777778, \"#fb9f3a\"], [0.8888888888888888, \"#fdca26\"], [1.0, \"#f0f921\"]], \"type\": \"surface\"}], \"table\": [{\"cells\": {\"fill\": {\"color\": \"#EBF0F8\"}, \"line\": {\"color\": \"white\"}}, \"header\": {\"fill\": {\"color\": \"#C8D4E3\"}, \"line\": {\"color\": \"white\"}}, \"type\": \"table\"}]}, \"layout\": {\"annotationdefaults\": {\"arrowcolor\": \"#2a3f5f\", \"arrowhead\": 0, \"arrowwidth\": 1}, \"coloraxis\": {\"colorbar\": {\"outlinewidth\": 0, \"ticks\": \"\"}}, \"colorscale\": {\"diverging\": [[0, \"#8e0152\"], [0.1, \"#c51b7d\"], [0.2, \"#de77ae\"], [0.3, \"#f1b6da\"], [0.4, \"#fde0ef\"], [0.5, \"#f7f7f7\"], [0.6, \"#e6f5d0\"], [0.7, \"#b8e186\"], [0.8, \"#7fbc41\"], [0.9, \"#4d9221\"], [1, \"#276419\"]], \"sequential\": [[0.0, \"#0d0887\"], [0.1111111111111111, \"#46039f\"], [0.2222222222222222, \"#7201a8\"], [0.3333333333333333, \"#9c179e\"], [0.4444444444444444, \"#bd3786\"], [0.5555555555555556, \"#d8576b\"], [0.6666666666666666, \"#ed7953\"], [0.7777777777777778, \"#fb9f3a\"], [0.8888888888888888, \"#fdca26\"], [1.0, \"#f0f921\"]], \"sequentialminus\": [[0.0, \"#0d0887\"], [0.1111111111111111, \"#46039f\"], [0.2222222222222222, \"#7201a8\"], [0.3333333333333333, \"#9c179e\"], [0.4444444444444444, \"#bd3786\"], [0.5555555555555556, \"#d8576b\"], [0.6666666666666666, \"#ed7953\"], [0.7777777777777778, \"#fb9f3a\"], [0.8888888888888888, \"#fdca26\"], [1.0, \"#f0f921\"]]}, \"colorway\": [\"#636efa\", \"#EF553B\", \"#00cc96\", \"#ab63fa\", \"#FFA15A\", \"#19d3f3\", \"#FF6692\", \"#B6E880\", \"#FF97FF\", \"#FECB52\"], \"font\": {\"color\": \"#2a3f5f\"}, \"geo\": {\"bgcolor\": \"white\", \"lakecolor\": \"white\", \"landcolor\": \"#E5ECF6\", \"showlakes\": true, \"showland\": true, \"subunitcolor\": \"white\"}, \"hoverlabel\": {\"align\": \"left\"}, \"hovermode\": \"closest\", \"mapbox\": {\"style\": \"light\"}, \"paper_bgcolor\": \"white\", \"plot_bgcolor\": \"#E5ECF6\", \"polar\": {\"angularaxis\": {\"gridcolor\": \"white\", \"linecolor\": \"white\", \"ticks\": \"\"}, \"bgcolor\": \"#E5ECF6\", \"radialaxis\": {\"gridcolor\": \"white\", \"linecolor\": \"white\", \"ticks\": \"\"}}, \"scene\": {\"xaxis\": {\"backgroundcolor\": \"#E5ECF6\", \"gridcolor\": \"white\", \"gridwidth\": 2, \"linecolor\": \"white\", \"showbackground\": true, \"ticks\": \"\", \"zerolinecolor\": \"white\"}, \"yaxis\": {\"backgroundcolor\": \"#E5ECF6\", \"gridcolor\": \"white\", \"gridwidth\": 2, \"linecolor\": \"white\", \"showbackground\": true, \"ticks\": \"\", \"zerolinecolor\": \"white\"}, \"zaxis\": {\"backgroundcolor\": \"#E5ECF6\", \"gridcolor\": \"white\", \"gridwidth\": 2, \"linecolor\": \"white\", \"showbackground\": true, \"ticks\": \"\", \"zerolinecolor\": \"white\"}}, \"shapedefaults\": {\"line\": {\"color\": \"#2a3f5f\"}}, \"ternary\": {\"aaxis\": {\"gridcolor\": \"white\", \"linecolor\": \"white\", \"ticks\": \"\"}, \"baxis\": {\"gridcolor\": \"white\", \"linecolor\": \"white\", \"ticks\": \"\"}, \"bgcolor\": \"#E5ECF6\", \"caxis\": {\"gridcolor\": \"white\", \"linecolor\": \"white\", \"ticks\": \"\"}}, \"title\": {\"x\": 0.05}, \"xaxis\": {\"automargin\": true, \"gridcolor\": \"white\", \"linecolor\": \"white\", \"ticks\": \"\", \"title\": {\"standoff\": 15}, \"zerolinecolor\": \"white\", \"zerolinewidth\": 2}, \"yaxis\": {\"automargin\": true, \"gridcolor\": \"white\", \"linecolor\": \"white\", \"ticks\": \"\", \"title\": {\"standoff\": 15}, \"zerolinecolor\": \"white\", \"zerolinewidth\": 2}}}, \"xaxis\": {\"anchor\": \"y\", \"domain\": [0.0, 1.0], \"title\": {\"text\": \"cosine\"}}, \"yaxis\": {\"anchor\": \"x\", \"domain\": [0.0, 1.0], \"title\": {\"text\": \"count\"}}},\n",
       "                        {\"responsive\": true}\n",
       "                    ).then(function(){\n",
       "                            \n",
       "var gd = document.getElementById('3c2a36e4-a643-4fba-9358-872734b89ca7');\n",
       "var x = new MutationObserver(function (mutations, observer) {{\n",
       "        var display = window.getComputedStyle(gd).display;\n",
       "        if (!display || display === 'none') {{\n",
       "            console.log([gd, 'removed!']);\n",
       "            Plotly.purge(gd);\n",
       "            observer.disconnect();\n",
       "        }}\n",
       "}});\n",
       "\n",
       "// Listen for the removal of the full notebook cells\n",
       "var notebookContainer = gd.closest('#notebook-container');\n",
       "if (notebookContainer) {{\n",
       "    x.observe(notebookContainer, {childList: true});\n",
       "}}\n",
       "\n",
       "// Listen for the clearing of the current output cell\n",
       "var outputEl = gd.closest('.output');\n",
       "if (outputEl) {{\n",
       "    x.observe(outputEl, {childList: true});\n",
       "}}\n",
       "\n",
       "                        })\n",
       "                };\n",
       "                });\n",
       "            </script>\n",
       "        </div>"
      ]
     },
     "metadata": {},
     "output_type": "display_data"
    }
   ],
   "source": [
    "fig = px.histogram(df, x=\"cosine\", nbins=50)\n",
    "fig.show()"
   ]
  },
  {
   "cell_type": "code",
   "execution_count": 55,
   "metadata": {},
   "outputs": [],
   "source": [
    "import seaborn as sns"
   ]
  },
  {
   "cell_type": "code",
   "execution_count": 132,
   "metadata": {},
   "outputs": [
    {
     "data": {
      "image/png": "[encoded data removed]",
      "text/plain": [
       "<Figure size 432x288 with 1 Axes>"
      ]
     },
     "metadata": {
      "needs_background": "light"
     },
     "output_type": "display_data"
    }
   ],
   "source": [
    "sns.distplot(df.cosine, kde=True, rug=True);"
   ]
  },
  {
   "cell_type": "code",
   "execution_count": 34,
   "metadata": {
    "scrolled": true
   },
   "outputs": [],
   "source": [
    "a = cosine_similarity(test,test)"
   ]
  },
  {
   "cell_type": "code",
   "execution_count": 39,
   "metadata": {},
   "outputs": [
    {
     "data": {
      "text/plain": [
       "3.454574996622868"
      ]
     },
     "execution_count": 39,
     "metadata": {},
     "output_type": "execute_result"
    }
   ],
   "source": [
    "a[0].sum()"
   ]
  },
  {
   "cell_type": "code",
   "execution_count": 40,
   "metadata": {},
   "outputs": [
    {
     "data": {
      "text/plain": [
       "1.4342482779237593"
      ]
     },
     "execution_count": 40,
     "metadata": {},
     "output_type": "execute_result"
    }
   ],
   "source": [
    "a[2].sum()"
   ]
  },
  {
   "cell_type": "code",
   "execution_count": 96,
   "metadata": {},
   "outputs": [
    {
     "name": "stdout",
     "output_type": "stream",
     "text": [
      "[[0.8660254]]\n"
     ]
    }
   ],
   "source": [
    "from sklearn.metrics.pairwise import cosine_similarity\n",
    "import numpy as np\n",
    "vec1 = np.array([[1,1,0,1,1]])\n",
    "vec2 = np.array([[0,1,0,1,1]])\n",
    "#print(cosine_similarity([vec1, vec2]))\n",
    "print(cosine_similarity(vec1, vec2))"
   ]
  },
  {
   "cell_type": "code",
   "execution_count": 100,
   "metadata": {},
   "outputs": [
    {
     "data": {
      "text/plain": [
       "(1, 5)"
      ]
     },
     "execution_count": 100,
     "metadata": {},
     "output_type": "execute_result"
    }
   ],
   "source": [
    "vec1.shape"
   ]
  },
  {
   "cell_type": "code",
   "execution_count": null,
   "metadata": {},
   "outputs": [],
   "source": []
  }
 ],
 "metadata": {
  "kernelspec": {
   "display_name": "Python 3",
   "language": "python",
   "name": "python3"
  },
  "language_info": {
   "codemirror_mode": {
    "name": "ipython",
    "version": 3
   },
   "file_extension": ".py",
   "mimetype": "text/x-python",
   "name": "python",
   "nbconvert_exporter": "python",
   "pygments_lexer": "ipython3",
   "version": "3.7.3"
  }
 },
 "nbformat": 4,
 "nbformat_minor": 2
}
