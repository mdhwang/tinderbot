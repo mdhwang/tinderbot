{
 "cells": [
  {
   "cell_type": "code",
   "execution_count": 28,
   "metadata": {},
   "outputs": [],
   "source": [
    "import csv\n",
    "\n",
    "def append_new_data():\n",
    "    '''\n",
    "    Try to append any new data into raw data file if file found\n",
    "    '''\n",
    "    print(\"-----------------\")\n",
    "    print(\"PROCESS START\")\n",
    "    print(\"LOOKING FOR NEW RAW DATA TO APPEND TO MASTER\")\n",
    "    try:\n",
    "        with open(\"append/profile_data.csv\",'r') as append_file:\n",
    "            reader = csv.reader(append_file)\n",
    "            next(reader)\n",
    "            print(\"FOUND NEW RAW DATA - ATTEMPTING TO APPEND TO MASTER\")\n",
    "        try:\n",
    "            with open('raw/profile_data.csv','a') as file:\n",
    "                writer = csv.writer(file)\n",
    "                with open(\"append/profile_data.csv\",'r') as append_file:\n",
    "                    reader = csv.reader(append_file)\n",
    "                    next(reader)\n",
    "                    for row in reader:\n",
    "                        writer.writerow(row)\n",
    "                    append_file.close()\n",
    "                file.close()\n",
    "            print(\"NEW DATA APPENDED TO MASTER\")\n",
    "        except:\n",
    "            print(\"COULD NOT APPEND NEW DATA TO MASTER\")\n",
    "    except:\n",
    "        print(\"COULD NOT FIND NEW DATA\")\n",
    "    print(\"SCRIPT COMPLETED\")\n",
    "    print(\"-----------------\")\n",
    "\n"
   ]
  },
  {
   "cell_type": "code",
   "execution_count": null,
   "metadata": {},
   "outputs": [],
   "source": [
    "    data = pd.read_csv(\"raw/profile_data.csv\")\n",
    "    print(\"-----------------\")\n",
    "    print(\"CLEANING DATA\")\n",
    "    print(\"...\")\n",
    "    print(\"FOUND {} ENTRIES\".format(len(data)))\n",
    "    empty_entries = data.name.isna()\n",
    "    data = data[-empty_entries]\n",
    "    print(\"REMOVED {} EMPTY ENTRIES\".format(empty_entries.sum()))\n",
    "    duplicated_entries = data.duplicated()\n",
    "    data = data[-duplicated_entries]\n",
    "    print(\"REMOVED {} DUPLICATED ENTRIES\".format(duplicated_entries.sum()))\n",
    "    \n",
    "    # Data conversions to be added into webscraping script\n",
    "    data.name = data.name.apply(lambda x: x.capitalize())\n",
    "    data.age = data.age.apply(lambda x: int(x) if not math.isnan(x) else x)\n",
    "    data.city = data.city.apply(lambda x: x[9:] if type(x) != float else x)\n",
    "    data.distance = data.distance.apply(lambda x: int(x.split(' ')[0]) if type(x) != float else x)\n",
    "\n",
    "    \n",
    "    return data.head()"
   ]
  },
  {
   "cell_type": "code",
   "execution_count": 29,
   "metadata": {},
   "outputs": [
    {
     "name": "stdout",
     "output_type": "stream",
     "text": [
      "-----------------\n",
      "PROCESS START\n",
      "LOOKING FOR NEW RAW DATA TO APPEND TO MASTER\n",
      "COULD NOT FIND NEW DATA\n",
      "-----------------\n",
      "CLEANING DATA\n",
      "...\n",
      "FOUND 118396 ENTRIES\n",
      "REMOVED 40960 EMPTY ENTRIES\n",
      "REMOVED 1224 DUPLICATED ENTRIES\n"
     ]
    },
    {
     "data": {
      "text/html": [
       "<div>\n",
       "<style scoped>\n",
       "    .dataframe tbody tr th:only-of-type {\n",
       "        vertical-align: middle;\n",
       "    }\n",
       "\n",
       "    .dataframe tbody tr th {\n",
       "        vertical-align: top;\n",
       "    }\n",
       "\n",
       "    .dataframe thead th {\n",
       "        text-align: right;\n",
       "    }\n",
       "</style>\n",
       "<table border=\"1\" class=\"dataframe\">\n",
       "  <thead>\n",
       "    <tr style=\"text-align: right;\">\n",
       "      <th></th>\n",
       "      <th>name</th>\n",
       "      <th>age</th>\n",
       "      <th>college</th>\n",
       "      <th>job</th>\n",
       "      <th>city</th>\n",
       "      <th>gender</th>\n",
       "      <th>distance</th>\n",
       "      <th>details</th>\n",
       "      <th>anthem</th>\n",
       "      <th>profile_pic_urls</th>\n",
       "    </tr>\n",
       "  </thead>\n",
       "  <tbody>\n",
       "    <tr>\n",
       "      <th>0</th>\n",
       "      <td>Gianna</td>\n",
       "      <td>19.0</td>\n",
       "      <td>NaN</td>\n",
       "      <td>NaN</td>\n",
       "      <td>Barnegat</td>\n",
       "      <td>NaN</td>\n",
       "      <td>2430.0</td>\n",
       "      <td>ig- _.giaannaa_\\r\\nsc- gianna8378</td>\n",
       "      <td>('Slide (Remix) (feat. Pop Smoke, A Boogie Wit...</td>\n",
       "      <td>['https://images-ssl.gotinder.com/5dc0814dfc09...</td>\n",
       "    </tr>\n",
       "    <tr>\n",
       "      <th>1</th>\n",
       "      <td>Lauren</td>\n",
       "      <td>21.0</td>\n",
       "      <td>Florida State University</td>\n",
       "      <td>NaN</td>\n",
       "      <td>NaN</td>\n",
       "      <td>NaN</td>\n",
       "      <td>1981.0</td>\n",
       "      <td>A meme</td>\n",
       "      <td>NaN</td>\n",
       "      <td>['https://images-ssl.gotinder.com/5e8a352520cc...</td>\n",
       "    </tr>\n",
       "    <tr>\n",
       "      <th>2</th>\n",
       "      <td>Britanny</td>\n",
       "      <td>19.0</td>\n",
       "      <td>Santa Ana College</td>\n",
       "      <td>Boys and girls club</td>\n",
       "      <td>Garden Grove</td>\n",
       "      <td>NaN</td>\n",
       "      <td>19.0</td>\n",
       "      <td>Get to know me ☺️ Never been to Disneyland 😅 S...</td>\n",
       "      <td>NaN</td>\n",
       "      <td>['https://images-ssl.gotinder.com/5cace3ad9b7a...</td>\n",
       "    </tr>\n",
       "    <tr>\n",
       "      <th>3</th>\n",
       "      <td>Kayla</td>\n",
       "      <td>28.0</td>\n",
       "      <td>School</td>\n",
       "      <td>NaN</td>\n",
       "      <td>Los Angeles</td>\n",
       "      <td>Woman</td>\n",
       "      <td>18.0</td>\n",
       "      <td>I am a creative person that loves simple, inno...</td>\n",
       "      <td>NaN</td>\n",
       "      <td>['https://images-ssl.gotinder.com/5e90cb67da1c...</td>\n",
       "    </tr>\n",
       "    <tr>\n",
       "      <th>4</th>\n",
       "      <td>Kimberly</td>\n",
       "      <td>18.0</td>\n",
       "      <td>California State University, Los Angeles</td>\n",
       "      <td>NaN</td>\n",
       "      <td>NaN</td>\n",
       "      <td>Woman</td>\n",
       "      <td>15.0</td>\n",
       "      <td>Just for fun\\r\\nI’m 5’2</td>\n",
       "      <td>NaN</td>\n",
       "      <td>['https://images-ssl.gotinder.com/5e0ffa53349f...</td>\n",
       "    </tr>\n",
       "  </tbody>\n",
       "</table>\n",
       "</div>"
      ],
      "text/plain": [
       "       name   age                                   college  \\\n",
       "0    Gianna  19.0                                       NaN   \n",
       "1    Lauren  21.0                  Florida State University   \n",
       "2  Britanny  19.0                         Santa Ana College   \n",
       "3     Kayla  28.0                                    School   \n",
       "4  Kimberly  18.0  California State University, Los Angeles   \n",
       "\n",
       "                   job          city gender  distance  \\\n",
       "0                  NaN      Barnegat    NaN    2430.0   \n",
       "1                  NaN           NaN    NaN    1981.0   \n",
       "2  Boys and girls club  Garden Grove    NaN      19.0   \n",
       "3                  NaN   Los Angeles  Woman      18.0   \n",
       "4                  NaN           NaN  Woman      15.0   \n",
       "\n",
       "                                             details  \\\n",
       "0                 ig- _.giaannaa_\\r\\nsc- gianna8378    \n",
       "1                                            A meme    \n",
       "2  Get to know me ☺️ Never been to Disneyland 😅 S...   \n",
       "3  I am a creative person that loves simple, inno...   \n",
       "4                           Just for fun\\r\\nI’m 5’2    \n",
       "\n",
       "                                              anthem  \\\n",
       "0  ('Slide (Remix) (feat. Pop Smoke, A Boogie Wit...   \n",
       "1                                                NaN   \n",
       "2                                                NaN   \n",
       "3                                                NaN   \n",
       "4                                                NaN   \n",
       "\n",
       "                                    profile_pic_urls  \n",
       "0  ['https://images-ssl.gotinder.com/5dc0814dfc09...  \n",
       "1  ['https://images-ssl.gotinder.com/5e8a352520cc...  \n",
       "2  ['https://images-ssl.gotinder.com/5cace3ad9b7a...  \n",
       "3  ['https://images-ssl.gotinder.com/5e90cb67da1c...  \n",
       "4  ['https://images-ssl.gotinder.com/5e0ffa53349f...  "
      ]
     },
     "execution_count": 29,
     "metadata": {},
     "output_type": "execute_result"
    }
   ],
   "source": [
    "process()"
   ]
  },
  {
   "cell_type": "code",
   "execution_count": 22,
   "metadata": {},
   "outputs": [
    {
     "name": "stdout",
     "output_type": "stream",
     "text": [
      "['Frida', '21', '', '', '', '', '4946 miles away', 'Leter egentlig etter noen med kul nok bio til å stjele ', '', \"['https://images-ssl.gotinder.com/57a9c50d6c217d620a04a882/640x640_d7e10c5a-7d7a-4747-9770-a681800520a4.jpg', 'https://images-ssl.gotinder.com/57a9c50d6c217d620a04a882/640x640_c84805f6-7768-4fa4-8659-e843ffd56786.jpg', 'https://images-ssl.gotinder.com/57a9c50d6c217d620a04a882/640x800_8bafb731-7052-4eab-b015-2724d2c8997a.jpg', 'https://images-ssl.gotinder.com/57a9c50d6c217d620a04a882/640x640_9ad318b6-a693-4fb7-aa13-7edb34bc9257.jpg', 'https://images-ssl.gotinder.com/57a9c50d6c217d620a04a882/640x640_ed87fe5f-736b-4cec-a4f9-9d379cdfda63.jpg']\"]\n",
      "['Mary', '27', '', '', 'Lives in Albany', '', '2435 miles away', 'Rarely check this\\n\\nig: @maryyajlskd ', '', \"['https://images-ssl.gotinder.com/5c5ce50ba9c9651000d6b184/640x640_6deef2f5-ca85-430f-8ae2-0abb8e3d7279.jpg', 'https://images-ssl.gotinder.com/5c5ce50ba9c9651000d6b184/640x800_75_e2bd3248-f4ff-4608-bfaf-69d70a33599c.webp', 'https://images-ssl.gotinder.com/5c5ce50ba9c9651000d6b184/640x640_f683715e-b81b-46e5-99c2-597b072836c7.jpg', 'https://images-ssl.gotinder.com/5c5ce50ba9c9651000d6b184/640x800_75_f190feb5-6787-485d-bbc9-26df317c1db6.webp', 'https://images-ssl.gotinder.com/5c5ce50ba9c9651000d6b184/640x800_75_8c685ae9-e8fe-4f98-9b37-40e2135a7c67.webp', 'https://images-ssl.gotinder.com/5c5ce50ba9c9651000d6b184/640x800_75_a91553ee-81f1-47b3-8898-936015663121.webp', 'https://images-ssl.gotinder.com/5c5ce50ba9c9651000d6b184/640x640_3d686595-133b-41c3-9d2b-d15969ad43b9.jpg']\"]\n"
     ]
    }
   ],
   "source": [
    "with open(\"append/profile_data.csv\",'r') as append_file:\n",
    "            reader = csv.reader(append_file)\n",
    "            next(reader)\n",
    "            print(next(reader))\n",
    "            print(next(reader))"
   ]
  },
  {
   "cell_type": "code",
   "execution_count": 23,
   "metadata": {},
   "outputs": [
    {
     "data": {
      "text/plain": [
       "<_csv.reader at 0x12221b0b8>"
      ]
     },
     "execution_count": 23,
     "metadata": {},
     "output_type": "execute_result"
    }
   ],
   "source": [
    "reader"
   ]
  },
  {
   "cell_type": "code",
   "execution_count": 25,
   "metadata": {},
   "outputs": [
    {
     "ename": "ValueError",
     "evalue": "I/O operation on closed file.",
     "output_type": "error",
     "traceback": [
      "\u001b[0;31m---------------------------------------------------------------------------\u001b[0m",
      "\u001b[0;31mValueError\u001b[0m                                Traceback (most recent call last)",
      "\u001b[0;32m<ipython-input-25-c901e47f5769>\u001b[0m in \u001b[0;36m<module>\u001b[0;34m\u001b[0m\n\u001b[1;32m      1\u001b[0m \u001b[0;32mwith\u001b[0m \u001b[0mopen\u001b[0m\u001b[0;34m(\u001b[0m\u001b[0;34m'raw/profile_data_TEST.csv'\u001b[0m\u001b[0;34m,\u001b[0m\u001b[0;34m'a'\u001b[0m\u001b[0;34m)\u001b[0m \u001b[0;32mas\u001b[0m \u001b[0mfile\u001b[0m\u001b[0;34m:\u001b[0m\u001b[0;34m\u001b[0m\u001b[0;34m\u001b[0m\u001b[0m\n\u001b[1;32m      2\u001b[0m     \u001b[0mwriter\u001b[0m \u001b[0;34m=\u001b[0m \u001b[0mcsv\u001b[0m\u001b[0;34m.\u001b[0m\u001b[0mwriter\u001b[0m\u001b[0;34m(\u001b[0m\u001b[0mfile\u001b[0m\u001b[0;34m)\u001b[0m\u001b[0;34m\u001b[0m\u001b[0;34m\u001b[0m\u001b[0m\n\u001b[0;32m----> 3\u001b[0;31m     \u001b[0;32mfor\u001b[0m \u001b[0mrow\u001b[0m \u001b[0;32min\u001b[0m \u001b[0mreader\u001b[0m\u001b[0;34m:\u001b[0m\u001b[0;34m\u001b[0m\u001b[0;34m\u001b[0m\u001b[0m\n\u001b[0m\u001b[1;32m      4\u001b[0m         \u001b[0mwriter\u001b[0m\u001b[0;34m.\u001b[0m\u001b[0mwriterow\u001b[0m\u001b[0;34m(\u001b[0m\u001b[0mrow\u001b[0m\u001b[0;34m)\u001b[0m\u001b[0;34m\u001b[0m\u001b[0;34m\u001b[0m\u001b[0m\n\u001b[1;32m      5\u001b[0m     \u001b[0mfile\u001b[0m\u001b[0;34m.\u001b[0m\u001b[0mclose\u001b[0m\u001b[0;34m(\u001b[0m\u001b[0;34m)\u001b[0m\u001b[0;34m\u001b[0m\u001b[0;34m\u001b[0m\u001b[0m\n",
      "\u001b[0;31mValueError\u001b[0m: I/O operation on closed file."
     ]
    }
   ],
   "source": [
    "with open('raw/profile_data_TEST.csv','a') as file:\n",
    "    writer = csv.writer(file)\n",
    "    for row in reader:\n",
    "        writer.writerow(row)\n",
    "    file.close()"
   ]
  },
  {
   "cell_type": "code",
   "execution_count": null,
   "metadata": {},
   "outputs": [],
   "source": []
  }
 ],
 "metadata": {
  "kernelspec": {
   "display_name": "Python 3",
   "language": "python",
   "name": "python3"
  },
  "language_info": {
   "codemirror_mode": {
    "name": "ipython",
    "version": 3
   },
   "file_extension": ".py",
   "mimetype": "text/x-python",
   "name": "python",
   "nbconvert_exporter": "python",
   "pygments_lexer": "ipython3",
   "version": "3.7.3"
  }
 },
 "nbformat": 4,
 "nbformat_minor": 2
}
