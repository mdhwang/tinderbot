{
 "cells": [
  {
   "cell_type": "code",
   "execution_count": 1,
   "metadata": {},
   "outputs": [
    {
     "name": "stderr",
     "output_type": "stream",
     "text": [
      "/Users/matthewhwang/anaconda3/lib/python3.7/site-packages/dask/config.py:168: YAMLLoadWarning:\n",
      "\n",
      "calling yaml.load() without Loader=... is deprecated, as the default Loader is unsafe. Please read https://msg.pyyaml.org/load for full details.\n",
      "\n",
      "/Users/matthewhwang/anaconda3/lib/python3.7/site-packages/distributed/config.py:20: YAMLLoadWarning:\n",
      "\n",
      "calling yaml.load() without Loader=... is deprecated, as the default Loader is unsafe. Please read https://msg.pyyaml.org/load for full details.\n",
      "\n"
     ]
    }
   ],
   "source": [
    "import pandas as pd\n",
    "from clean import *\n",
    "\n",
    "import plotly.express as px"
   ]
  },
  {
   "cell_type": "code",
   "execution_count": 2,
   "metadata": {},
   "outputs": [],
   "source": [
    "data = pd.read_csv('data/profile_data.csv')"
   ]
  },
  {
   "cell_type": "code",
   "execution_count": 3,
   "metadata": {},
   "outputs": [
    {
     "name": "stdout",
     "output_type": "stream",
     "text": [
      "-----------------\n",
      "CLEANING DATA\n",
      "...\n",
      "FOUND 56783 ENTRIES\n",
      "REMOVED 0 EMPTY ENTRIES\n",
      "REMOVED 0 DUPLICATED ENTRIES\n",
      "-----------------\n",
      "CALCULATING STATS\n",
      "...\n",
      "FOUND 56783 ENTRIES\n",
      "56335 ENTRIES HAVE AGE DATA (99.2%)\n",
      "19773 ENTRIES HAVE COLLEGE DATA (34.8%)\n",
      "14456 ENTRIES HAVE CITY DATA (25.5%)\n",
      "14540 ENTRIES HAVE JOB DATA (25.6%)\n",
      "10153 ENTRIES HAVE GENDER DATA (17.9%)\n",
      "55631 ENTRIES HAVE DISTANCE DATA (98.0%)\n",
      "42256 ENTRIES HAVE DETAIL DATA (74.4%)\n",
      "15078 ENTRIES HAVE ANTHEM DATA (26.6%)\n",
      "...\n",
      "AVERAGE AGE IN DATA SET: 24\n",
      "NUMBER OF UNIQUE COLLEGES: 7793\n",
      "NUMBER OF UNIQUE JOBS: 9530\n",
      "NUMBER OF UNIQUE CITIES: 2793\n"
     ]
    }
   ],
   "source": [
    "data = clean(data)\n",
    "stats(data)"
   ]
  },
  {
   "cell_type": "code",
   "execution_count": null,
   "metadata": {},
   "outputs": [],
   "source": [
    "song = data.groupby('anthem').count().name.idxmax()"
   ]
  },
  {
   "cell_type": "code",
   "execution_count": 22,
   "metadata": {},
   "outputs": [
    {
     "data": {
      "text/plain": [
       "anthem\n",
       "(\"'39 - Remastered 2011\", 'Queen')                                                                                                                     1\n",
       "(\"'Cause I'm A Man\", 'Tame Impala')                                                                                                                    1\n",
       "(\"'S Wonderful\", 'João Gilberto')                                                                                                                      1\n",
       "(\"'פאוץ\", 'Noa Kirel')                                                                                                                                 1\n",
       "(\"(I Can't Get No) Satisfaction - Mono Version\", 'The Rolling Stones')                                                                                 1\n",
       "(\"(Joe Gets Kicked Out of School for Using) Drugs With Friends (But Says This Isn't a Problem)\", 'Car Seat Headrest')                                  1\n",
       "(\"(Sittin' On) The Dock Of The Bay\", 'Otis Redding')                                                                                                   1\n",
       "(\"(Sittin' On) the Dock of the Bay - Mono\", 'Otis Redding')                                                                                            1\n",
       "(\"(Sittin' On) the Dock of the Bay\", 'Otis Redding')                                                                                                   1\n",
       "(\"(You're The) Devil In Disguise\", 'Elvis Presley')                                                                                                    1\n",
       "(\"(You're The) Devil in Disguise\", 'Elvis Presley')                                                                                                    1\n",
       "(\"223's (feat. 9lokknine)\", 'YNW Melly, 9lokknine')                                                                                                    4\n",
       "(\"6's to 9's (feat. Rationale)\", 'Big Wild, Rationale')                                                                                                1\n",
       "(\"80's Comedown Machine\", 'The Strokes')                                                                                                               1\n",
       "(\"93 'Til Infinity\", 'Souls Of Mischief')                                                                                                              4\n",
       "(\"A Cruel Angel's Thesis - Director's Edit Version\", 'Shiro Sagisu, Yoko Takahashi')                                                                   1\n",
       "(\"A Detailed and Poetic Physical Threat to the Person Who Intentionally Vandalized My 1994 Dodge Intrepid Behind Kate's Apartment\", 'Pet Symmetry')    1\n",
       "(\"A Tale That Wasn't Right\", 'Helloween')                                                                                                              1\n",
       "(\"A Woman's Worth\", 'Alicia Keys')                                                                                                                     2\n",
       "(\"Aaron's Party (Come Get It)\", 'Aaron Carter')                                                                                                        1\n",
       "(\"Ain't Gon Let Up\", 'DG Yola')                                                                                                                        1\n",
       "(\"Ain't Gonna Find Love\", 'Donell Lewis')                                                                                                              1\n",
       "(\"Ain't It Fun\", 'Paramore')                                                                                                                           2\n",
       "(\"Ain't No Fun (If the Homies Cant Have None) (feat. Nate Dogg, Warren G & Kurupt)\", 'Snoop Dogg, Kurupt, Nate Dogg, Warren G')                        1\n",
       "(\"Ain't No Mountain High Enough - Mono Version\", 'Marvin Gaye, Tammi Terrell')                                                                         1\n",
       "(\"Ain't No Mountain High Enough\", 'Marvin Gaye, Tammi Terrell')                                                                                        1\n",
       "(\"Ain't No Rest for the Wicked\", 'Cage The Elephant')                                                                                                  2\n",
       "(\"Ain't No Sunshine\", 'Bill Withers')                                                                                                                  1\n",
       "(\"Ain't Nobody Like You\", 'Yung Bae, josh pan')                                                                                                        1\n",
       "(\"Ain't Nobody Takin My Baby\", 'Russ')                                                                                                                 1\n",
       "                                                                                                                                                      ..\n",
       "('Ćma', 'Clock Machine')                                                                                                                               1\n",
       "('Ε. Signaler', 'Damso')                                                                                                                               1\n",
       "('Влюбился в неё', 'Deesmi, Onlife')                                                                                                                   1\n",
       "('Зацепила', 'VERBEE')                                                                                                                                 1\n",
       "('Коронаминус', 'Gidayyat, Gazan')                                                                                                                     1\n",
       "('Мамасита', 'Jah Khalib')                                                                                                                             1\n",
       "('Миллион алых роз', 'Egor Kreed')                                                                                                                     1\n",
       "('Неон', 'Elena Temnikova')                                                                                                                            1\n",
       "('Смерти Больше Нет', 'IC3PEAK')                                                                                                                       1\n",
       "('Степь', 'Loqiemean, 104')                                                                                                                            1\n",
       "('Танцевать', 'Molchat Doma')                                                                                                                          1\n",
       "('Тарантино', 'Mot')                                                                                                                                   1\n",
       "('Тоска', 'Molchat Doma')                                                                                                                              1\n",
       "('суки я в шлеме', 'прыгай киска')                                                                                                                     1\n",
       "('וידוי', 'Yehudit Ravitz')                                                                                                                            1\n",
       "('ภาวนา', 'MEYOU')                                                                                                                                     1\n",
       "('さよならはエモーション', 'Sakanaction')                                                                                                                         1\n",
       "('グッデイ・グッバイ - 2018 Remaster', 'KIRINJI')                                                                                                               1\n",
       "('十二月的妳', 'Fire EX.')                                                                                                                                  1\n",
       "('味道 feat. Zion.T & Crush', 'Khalil Fong, Zion.T, Crush')                                                                                              1\n",
       "('夜空中最亮的星', '杨晓')                                                                                                                                      1\n",
       "('安靜', 'Jay Chou')                                                                                                                                     1\n",
       "('寒鴉少年', 'Hua Chen Yu')                                                                                                                                1\n",
       "('屍を越えてゆけ', 'AAAMYYY')                                                                                                                                 1\n",
       "('控制', 'FAZI')                                                                                                                                         1\n",
       "('連名帶姓', 'A-Mei Chang')                                                                                                                                1\n",
       "('非国民的ヒーロー', 'Seiko Oomori')                                                                                                                           1\n",
       "('내가 너의 곁에 잠시 살았다는 걸', 'Kim Yeon Woo')                                                                                                                 1\n",
       "('뻥 Bbung', 'Flowsik')                                                                                                                                 1\n",
       "('주문 Mirotic', 'TVXQ!')                                                                                                                                1\n",
       "Name: name, Length: 9214, dtype: int64"
      ]
     },
     "execution_count": 22,
     "metadata": {},
     "output_type": "execute_result"
    }
   ],
   "source": []
  },
  {
   "cell_type": "code",
   "execution_count": 30,
   "metadata": {},
   "outputs": [
    {
     "name": "stdout",
     "output_type": "stream",
     "text": [
      "Enter age group:35\n",
      "Most 35 year olds live in Los Angeles\n"
     ]
    }
   ],
   "source": [
    "age_query = int(input(\"Enter age group:\"))\n",
    "place = data.groupby('city').count().name.idxmax()\n",
    "print('Most {} year olds live in {}'.format(age_query,place))"
   ]
  },
  {
   "cell_type": "code",
   "execution_count": 18,
   "metadata": {},
   "outputs": [
    {
     "data": {
      "text/html": [
       "<div>\n",
       "<style scoped>\n",
       "    .dataframe tbody tr th:only-of-type {\n",
       "        vertical-align: middle;\n",
       "    }\n",
       "\n",
       "    .dataframe tbody tr th {\n",
       "        vertical-align: top;\n",
       "    }\n",
       "\n",
       "    .dataframe thead th {\n",
       "        text-align: right;\n",
       "    }\n",
       "</style>\n",
       "<table border=\"1\" class=\"dataframe\">\n",
       "  <thead>\n",
       "    <tr style=\"text-align: right;\">\n",
       "      <th></th>\n",
       "      <th>name</th>\n",
       "      <th>age</th>\n",
       "      <th>college</th>\n",
       "      <th>job</th>\n",
       "      <th>city</th>\n",
       "      <th>gender</th>\n",
       "      <th>distance</th>\n",
       "      <th>details</th>\n",
       "      <th>anthem</th>\n",
       "      <th>profile_pic_urls</th>\n",
       "    </tr>\n",
       "  </thead>\n",
       "  <tbody>\n",
       "    <tr>\n",
       "      <th>0</th>\n",
       "      <td>Gianna</td>\n",
       "      <td>19.0</td>\n",
       "      <td>NaN</td>\n",
       "      <td>NaN</td>\n",
       "      <td>Barnegat</td>\n",
       "      <td>NaN</td>\n",
       "      <td>2430.0</td>\n",
       "      <td>ig- _.giaannaa_\\r\\nsc- gianna8378</td>\n",
       "      <td>('Slide (Remix) (feat. Pop Smoke, A Boogie Wit...</td>\n",
       "      <td>['https://images-ssl.gotinder.com/5dc0814dfc09...</td>\n",
       "    </tr>\n",
       "    <tr>\n",
       "      <th>1</th>\n",
       "      <td>Lauren</td>\n",
       "      <td>21.0</td>\n",
       "      <td>Florida State University</td>\n",
       "      <td>NaN</td>\n",
       "      <td>NaN</td>\n",
       "      <td>NaN</td>\n",
       "      <td>1981.0</td>\n",
       "      <td>A meme</td>\n",
       "      <td>NaN</td>\n",
       "      <td>['https://images-ssl.gotinder.com/5e8a352520cc...</td>\n",
       "    </tr>\n",
       "    <tr>\n",
       "      <th>2</th>\n",
       "      <td>Britanny</td>\n",
       "      <td>19.0</td>\n",
       "      <td>Santa Ana College</td>\n",
       "      <td>Boys and girls club</td>\n",
       "      <td>Garden Grove</td>\n",
       "      <td>NaN</td>\n",
       "      <td>19.0</td>\n",
       "      <td>Get to know me ☺️ Never been to Disneyland 😅 S...</td>\n",
       "      <td>NaN</td>\n",
       "      <td>['https://images-ssl.gotinder.com/5cace3ad9b7a...</td>\n",
       "    </tr>\n",
       "    <tr>\n",
       "      <th>3</th>\n",
       "      <td>Kayla</td>\n",
       "      <td>28.0</td>\n",
       "      <td>School</td>\n",
       "      <td>NaN</td>\n",
       "      <td>Los Angeles</td>\n",
       "      <td>Woman</td>\n",
       "      <td>18.0</td>\n",
       "      <td>I am a creative person that loves simple, inno...</td>\n",
       "      <td>NaN</td>\n",
       "      <td>['https://images-ssl.gotinder.com/5e90cb67da1c...</td>\n",
       "    </tr>\n",
       "    <tr>\n",
       "      <th>4</th>\n",
       "      <td>Kimberly</td>\n",
       "      <td>18.0</td>\n",
       "      <td>California State University, Los Angeles</td>\n",
       "      <td>NaN</td>\n",
       "      <td>NaN</td>\n",
       "      <td>Woman</td>\n",
       "      <td>15.0</td>\n",
       "      <td>Just for fun\\r\\nI’m 5’2</td>\n",
       "      <td>NaN</td>\n",
       "      <td>['https://images-ssl.gotinder.com/5e0ffa53349f...</td>\n",
       "    </tr>\n",
       "  </tbody>\n",
       "</table>\n",
       "</div>"
      ],
      "text/plain": [
       "       name   age                                   college  \\\n",
       "0    Gianna  19.0                                       NaN   \n",
       "1    Lauren  21.0                  Florida State University   \n",
       "2  Britanny  19.0                         Santa Ana College   \n",
       "3     Kayla  28.0                                    School   \n",
       "4  Kimberly  18.0  California State University, Los Angeles   \n",
       "\n",
       "                   job          city gender  distance  \\\n",
       "0                  NaN      Barnegat    NaN    2430.0   \n",
       "1                  NaN           NaN    NaN    1981.0   \n",
       "2  Boys and girls club  Garden Grove    NaN      19.0   \n",
       "3                  NaN   Los Angeles  Woman      18.0   \n",
       "4                  NaN           NaN  Woman      15.0   \n",
       "\n",
       "                                             details  \\\n",
       "0                 ig- _.giaannaa_\\r\\nsc- gianna8378    \n",
       "1                                            A meme    \n",
       "2  Get to know me ☺️ Never been to Disneyland 😅 S...   \n",
       "3  I am a creative person that loves simple, inno...   \n",
       "4                           Just for fun\\r\\nI’m 5’2    \n",
       "\n",
       "                                              anthem  \\\n",
       "0  ('Slide (Remix) (feat. Pop Smoke, A Boogie Wit...   \n",
       "1                                                NaN   \n",
       "2                                                NaN   \n",
       "3                                                NaN   \n",
       "4                                                NaN   \n",
       "\n",
       "                                    profile_pic_urls  \n",
       "0  ['https://images-ssl.gotinder.com/5dc0814dfc09...  \n",
       "1  ['https://images-ssl.gotinder.com/5e8a352520cc...  \n",
       "2  ['https://images-ssl.gotinder.com/5cace3ad9b7a...  \n",
       "3  ['https://images-ssl.gotinder.com/5e90cb67da1c...  \n",
       "4  ['https://images-ssl.gotinder.com/5e0ffa53349f...  "
      ]
     },
     "execution_count": 18,
     "metadata": {},
     "output_type": "execute_result"
    }
   ],
   "source": [
    "data.head()"
   ]
  },
  {
   "cell_type": "code",
   "execution_count": 5,
   "metadata": {},
   "outputs": [],
   "source": [
    "def calc_similarity(data,category,value):\n",
    "    '''\n",
    "    Take details per user in specified dataset with category equal to value\n",
    "    Vectorize each\n",
    "    Compare each to each and calculate mean\n",
    "    Get distribution of means of all users\n",
    "    Calculate and label users based on standard deviations away from mean\n",
    "    Export report based on results (to be interactive in future)\n",
    "    '''\n",
    "\n",
    "    print(\"Calculating user similarity on dataset where {} equals {}\".format(category,value))\n",
    "    specified = data[data[category]==value]\n",
    "    specified = specified[-specified[category].isna()]\n",
    "    specified = specified[-specified['details'].isna()]\n",
    "    print(\"Found {} Users\".format(len(specified)))\n",
    "    contents = specified.details\n",
    "    \n",
    "    # Vectorize details per user\n",
    "    vectorizer, vocabulary = build_text_vectorizer(contents,\n",
    "                             use_tfidf=True,\n",
    "                             use_stemmer=True,\n",
    "                             max_features=5000)\n",
    "    X = vectorizer(contents)\n",
    "    return X\n",
    "#     means = []\n",
    "#     for each in X:\n",
    "#         #compare each to each"
   ]
  },
  {
   "cell_type": "code",
   "execution_count": 6,
   "metadata": {},
   "outputs": [
    {
     "name": "stdout",
     "output_type": "stream",
     "text": [
      "Calculating user similarity on dataset where city equals Pasadena\n",
      "Found 104 Users\n"
     ]
    }
   ],
   "source": [
    "test = calc_similarity(data,'city','Pasadena')"
   ]
  },
  {
   "cell_type": "code",
   "execution_count": 7,
   "metadata": {},
   "outputs": [],
   "source": [
    "from sklearn.metrics.pairwise import cosine_similarity\n",
    "from scipy import spatial"
   ]
  },
  {
   "cell_type": "code",
   "execution_count": 8,
   "metadata": {},
   "outputs": [],
   "source": [
    "avg1 = np.mean(test,axis=0)"
   ]
  },
  {
   "cell_type": "code",
   "execution_count": 9,
   "metadata": {
    "scrolled": true
   },
   "outputs": [
    {
     "data": {
      "text/plain": [
       "(1, 911)"
      ]
     },
     "execution_count": 9,
     "metadata": {},
     "output_type": "execute_result"
    }
   ],
   "source": [
    "avg1.reshape(1,-1).shape"
   ]
  },
  {
   "cell_type": "code",
   "execution_count": 10,
   "metadata": {},
   "outputs": [],
   "source": [
    "# AVERAGE COSINE TEST\n",
    "cosine_diff = []\n",
    "for user in test:\n",
    "    cosine_diff.append(cosine_similarity(user.reshape(1,-1),avg1.reshape(1,-1))[0][0])"
   ]
  },
  {
   "cell_type": "code",
   "execution_count": 14,
   "metadata": {},
   "outputs": [
    {
     "data": {
      "text/plain": [
       "[0.20525283374266903,\n",
       " 0.1274364541082595,\n",
       " 0.08521555433654762,\n",
       " 0.19860580973427722,\n",
       " 0.12548921118684087,\n",
       " 0.18246871997262837,\n",
       " 0.09251498359987816,\n",
       " 0.11626333959274782,\n",
       " 0.22451497451082184,\n",
       " 0.2014624365125245,\n",
       " 0.1426756442769056,\n",
       " 0.24576162276628016,\n",
       " 0.13653017261451347,\n",
       " 0.15150440721943592,\n",
       " 0.26733950471120893,\n",
       " 0.10695639042931973,\n",
       " 0.18421293419750054,\n",
       " 0.1406151401676335,\n",
       " 0.12380383644606863,\n",
       " 0.14264237891881543,\n",
       " 0.15568670103759708,\n",
       " 0.19964405631337062,\n",
       " 0.21727721293995103,\n",
       " 0.1139257272431739,\n",
       " 0.1617141255577669,\n",
       " 0.10580080809481292,\n",
       " 0.12629142738772342,\n",
       " 0.3061363966424943,\n",
       " 0.206420232368097,\n",
       " 0.19542624970219147,\n",
       " 0.18923081181685686,\n",
       " 0.2570136681711559,\n",
       " 0.12429469356615341,\n",
       " 0.11846796706186677,\n",
       " 0.1595682649583278,\n",
       " 0.17616316324062928,\n",
       " 0.07779106977994975,\n",
       " 0.08451916895872365,\n",
       " 0.19286988009948802,\n",
       " 0.10597446716446046,\n",
       " 0.188813361499436,\n",
       " 0.1431741389009595,\n",
       " 0.19750270522917862,\n",
       " 0.12151783075724065,\n",
       " 0.22073848470864058,\n",
       " 0.059414785883450394,\n",
       " 0.19983712478634658,\n",
       " 0.165226317759178,\n",
       " 0.12813233510389238,\n",
       " 0.24641087451439866,\n",
       " 0.17864317716867645,\n",
       " 0.23035356459404088,\n",
       " 0.21274087425991522,\n",
       " 0.23277392216224796,\n",
       " 0.23814245204180823,\n",
       " 0.12884327727580602,\n",
       " 0.16017782897913285,\n",
       " 0.12386839007547465,\n",
       " 0.13559890712620548,\n",
       " 0.1880783462453355,\n",
       " 0.10045619652256915,\n",
       " 0.13103387913142606,\n",
       " 0.12040919858802279,\n",
       " 0.11133133433817571,\n",
       " 0.1937039219504205,\n",
       " 0.2722061113181899,\n",
       " 0.10432393417185502,\n",
       " 0.2785038668835886,\n",
       " 0.08718184722594496,\n",
       " 0.16830236557318917,\n",
       " 0.10278882181482063,\n",
       " 0.08327332408233676,\n",
       " 0.09761892139909382,\n",
       " 0.0,\n",
       " 0.23712813128104523,\n",
       " 0.059414785883450394,\n",
       " 0.24753277093121503,\n",
       " 0.2498941963297195,\n",
       " 0.19288043043266578,\n",
       " 0.2331797537564801,\n",
       " 0.14876790898736658,\n",
       " 0.18580142867678925,\n",
       " 0.11724757097974114,\n",
       " 0.0,\n",
       " 0.09777135938661091,\n",
       " 0.17105804253074572,\n",
       " 0.06499288267476562,\n",
       " 0.14667123680526317,\n",
       " 0.1261082464266824,\n",
       " 0.2109856222430876,\n",
       " 0.09754198621376681,\n",
       " 0.21045575332386812,\n",
       " 0.18097096533266432,\n",
       " 0.14252496409702178,\n",
       " 0.23216038608581258,\n",
       " 0.15266179072906455,\n",
       " 0.13583548438050375,\n",
       " 0.2298080503268294,\n",
       " 0.07174537164054018,\n",
       " 0.200430932519054,\n",
       " 0.2901092416401631,\n",
       " 0.2217667288761693,\n",
       " 0.21377429713901042,\n",
       " 0.13500211259091863]"
      ]
     },
     "execution_count": 14,
     "metadata": {},
     "output_type": "execute_result"
    }
   ],
   "source": [
    "cosine_diff"
   ]
  },
  {
   "cell_type": "code",
   "execution_count": 12,
   "metadata": {},
   "outputs": [],
   "source": [
    "cosine_diff_each = []\n",
    "for user in test:\n",
    "    average = []\n",
    "    for other in test:\n",
    "        average.append(cosine_similarity(user.reshape(1, -1),other.reshape(1, -1))[0][0])\n",
    "    cosine_diff_each.append(np.mean(average))"
   ]
  },
  {
   "cell_type": "code",
   "execution_count": 13,
   "metadata": {},
   "outputs": [
    {
     "data": {
      "text/plain": [
       "[0.033217067275219885,\n",
       " 0.020623662983073034,\n",
       " 0.013790848826189993,\n",
       " 0.03214134695681702,\n",
       " 0.020308531162758915,\n",
       " 0.02952980300653479,\n",
       " 0.01497215106932855,\n",
       " 0.0188154633603541,\n",
       " 0.0363343534733859,\n",
       " 0.03260364880251138,\n",
       " 0.023089895462408378,\n",
       " 0.03977280219833413,\n",
       " 0.02209534380665114,\n",
       " 0.024518697234698017,\n",
       " 0.04326485608695458,\n",
       " 0.01730927437942031,\n",
       " 0.029812077702545146,\n",
       " 0.022756434031593883,\n",
       " 0.020035778747470093,\n",
       " 0.023084511967245515,\n",
       " 0.025195538243854402,\n",
       " 0.032309371465113215,\n",
       " 0.0351630312137233,\n",
       " 0.018437156151321684,\n",
       " 0.02617098575477064,\n",
       " 0.017122260853480432,\n",
       " 0.020438357723630642,\n",
       " 0.04954354635325631,\n",
       " 0.033405993089157524,\n",
       " 0.031626783247436986,\n",
       " 0.030624145314093684,\n",
       " 0.04159377559189116,\n",
       " 0.020115216549536297,\n",
       " 0.019172248977503394,\n",
       " 0.025823710666797058,\n",
       " 0.02850934400309358,\n",
       " 0.01258930827494218,\n",
       " 0.013678149383639742,\n",
       " 0.03121307348506758,\n",
       " 0.01715036494780279,\n",
       " 0.030556587292969284,\n",
       " 0.023170569278996418,\n",
       " 0.031962826173988775,\n",
       " 0.01966582329607528,\n",
       " 0.03572318570758292,\n",
       " 0.009615384615384616,\n",
       " 0.03234061667785218,\n",
       " 0.026739380950639373,\n",
       " 0.020736280798993003,\n",
       " 0.039877873775678814,\n",
       " 0.02891069675418254,\n",
       " 0.037279240986266074,\n",
       " 0.03442889339759528,\n",
       " 0.0376709392576479,\n",
       " 0.038539754634891135,\n",
       " 0.020851336038536512,\n",
       " 0.02592235938564018,\n",
       " 0.020046225776199196,\n",
       " 0.021944632570113472,\n",
       " 0.030437636189110814,\n",
       " 0.016257316292579913,\n",
       " 0.021205851822238584,\n",
       " 0.01948640794439954,\n",
       " 0.018017292892470303,\n",
       " 0.03134805054612733,\n",
       " 0.0440524427726945,\n",
       " 0.016883251142572296,\n",
       " 0.045071639275291925,\n",
       " 0.014109063595744818,\n",
       " 0.02723719277285228,\n",
       " 0.016634816421799755,\n",
       " 0.013476528230261102,\n",
       " 0.015798146219571582,\n",
       " 0.0,\n",
       " 0.03837560215848169,\n",
       " 0.009615384615384618,\n",
       " 0.0400594357452443,\n",
       " 0.0404415967361414,\n",
       " 0.031214780896948582,\n",
       " 0.03773661696412438,\n",
       " 0.024075836377599556,\n",
       " 0.030069151512551594,\n",
       " 0.018974746326635226,\n",
       " 0.0,\n",
       " 0.015822816002659706,\n",
       " 0.027683157416647116,\n",
       " 0.010518115228191193,\n",
       " 0.02373652169113668,\n",
       " 0.02040871265517781,\n",
       " 0.03414483240187218,\n",
       " 0.01578569542325253,\n",
       " 0.03405908113005866,\n",
       " 0.02928741406734074,\n",
       " 0.023065510153903842,\n",
       " 0.03757164772166706,\n",
       " 0.02470600225359371,\n",
       " 0.021982919021162742,\n",
       " 0.03719095775147151,\n",
       " 0.011610903455088568,\n",
       " 0.032436715479735805,\n",
       " 0.04694979368131869,\n",
       " 0.035889591476825446,\n",
       " 0.034596137262991516,\n",
       " 0.021848050399399268]"
      ]
     },
     "execution_count": 13,
     "metadata": {},
     "output_type": "execute_result"
    }
   ],
   "source": [
    "cosine_diff_each"
   ]
  },
  {
   "cell_type": "code",
   "execution_count": 15,
   "metadata": {},
   "outputs": [],
   "source": [
    "df = data[data.city==\"Pasadena\"]"
   ]
  },
  {
   "cell_type": "code",
   "execution_count": 16,
   "metadata": {},
   "outputs": [],
   "source": [
    "df = df[-df.details.isna()]"
   ]
  },
  {
   "cell_type": "code",
   "execution_count": 21,
   "metadata": {},
   "outputs": [],
   "source": [
    "df['cosine'] = cosine_diff_each\n",
    "df['words'] = df.details.apply(lambda x: len(x.split(' ')))"
   ]
  },
  {
   "cell_type": "code",
   "execution_count": 22,
   "metadata": {},
   "outputs": [
    {
     "data": {
      "text/html": [
       "<div>\n",
       "<style scoped>\n",
       "    .dataframe tbody tr th:only-of-type {\n",
       "        vertical-align: middle;\n",
       "    }\n",
       "\n",
       "    .dataframe tbody tr th {\n",
       "        vertical-align: top;\n",
       "    }\n",
       "\n",
       "    .dataframe thead th {\n",
       "        text-align: right;\n",
       "    }\n",
       "</style>\n",
       "<table border=\"1\" class=\"dataframe\">\n",
       "  <thead>\n",
       "    <tr style=\"text-align: right;\">\n",
       "      <th></th>\n",
       "      <th>name</th>\n",
       "      <th>age</th>\n",
       "      <th>college</th>\n",
       "      <th>job</th>\n",
       "      <th>city</th>\n",
       "      <th>gender</th>\n",
       "      <th>distance</th>\n",
       "      <th>details</th>\n",
       "      <th>anthem</th>\n",
       "      <th>profile_pic_urls</th>\n",
       "      <th>cosine</th>\n",
       "      <th>words</th>\n",
       "    </tr>\n",
       "  </thead>\n",
       "  <tbody>\n",
       "    <tr>\n",
       "      <th>42023</th>\n",
       "      <td>Jasi</td>\n",
       "      <td>29.0</td>\n",
       "      <td>NaN</td>\n",
       "      <td>Fashion Stylist</td>\n",
       "      <td>Pasadena</td>\n",
       "      <td>NaN</td>\n",
       "      <td>2.0</td>\n",
       "      <td>🦂</td>\n",
       "      <td>NaN</td>\n",
       "      <td>['https://images-ssl.gotinder.com/5e779a19e073...</td>\n",
       "      <td>0.000000</td>\n",
       "      <td>2</td>\n",
       "    </tr>\n",
       "    <tr>\n",
       "      <th>48433</th>\n",
       "      <td>Bianca</td>\n",
       "      <td>28.0</td>\n",
       "      <td>Mount Saint Mary's University</td>\n",
       "      <td>Nursing student</td>\n",
       "      <td>Pasadena</td>\n",
       "      <td>NaN</td>\n",
       "      <td>6.0</td>\n",
       "      <td>🇷🇴</td>\n",
       "      <td>('Crashing (feat. Bahari)', 'ILLENIUM, Bahari')</td>\n",
       "      <td>['https://images-ssl.gotinder.com/5d671ba066ef...</td>\n",
       "      <td>0.000000</td>\n",
       "      <td>2</td>\n",
       "    </tr>\n",
       "    <tr>\n",
       "      <th>21872</th>\n",
       "      <td>Mimi</td>\n",
       "      <td>30.0</td>\n",
       "      <td>NaN</td>\n",
       "      <td>Nurse at Kaiser Permanente</td>\n",
       "      <td>Pasadena</td>\n",
       "      <td>Woman</td>\n",
       "      <td>2.0</td>\n",
       "      <td>Hold the vision, trust the process ❤️</td>\n",
       "      <td>NaN</td>\n",
       "      <td>['https://images-ssl.gotinder.com/5e93aa1d7f69...</td>\n",
       "      <td>0.009615</td>\n",
       "      <td>8</td>\n",
       "    </tr>\n",
       "    <tr>\n",
       "      <th>43093</th>\n",
       "      <td>Jasmine</td>\n",
       "      <td>24.0</td>\n",
       "      <td>California State University, Los Angeles</td>\n",
       "      <td>NaN</td>\n",
       "      <td>Pasadena</td>\n",
       "      <td>NaN</td>\n",
       "      <td>3.0</td>\n",
       "      <td>Reggae ❤️ Vegetarian 🌱</td>\n",
       "      <td>('Fish in the Sea', 'Common Kings, Marc E. Bas...</td>\n",
       "      <td>['https://images-ssl.gotinder.com/5daa6e811f45...</td>\n",
       "      <td>0.009615</td>\n",
       "      <td>5</td>\n",
       "    </tr>\n",
       "    <tr>\n",
       "      <th>48938</th>\n",
       "      <td>Kristen</td>\n",
       "      <td>29.0</td>\n",
       "      <td>NaN</td>\n",
       "      <td>Marriage and Family Therapist at Non-Profit</td>\n",
       "      <td>Pasadena</td>\n",
       "      <td>Woman</td>\n",
       "      <td>11.0</td>\n",
       "      <td>No Wit\\nNo Banter\\nNo Chance</td>\n",
       "      <td>(\"Don't Stand So Close To Me\", 'The Police')</td>\n",
       "      <td>['https://images-ssl.gotinder.com/5e49ef688d8b...</td>\n",
       "      <td>0.010518</td>\n",
       "      <td>5</td>\n",
       "    </tr>\n",
       "    <tr>\n",
       "      <th>53776</th>\n",
       "      <td>Katheryn</td>\n",
       "      <td>24.0</td>\n",
       "      <td>NaN</td>\n",
       "      <td>NaN</td>\n",
       "      <td>Pasadena</td>\n",
       "      <td>Woman</td>\n",
       "      <td>5.0</td>\n",
       "      <td>Overthinking is my mood.</td>\n",
       "      <td>('Bird Set Free', 'Sia')</td>\n",
       "      <td>['https://images-ssl.gotinder.com/5e7422d7066b...</td>\n",
       "      <td>0.011611</td>\n",
       "      <td>5</td>\n",
       "    </tr>\n",
       "    <tr>\n",
       "      <th>16706</th>\n",
       "      <td>Anays</td>\n",
       "      <td>25.0</td>\n",
       "      <td>Pasadena City College</td>\n",
       "      <td>NaN</td>\n",
       "      <td>Pasadena</td>\n",
       "      <td>NaN</td>\n",
       "      <td>2.0</td>\n",
       "      <td>Hi I’m Kobe’s WCW 💜 💛</td>\n",
       "      <td>NaN</td>\n",
       "      <td>['https://images-ssl.gotinder.com/5d70657118f4...</td>\n",
       "      <td>0.012589</td>\n",
       "      <td>7</td>\n",
       "    </tr>\n",
       "    <tr>\n",
       "      <th>35585</th>\n",
       "      <td>Tisha</td>\n",
       "      <td>19.0</td>\n",
       "      <td>NaN</td>\n",
       "      <td>NaN</td>\n",
       "      <td>Pasadena</td>\n",
       "      <td>Woman</td>\n",
       "      <td>2.0</td>\n",
       "      <td>i’m bored 😗</td>\n",
       "      <td>('Youngblood', '5 Seconds of Summer')</td>\n",
       "      <td>['https://images-ssl.gotinder.com/5e96ac783268...</td>\n",
       "      <td>0.013477</td>\n",
       "      <td>4</td>\n",
       "    </tr>\n",
       "    <tr>\n",
       "      <th>17246</th>\n",
       "      <td>Alex</td>\n",
       "      <td>30.0</td>\n",
       "      <td>NaN</td>\n",
       "      <td>Postdoc at Caltech</td>\n",
       "      <td>Pasadena</td>\n",
       "      <td>NaN</td>\n",
       "      <td>2.0</td>\n",
       "      <td>The outdoors and physics</td>\n",
       "      <td>NaN</td>\n",
       "      <td>['https://images-ssl.gotinder.com/5d313bd427a9...</td>\n",
       "      <td>0.013678</td>\n",
       "      <td>5</td>\n",
       "    </tr>\n",
       "    <tr>\n",
       "      <th>2402</th>\n",
       "      <td>Kelly</td>\n",
       "      <td>28.0</td>\n",
       "      <td>University of Southern California</td>\n",
       "      <td>2nd Grade Teacher at Private Christian school</td>\n",
       "      <td>Pasadena</td>\n",
       "      <td>NaN</td>\n",
       "      <td>4.0</td>\n",
       "      <td>2nd grade teacher 🍎 ,Christian 🙏 ,creative 🎨 s...</td>\n",
       "      <td>NaN</td>\n",
       "      <td>['https://images-ssl.gotinder.com/5c720084f8d6...</td>\n",
       "      <td>0.013791</td>\n",
       "      <td>31</td>\n",
       "    </tr>\n",
       "    <tr>\n",
       "      <th>32185</th>\n",
       "      <td>Dolly</td>\n",
       "      <td>20.0</td>\n",
       "      <td>Pasadena City College</td>\n",
       "      <td>Student</td>\n",
       "      <td>Pasadena</td>\n",
       "      <td>NaN</td>\n",
       "      <td>2.0</td>\n",
       "      <td>Chinese. Fairly British + British accent. Acti...</td>\n",
       "      <td>NaN</td>\n",
       "      <td>['https://images-ssl.gotinder.com/5e895d6f4aed...</td>\n",
       "      <td>0.014109</td>\n",
       "      <td>11</td>\n",
       "    </tr>\n",
       "    <tr>\n",
       "      <th>4205</th>\n",
       "      <td>Wailana</td>\n",
       "      <td>29.0</td>\n",
       "      <td>Azusa Pacific University</td>\n",
       "      <td>Behavior Analyst</td>\n",
       "      <td>Pasadena</td>\n",
       "      <td>Woman</td>\n",
       "      <td>2.0</td>\n",
       "      <td>Originally from Hawaii but have been in LA for...</td>\n",
       "      <td>NaN</td>\n",
       "      <td>['https://images-ssl.gotinder.com/5e3634142aa3...</td>\n",
       "      <td>0.014972</td>\n",
       "      <td>14</td>\n",
       "    </tr>\n",
       "    <tr>\n",
       "      <th>52257</th>\n",
       "      <td>Feliciana</td>\n",
       "      <td>42.0</td>\n",
       "      <td>Pitzer College</td>\n",
       "      <td>NaN</td>\n",
       "      <td>Pasadena</td>\n",
       "      <td>Woman</td>\n",
       "      <td>2.0</td>\n",
       "      <td>Highly intellectual, and, spiritually inclined...</td>\n",
       "      <td>('Sufi Woman', 'Jidenna')</td>\n",
       "      <td>['https://images-ssl.gotinder.com/5e1e78ae8b7d...</td>\n",
       "      <td>0.015786</td>\n",
       "      <td>38</td>\n",
       "    </tr>\n",
       "    <tr>\n",
       "      <th>35673</th>\n",
       "      <td>Kenia</td>\n",
       "      <td>28.0</td>\n",
       "      <td>NaN</td>\n",
       "      <td>Designer Ambassador</td>\n",
       "      <td>Pasadena</td>\n",
       "      <td>NaN</td>\n",
       "      <td>11.0</td>\n",
       "      <td>Not great at this bio part so just ask ☺️  🇲🇽</td>\n",
       "      <td>NaN</td>\n",
       "      <td>['https://images-ssl.gotinder.com/5e8a498476e5...</td>\n",
       "      <td>0.015798</td>\n",
       "      <td>13</td>\n",
       "    </tr>\n",
       "    <tr>\n",
       "      <th>48537</th>\n",
       "      <td>Holly</td>\n",
       "      <td>32.0</td>\n",
       "      <td>NaN</td>\n",
       "      <td>NaN</td>\n",
       "      <td>Pasadena</td>\n",
       "      <td>NaN</td>\n",
       "      <td>3.0</td>\n",
       "      <td>CEO &amp; Founder. Yogi. Dog mom.</td>\n",
       "      <td>NaN</td>\n",
       "      <td>['https://images-ssl.gotinder.com/5e8edf1b0571...</td>\n",
       "      <td>0.015823</td>\n",
       "      <td>7</td>\n",
       "    </tr>\n",
       "    <tr>\n",
       "      <th>28994</th>\n",
       "      <td>Sav</td>\n",
       "      <td>21.0</td>\n",
       "      <td>NaN</td>\n",
       "      <td>NaN</td>\n",
       "      <td>Pasadena</td>\n",
       "      <td>Gender Fluid</td>\n",
       "      <td>2.0</td>\n",
       "      <td>sav rose. 21. city of roses. multi-racial. plu...</td>\n",
       "      <td>('Wake Up', 'The Green')</td>\n",
       "      <td>['https://images-ssl.gotinder.com/568ef80485d2...</td>\n",
       "      <td>0.016257</td>\n",
       "      <td>32</td>\n",
       "    </tr>\n",
       "    <tr>\n",
       "      <th>35526</th>\n",
       "      <td>Caroline</td>\n",
       "      <td>29.0</td>\n",
       "      <td>UC Davis</td>\n",
       "      <td>Hair Stylist at A Hair Salon</td>\n",
       "      <td>Pasadena</td>\n",
       "      <td>NaN</td>\n",
       "      <td>3.0</td>\n",
       "      <td>Human connection anyone? Let’s FaceTime throug...</td>\n",
       "      <td>('A Better Son/Daughter', 'Rilo Kiley')</td>\n",
       "      <td>['https://images-ssl.gotinder.com/5396bb5d381d...</td>\n",
       "      <td>0.016635</td>\n",
       "      <td>9</td>\n",
       "    </tr>\n",
       "    <tr>\n",
       "      <th>30787</th>\n",
       "      <td>Desi</td>\n",
       "      <td>26.0</td>\n",
       "      <td>NaN</td>\n",
       "      <td>NaN</td>\n",
       "      <td>Pasadena</td>\n",
       "      <td>NaN</td>\n",
       "      <td>2.0</td>\n",
       "      <td>✨ i am a man dressed as a woman. 🤫 your secret...</td>\n",
       "      <td>('My Neck, My Back (Lick It)', 'Khia')</td>\n",
       "      <td>['https://images-ssl.gotinder.com/5e744de0e073...</td>\n",
       "      <td>0.016883</td>\n",
       "      <td>23</td>\n",
       "    </tr>\n",
       "    <tr>\n",
       "      <th>12740</th>\n",
       "      <td>Audrey</td>\n",
       "      <td>24.0</td>\n",
       "      <td>NaN</td>\n",
       "      <td>Illustrator</td>\n",
       "      <td>Pasadena</td>\n",
       "      <td>NaN</td>\n",
       "      <td>4.0</td>\n",
       "      <td>🌟 Full-time designer; creator of pins, earring...</td>\n",
       "      <td>('Moonlight', 'Ariana Grande')</td>\n",
       "      <td>['https://images-ssl.gotinder.com/5ddf076b5cb5...</td>\n",
       "      <td>0.017122</td>\n",
       "      <td>16</td>\n",
       "    </tr>\n",
       "    <tr>\n",
       "      <th>17581</th>\n",
       "      <td>Sara</td>\n",
       "      <td>34.0</td>\n",
       "      <td>NaN</td>\n",
       "      <td>NaN</td>\n",
       "      <td>Pasadena</td>\n",
       "      <td>NaN</td>\n",
       "      <td>2.0</td>\n",
       "      <td>Everything is terrible but at least we can sti...</td>\n",
       "      <td>('Total Eclipse of the Heart', 'Bonnie Tyler')</td>\n",
       "      <td>['https://images-ssl.gotinder.com/5325120405f7...</td>\n",
       "      <td>0.017150</td>\n",
       "      <td>26</td>\n",
       "    </tr>\n",
       "    <tr>\n",
       "      <th>8007</th>\n",
       "      <td>Maya</td>\n",
       "      <td>37.0</td>\n",
       "      <td>NaN</td>\n",
       "      <td>NaN</td>\n",
       "      <td>Pasadena</td>\n",
       "      <td>NaN</td>\n",
       "      <td>2.0</td>\n",
       "      <td>You can't buy happiness, but you can buy dough...</td>\n",
       "      <td>NaN</td>\n",
       "      <td>['https://images-ssl.gotinder.com/5e1385829bca...</td>\n",
       "      <td>0.017309</td>\n",
       "      <td>17</td>\n",
       "    </tr>\n",
       "    <tr>\n",
       "      <th>29728</th>\n",
       "      <td>Carolyn</td>\n",
       "      <td>30.0</td>\n",
       "      <td>NaN</td>\n",
       "      <td>Quality Engineer</td>\n",
       "      <td>Pasadena</td>\n",
       "      <td>NaN</td>\n",
       "      <td>3.0</td>\n",
       "      <td>Snowboarder, hiker, biker, sunburner 🤦🏻‍♀️ 🤷🏻‍...</td>\n",
       "      <td>NaN</td>\n",
       "      <td>['https://images-ssl.gotinder.com/564fce7e5dec...</td>\n",
       "      <td>0.018017</td>\n",
       "      <td>18</td>\n",
       "    </tr>\n",
       "    <tr>\n",
       "      <th>11572</th>\n",
       "      <td>Mickey</td>\n",
       "      <td>33.0</td>\n",
       "      <td>College for Creative Studies</td>\n",
       "      <td>NaN</td>\n",
       "      <td>Pasadena</td>\n",
       "      <td>NaN</td>\n",
       "      <td>2.0</td>\n",
       "      <td>Day 18, am cutie in quarantine. What’s up?</td>\n",
       "      <td>NaN</td>\n",
       "      <td>['https://images-ssl.gotinder.com/5e7c4edb0081...</td>\n",
       "      <td>0.018437</td>\n",
       "      <td>9</td>\n",
       "    </tr>\n",
       "    <tr>\n",
       "      <th>4797</th>\n",
       "      <td>Jordyn</td>\n",
       "      <td>29.0</td>\n",
       "      <td>Arizona State University</td>\n",
       "      <td>NaN</td>\n",
       "      <td>Pasadena</td>\n",
       "      <td>Trans Woman</td>\n",
       "      <td>2.0</td>\n",
       "      <td>Trans girl tomboy. Bi. Poly. Anti-capitalist. ...</td>\n",
       "      <td>('Gemini', 'Boards of Canada')</td>\n",
       "      <td>['https://images-ssl.gotinder.com/5ca306917300...</td>\n",
       "      <td>0.018815</td>\n",
       "      <td>20</td>\n",
       "    </tr>\n",
       "    <tr>\n",
       "      <th>48382</th>\n",
       "      <td>Tamar</td>\n",
       "      <td>22.0</td>\n",
       "      <td>NaN</td>\n",
       "      <td>NaN</td>\n",
       "      <td>Pasadena</td>\n",
       "      <td>NaN</td>\n",
       "      <td>4.0</td>\n",
       "      <td>Quarantine sucks :( what’s the move?</td>\n",
       "      <td>NaN</td>\n",
       "      <td>['https://images-ssl.gotinder.com/5bc2e644f7c7...</td>\n",
       "      <td>0.018975</td>\n",
       "      <td>7</td>\n",
       "    </tr>\n",
       "    <tr>\n",
       "      <th>15960</th>\n",
       "      <td>Jessica</td>\n",
       "      <td>29.0</td>\n",
       "      <td>University of Richmond</td>\n",
       "      <td>Private Investigator at Media Industry</td>\n",
       "      <td>Pasadena</td>\n",
       "      <td>Woman</td>\n",
       "      <td>3.0</td>\n",
       "      <td>Runner\\r\\nSoutherner \\r\\nBeer Enthusiast \\r\\nS...</td>\n",
       "      <td>NaN</td>\n",
       "      <td>['https://images-ssl.gotinder.com/5d4a4b822dbf...</td>\n",
       "      <td>0.019172</td>\n",
       "      <td>16</td>\n",
       "    </tr>\n",
       "    <tr>\n",
       "      <th>29524</th>\n",
       "      <td>Amy</td>\n",
       "      <td>25.0</td>\n",
       "      <td>Mount Wachusett Community College</td>\n",
       "      <td>in home caregiver</td>\n",
       "      <td>Pasadena</td>\n",
       "      <td>Woman</td>\n",
       "      <td>2.0</td>\n",
       "      <td>I just want to be wine &amp; dined &amp; texted period...</td>\n",
       "      <td>('Spaceship', 'Kesha')</td>\n",
       "      <td>['https://images-ssl.gotinder.com/5e1651fb906e...</td>\n",
       "      <td>0.019486</td>\n",
       "      <td>13</td>\n",
       "    </tr>\n",
       "    <tr>\n",
       "      <th>19222</th>\n",
       "      <td>Aja</td>\n",
       "      <td>22.0</td>\n",
       "      <td>Monmouth University</td>\n",
       "      <td>sugar baby</td>\n",
       "      <td>Pasadena</td>\n",
       "      <td>NaN</td>\n",
       "      <td>2.0</td>\n",
       "      <td>just quarantine browsin</td>\n",
       "      <td>NaN</td>\n",
       "      <td>['https://images-ssl.gotinder.com/597708618592...</td>\n",
       "      <td>0.019666</td>\n",
       "      <td>4</td>\n",
       "    </tr>\n",
       "    <tr>\n",
       "      <th>9700</th>\n",
       "      <td>Clarissa</td>\n",
       "      <td>23.0</td>\n",
       "      <td>Cal Poly Pomona</td>\n",
       "      <td>Veterinary Technician</td>\n",
       "      <td>Pasadena</td>\n",
       "      <td>NaN</td>\n",
       "      <td>4.0</td>\n",
       "      <td>Sometimes I like to wear stretchy pants in my ...</td>\n",
       "      <td>('Ocean Drive', 'Duke Dumont')</td>\n",
       "      <td>['https://images-ssl.gotinder.com/594b4b9cdd1c...</td>\n",
       "      <td>0.020036</td>\n",
       "      <td>14</td>\n",
       "    </tr>\n",
       "    <tr>\n",
       "      <th>28543</th>\n",
       "      <td>Lynae</td>\n",
       "      <td>31.0</td>\n",
       "      <td>Pasadena City College</td>\n",
       "      <td>Preschool Teacher at Teacher</td>\n",
       "      <td>Pasadena</td>\n",
       "      <td>Woman</td>\n",
       "      <td>6.0</td>\n",
       "      <td>I'm a preschool teacher! I have a calico cat t...</td>\n",
       "      <td>NaN</td>\n",
       "      <td>['https://images-ssl.gotinder.com/59505f03d108...</td>\n",
       "      <td>0.020046</td>\n",
       "      <td>22</td>\n",
       "    </tr>\n",
       "    <tr>\n",
       "      <th>...</th>\n",
       "      <td>...</td>\n",
       "      <td>...</td>\n",
       "      <td>...</td>\n",
       "      <td>...</td>\n",
       "      <td>...</td>\n",
       "      <td>...</td>\n",
       "      <td>...</td>\n",
       "      <td>...</td>\n",
       "      <td>...</td>\n",
       "      <td>...</td>\n",
       "      <td>...</td>\n",
       "      <td>...</td>\n",
       "    </tr>\n",
       "    <tr>\n",
       "      <th>21980</th>\n",
       "      <td>April</td>\n",
       "      <td>24.0</td>\n",
       "      <td>North-West College-Glendale</td>\n",
       "      <td>Student. Your future Nurse.</td>\n",
       "      <td>Pasadena</td>\n",
       "      <td>NaN</td>\n",
       "      <td>3.0</td>\n",
       "      <td>Asian. Petite. 4'11. 97lbs. Certified Muslim. ...</td>\n",
       "      <td>('South of the Border (feat. Camila Cabello &amp; ...</td>\n",
       "      <td>['https://images-ssl.gotinder.com/5dce3963438b...</td>\n",
       "      <td>0.032341</td>\n",
       "      <td>88</td>\n",
       "    </tr>\n",
       "    <tr>\n",
       "      <th>53820</th>\n",
       "      <td>Evergreen</td>\n",
       "      <td>33.0</td>\n",
       "      <td>NaN</td>\n",
       "      <td>NaN</td>\n",
       "      <td>Pasadena</td>\n",
       "      <td>Woman</td>\n",
       "      <td>2.0</td>\n",
       "      <td>Call me weird but, talking on the phone, FaceT...</td>\n",
       "      <td>('Surefire', 'John Legend')</td>\n",
       "      <td>['https://images-ssl.gotinder.com/59811e07fa29...</td>\n",
       "      <td>0.032437</td>\n",
       "      <td>98</td>\n",
       "    </tr>\n",
       "    <tr>\n",
       "      <th>6674</th>\n",
       "      <td>Nicole</td>\n",
       "      <td>29.0</td>\n",
       "      <td>NaN</td>\n",
       "      <td>NaN</td>\n",
       "      <td>Pasadena</td>\n",
       "      <td>NaN</td>\n",
       "      <td>3.0</td>\n",
       "      <td>Just looking for my 👽 to explore the 🌎 with</td>\n",
       "      <td>NaN</td>\n",
       "      <td>['https://images-ssl.gotinder.com/5b1d9b80a56e...</td>\n",
       "      <td>0.032604</td>\n",
       "      <td>11</td>\n",
       "    </tr>\n",
       "    <tr>\n",
       "      <th>941</th>\n",
       "      <td>Amy</td>\n",
       "      <td>23.0</td>\n",
       "      <td>Pasadena City College</td>\n",
       "      <td>NaN</td>\n",
       "      <td>Pasadena</td>\n",
       "      <td>NaN</td>\n",
       "      <td>2.0</td>\n",
       "      <td>Hi :) all lot of guys have ask why I don’t sho...</td>\n",
       "      <td>NaN</td>\n",
       "      <td>['https://images-ssl.gotinder.com/55e65c30cd28...</td>\n",
       "      <td>0.033217</td>\n",
       "      <td>60</td>\n",
       "    </tr>\n",
       "    <tr>\n",
       "      <th>13479</th>\n",
       "      <td>Maddie</td>\n",
       "      <td>31.0</td>\n",
       "      <td>NaN</td>\n",
       "      <td>Casting assistant at Dan Bell Casting</td>\n",
       "      <td>Pasadena</td>\n",
       "      <td>NaN</td>\n",
       "      <td>3.0</td>\n",
       "      <td>I’m a sports loving, beach going, tequila and ...</td>\n",
       "      <td>('Dreams - 2004 Remaster', 'Fleetwood Mac')</td>\n",
       "      <td>['https://images-ssl.gotinder.com/510aa3b66776...</td>\n",
       "      <td>0.033406</td>\n",
       "      <td>39</td>\n",
       "    </tr>\n",
       "    <tr>\n",
       "      <th>52564</th>\n",
       "      <td>Jennifer</td>\n",
       "      <td>26.0</td>\n",
       "      <td>University of Southern California</td>\n",
       "      <td>NaN</td>\n",
       "      <td>Pasadena</td>\n",
       "      <td>NaN</td>\n",
       "      <td>2.0</td>\n",
       "      <td>Currently in Beijing on vacation. Lives in LA....</td>\n",
       "      <td>NaN</td>\n",
       "      <td>['https://images-ssl.gotinder.com/5bcab67b1474...</td>\n",
       "      <td>0.034059</td>\n",
       "      <td>21</td>\n",
       "    </tr>\n",
       "    <tr>\n",
       "      <th>51631</th>\n",
       "      <td>Jessica</td>\n",
       "      <td>24.0</td>\n",
       "      <td>NaN</td>\n",
       "      <td>NaN</td>\n",
       "      <td>Pasadena</td>\n",
       "      <td>Woman</td>\n",
       "      <td>7.0</td>\n",
       "      <td>Honestly living in the wrong state! Should hav...</td>\n",
       "      <td>('Night Train', 'Jason Aldean')</td>\n",
       "      <td>['https://images-ssl.gotinder.com/5ad2ee917aaf...</td>\n",
       "      <td>0.034145</td>\n",
       "      <td>75</td>\n",
       "    </tr>\n",
       "    <tr>\n",
       "      <th>24274</th>\n",
       "      <td>Pyren</td>\n",
       "      <td>31.0</td>\n",
       "      <td>Capella University</td>\n",
       "      <td>eSports, Motorcycle Racer, Military</td>\n",
       "      <td>Pasadena</td>\n",
       "      <td>NaN</td>\n",
       "      <td>2.0</td>\n",
       "      <td>Former Overwatch Coach &amp; Analyst, motorcycle e...</td>\n",
       "      <td>NaN</td>\n",
       "      <td>['https://images-ssl.gotinder.com/5aae2fb3500a...</td>\n",
       "      <td>0.034429</td>\n",
       "      <td>23</td>\n",
       "    </tr>\n",
       "    <tr>\n",
       "      <th>55312</th>\n",
       "      <td>Kelly</td>\n",
       "      <td>25.0</td>\n",
       "      <td>NaN</td>\n",
       "      <td>Assistant Store Manager</td>\n",
       "      <td>Pasadena</td>\n",
       "      <td>Woman</td>\n",
       "      <td>2.0</td>\n",
       "      <td>Looking for someone I can vibe with and go on ...</td>\n",
       "      <td>('hot girl bummer', 'blackbear')</td>\n",
       "      <td>['https://images-ssl.gotinder.com/5df084d78555...</td>\n",
       "      <td>0.034596</td>\n",
       "      <td>40</td>\n",
       "    </tr>\n",
       "    <tr>\n",
       "      <th>11511</th>\n",
       "      <td>Kelly</td>\n",
       "      <td>31.0</td>\n",
       "      <td>San Diego State University</td>\n",
       "      <td>Sales &amp; Marketing Manager at Fashion Industry</td>\n",
       "      <td>Pasadena</td>\n",
       "      <td>Woman</td>\n",
       "      <td>3.0</td>\n",
       "      <td>Looking for that special person who I can make...</td>\n",
       "      <td>('Yummy', 'Justin Bieber')</td>\n",
       "      <td>['https://images-ssl.gotinder.com/5e5b74364ef8...</td>\n",
       "      <td>0.035163</td>\n",
       "      <td>16</td>\n",
       "    </tr>\n",
       "    <tr>\n",
       "      <th>20811</th>\n",
       "      <td>Julie anne</td>\n",
       "      <td>24.0</td>\n",
       "      <td>Auburn University</td>\n",
       "      <td>Actor</td>\n",
       "      <td>Pasadena</td>\n",
       "      <td>Woman</td>\n",
       "      <td>1827.0</td>\n",
       "      <td>I really love Jesus and people!\\r\\nYes I’m rea...</td>\n",
       "      <td>NaN</td>\n",
       "      <td>['https://images-ssl.gotinder.com/5e6669fc0f87...</td>\n",
       "      <td>0.035723</td>\n",
       "      <td>11</td>\n",
       "    </tr>\n",
       "    <tr>\n",
       "      <th>54838</th>\n",
       "      <td>Lashante</td>\n",
       "      <td>29.0</td>\n",
       "      <td>NaN</td>\n",
       "      <td>Sales floor Team Member at Target</td>\n",
       "      <td>Pasadena</td>\n",
       "      <td>NaN</td>\n",
       "      <td>13.0</td>\n",
       "      <td>Hello My name is Lashante I’m 29 years old I’m...</td>\n",
       "      <td>('Woah', 'Lil Baby')</td>\n",
       "      <td>['https://images-ssl.gotinder.com/5c69d8f5da90...</td>\n",
       "      <td>0.035890</td>\n",
       "      <td>38</td>\n",
       "    </tr>\n",
       "    <tr>\n",
       "      <th>5994</th>\n",
       "      <td>Juliane</td>\n",
       "      <td>33.0</td>\n",
       "      <td>NaN</td>\n",
       "      <td>Musician</td>\n",
       "      <td>Pasadena</td>\n",
       "      <td>NaN</td>\n",
       "      <td>2.0</td>\n",
       "      <td>Hi! I'm Juliane. What you see is what you get ...</td>\n",
       "      <td>NaN</td>\n",
       "      <td>['https://images-ssl.gotinder.com/5e0b036be089...</td>\n",
       "      <td>0.036334</td>\n",
       "      <td>38</td>\n",
       "    </tr>\n",
       "    <tr>\n",
       "      <th>53676</th>\n",
       "      <td>Ovsanna</td>\n",
       "      <td>27.0</td>\n",
       "      <td>University of California, Irvine</td>\n",
       "      <td>NaN</td>\n",
       "      <td>Pasadena</td>\n",
       "      <td>NaN</td>\n",
       "      <td>2.0</td>\n",
       "      <td>Hi there, I love watching sports, enjoying my ...</td>\n",
       "      <td>NaN</td>\n",
       "      <td>['https://images-ssl.gotinder.com/5e8ffd2bca5e...</td>\n",
       "      <td>0.037191</td>\n",
       "      <td>29</td>\n",
       "    </tr>\n",
       "    <tr>\n",
       "      <th>24229</th>\n",
       "      <td>Katy</td>\n",
       "      <td>28.0</td>\n",
       "      <td>California State University, San Marcos</td>\n",
       "      <td>Social worker at Health Right 360</td>\n",
       "      <td>Pasadena</td>\n",
       "      <td>NaN</td>\n",
       "      <td>4.0</td>\n",
       "      <td>Masters grad 🎓 👩‍🎓 GOAL digger, helping others...</td>\n",
       "      <td>NaN</td>\n",
       "      <td>['https://images-ssl.gotinder.com/592c7fe21481...</td>\n",
       "      <td>0.037279</td>\n",
       "      <td>40</td>\n",
       "    </tr>\n",
       "    <tr>\n",
       "      <th>52919</th>\n",
       "      <td>Michelle</td>\n",
       "      <td>24.0</td>\n",
       "      <td>NaN</td>\n",
       "      <td>NaN</td>\n",
       "      <td>Pasadena</td>\n",
       "      <td>NaN</td>\n",
       "      <td>6.0</td>\n",
       "      <td>Guatemalan &amp; Mexican\\nI like being outdoors. I...</td>\n",
       "      <td>NaN</td>\n",
       "      <td>['https://images-ssl.gotinder.com/5cbc19e3654f...</td>\n",
       "      <td>0.037572</td>\n",
       "      <td>33</td>\n",
       "    </tr>\n",
       "    <tr>\n",
       "      <th>25264</th>\n",
       "      <td>Day</td>\n",
       "      <td>21.0</td>\n",
       "      <td>NaN</td>\n",
       "      <td>Employed</td>\n",
       "      <td>Pasadena</td>\n",
       "      <td>NaN</td>\n",
       "      <td>3.0</td>\n",
       "      <td>full name is Daylyn, but you can call me Day 🌞...</td>\n",
       "      <td>('LOYAL (feat. Drake)', 'PARTYNEXTDOOR, Drake')</td>\n",
       "      <td>['https://images-ssl.gotinder.com/5e20f6f18f41...</td>\n",
       "      <td>0.037671</td>\n",
       "      <td>51</td>\n",
       "    </tr>\n",
       "    <tr>\n",
       "      <th>43980</th>\n",
       "      <td>Kelli</td>\n",
       "      <td>29.0</td>\n",
       "      <td>NaN</td>\n",
       "      <td>NaN</td>\n",
       "      <td>Pasadena</td>\n",
       "      <td>NaN</td>\n",
       "      <td>18.0</td>\n",
       "      <td>Looking for something real...</td>\n",
       "      <td>NaN</td>\n",
       "      <td>['https://images-ssl.gotinder.com/5e9a8695d93a...</td>\n",
       "      <td>0.037737</td>\n",
       "      <td>5</td>\n",
       "    </tr>\n",
       "    <tr>\n",
       "      <th>43045</th>\n",
       "      <td>Brooke</td>\n",
       "      <td>41.0</td>\n",
       "      <td>NaN</td>\n",
       "      <td>Currently, I pour paint because it is fun. Pre...</td>\n",
       "      <td>Pasadena</td>\n",
       "      <td>NaN</td>\n",
       "      <td>2.0</td>\n",
       "      <td>Looking for a good time; nothing too serious. ...</td>\n",
       "      <td>NaN</td>\n",
       "      <td>['https://images-ssl.gotinder.com/5cecd1017ea0...</td>\n",
       "      <td>0.038376</td>\n",
       "      <td>82</td>\n",
       "    </tr>\n",
       "    <tr>\n",
       "      <th>26296</th>\n",
       "      <td>Sky</td>\n",
       "      <td>26.0</td>\n",
       "      <td>NaN</td>\n",
       "      <td>NaN</td>\n",
       "      <td>Pasadena</td>\n",
       "      <td>Woman</td>\n",
       "      <td>3.0</td>\n",
       "      <td>Sure you're tired of swiping, so I'll get stra...</td>\n",
       "      <td>('We Are the People', 'Empire of the Sun')</td>\n",
       "      <td>['https://images-ssl.gotinder.com/5358b1ce598c...</td>\n",
       "      <td>0.038540</td>\n",
       "      <td>79</td>\n",
       "    </tr>\n",
       "    <tr>\n",
       "      <th>6856</th>\n",
       "      <td>Erica</td>\n",
       "      <td>34.0</td>\n",
       "      <td>NaN</td>\n",
       "      <td>Financial Officer at USC</td>\n",
       "      <td>Pasadena</td>\n",
       "      <td>NaN</td>\n",
       "      <td>2.0</td>\n",
       "      <td>I love to CrossFit and spend time with my fami...</td>\n",
       "      <td>NaN</td>\n",
       "      <td>['https://images-ssl.gotinder.com/5e6e57d82d6e...</td>\n",
       "      <td>0.039773</td>\n",
       "      <td>20</td>\n",
       "    </tr>\n",
       "    <tr>\n",
       "      <th>23943</th>\n",
       "      <td>Honey</td>\n",
       "      <td>27.0</td>\n",
       "      <td>Pasadena City College</td>\n",
       "      <td>Nonprofit organization</td>\n",
       "      <td>Pasadena</td>\n",
       "      <td>Woman</td>\n",
       "      <td>2.0</td>\n",
       "      <td>I’m just a thick girl out here trying to make ...</td>\n",
       "      <td>('Captain Hook', 'Megan Thee Stallion')</td>\n",
       "      <td>['https://images-ssl.gotinder.com/5e64d3cd5e9e...</td>\n",
       "      <td>0.039878</td>\n",
       "      <td>56</td>\n",
       "    </tr>\n",
       "    <tr>\n",
       "      <th>43384</th>\n",
       "      <td>Theresa</td>\n",
       "      <td>38.0</td>\n",
       "      <td>Electoral College</td>\n",
       "      <td>NaN</td>\n",
       "      <td>Pasadena</td>\n",
       "      <td>NaN</td>\n",
       "      <td>2.0</td>\n",
       "      <td>I'm in an open marriage, looking for ongoing F...</td>\n",
       "      <td>('One Time', 'Marian Hill')</td>\n",
       "      <td>['https://images-ssl.gotinder.com/579c4b8d54c9...</td>\n",
       "      <td>0.040059</td>\n",
       "      <td>92</td>\n",
       "    </tr>\n",
       "    <tr>\n",
       "      <th>43876</th>\n",
       "      <td>Elsa</td>\n",
       "      <td>19.0</td>\n",
       "      <td>NaN</td>\n",
       "      <td>Medical assistant</td>\n",
       "      <td>Pasadena</td>\n",
       "      <td>NaN</td>\n",
       "      <td>2.0</td>\n",
       "      <td>Looking for new friends to talk to</td>\n",
       "      <td>NaN</td>\n",
       "      <td>['https://images-ssl.gotinder.com/5e9aa1b2a6f1...</td>\n",
       "      <td>0.040442</td>\n",
       "      <td>8</td>\n",
       "    </tr>\n",
       "    <tr>\n",
       "      <th>15581</th>\n",
       "      <td>Allie</td>\n",
       "      <td>23.0</td>\n",
       "      <td>Azusa Pacific University</td>\n",
       "      <td>ICU RN</td>\n",
       "      <td>Pasadena</td>\n",
       "      <td>NaN</td>\n",
       "      <td>3.0</td>\n",
       "      <td>just an oncology nurse who loves margaritas, t...</td>\n",
       "      <td>NaN</td>\n",
       "      <td>['https://images-ssl.gotinder.com/5a78d97924ca...</td>\n",
       "      <td>0.041594</td>\n",
       "      <td>20</td>\n",
       "    </tr>\n",
       "    <tr>\n",
       "      <th>7531</th>\n",
       "      <td>Jessica</td>\n",
       "      <td>28.0</td>\n",
       "      <td>Cal Poly, Pomona</td>\n",
       "      <td>ECommerce at Live Nation</td>\n",
       "      <td>Pasadena</td>\n",
       "      <td>Woman</td>\n",
       "      <td>2.0</td>\n",
       "      <td>Dog mom, beer drinker, part-time hiker, full-t...</td>\n",
       "      <td>NaN</td>\n",
       "      <td>['https://images-ssl.gotinder.com/5e33c35a3e7d...</td>\n",
       "      <td>0.043265</td>\n",
       "      <td>26</td>\n",
       "    </tr>\n",
       "    <tr>\n",
       "      <th>30649</th>\n",
       "      <td>Hope</td>\n",
       "      <td>25.0</td>\n",
       "      <td>CSUN</td>\n",
       "      <td>Vet Tech</td>\n",
       "      <td>Pasadena</td>\n",
       "      <td>NaN</td>\n",
       "      <td>1.0</td>\n",
       "      <td>Let’s watch a movie and have some wine\\r\\nI’m ...</td>\n",
       "      <td>(\"Why Should I Worry - from 'Oliver &amp; Company'...</td>\n",
       "      <td>['https://images-ssl.gotinder.com/564603f2c01e...</td>\n",
       "      <td>0.044052</td>\n",
       "      <td>90</td>\n",
       "    </tr>\n",
       "    <tr>\n",
       "      <th>31387</th>\n",
       "      <td>Lara</td>\n",
       "      <td>36.0</td>\n",
       "      <td>UCLA</td>\n",
       "      <td>Personal trainer at Independent</td>\n",
       "      <td>Pasadena</td>\n",
       "      <td>NaN</td>\n",
       "      <td>2.0</td>\n",
       "      <td>I’d love to find someone cool to hang with who...</td>\n",
       "      <td>NaN</td>\n",
       "      <td>['https://images-ssl.gotinder.com/592c54d6794c...</td>\n",
       "      <td>0.045072</td>\n",
       "      <td>46</td>\n",
       "    </tr>\n",
       "    <tr>\n",
       "      <th>54192</th>\n",
       "      <td>Margretta</td>\n",
       "      <td>28.0</td>\n",
       "      <td>Fuller Theological Seminary</td>\n",
       "      <td>NaN</td>\n",
       "      <td>Pasadena</td>\n",
       "      <td>Woman</td>\n",
       "      <td>1.0</td>\n",
       "      <td>A Christ follower. A life-long learner. Curiou...</td>\n",
       "      <td>NaN</td>\n",
       "      <td>['https://images-ssl.gotinder.com/5e771b6dd8b6...</td>\n",
       "      <td>0.046950</td>\n",
       "      <td>42</td>\n",
       "    </tr>\n",
       "    <tr>\n",
       "      <th>13378</th>\n",
       "      <td>Mallory</td>\n",
       "      <td>31.0</td>\n",
       "      <td>NaN</td>\n",
       "      <td>LA city</td>\n",
       "      <td>Pasadena</td>\n",
       "      <td>NaN</td>\n",
       "      <td>2.0</td>\n",
       "      <td>I love to dress up and be a girly girl (heels ...</td>\n",
       "      <td>NaN</td>\n",
       "      <td>['https://images-ssl.gotinder.com/5daeeb033cdc...</td>\n",
       "      <td>0.049544</td>\n",
       "      <td>89</td>\n",
       "    </tr>\n",
       "  </tbody>\n",
       "</table>\n",
       "<p>104 rows × 12 columns</p>\n",
       "</div>"
      ],
      "text/plain": [
       "             name   age                                   college  \\\n",
       "42023        Jasi  29.0                                       NaN   \n",
       "48433      Bianca  28.0             Mount Saint Mary's University   \n",
       "21872        Mimi  30.0                                       NaN   \n",
       "43093     Jasmine  24.0  California State University, Los Angeles   \n",
       "48938     Kristen  29.0                                       NaN   \n",
       "53776    Katheryn  24.0                                       NaN   \n",
       "16706       Anays  25.0                     Pasadena City College   \n",
       "35585       Tisha  19.0                                       NaN   \n",
       "17246        Alex  30.0                                       NaN   \n",
       "2402        Kelly  28.0         University of Southern California   \n",
       "32185       Dolly  20.0                     Pasadena City College   \n",
       "4205      Wailana  29.0                  Azusa Pacific University   \n",
       "52257   Feliciana  42.0                            Pitzer College   \n",
       "35673       Kenia  28.0                                       NaN   \n",
       "48537       Holly  32.0                                       NaN   \n",
       "28994         Sav  21.0                                       NaN   \n",
       "35526    Caroline  29.0                                  UC Davis   \n",
       "30787        Desi  26.0                                       NaN   \n",
       "12740      Audrey  24.0                                       NaN   \n",
       "17581        Sara  34.0                                       NaN   \n",
       "8007         Maya  37.0                                       NaN   \n",
       "29728     Carolyn  30.0                                       NaN   \n",
       "11572      Mickey  33.0              College for Creative Studies   \n",
       "4797       Jordyn  29.0                  Arizona State University   \n",
       "48382       Tamar  22.0                                       NaN   \n",
       "15960     Jessica  29.0                    University of Richmond   \n",
       "29524         Amy  25.0         Mount Wachusett Community College   \n",
       "19222         Aja  22.0                       Monmouth University   \n",
       "9700     Clarissa  23.0                           Cal Poly Pomona   \n",
       "28543       Lynae  31.0                     Pasadena City College   \n",
       "...           ...   ...                                       ...   \n",
       "21980       April  24.0               North-West College-Glendale   \n",
       "53820   Evergreen  33.0                                       NaN   \n",
       "6674       Nicole  29.0                                       NaN   \n",
       "941           Amy  23.0                     Pasadena City College   \n",
       "13479      Maddie  31.0                                       NaN   \n",
       "52564    Jennifer  26.0         University of Southern California   \n",
       "51631     Jessica  24.0                                       NaN   \n",
       "24274       Pyren  31.0                        Capella University   \n",
       "55312       Kelly  25.0                                       NaN   \n",
       "11511       Kelly  31.0                San Diego State University   \n",
       "20811  Julie anne  24.0                         Auburn University   \n",
       "54838    Lashante  29.0                                       NaN   \n",
       "5994      Juliane  33.0                                       NaN   \n",
       "53676     Ovsanna  27.0          University of California, Irvine   \n",
       "24229        Katy  28.0   California State University, San Marcos   \n",
       "52919    Michelle  24.0                                       NaN   \n",
       "25264         Day  21.0                                       NaN   \n",
       "43980       Kelli  29.0                                       NaN   \n",
       "43045      Brooke  41.0                                       NaN   \n",
       "26296         Sky  26.0                                       NaN   \n",
       "6856        Erica  34.0                                       NaN   \n",
       "23943       Honey  27.0                     Pasadena City College   \n",
       "43384     Theresa  38.0                         Electoral College   \n",
       "43876        Elsa  19.0                                       NaN   \n",
       "15581       Allie  23.0                  Azusa Pacific University   \n",
       "7531      Jessica  28.0                          Cal Poly, Pomona   \n",
       "30649        Hope  25.0                                      CSUN   \n",
       "31387        Lara  36.0                                      UCLA   \n",
       "54192   Margretta  28.0               Fuller Theological Seminary   \n",
       "13378     Mallory  31.0                                       NaN   \n",
       "\n",
       "                                                     job      city  \\\n",
       "42023                                    Fashion Stylist  Pasadena   \n",
       "48433                                    Nursing student  Pasadena   \n",
       "21872                         Nurse at Kaiser Permanente  Pasadena   \n",
       "43093                                                NaN  Pasadena   \n",
       "48938        Marriage and Family Therapist at Non-Profit  Pasadena   \n",
       "53776                                                NaN  Pasadena   \n",
       "16706                                                NaN  Pasadena   \n",
       "35585                                                NaN  Pasadena   \n",
       "17246                                 Postdoc at Caltech  Pasadena   \n",
       "2402       2nd Grade Teacher at Private Christian school  Pasadena   \n",
       "32185                                            Student  Pasadena   \n",
       "4205                                    Behavior Analyst  Pasadena   \n",
       "52257                                                NaN  Pasadena   \n",
       "35673                                Designer Ambassador  Pasadena   \n",
       "48537                                                NaN  Pasadena   \n",
       "28994                                                NaN  Pasadena   \n",
       "35526                       Hair Stylist at A Hair Salon  Pasadena   \n",
       "30787                                                NaN  Pasadena   \n",
       "12740                                        Illustrator  Pasadena   \n",
       "17581                                                NaN  Pasadena   \n",
       "8007                                                 NaN  Pasadena   \n",
       "29728                                   Quality Engineer  Pasadena   \n",
       "11572                                                NaN  Pasadena   \n",
       "4797                                                 NaN  Pasadena   \n",
       "48382                                                NaN  Pasadena   \n",
       "15960             Private Investigator at Media Industry  Pasadena   \n",
       "29524                                  in home caregiver  Pasadena   \n",
       "19222                                         sugar baby  Pasadena   \n",
       "9700                               Veterinary Technician  Pasadena   \n",
       "28543                       Preschool Teacher at Teacher  Pasadena   \n",
       "...                                                  ...       ...   \n",
       "21980                        Student. Your future Nurse.  Pasadena   \n",
       "53820                                                NaN  Pasadena   \n",
       "6674                                                 NaN  Pasadena   \n",
       "941                                                  NaN  Pasadena   \n",
       "13479              Casting assistant at Dan Bell Casting  Pasadena   \n",
       "52564                                                NaN  Pasadena   \n",
       "51631                                                NaN  Pasadena   \n",
       "24274                eSports, Motorcycle Racer, Military  Pasadena   \n",
       "55312                            Assistant Store Manager  Pasadena   \n",
       "11511      Sales & Marketing Manager at Fashion Industry  Pasadena   \n",
       "20811                                              Actor  Pasadena   \n",
       "54838                  Sales floor Team Member at Target  Pasadena   \n",
       "5994                                            Musician  Pasadena   \n",
       "53676                                                NaN  Pasadena   \n",
       "24229                  Social worker at Health Right 360  Pasadena   \n",
       "52919                                                NaN  Pasadena   \n",
       "25264                                           Employed  Pasadena   \n",
       "43980                                                NaN  Pasadena   \n",
       "43045  Currently, I pour paint because it is fun. Pre...  Pasadena   \n",
       "26296                                                NaN  Pasadena   \n",
       "6856                            Financial Officer at USC  Pasadena   \n",
       "23943                             Nonprofit organization  Pasadena   \n",
       "43384                                                NaN  Pasadena   \n",
       "43876                                  Medical assistant  Pasadena   \n",
       "15581                                             ICU RN  Pasadena   \n",
       "7531                            ECommerce at Live Nation  Pasadena   \n",
       "30649                                           Vet Tech  Pasadena   \n",
       "31387                    Personal trainer at Independent  Pasadena   \n",
       "54192                                                NaN  Pasadena   \n",
       "13378                                            LA city  Pasadena   \n",
       "\n",
       "             gender  distance  \\\n",
       "42023           NaN       2.0   \n",
       "48433           NaN       6.0   \n",
       "21872         Woman       2.0   \n",
       "43093           NaN       3.0   \n",
       "48938         Woman      11.0   \n",
       "53776         Woman       5.0   \n",
       "16706           NaN       2.0   \n",
       "35585         Woman       2.0   \n",
       "17246           NaN       2.0   \n",
       "2402            NaN       4.0   \n",
       "32185           NaN       2.0   \n",
       "4205          Woman       2.0   \n",
       "52257         Woman       2.0   \n",
       "35673           NaN      11.0   \n",
       "48537           NaN       3.0   \n",
       "28994  Gender Fluid       2.0   \n",
       "35526           NaN       3.0   \n",
       "30787           NaN       2.0   \n",
       "12740           NaN       4.0   \n",
       "17581           NaN       2.0   \n",
       "8007            NaN       2.0   \n",
       "29728           NaN       3.0   \n",
       "11572           NaN       2.0   \n",
       "4797    Trans Woman       2.0   \n",
       "48382           NaN       4.0   \n",
       "15960         Woman       3.0   \n",
       "29524         Woman       2.0   \n",
       "19222           NaN       2.0   \n",
       "9700            NaN       4.0   \n",
       "28543         Woman       6.0   \n",
       "...             ...       ...   \n",
       "21980           NaN       3.0   \n",
       "53820         Woman       2.0   \n",
       "6674            NaN       3.0   \n",
       "941             NaN       2.0   \n",
       "13479           NaN       3.0   \n",
       "52564           NaN       2.0   \n",
       "51631         Woman       7.0   \n",
       "24274           NaN       2.0   \n",
       "55312         Woman       2.0   \n",
       "11511         Woman       3.0   \n",
       "20811         Woman    1827.0   \n",
       "54838           NaN      13.0   \n",
       "5994            NaN       2.0   \n",
       "53676           NaN       2.0   \n",
       "24229           NaN       4.0   \n",
       "52919           NaN       6.0   \n",
       "25264           NaN       3.0   \n",
       "43980           NaN      18.0   \n",
       "43045           NaN       2.0   \n",
       "26296         Woman       3.0   \n",
       "6856            NaN       2.0   \n",
       "23943         Woman       2.0   \n",
       "43384           NaN       2.0   \n",
       "43876           NaN       2.0   \n",
       "15581           NaN       3.0   \n",
       "7531          Woman       2.0   \n",
       "30649           NaN       1.0   \n",
       "31387           NaN       2.0   \n",
       "54192         Woman       1.0   \n",
       "13378           NaN       2.0   \n",
       "\n",
       "                                                 details  \\\n",
       "42023                                                 🦂    \n",
       "48433                                                🇷🇴    \n",
       "21872             Hold the vision, trust the process ❤️    \n",
       "43093                            Reggae ❤️ Vegetarian 🌱    \n",
       "48938                      No Wit\\nNo Banter\\nNo Chance    \n",
       "53776                          Overthinking is my mood.    \n",
       "16706                             Hi I’m Kobe’s WCW 💜 💛    \n",
       "35585                                       i’m bored 😗    \n",
       "17246                          The outdoors and physics    \n",
       "2402   2nd grade teacher 🍎 ,Christian 🙏 ,creative 🎨 s...   \n",
       "32185  Chinese. Fairly British + British accent. Acti...   \n",
       "4205   Originally from Hawaii but have been in LA for...   \n",
       "52257  Highly intellectual, and, spiritually inclined...   \n",
       "35673     Not great at this bio part so just ask ☺️  🇲🇽    \n",
       "48537                     CEO & Founder. Yogi. Dog mom.    \n",
       "28994  sav rose. 21. city of roses. multi-racial. plu...   \n",
       "35526  Human connection anyone? Let’s FaceTime throug...   \n",
       "30787  ✨ i am a man dressed as a woman. 🤫 your secret...   \n",
       "12740  🌟 Full-time designer; creator of pins, earring...   \n",
       "17581  Everything is terrible but at least we can sti...   \n",
       "8007   You can't buy happiness, but you can buy dough...   \n",
       "29728  Snowboarder, hiker, biker, sunburner 🤦🏻‍♀️ 🤷🏻‍...   \n",
       "11572        Day 18, am cutie in quarantine. What’s up?    \n",
       "4797   Trans girl tomboy. Bi. Poly. Anti-capitalist. ...   \n",
       "48382              Quarantine sucks :( what’s the move?    \n",
       "15960  Runner\\r\\nSoutherner \\r\\nBeer Enthusiast \\r\\nS...   \n",
       "29524  I just want to be wine & dined & texted period...   \n",
       "19222                           just quarantine browsin    \n",
       "9700   Sometimes I like to wear stretchy pants in my ...   \n",
       "28543  I'm a preschool teacher! I have a calico cat t...   \n",
       "...                                                  ...   \n",
       "21980  Asian. Petite. 4'11. 97lbs. Certified Muslim. ...   \n",
       "53820  Call me weird but, talking on the phone, FaceT...   \n",
       "6674        Just looking for my 👽 to explore the 🌎 with    \n",
       "941    Hi :) all lot of guys have ask why I don’t sho...   \n",
       "13479  I’m a sports loving, beach going, tequila and ...   \n",
       "52564  Currently in Beijing on vacation. Lives in LA....   \n",
       "51631  Honestly living in the wrong state! Should hav...   \n",
       "24274  Former Overwatch Coach & Analyst, motorcycle e...   \n",
       "55312  Looking for someone I can vibe with and go on ...   \n",
       "11511  Looking for that special person who I can make...   \n",
       "20811  I really love Jesus and people!\\r\\nYes I’m rea...   \n",
       "54838  Hello My name is Lashante I’m 29 years old I’m...   \n",
       "5994   Hi! I'm Juliane. What you see is what you get ...   \n",
       "53676  Hi there, I love watching sports, enjoying my ...   \n",
       "24229  Masters grad 🎓 👩‍🎓 GOAL digger, helping others...   \n",
       "52919  Guatemalan & Mexican\\nI like being outdoors. I...   \n",
       "25264  full name is Daylyn, but you can call me Day 🌞...   \n",
       "43980                     Looking for something real...    \n",
       "43045  Looking for a good time; nothing too serious. ...   \n",
       "26296  Sure you're tired of swiping, so I'll get stra...   \n",
       "6856   I love to CrossFit and spend time with my fami...   \n",
       "23943  I’m just a thick girl out here trying to make ...   \n",
       "43384  I'm in an open marriage, looking for ongoing F...   \n",
       "43876                Looking for new friends to talk to    \n",
       "15581  just an oncology nurse who loves margaritas, t...   \n",
       "7531   Dog mom, beer drinker, part-time hiker, full-t...   \n",
       "30649  Let’s watch a movie and have some wine\\r\\nI’m ...   \n",
       "31387  I’d love to find someone cool to hang with who...   \n",
       "54192  A Christ follower. A life-long learner. Curiou...   \n",
       "13378  I love to dress up and be a girly girl (heels ...   \n",
       "\n",
       "                                                  anthem  \\\n",
       "42023                                                NaN   \n",
       "48433    ('Crashing (feat. Bahari)', 'ILLENIUM, Bahari')   \n",
       "21872                                                NaN   \n",
       "43093  ('Fish in the Sea', 'Common Kings, Marc E. Bas...   \n",
       "48938       (\"Don't Stand So Close To Me\", 'The Police')   \n",
       "53776                           ('Bird Set Free', 'Sia')   \n",
       "16706                                                NaN   \n",
       "35585              ('Youngblood', '5 Seconds of Summer')   \n",
       "17246                                                NaN   \n",
       "2402                                                 NaN   \n",
       "32185                                                NaN   \n",
       "4205                                                 NaN   \n",
       "52257                          ('Sufi Woman', 'Jidenna')   \n",
       "35673                                                NaN   \n",
       "48537                                                NaN   \n",
       "28994                           ('Wake Up', 'The Green')   \n",
       "35526            ('A Better Son/Daughter', 'Rilo Kiley')   \n",
       "30787             ('My Neck, My Back (Lick It)', 'Khia')   \n",
       "12740                     ('Moonlight', 'Ariana Grande')   \n",
       "17581     ('Total Eclipse of the Heart', 'Bonnie Tyler')   \n",
       "8007                                                 NaN   \n",
       "29728                                                NaN   \n",
       "11572                                                NaN   \n",
       "4797                      ('Gemini', 'Boards of Canada')   \n",
       "48382                                                NaN   \n",
       "15960                                                NaN   \n",
       "29524                             ('Spaceship', 'Kesha')   \n",
       "19222                                                NaN   \n",
       "9700                      ('Ocean Drive', 'Duke Dumont')   \n",
       "28543                                                NaN   \n",
       "...                                                  ...   \n",
       "21980  ('South of the Border (feat. Camila Cabello & ...   \n",
       "53820                        ('Surefire', 'John Legend')   \n",
       "6674                                                 NaN   \n",
       "941                                                  NaN   \n",
       "13479        ('Dreams - 2004 Remaster', 'Fleetwood Mac')   \n",
       "52564                                                NaN   \n",
       "51631                    ('Night Train', 'Jason Aldean')   \n",
       "24274                                                NaN   \n",
       "55312                   ('hot girl bummer', 'blackbear')   \n",
       "11511                         ('Yummy', 'Justin Bieber')   \n",
       "20811                                                NaN   \n",
       "54838                               ('Woah', 'Lil Baby')   \n",
       "5994                                                 NaN   \n",
       "53676                                                NaN   \n",
       "24229                                                NaN   \n",
       "52919                                                NaN   \n",
       "25264    ('LOYAL (feat. Drake)', 'PARTYNEXTDOOR, Drake')   \n",
       "43980                                                NaN   \n",
       "43045                                                NaN   \n",
       "26296         ('We Are the People', 'Empire of the Sun')   \n",
       "6856                                                 NaN   \n",
       "23943            ('Captain Hook', 'Megan Thee Stallion')   \n",
       "43384                        ('One Time', 'Marian Hill')   \n",
       "43876                                                NaN   \n",
       "15581                                                NaN   \n",
       "7531                                                 NaN   \n",
       "30649  (\"Why Should I Worry - from 'Oliver & Company'...   \n",
       "31387                                                NaN   \n",
       "54192                                                NaN   \n",
       "13378                                                NaN   \n",
       "\n",
       "                                        profile_pic_urls    cosine  words  \n",
       "42023  ['https://images-ssl.gotinder.com/5e779a19e073...  0.000000      2  \n",
       "48433  ['https://images-ssl.gotinder.com/5d671ba066ef...  0.000000      2  \n",
       "21872  ['https://images-ssl.gotinder.com/5e93aa1d7f69...  0.009615      8  \n",
       "43093  ['https://images-ssl.gotinder.com/5daa6e811f45...  0.009615      5  \n",
       "48938  ['https://images-ssl.gotinder.com/5e49ef688d8b...  0.010518      5  \n",
       "53776  ['https://images-ssl.gotinder.com/5e7422d7066b...  0.011611      5  \n",
       "16706  ['https://images-ssl.gotinder.com/5d70657118f4...  0.012589      7  \n",
       "35585  ['https://images-ssl.gotinder.com/5e96ac783268...  0.013477      4  \n",
       "17246  ['https://images-ssl.gotinder.com/5d313bd427a9...  0.013678      5  \n",
       "2402   ['https://images-ssl.gotinder.com/5c720084f8d6...  0.013791     31  \n",
       "32185  ['https://images-ssl.gotinder.com/5e895d6f4aed...  0.014109     11  \n",
       "4205   ['https://images-ssl.gotinder.com/5e3634142aa3...  0.014972     14  \n",
       "52257  ['https://images-ssl.gotinder.com/5e1e78ae8b7d...  0.015786     38  \n",
       "35673  ['https://images-ssl.gotinder.com/5e8a498476e5...  0.015798     13  \n",
       "48537  ['https://images-ssl.gotinder.com/5e8edf1b0571...  0.015823      7  \n",
       "28994  ['https://images-ssl.gotinder.com/568ef80485d2...  0.016257     32  \n",
       "35526  ['https://images-ssl.gotinder.com/5396bb5d381d...  0.016635      9  \n",
       "30787  ['https://images-ssl.gotinder.com/5e744de0e073...  0.016883     23  \n",
       "12740  ['https://images-ssl.gotinder.com/5ddf076b5cb5...  0.017122     16  \n",
       "17581  ['https://images-ssl.gotinder.com/5325120405f7...  0.017150     26  \n",
       "8007   ['https://images-ssl.gotinder.com/5e1385829bca...  0.017309     17  \n",
       "29728  ['https://images-ssl.gotinder.com/564fce7e5dec...  0.018017     18  \n",
       "11572  ['https://images-ssl.gotinder.com/5e7c4edb0081...  0.018437      9  \n",
       "4797   ['https://images-ssl.gotinder.com/5ca306917300...  0.018815     20  \n",
       "48382  ['https://images-ssl.gotinder.com/5bc2e644f7c7...  0.018975      7  \n",
       "15960  ['https://images-ssl.gotinder.com/5d4a4b822dbf...  0.019172     16  \n",
       "29524  ['https://images-ssl.gotinder.com/5e1651fb906e...  0.019486     13  \n",
       "19222  ['https://images-ssl.gotinder.com/597708618592...  0.019666      4  \n",
       "9700   ['https://images-ssl.gotinder.com/594b4b9cdd1c...  0.020036     14  \n",
       "28543  ['https://images-ssl.gotinder.com/59505f03d108...  0.020046     22  \n",
       "...                                                  ...       ...    ...  \n",
       "21980  ['https://images-ssl.gotinder.com/5dce3963438b...  0.032341     88  \n",
       "53820  ['https://images-ssl.gotinder.com/59811e07fa29...  0.032437     98  \n",
       "6674   ['https://images-ssl.gotinder.com/5b1d9b80a56e...  0.032604     11  \n",
       "941    ['https://images-ssl.gotinder.com/55e65c30cd28...  0.033217     60  \n",
       "13479  ['https://images-ssl.gotinder.com/510aa3b66776...  0.033406     39  \n",
       "52564  ['https://images-ssl.gotinder.com/5bcab67b1474...  0.034059     21  \n",
       "51631  ['https://images-ssl.gotinder.com/5ad2ee917aaf...  0.034145     75  \n",
       "24274  ['https://images-ssl.gotinder.com/5aae2fb3500a...  0.034429     23  \n",
       "55312  ['https://images-ssl.gotinder.com/5df084d78555...  0.034596     40  \n",
       "11511  ['https://images-ssl.gotinder.com/5e5b74364ef8...  0.035163     16  \n",
       "20811  ['https://images-ssl.gotinder.com/5e6669fc0f87...  0.035723     11  \n",
       "54838  ['https://images-ssl.gotinder.com/5c69d8f5da90...  0.035890     38  \n",
       "5994   ['https://images-ssl.gotinder.com/5e0b036be089...  0.036334     38  \n",
       "53676  ['https://images-ssl.gotinder.com/5e8ffd2bca5e...  0.037191     29  \n",
       "24229  ['https://images-ssl.gotinder.com/592c7fe21481...  0.037279     40  \n",
       "52919  ['https://images-ssl.gotinder.com/5cbc19e3654f...  0.037572     33  \n",
       "25264  ['https://images-ssl.gotinder.com/5e20f6f18f41...  0.037671     51  \n",
       "43980  ['https://images-ssl.gotinder.com/5e9a8695d93a...  0.037737      5  \n",
       "43045  ['https://images-ssl.gotinder.com/5cecd1017ea0...  0.038376     82  \n",
       "26296  ['https://images-ssl.gotinder.com/5358b1ce598c...  0.038540     79  \n",
       "6856   ['https://images-ssl.gotinder.com/5e6e57d82d6e...  0.039773     20  \n",
       "23943  ['https://images-ssl.gotinder.com/5e64d3cd5e9e...  0.039878     56  \n",
       "43384  ['https://images-ssl.gotinder.com/579c4b8d54c9...  0.040059     92  \n",
       "43876  ['https://images-ssl.gotinder.com/5e9aa1b2a6f1...  0.040442      8  \n",
       "15581  ['https://images-ssl.gotinder.com/5a78d97924ca...  0.041594     20  \n",
       "7531   ['https://images-ssl.gotinder.com/5e33c35a3e7d...  0.043265     26  \n",
       "30649  ['https://images-ssl.gotinder.com/564603f2c01e...  0.044052     90  \n",
       "31387  ['https://images-ssl.gotinder.com/592c54d6794c...  0.045072     46  \n",
       "54192  ['https://images-ssl.gotinder.com/5e771b6dd8b6...  0.046950     42  \n",
       "13378  ['https://images-ssl.gotinder.com/5daeeb033cdc...  0.049544     89  \n",
       "\n",
       "[104 rows x 12 columns]"
      ]
     },
     "execution_count": 22,
     "metadata": {},
     "output_type": "execute_result"
    }
   ],
   "source": [
    "df.sort_values('cosine')"
   ]
  },
  {
   "cell_type": "code",
   "execution_count": 131,
   "metadata": {},
   "outputs": [
    {
     "data": {
      "application/vnd.plotly.v1+json": {
       "config": {
        "plotlyServerURL": "https://plot.ly"
       },
       "data": [
        {
         "alignmentgroup": "True",
         "bingroup": "x",
         "hovertemplate": "cosine=%{x}<br>count=%{y}<extra></extra>",
         "legendgroup": "",
         "marker": {
          "color": "#636efa"
         },
         "name": "",
         "nbinsx": 50,
         "offsetgroup": "",
         "orientation": "v",
         "showlegend": false,
         "type": "histogram",
         "x": [
          0.033217067275219885,
          0.020623662983073034,
          0.013790848826189993,
          0.03214134695681702,
          0.020308531162758915,
          0.02952980300653479,
          0.01497215106932855,
          0.0188154633603541,
          0.0363343534733859,
          0.03260364880251138,
          0.023089895462408378,
          0.03977280219833413,
          0.02209534380665114,
          0.024518697234698017,
          0.04326485608695458,
          0.01730927437942031,
          0.029812077702545146,
          0.022756434031593883,
          0.020035778747470093,
          0.023084511967245515,
          0.025195538243854402,
          0.032309371465113215,
          0.0351630312137233,
          0.018437156151321684,
          0.02617098575477064,
          0.017122260853480432,
          0.020438357723630642,
          0.04954354635325631,
          0.033405993089157524,
          0.031626783247436986,
          0.030624145314093684,
          0.04159377559189116,
          0.020115216549536297,
          0.019172248977503394,
          0.025823710666797058,
          0.02850934400309358,
          0.01258930827494218,
          0.013678149383639742,
          0.03121307348506758,
          0.01715036494780279,
          0.030556587292969284,
          0.023170569278996418,
          0.031962826173988775,
          0.01966582329607528,
          0.03572318570758292,
          0.009615384615384616,
          0.03234061667785218,
          0.026739380950639373,
          0.020736280798993003,
          0.039877873775678814,
          0.02891069675418254,
          0.037279240986266074,
          0.03442889339759528,
          0.0376709392576479,
          0.038539754634891135,
          0.020851336038536512,
          0.02592235938564018,
          0.020046225776199196,
          0.021944632570113472,
          0.030437636189110814,
          0.016257316292579913,
          0.021205851822238584,
          0.01948640794439954,
          0.018017292892470303,
          0.03134805054612733,
          0.0440524427726945,
          0.016883251142572296,
          0.045071639275291925,
          0.014109063595744818,
          0.02723719277285228,
          0.016634816421799755,
          0.013476528230261102,
          0.015798146219571582,
          0,
          0.03837560215848169,
          0.009615384615384618,
          0.0400594357452443,
          0.0404415967361414,
          0.031214780896948582,
          0.03773661696412438,
          0.024075836377599556,
          0.030069151512551594,
          0.018974746326635226,
          0,
          0.015822816002659706,
          0.027683157416647116,
          0.010518115228191193,
          0.02373652169113668,
          0.02040871265517781,
          0.03414483240187218,
          0.01578569542325253,
          0.03405908113005866,
          0.02928741406734074,
          0.023065510153903842,
          0.03757164772166706,
          0.02470600225359371,
          0.021982919021162742,
          0.03719095775147151,
          0.011610903455088568,
          0.032436715479735805,
          0.04694979368131869,
          0.035889591476825446,
          0.034596137262991516,
          0.021848050399399268
         ],
         "xaxis": "x",
         "yaxis": "y"
        }
       ],
       "layout": {
        "barmode": "relative",
        "legend": {
         "tracegroupgap": 0
        },
        "margin": {
         "t": 60
        },
        "template": {
         "data": {
          "bar": [
           {
            "error_x": {
             "color": "#2a3f5f"
            },
            "error_y": {
             "color": "#2a3f5f"
            },
            "marker": {
             "line": {
              "color": "#E5ECF6",
              "width": 0.5
             }
            },
            "type": "bar"
           }
          ],
          "barpolar": [
           {
            "marker": {
             "line": {
              "color": "#E5ECF6",
              "width": 0.5
             }
            },
            "type": "barpolar"
           }
          ],
          "carpet": [
           {
            "aaxis": {
             "endlinecolor": "#2a3f5f",
             "gridcolor": "white",
             "linecolor": "white",
             "minorgridcolor": "white",
             "startlinecolor": "#2a3f5f"
            },
            "baxis": {
             "endlinecolor": "#2a3f5f",
             "gridcolor": "white",
             "linecolor": "white",
             "minorgridcolor": "white",
             "startlinecolor": "#2a3f5f"
            },
            "type": "carpet"
           }
          ],
          "choropleth": [
           {
            "colorbar": {
             "outlinewidth": 0,
             "ticks": ""
            },
            "type": "choropleth"
           }
          ],
          "contour": [
           {
            "colorbar": {
             "outlinewidth": 0,
             "ticks": ""
            },
            "colorscale": [
             [
              0,
              "#0d0887"
             ],
             [
              0.1111111111111111,
              "#46039f"
             ],
             [
              0.2222222222222222,
              "#7201a8"
             ],
             [
              0.3333333333333333,
              "#9c179e"
             ],
             [
              0.4444444444444444,
              "#bd3786"
             ],
             [
              0.5555555555555556,
              "#d8576b"
             ],
             [
              0.6666666666666666,
              "#ed7953"
             ],
             [
              0.7777777777777778,
              "#fb9f3a"
             ],
             [
              0.8888888888888888,
              "#fdca26"
             ],
             [
              1,
              "#f0f921"
             ]
            ],
            "type": "contour"
           }
          ],
          "contourcarpet": [
           {
            "colorbar": {
             "outlinewidth": 0,
             "ticks": ""
            },
            "type": "contourcarpet"
           }
          ],
          "heatmap": [
           {
            "colorbar": {
             "outlinewidth": 0,
             "ticks": ""
            },
            "colorscale": [
             [
              0,
              "#0d0887"
             ],
             [
              0.1111111111111111,
              "#46039f"
             ],
             [
              0.2222222222222222,
              "#7201a8"
             ],
             [
              0.3333333333333333,
              "#9c179e"
             ],
             [
              0.4444444444444444,
              "#bd3786"
             ],
             [
              0.5555555555555556,
              "#d8576b"
             ],
             [
              0.6666666666666666,
              "#ed7953"
             ],
             [
              0.7777777777777778,
              "#fb9f3a"
             ],
             [
              0.8888888888888888,
              "#fdca26"
             ],
             [
              1,
              "#f0f921"
             ]
            ],
            "type": "heatmap"
           }
          ],
          "heatmapgl": [
           {
            "colorbar": {
             "outlinewidth": 0,
             "ticks": ""
            },
            "colorscale": [
             [
              0,
              "#0d0887"
             ],
             [
              0.1111111111111111,
              "#46039f"
             ],
             [
              0.2222222222222222,
              "#7201a8"
             ],
             [
              0.3333333333333333,
              "#9c179e"
             ],
             [
              0.4444444444444444,
              "#bd3786"
             ],
             [
              0.5555555555555556,
              "#d8576b"
             ],
             [
              0.6666666666666666,
              "#ed7953"
             ],
             [
              0.7777777777777778,
              "#fb9f3a"
             ],
             [
              0.8888888888888888,
              "#fdca26"
             ],
             [
              1,
              "#f0f921"
             ]
            ],
            "type": "heatmapgl"
           }
          ],
          "histogram": [
           {
            "marker": {
             "colorbar": {
              "outlinewidth": 0,
              "ticks": ""
             }
            },
            "type": "histogram"
           }
          ],
          "histogram2d": [
           {
            "colorbar": {
             "outlinewidth": 0,
             "ticks": ""
            },
            "colorscale": [
             [
              0,
              "#0d0887"
             ],
             [
              0.1111111111111111,
              "#46039f"
             ],
             [
              0.2222222222222222,
              "#7201a8"
             ],
             [
              0.3333333333333333,
              "#9c179e"
             ],
             [
              0.4444444444444444,
              "#bd3786"
             ],
             [
              0.5555555555555556,
              "#d8576b"
             ],
             [
              0.6666666666666666,
              "#ed7953"
             ],
             [
              0.7777777777777778,
              "#fb9f3a"
             ],
             [
              0.8888888888888888,
              "#fdca26"
             ],
             [
              1,
              "#f0f921"
             ]
            ],
            "type": "histogram2d"
           }
          ],
          "histogram2dcontour": [
           {
            "colorbar": {
             "outlinewidth": 0,
             "ticks": ""
            },
            "colorscale": [
             [
              0,
              "#0d0887"
             ],
             [
              0.1111111111111111,
              "#46039f"
             ],
             [
              0.2222222222222222,
              "#7201a8"
             ],
             [
              0.3333333333333333,
              "#9c179e"
             ],
             [
              0.4444444444444444,
              "#bd3786"
             ],
             [
              0.5555555555555556,
              "#d8576b"
             ],
             [
              0.6666666666666666,
              "#ed7953"
             ],
             [
              0.7777777777777778,
              "#fb9f3a"
             ],
             [
              0.8888888888888888,
              "#fdca26"
             ],
             [
              1,
              "#f0f921"
             ]
            ],
            "type": "histogram2dcontour"
           }
          ],
          "mesh3d": [
           {
            "colorbar": {
             "outlinewidth": 0,
             "ticks": ""
            },
            "type": "mesh3d"
           }
          ],
          "parcoords": [
           {
            "line": {
             "colorbar": {
              "outlinewidth": 0,
              "ticks": ""
             }
            },
            "type": "parcoords"
           }
          ],
          "pie": [
           {
            "automargin": true,
            "type": "pie"
           }
          ],
          "scatter": [
           {
            "marker": {
             "colorbar": {
              "outlinewidth": 0,
              "ticks": ""
             }
            },
            "type": "scatter"
           }
          ],
          "scatter3d": [
           {
            "line": {
             "colorbar": {
              "outlinewidth": 0,
              "ticks": ""
             }
            },
            "marker": {
             "colorbar": {
              "outlinewidth": 0,
              "ticks": ""
             }
            },
            "type": "scatter3d"
           }
          ],
          "scattercarpet": [
           {
            "marker": {
             "colorbar": {
              "outlinewidth": 0,
              "ticks": ""
             }
            },
            "type": "scattercarpet"
           }
          ],
          "scattergeo": [
           {
            "marker": {
             "colorbar": {
              "outlinewidth": 0,
              "ticks": ""
             }
            },
            "type": "scattergeo"
           }
          ],
          "scattergl": [
           {
            "marker": {
             "colorbar": {
              "outlinewidth": 0,
              "ticks": ""
             }
            },
            "type": "scattergl"
           }
          ],
          "scattermapbox": [
           {
            "marker": {
             "colorbar": {
              "outlinewidth": 0,
              "ticks": ""
             }
            },
            "type": "scattermapbox"
           }
          ],
          "scatterpolar": [
           {
            "marker": {
             "colorbar": {
              "outlinewidth": 0,
              "ticks": ""
             }
            },
            "type": "scatterpolar"
           }
          ],
          "scatterpolargl": [
           {
            "marker": {
             "colorbar": {
              "outlinewidth": 0,
              "ticks": ""
             }
            },
            "type": "scatterpolargl"
           }
          ],
          "scatterternary": [
           {
            "marker": {
             "colorbar": {
              "outlinewidth": 0,
              "ticks": ""
             }
            },
            "type": "scatterternary"
           }
          ],
          "surface": [
           {
            "colorbar": {
             "outlinewidth": 0,
             "ticks": ""
            },
            "colorscale": [
             [
              0,
              "#0d0887"
             ],
             [
              0.1111111111111111,
              "#46039f"
             ],
             [
              0.2222222222222222,
              "#7201a8"
             ],
             [
              0.3333333333333333,
              "#9c179e"
             ],
             [
              0.4444444444444444,
              "#bd3786"
             ],
             [
              0.5555555555555556,
              "#d8576b"
             ],
             [
              0.6666666666666666,
              "#ed7953"
             ],
             [
              0.7777777777777778,
              "#fb9f3a"
             ],
             [
              0.8888888888888888,
              "#fdca26"
             ],
             [
              1,
              "#f0f921"
             ]
            ],
            "type": "surface"
           }
          ],
          "table": [
           {
            "cells": {
             "fill": {
              "color": "#EBF0F8"
             },
             "line": {
              "color": "white"
             }
            },
            "header": {
             "fill": {
              "color": "#C8D4E3"
             },
             "line": {
              "color": "white"
             }
            },
            "type": "table"
           }
          ]
         },
         "layout": {
          "annotationdefaults": {
           "arrowcolor": "#2a3f5f",
           "arrowhead": 0,
           "arrowwidth": 1
          },
          "coloraxis": {
           "colorbar": {
            "outlinewidth": 0,
            "ticks": ""
           }
          },
          "colorscale": {
           "diverging": [
            [
             0,
             "#8e0152"
            ],
            [
             0.1,
             "#c51b7d"
            ],
            [
             0.2,
             "#de77ae"
            ],
            [
             0.3,
             "#f1b6da"
            ],
            [
             0.4,
             "#fde0ef"
            ],
            [
             0.5,
             "#f7f7f7"
            ],
            [
             0.6,
             "#e6f5d0"
            ],
            [
             0.7,
             "#b8e186"
            ],
            [
             0.8,
             "#7fbc41"
            ],
            [
             0.9,
             "#4d9221"
            ],
            [
             1,
             "#276419"
            ]
           ],
           "sequential": [
            [
             0,
             "#0d0887"
            ],
            [
             0.1111111111111111,
             "#46039f"
            ],
            [
             0.2222222222222222,
             "#7201a8"
            ],
            [
             0.3333333333333333,
             "#9c179e"
            ],
            [
             0.4444444444444444,
             "#bd3786"
            ],
            [
             0.5555555555555556,
             "#d8576b"
            ],
            [
             0.6666666666666666,
             "#ed7953"
            ],
            [
             0.7777777777777778,
             "#fb9f3a"
            ],
            [
             0.8888888888888888,
             "#fdca26"
            ],
            [
             1,
             "#f0f921"
            ]
           ],
           "sequentialminus": [
            [
             0,
             "#0d0887"
            ],
            [
             0.1111111111111111,
             "#46039f"
            ],
            [
             0.2222222222222222,
             "#7201a8"
            ],
            [
             0.3333333333333333,
             "#9c179e"
            ],
            [
             0.4444444444444444,
             "#bd3786"
            ],
            [
             0.5555555555555556,
             "#d8576b"
            ],
            [
             0.6666666666666666,
             "#ed7953"
            ],
            [
             0.7777777777777778,
             "#fb9f3a"
            ],
            [
             0.8888888888888888,
             "#fdca26"
            ],
            [
             1,
             "#f0f921"
            ]
           ]
          },
          "colorway": [
           "#636efa",
           "#EF553B",
           "#00cc96",
           "#ab63fa",
           "#FFA15A",
           "#19d3f3",
           "#FF6692",
           "#B6E880",
           "#FF97FF",
           "#FECB52"
          ],
          "font": {
           "color": "#2a3f5f"
          },
          "geo": {
           "bgcolor": "white",
           "lakecolor": "white",
           "landcolor": "#E5ECF6",
           "showlakes": true,
           "showland": true,
           "subunitcolor": "white"
          },
          "hoverlabel": {
           "align": "left"
          },
          "hovermode": "closest",
          "mapbox": {
           "style": "light"
          },
          "paper_bgcolor": "white",
          "plot_bgcolor": "#E5ECF6",
          "polar": {
           "angularaxis": {
            "gridcolor": "white",
            "linecolor": "white",
            "ticks": ""
           },
           "bgcolor": "#E5ECF6",
           "radialaxis": {
            "gridcolor": "white",
            "linecolor": "white",
            "ticks": ""
           }
          },
          "scene": {
           "xaxis": {
            "backgroundcolor": "#E5ECF6",
            "gridcolor": "white",
            "gridwidth": 2,
            "linecolor": "white",
            "showbackground": true,
            "ticks": "",
            "zerolinecolor": "white"
           },
           "yaxis": {
            "backgroundcolor": "#E5ECF6",
            "gridcolor": "white",
            "gridwidth": 2,
            "linecolor": "white",
            "showbackground": true,
            "ticks": "",
            "zerolinecolor": "white"
           },
           "zaxis": {
            "backgroundcolor": "#E5ECF6",
            "gridcolor": "white",
            "gridwidth": 2,
            "linecolor": "white",
            "showbackground": true,
            "ticks": "",
            "zerolinecolor": "white"
           }
          },
          "shapedefaults": {
           "line": {
            "color": "#2a3f5f"
           }
          },
          "ternary": {
           "aaxis": {
            "gridcolor": "white",
            "linecolor": "white",
            "ticks": ""
           },
           "baxis": {
            "gridcolor": "white",
            "linecolor": "white",
            "ticks": ""
           },
           "bgcolor": "#E5ECF6",
           "caxis": {
            "gridcolor": "white",
            "linecolor": "white",
            "ticks": ""
           }
          },
          "title": {
           "x": 0.05
          },
          "xaxis": {
           "automargin": true,
           "gridcolor": "white",
           "linecolor": "white",
           "ticks": "",
           "title": {
            "standoff": 15
           },
           "zerolinecolor": "white",
           "zerolinewidth": 2
          },
          "yaxis": {
           "automargin": true,
           "gridcolor": "white",
           "linecolor": "white",
           "ticks": "",
           "title": {
            "standoff": 15
           },
           "zerolinecolor": "white",
           "zerolinewidth": 2
          }
         }
        },
        "xaxis": {
         "anchor": "y",
         "domain": [
          0,
          1
         ],
         "title": {
          "text": "cosine"
         }
        },
        "yaxis": {
         "anchor": "x",
         "domain": [
          0,
          1
         ],
         "title": {
          "text": "count"
         }
        }
       }
      },
      "text/html": [
       "<div>\n",
       "        \n",
       "        \n",
       "            <div id=\"3c2a36e4-a643-4fba-9358-872734b89ca7\" class=\"plotly-graph-div\" style=\"height:525px; width:100%;\"></div>\n",
       "            <script type=\"text/javascript\">\n",
       "                require([\"plotly\"], function(Plotly) {\n",
       "                    window.PLOTLYENV=window.PLOTLYENV || {};\n",
       "                    \n",
       "                if (document.getElementById(\"3c2a36e4-a643-4fba-9358-872734b89ca7\")) {\n",
       "                    Plotly.newPlot(\n",
       "                        '3c2a36e4-a643-4fba-9358-872734b89ca7',\n",
       "                        [{\"alignmentgroup\": \"True\", \"bingroup\": \"x\", \"hovertemplate\": \"cosine=%{x}<br>count=%{y}<extra></extra>\", \"legendgroup\": \"\", \"marker\": {\"color\": \"#636efa\"}, \"name\": \"\", \"nbinsx\": 50, \"offsetgroup\": \"\", \"orientation\": \"v\", \"showlegend\": false, \"type\": \"histogram\", \"x\": [0.033217067275219885, 0.020623662983073034, 0.013790848826189993, 0.03214134695681702, 0.020308531162758915, 0.02952980300653479, 0.01497215106932855, 0.0188154633603541, 0.0363343534733859, 0.03260364880251138, 0.023089895462408378, 0.03977280219833413, 0.02209534380665114, 0.024518697234698017, 0.04326485608695458, 0.01730927437942031, 0.029812077702545146, 0.022756434031593883, 0.020035778747470093, 0.023084511967245515, 0.025195538243854402, 0.032309371465113215, 0.0351630312137233, 0.018437156151321684, 0.02617098575477064, 0.017122260853480432, 0.020438357723630642, 0.04954354635325631, 0.033405993089157524, 0.031626783247436986, 0.030624145314093684, 0.04159377559189116, 0.020115216549536297, 0.019172248977503394, 0.025823710666797058, 0.02850934400309358, 0.01258930827494218, 0.013678149383639742, 0.03121307348506758, 0.01715036494780279, 0.030556587292969284, 0.023170569278996418, 0.031962826173988775, 0.01966582329607528, 0.03572318570758292, 0.009615384615384616, 0.03234061667785218, 0.026739380950639373, 0.020736280798993003, 0.039877873775678814, 0.02891069675418254, 0.037279240986266074, 0.03442889339759528, 0.0376709392576479, 0.038539754634891135, 0.020851336038536512, 0.02592235938564018, 0.020046225776199196, 0.021944632570113472, 0.030437636189110814, 0.016257316292579913, 0.021205851822238584, 0.01948640794439954, 0.018017292892470303, 0.03134805054612733, 0.0440524427726945, 0.016883251142572296, 0.045071639275291925, 0.014109063595744818, 0.02723719277285228, 0.016634816421799755, 0.013476528230261102, 0.015798146219571582, 0.0, 0.03837560215848169, 0.009615384615384618, 0.0400594357452443, 0.0404415967361414, 0.031214780896948582, 0.03773661696412438, 0.024075836377599556, 0.030069151512551594, 0.018974746326635226, 0.0, 0.015822816002659706, 0.027683157416647116, 0.010518115228191193, 0.02373652169113668, 0.02040871265517781, 0.03414483240187218, 0.01578569542325253, 0.03405908113005866, 0.02928741406734074, 0.023065510153903842, 0.03757164772166706, 0.02470600225359371, 0.021982919021162742, 0.03719095775147151, 0.011610903455088568, 0.032436715479735805, 0.04694979368131869, 0.035889591476825446, 0.034596137262991516, 0.021848050399399268], \"xaxis\": \"x\", \"yaxis\": \"y\"}],\n",
       "                        {\"barmode\": \"relative\", \"legend\": {\"tracegroupgap\": 0}, \"margin\": {\"t\": 60}, \"template\": {\"data\": {\"bar\": [{\"error_x\": {\"color\": \"#2a3f5f\"}, \"error_y\": {\"color\": \"#2a3f5f\"}, \"marker\": {\"line\": {\"color\": \"#E5ECF6\", \"width\": 0.5}}, \"type\": \"bar\"}], \"barpolar\": [{\"marker\": {\"line\": {\"color\": \"#E5ECF6\", \"width\": 0.5}}, \"type\": \"barpolar\"}], \"carpet\": [{\"aaxis\": {\"endlinecolor\": \"#2a3f5f\", \"gridcolor\": \"white\", \"linecolor\": \"white\", \"minorgridcolor\": \"white\", \"startlinecolor\": \"#2a3f5f\"}, \"baxis\": {\"endlinecolor\": \"#2a3f5f\", \"gridcolor\": \"white\", \"linecolor\": \"white\", \"minorgridcolor\": \"white\", \"startlinecolor\": \"#2a3f5f\"}, \"type\": \"carpet\"}], \"choropleth\": [{\"colorbar\": {\"outlinewidth\": 0, \"ticks\": \"\"}, \"type\": \"choropleth\"}], \"contour\": [{\"colorbar\": {\"outlinewidth\": 0, \"ticks\": \"\"}, \"colorscale\": [[0.0, \"#0d0887\"], [0.1111111111111111, \"#46039f\"], [0.2222222222222222, \"#7201a8\"], [0.3333333333333333, \"#9c179e\"], [0.4444444444444444, \"#bd3786\"], [0.5555555555555556, \"#d8576b\"], [0.6666666666666666, \"#ed7953\"], [0.7777777777777778, \"#fb9f3a\"], [0.8888888888888888, \"#fdca26\"], [1.0, \"#f0f921\"]], \"type\": \"contour\"}], \"contourcarpet\": [{\"colorbar\": {\"outlinewidth\": 0, \"ticks\": \"\"}, \"type\": \"contourcarpet\"}], \"heatmap\": [{\"colorbar\": {\"outlinewidth\": 0, \"ticks\": \"\"}, \"colorscale\": [[0.0, \"#0d0887\"], [0.1111111111111111, \"#46039f\"], [0.2222222222222222, \"#7201a8\"], [0.3333333333333333, \"#9c179e\"], [0.4444444444444444, \"#bd3786\"], [0.5555555555555556, \"#d8576b\"], [0.6666666666666666, \"#ed7953\"], [0.7777777777777778, \"#fb9f3a\"], [0.8888888888888888, \"#fdca26\"], [1.0, \"#f0f921\"]], \"type\": \"heatmap\"}], \"heatmapgl\": [{\"colorbar\": {\"outlinewidth\": 0, \"ticks\": \"\"}, \"colorscale\": [[0.0, \"#0d0887\"], [0.1111111111111111, \"#46039f\"], [0.2222222222222222, \"#7201a8\"], [0.3333333333333333, \"#9c179e\"], [0.4444444444444444, \"#bd3786\"], [0.5555555555555556, \"#d8576b\"], [0.6666666666666666, \"#ed7953\"], [0.7777777777777778, \"#fb9f3a\"], [0.8888888888888888, \"#fdca26\"], [1.0, \"#f0f921\"]], \"type\": \"heatmapgl\"}], \"histogram\": [{\"marker\": {\"colorbar\": {\"outlinewidth\": 0, \"ticks\": \"\"}}, \"type\": \"histogram\"}], \"histogram2d\": [{\"colorbar\": {\"outlinewidth\": 0, \"ticks\": \"\"}, \"colorscale\": [[0.0, \"#0d0887\"], [0.1111111111111111, \"#46039f\"], [0.2222222222222222, \"#7201a8\"], [0.3333333333333333, \"#9c179e\"], [0.4444444444444444, \"#bd3786\"], [0.5555555555555556, \"#d8576b\"], [0.6666666666666666, \"#ed7953\"], [0.7777777777777778, \"#fb9f3a\"], [0.8888888888888888, \"#fdca26\"], [1.0, \"#f0f921\"]], \"type\": \"histogram2d\"}], \"histogram2dcontour\": [{\"colorbar\": {\"outlinewidth\": 0, \"ticks\": \"\"}, \"colorscale\": [[0.0, \"#0d0887\"], [0.1111111111111111, \"#46039f\"], [0.2222222222222222, \"#7201a8\"], [0.3333333333333333, \"#9c179e\"], [0.4444444444444444, \"#bd3786\"], [0.5555555555555556, \"#d8576b\"], [0.6666666666666666, \"#ed7953\"], [0.7777777777777778, \"#fb9f3a\"], [0.8888888888888888, \"#fdca26\"], [1.0, \"#f0f921\"]], \"type\": \"histogram2dcontour\"}], \"mesh3d\": [{\"colorbar\": {\"outlinewidth\": 0, \"ticks\": \"\"}, \"type\": \"mesh3d\"}], \"parcoords\": [{\"line\": {\"colorbar\": {\"outlinewidth\": 0, \"ticks\": \"\"}}, \"type\": \"parcoords\"}], \"pie\": [{\"automargin\": true, \"type\": \"pie\"}], \"scatter\": [{\"marker\": {\"colorbar\": {\"outlinewidth\": 0, \"ticks\": \"\"}}, \"type\": \"scatter\"}], \"scatter3d\": [{\"line\": {\"colorbar\": {\"outlinewidth\": 0, \"ticks\": \"\"}}, \"marker\": {\"colorbar\": {\"outlinewidth\": 0, \"ticks\": \"\"}}, \"type\": \"scatter3d\"}], \"scattercarpet\": [{\"marker\": {\"colorbar\": {\"outlinewidth\": 0, \"ticks\": \"\"}}, \"type\": \"scattercarpet\"}], \"scattergeo\": [{\"marker\": {\"colorbar\": {\"outlinewidth\": 0, \"ticks\": \"\"}}, \"type\": \"scattergeo\"}], \"scattergl\": [{\"marker\": {\"colorbar\": {\"outlinewidth\": 0, \"ticks\": \"\"}}, \"type\": \"scattergl\"}], \"scattermapbox\": [{\"marker\": {\"colorbar\": {\"outlinewidth\": 0, \"ticks\": \"\"}}, \"type\": \"scattermapbox\"}], \"scatterpolar\": [{\"marker\": {\"colorbar\": {\"outlinewidth\": 0, \"ticks\": \"\"}}, \"type\": \"scatterpolar\"}], \"scatterpolargl\": [{\"marker\": {\"colorbar\": {\"outlinewidth\": 0, \"ticks\": \"\"}}, \"type\": \"scatterpolargl\"}], \"scatterternary\": [{\"marker\": {\"colorbar\": {\"outlinewidth\": 0, \"ticks\": \"\"}}, \"type\": \"scatterternary\"}], \"surface\": [{\"colorbar\": {\"outlinewidth\": 0, \"ticks\": \"\"}, \"colorscale\": [[0.0, \"#0d0887\"], [0.1111111111111111, \"#46039f\"], [0.2222222222222222, \"#7201a8\"], [0.3333333333333333, \"#9c179e\"], [0.4444444444444444, \"#bd3786\"], [0.5555555555555556, \"#d8576b\"], [0.6666666666666666, \"#ed7953\"], [0.7777777777777778, \"#fb9f3a\"], [0.8888888888888888, \"#fdca26\"], [1.0, \"#f0f921\"]], \"type\": \"surface\"}], \"table\": [{\"cells\": {\"fill\": {\"color\": \"#EBF0F8\"}, \"line\": {\"color\": \"white\"}}, \"header\": {\"fill\": {\"color\": \"#C8D4E3\"}, \"line\": {\"color\": \"white\"}}, \"type\": \"table\"}]}, \"layout\": {\"annotationdefaults\": {\"arrowcolor\": \"#2a3f5f\", \"arrowhead\": 0, \"arrowwidth\": 1}, \"coloraxis\": {\"colorbar\": {\"outlinewidth\": 0, \"ticks\": \"\"}}, \"colorscale\": {\"diverging\": [[0, \"#8e0152\"], [0.1, \"#c51b7d\"], [0.2, \"#de77ae\"], [0.3, \"#f1b6da\"], [0.4, \"#fde0ef\"], [0.5, \"#f7f7f7\"], [0.6, \"#e6f5d0\"], [0.7, \"#b8e186\"], [0.8, \"#7fbc41\"], [0.9, \"#4d9221\"], [1, \"#276419\"]], \"sequential\": [[0.0, \"#0d0887\"], [0.1111111111111111, \"#46039f\"], [0.2222222222222222, \"#7201a8\"], [0.3333333333333333, \"#9c179e\"], [0.4444444444444444, \"#bd3786\"], [0.5555555555555556, \"#d8576b\"], [0.6666666666666666, \"#ed7953\"], [0.7777777777777778, \"#fb9f3a\"], [0.8888888888888888, \"#fdca26\"], [1.0, \"#f0f921\"]], \"sequentialminus\": [[0.0, \"#0d0887\"], [0.1111111111111111, \"#46039f\"], [0.2222222222222222, \"#7201a8\"], [0.3333333333333333, \"#9c179e\"], [0.4444444444444444, \"#bd3786\"], [0.5555555555555556, \"#d8576b\"], [0.6666666666666666, \"#ed7953\"], [0.7777777777777778, \"#fb9f3a\"], [0.8888888888888888, \"#fdca26\"], [1.0, \"#f0f921\"]]}, \"colorway\": [\"#636efa\", \"#EF553B\", \"#00cc96\", \"#ab63fa\", \"#FFA15A\", \"#19d3f3\", \"#FF6692\", \"#B6E880\", \"#FF97FF\", \"#FECB52\"], \"font\": {\"color\": \"#2a3f5f\"}, \"geo\": {\"bgcolor\": \"white\", \"lakecolor\": \"white\", \"landcolor\": \"#E5ECF6\", \"showlakes\": true, \"showland\": true, \"subunitcolor\": \"white\"}, \"hoverlabel\": {\"align\": \"left\"}, \"hovermode\": \"closest\", \"mapbox\": {\"style\": \"light\"}, \"paper_bgcolor\": \"white\", \"plot_bgcolor\": \"#E5ECF6\", \"polar\": {\"angularaxis\": {\"gridcolor\": \"white\", \"linecolor\": \"white\", \"ticks\": \"\"}, \"bgcolor\": \"#E5ECF6\", \"radialaxis\": {\"gridcolor\": \"white\", \"linecolor\": \"white\", \"ticks\": \"\"}}, \"scene\": {\"xaxis\": {\"backgroundcolor\": \"#E5ECF6\", \"gridcolor\": \"white\", \"gridwidth\": 2, \"linecolor\": \"white\", \"showbackground\": true, \"ticks\": \"\", \"zerolinecolor\": \"white\"}, \"yaxis\": {\"backgroundcolor\": \"#E5ECF6\", \"gridcolor\": \"white\", \"gridwidth\": 2, \"linecolor\": \"white\", \"showbackground\": true, \"ticks\": \"\", \"zerolinecolor\": \"white\"}, \"zaxis\": {\"backgroundcolor\": \"#E5ECF6\", \"gridcolor\": \"white\", \"gridwidth\": 2, \"linecolor\": \"white\", \"showbackground\": true, \"ticks\": \"\", \"zerolinecolor\": \"white\"}}, \"shapedefaults\": {\"line\": {\"color\": \"#2a3f5f\"}}, \"ternary\": {\"aaxis\": {\"gridcolor\": \"white\", \"linecolor\": \"white\", \"ticks\": \"\"}, \"baxis\": {\"gridcolor\": \"white\", \"linecolor\": \"white\", \"ticks\": \"\"}, \"bgcolor\": \"#E5ECF6\", \"caxis\": {\"gridcolor\": \"white\", \"linecolor\": \"white\", \"ticks\": \"\"}}, \"title\": {\"x\": 0.05}, \"xaxis\": {\"automargin\": true, \"gridcolor\": \"white\", \"linecolor\": \"white\", \"ticks\": \"\", \"title\": {\"standoff\": 15}, \"zerolinecolor\": \"white\", \"zerolinewidth\": 2}, \"yaxis\": {\"automargin\": true, \"gridcolor\": \"white\", \"linecolor\": \"white\", \"ticks\": \"\", \"title\": {\"standoff\": 15}, \"zerolinecolor\": \"white\", \"zerolinewidth\": 2}}}, \"xaxis\": {\"anchor\": \"y\", \"domain\": [0.0, 1.0], \"title\": {\"text\": \"cosine\"}}, \"yaxis\": {\"anchor\": \"x\", \"domain\": [0.0, 1.0], \"title\": {\"text\": \"count\"}}},\n",
       "                        {\"responsive\": true}\n",
       "                    ).then(function(){\n",
       "                            \n",
       "var gd = document.getElementById('3c2a36e4-a643-4fba-9358-872734b89ca7');\n",
       "var x = new MutationObserver(function (mutations, observer) {{\n",
       "        var display = window.getComputedStyle(gd).display;\n",
       "        if (!display || display === 'none') {{\n",
       "            console.log([gd, 'removed!']);\n",
       "            Plotly.purge(gd);\n",
       "            observer.disconnect();\n",
       "        }}\n",
       "}});\n",
       "\n",
       "// Listen for the removal of the full notebook cells\n",
       "var notebookContainer = gd.closest('#notebook-container');\n",
       "if (notebookContainer) {{\n",
       "    x.observe(notebookContainer, {childList: true});\n",
       "}}\n",
       "\n",
       "// Listen for the clearing of the current output cell\n",
       "var outputEl = gd.closest('.output');\n",
       "if (outputEl) {{\n",
       "    x.observe(outputEl, {childList: true});\n",
       "}}\n",
       "\n",
       "                        })\n",
       "                };\n",
       "                });\n",
       "            </script>\n",
       "        </div>"
      ]
     },
     "metadata": {},
     "output_type": "display_data"
    }
   ],
   "source": [
    "fig = px.histogram(df, x=\"cosine\", nbins=50)\n",
    "fig.show()"
   ]
  },
  {
   "cell_type": "code",
   "execution_count": 55,
   "metadata": {},
   "outputs": [],
   "source": [
    "import seaborn as sns"
   ]
  },
  {
   "cell_type": "code",
   "execution_count": 132,
   "metadata": {},
   "outputs": [
    {
     "data": {
      "image/png": "[encoded data removed]",
      "text/plain": [
       "<Figure size 432x288 with 1 Axes>"
      ]
     },
     "metadata": {
      "needs_background": "light"
     },
     "output_type": "display_data"
    }
   ],
   "source": [
    "sns.distplot(df.cosine, kde=True, rug=True);"
   ]
  },
  {
   "cell_type": "code",
   "execution_count": 34,
   "metadata": {
    "scrolled": true
   },
   "outputs": [],
   "source": [
    "a = cosine_similarity(test,test)"
   ]
  },
  {
   "cell_type": "code",
   "execution_count": 39,
   "metadata": {},
   "outputs": [
    {
     "data": {
      "text/plain": [
       "3.454574996622868"
      ]
     },
     "execution_count": 39,
     "metadata": {},
     "output_type": "execute_result"
    }
   ],
   "source": [
    "a[0].sum()"
   ]
  },
  {
   "cell_type": "code",
   "execution_count": 40,
   "metadata": {},
   "outputs": [
    {
     "data": {
      "text/plain": [
       "1.4342482779237593"
      ]
     },
     "execution_count": 40,
     "metadata": {},
     "output_type": "execute_result"
    }
   ],
   "source": [
    "a[2].sum()"
   ]
  },
  {
   "cell_type": "code",
   "execution_count": 135,
   "metadata": {},
   "outputs": [
    {
     "data": {
      "text/plain": [
       "0.009883399483986068"
      ]
     },
     "execution_count": 135,
     "metadata": {},
     "output_type": "execute_result"
    }
   ],
   "source": [
    "df.cosine.std()"
   ]
  },
  {
   "cell_type": "code",
   "execution_count": 136,
   "metadata": {},
   "outputs": [
    {
     "data": {
      "text/plain": [
       "0.026190527685741934"
      ]
     },
     "execution_count": 136,
     "metadata": {},
     "output_type": "execute_result"
    }
   ],
   "source": [
    "df.cosine.mean()"
   ]
  },
  {
   "cell_type": "code",
   "execution_count": 137,
   "metadata": {},
   "outputs": [],
   "source": [
    "import math"
   ]
  },
  {
   "cell_type": "code",
   "execution_count": 140,
   "metadata": {},
   "outputs": [],
   "source": [
    "def std_classifier(cosine_vals):\n",
    "    mean = cosine_vals.mean()\n",
    "    std = cosine_vals.std()\n",
    "    std_class = []\n",
    "    for each in cosine_vals:\n",
    "        diff = abs(each-mean)\n",
    "        distance = math.ceil(diff / std)\n",
    "        std_class.append(distance)\n",
    "    return std_class"
   ]
  },
  {
   "cell_type": "code",
   "execution_count": 141,
   "metadata": {},
   "outputs": [],
   "source": [
    "std_class = std_classifier(df.cosine)"
   ]
  },
  {
   "cell_type": "code",
   "execution_count": 143,
   "metadata": {},
   "outputs": [],
   "source": [
    "df['std_class'] = std_class"
   ]
  },
  {
   "cell_type": "code",
   "execution_count": 151,
   "metadata": {},
   "outputs": [
    {
     "name": "stdout",
     "output_type": "stream",
     "text": [
      "Hi :) all lot of guys have ask why I don’t show my face in my pics,I do with filters but I always been less confidence of how I look 🥺 I’m actually 24 years old. I have a dog Aussie name Max just on here for fun and maybe more if I feel a connection with you :) \n",
      "--------------\n",
      "Yes. My hair is pink at the moment. Quarantine made me do it \n",
      "--------------\n",
      "Dodger fan! Love pizza! Movie fanatic! You got the top three! 😍 ❤️ 💙 🍕 🍕 ⚾️ ⚾️ Movie fanatic.. 😍 😍 😍 , sports girl. Die hard Dodgers fan!!!! Hiking, I wanna learn to surf. I wanna go sky diving and swimming with sharks. I love outdoors and having fun!!! Spontaneous road trips are the best thing ever!\r\n",
      "\r\n",
      "IG - bee_la55\r\n",
      "\r\n",
      "Snapchat - bebe2716\r\n",
      "\r\n",
      "Twitter - bebe27107 \n",
      "--------------\n",
      "At this point I just want someone who will wash their hands thoroughly \n",
      "--------------\n",
      "The one time being judgmental is socially acceptable. \r\n",
      "\r\n",
      "I like to drink and paint buzzed. \n",
      "--------------\n",
      "Trans girl tomboy. Bi. Poly. Anti-capitalist. 420 and psychedelic friendly. Gamer. Weeb. Thicc but I go to the gym \n",
      "--------------\n",
      "Just looking for my 👽 to explore the 🌎 with \n",
      "--------------\n",
      "Cooks, bakes, paints a little. \r\n",
      "Working on my reading list as well.\r\n",
      "Constantly killing plants accidentally but never giving up. Currently indoors playing Animal Crossing so I am sorry if my replies are delayed.\r\n",
      "\r\n",
      "I’m not really good at checking this app, my Instagram is : @sftpetals___ \n",
      "--------------\n",
      "Living in the past is great \r\n",
      "but the present is calling \r\n",
      "so don’t be late 🍃  🌵  🌕  🧜‍♀️ two dogs, lots of family, not enough patience but I’m nice though\r\n",
      "\r\n",
      "If you read thisss send me a gif, or ur favorite song/book/series/YouTuber lol \n",
      "--------------\n",
      "I like running 🏃‍♀️ , swimming 🏊‍♀️ , coffee walks ☕️ , beer tasting 🍻 and traveling ✈️ ! \n",
      "--------------\n",
      "You can't buy happiness, but you can buy doughnuts, and that's kind of the same thing. \n",
      "--------------\n",
      "I am a graduated film undergraduate from New York University. I love NYC, California, Israel, Europe, and Australia. I have dual citizenship with USA and Australia. I love to travel and I'm an open book. I haven't had any luck on here, and don't think it works, but thought I'd give it a chance. Go ahead, prove me wrong ;) \n",
      "--------------\n",
      "Entertain me during this quarantine and maybe someday we’ll meet. \r\n",
      "\r\n",
      "Musician, Video Gamer & Coffer Lover\r\n",
      "\r\n",
      "Let’s play Overwatch, Smash Bro or Mario Kart! Accept the challenge if you dare 😈 \n",
      "--------------\n",
      "Sometimes I like to wear stretchy pants in my room... iss for fun \n",
      "--------------\n",
      "Oldies & Punk gal ⛓ 🔪 💙 🎭 I’m down to smoke and chill\r\n",
      "Don’t be boring :)\r\n",
      "Take me to the view or beach 🌄 🌌 🏖 oh yeah and I LOVE NASCAR ALOE 🏁 🖤 ₆⁶₆ \n",
      "--------------\n",
      "I have twin ten year old little girls. Hoping to meet a genuinely nice guy, which is honestly hard to find. \n",
      "--------------\n",
      "-taking a break from this. stay safe 💕 -\r\n",
      "\r\n",
      "ali, like alley. hope you like ‘em thick. ✨ looking for something with substance ✨ \n",
      "--------------\n",
      "Looking for that special person who I can make new memories with. 🥰 IG: KimKelz_831 \n",
      "--------------\n",
      "Day 18, am cutie in quarantine. What’s up? \n",
      "--------------\n",
      "Seeking fascinating people, new adventures and possibly a friend for the end of the world. Chemistry and good vibes required. \r\n",
      "\r\n",
      "So much better irl! \n",
      "--------------\n",
      "🌟 Full-time designer; creator of pins, earrings, and apparel ✨ Disneyland passholder 🥡 Boba aficionado \n",
      "--------------\n",
      "🇸🇻  🇵🇭 | 5’0” if that matters | engineering student | JJBA enthusiast | Boba snob | californian ilana wexler.\r\n",
      "I can be the e-girl of your wildest dreams. \r\n",
      "Friend Code: 1984-6009-8302\r\n",
      "IG: flyestintrovert \n",
      "--------------\n",
      "I’m a sports loving, beach going, tequila and taco munching, music belting, streaming queen who is looking for laughter, conversation and someone to grow with.....\r\n",
      "\r\n",
      "\r\n",
      "...........I’m walking in the spider webs, leave a message and I’ll call you back \n",
      "--------------\n",
      "Look, I guarantee there'll be tough times. I guarantee that at some point, one or both of us is gonna want to get out of this thing. But I also guarantee that if I don't ask you ..... \n",
      "--------------\n",
      "Let's give this a go then.. \r\n",
      "\r\n",
      "I don't text first 🤷🏻‍♀️ Dogs don't make you cute\r\n",
      "\r\n",
      "If I don't respond dw I'm probably just pretending you don't exist so show some personality sunshine 😴 😴  🏴 󠁧󠁢󠁥󠁮󠁧󠁿 🏴 󠁧󠁢󠁥󠁮󠁧󠁿 \n",
      "--------------\n",
      "🤷🏼‍♀️ 🤦🏼‍♀️ ig:@coridasso \n",
      "--------------\n",
      "Runner\r\n",
      "Southerner \r\n",
      "Beer Enthusiast \r\n",
      "Sun-Worshipper\r\n",
      "Traveller\r\n",
      "Black Coffee Drinker\r\n",
      "Trivia Expert \r\n",
      "Tolerates Hiking\r\n",
      "Bad at Parallel Parking \r\n",
      "Honest\r\n",
      "Ambitious \r\n",
      "Generous \r\n",
      "Loyal\r\n",
      "Extrovert \n",
      "--------------\n",
      "Legal secretary, and I play percussion and timpani for some orchestras around town. Intellectual, witty, artistic...I’m looking for someone to cook for.\r\n",
      "\r\n",
      "I’ve only got 4 rolls left 🧻 😭 \n",
      "--------------\n",
      "Mom \r\n",
      "Yes I wear contacts bite me\r\n",
      "Capricorn so I hate everything \r\n",
      "Cat lady \r\n",
      "Spooky babe 🧛🏻‍♀️ 🎃 Ig: _h311gurl \r\n",
      "for recent pictures \r\n",
      "My hairs is black and I don’t take this app seriously anymore so \r\n",
      "*australia Melbourne March 2020 looking for friendly faces to hang with 🖤 🥰 \n",
      "--------------\n",
      "When was the last time you did something for the first time? \n",
      "--------------\n",
      "Everything is terrible but at least we can still cyber ....... chat and have deep existential conversations to form close intimate bonds with one another \n",
      "--------------\n",
      "Pre-covid I said:\r\n",
      "In an open marriage with a wonderful partner. New to LA and excited to explore. \r\n",
      "Now I say: as it's all virtual anyway, we actually have an opportunity to have deeper conversations and make friends \n",
      "--------------\n",
      "Swipe left if you’re a pig...don’t even bother ☺️ Nurse, meow 👩🏼‍⚕️ ...NP in the making 💁🏼‍♀️ \n",
      "--------------\n",
      "Gym, hiking, food either going out finding new restaurants or cooking myself and binge watch just about everything. \n",
      "--------------\n",
      "just quarantine browsin \n",
      "--------------\n",
      "I really love Jesus and people!\r\n",
      "Yes I’m real lol\r\n",
      "IG: Julie__anne___ \n",
      "--------------\n",
      "Asian. Petite. 4'11. 97lbs. Certified Muslim. \r\n",
      "Got dumped by a guy saying 'Hes not happy anymore after doing a 3-day trip with him' VALENTINES WEEK. BS. \r\n",
      "Swipe left if you're in a hurry for meet ups. \r\n",
      "Swipe left if you go to drink and like to party. \r\n",
      "Swipe left if you're a show off. \r\n",
      "Swipe left if im a better driver than you. \r\n",
      "Swipe right if:\r\n",
      "You're gonna PM me. \r\n",
      "You have whatsapp. \r\n",
      "You can be my Peter K in this world full of shit. \r\n",
      "Snap: April Gheam \n",
      "--------------\n",
      "netflix party & chill 🖥 don’t make it weird 🙄 lets hike but stay 6ft apart the whole time and we can shout about how nice the weather is 🗣 \n",
      "--------------\n",
      "this apps a joke, swipe right tho \n",
      "--------------\n",
      "Let's see who actually sends a message....\r\n",
      "\r\n",
      "My name is Juliann, some call me JJ.\r\n",
      "\r\n",
      "I'm pretty open. Ask me anything. \n",
      "--------------\n",
      "Former Overwatch Coach & Analyst, motorcycle enthusiast, and a military girl. I embrace my weirdness. Looking for new friends at this time. \n",
      "--------------\n",
      "Los Angeles 📍 SC alum.\r\n",
      "5'10\r\n",
      "\r\n",
      "I like horrible jokes and loud music, preferably live. \n",
      "--------------\n",
      "I’m probably the only Nazmoon you’ll ever meet 🤙🏼 and can probably shotgun a beer faster than you \r\n",
      "\r\n",
      "just looking for someone to buy me cigarettes and alcohol until i’m 21 tbh\r\n",
      "\r\n",
      "idk why this is shocking but yes i have tattoos \n",
      "--------------\n",
      "I'm a preschool teacher! I have a calico cat that I rescued! I am an easy going and drama free person! \n",
      "--------------\n",
      "not w the games. 5’2 🥴 IG: @Mariadenise_ \n",
      "--------------\n",
      "Looking for someone to watch clippers game together >.< \n",
      "--------------\n",
      "Too real. \n",
      "--------------\n",
      "I just want to be wine & dined & texted periodically 🤷🏻‍♀️ \n",
      "--------------\n",
      "Snowboarder, hiker, biker, sunburner 🤦🏻‍♀️ 🤷🏻‍♀️ lets chat and grab a drink 🏂 🚴🏻‍♀️ 🐱 🏕 🏔 \n",
      "--------------\n",
      "Newly single, love to travel, bud tender 🍃 future radiology tech 🔥 Not looking for anything serious. Just good energy. I love to eat 🙌🏽 Insta : lilbaddie626 \n",
      "--------------\n",
      "✨ i am a man dressed as a woman. 🤫 your secret is safe with me \r\n",
      "(i never message first, so hmu) \n",
      "--------------\n",
      "A few things I like are camping, hiking, avocados, strawberry’s and Mexican food is my fav. Don’t be shy and I’ll try not to be either\r\n",
      "\r\n",
      "Add my 👻 leahdilday \n",
      "--------------\n",
      "Human connection anyone? Let’s FaceTime through the apocalypse. \n",
      "--------------\n",
      "Coffee is a must ☕️ Currently in grad school.\r\n",
      "Passionate about Worship leading & church ministry.\r\n",
      "Other fav things include photography, disney, Dodgers, beaches, hiking, exploring 🌲 🌊 💙 Would really appreciate someone who starts the chat first 🙃 \n",
      "--------------\n",
      "Looking for tall, dark and a pantry full of canned goods. \n",
      "--------------\n",
      "Polyam Bi woman looking for a virtual companion(s) to get through the quarantine with.\r\n",
      "Chat online, open to video chatting, and up for having Netflix viewing party dates. Open to possible IRL dating post pandemic. 🌞 ♌  ⬆️ ♒  🌜 ♈ My personality in the shape of a playlist:\r\n",
      "https://open.spotify.com/playlist/5Vfn1iJmQUWmmi7cc6jmgG?si=oMQ1o7hVS-OIiIzSG3vl-A \n",
      "--------------\n",
      "Quarantine sucks :( what’s the move? \n",
      "--------------\n",
      "It’s very hard to describe myself in writing... what about a good dinner and wine?\n",
      "Traveling around the world.... I might be in your country next time 😉 \n",
      "--------------\n",
      "I love to laugh, eat, and experience life.\n",
      "\n",
      "Definitely need some laughs during this quarantine \n",
      "--------------\n",
      "Ig @gigi.meow 💖 ✈️ 🎨 💎 🐈 🌸 \n",
      "--------------\n",
      "Honestly living in the wrong state! Should have been born and raised in the south. 🤠 Mexican American. \n",
      "Very MERICA 🇺🇸 , Very Patriotic, Very Country,\n",
      "Love to take long drives listen to music (COUNTRY music mostly, Rock, Spanish)\n",
      "Dodgers, Concerts, Food, Working Out, Traveling, Movies, Shooting. \n",
      "Need More tattoos 🌹 Very Family Oriented. \n",
      "Ain’t no skinny chick (just saying 🤷🏽‍♀️ )\n",
      "If you don’t like country music we won’t get along! Lol 🤣 Future 🚓 🚔 \n",
      "--------------\n",
      "Currently in Beijing on vacation. Lives in LA. Hoping to meet new people, get drinks, and have fun conversations :) \n",
      "--------------\n",
      "Swipe right if you want to:\n",
      "A. Play video games\n",
      "B. Get to know me\n",
      "C. Masturbate virtually in front of each other\n",
      "D. All of the above 🤙  \n",
      "--------------\n",
      "Catch me dancing to the music in public places, playing song association with everything said in a conversation, or spontaneously bursting out in a *pretty decent* British/Australian accent at any given moment. \n",
      "--------------\n",
      "snap @ leeyahlee69 \n",
      "i wouldnt be on here if it wasnt for this quarantine...\n",
      "\n",
      "i dont have socials...im not a catfish. we can facetime though.\n",
      "\n",
      "after 24 hours of silence,im unmatching with you. \n",
      "\n",
      "sometimes i swipe right because i just think you’re attractive but don’t actually care to talk. \n",
      "\n",
      "k byeeeee \n",
      "--------------\n",
      "Family\n",
      "Art\n",
      "5’2 \n",
      "Philadelphia native \n",
      "Jordanian roots\n",
      "The only thing you should assume in life is that I brought some weed 🙌🏼 Can we skip the small talk? 👽 Lowkey geek Crunchyroll and chill? 😂 Insta if that’s better for you @jessicarose._ \n",
      "Snapchat @illmakeyusmile \n",
      "--------------\n",
      "Call me weird but, talking on the phone, FaceTime before you want your to dick meet my vagina is important. If you don’t have the decency to communicate properly, just move along. \n",
      "Travel nurse so living out of a suitcase is my life, 5’11, smartass, conversation and cuddles wanted.\n",
      "I hate small talk \n",
      "Casual sex is dead. I’m gonna need you to make my soul orgasm because, I wanna fuck you & feed you & care for you & support your goals & do shit with you & help you out & take a nap with you, damn! \n",
      "--------------\n",
      "Hello My name is Lashante I’m 29 years old I’m looking for someone to connect with and see where it goes I’m not here for any hookups. Just looking for that one guy that would complete me \n",
      "--------------\n",
      "Looking for someone I can vibe with and go on adventures with\n",
      "Always down for a Vegas trip and I think that sums up the type of girl I am\n",
      "I’m more of an Apple Music girl than a Spotify girl \n",
      "--------------\n",
      "pre-Physician Assistant ⚕️ 5'6\n",
      "\n",
      "craft beer enthusiast 🍻 christian ✝️ but not a prude\n",
      "waiting for marriage to have sex again cause doing things with a penis is not worth the clarity, happiness and fulfillment (that's what she said) religion has brought me\n",
      "\n",
      "homosexuality is NOT a sin ask me why\n",
      "ally 🏳️‍🌈 no facetune or editing\n",
      "being skinny is boring 🍰 cuddles are next level \n",
      "--------------\n"
     ]
    }
   ],
   "source": [
    "for each in df[df.std_class==1].details:\n",
    "    print(each)\n",
    "    print(\"--------------\")"
   ]
  },
  {
   "cell_type": "code",
   "execution_count": 185,
   "metadata": {},
   "outputs": [
    {
     "data": {
      "application/vnd.plotly.v1+json": {
       "config": {
        "plotlyServerURL": "https://plot.ly"
       },
       "data": [
        {
         "autobinx": false,
         "histnorm": "probability density",
         "legendgroup": "cosine",
         "marker": {
          "color": "rgb(31, 119, 180)"
         },
         "name": "cosine",
         "opacity": 0.7,
         "type": "histogram",
         "x": [
          0.033217067275219885,
          0.020623662983073034,
          0.013790848826189993,
          0.03214134695681702,
          0.020308531162758915,
          0.02952980300653479,
          0.01497215106932855,
          0.0188154633603541,
          0.0363343534733859,
          0.03260364880251138,
          0.023089895462408378,
          0.03977280219833413,
          0.02209534380665114,
          0.024518697234698017,
          0.04326485608695458,
          0.01730927437942031,
          0.029812077702545146,
          0.022756434031593883,
          0.020035778747470093,
          0.023084511967245515,
          0.025195538243854402,
          0.032309371465113215,
          0.0351630312137233,
          0.018437156151321684,
          0.02617098575477064,
          0.017122260853480432,
          0.020438357723630642,
          0.04954354635325631,
          0.033405993089157524,
          0.031626783247436986,
          0.030624145314093684,
          0.04159377559189116,
          0.020115216549536297,
          0.019172248977503394,
          0.025823710666797058,
          0.02850934400309358,
          0.01258930827494218,
          0.013678149383639742,
          0.03121307348506758,
          0.01715036494780279,
          0.030556587292969284,
          0.023170569278996418,
          0.031962826173988775,
          0.01966582329607528,
          0.03572318570758292,
          0.009615384615384616,
          0.03234061667785218,
          0.026739380950639373,
          0.020736280798993003,
          0.039877873775678814,
          0.02891069675418254,
          0.037279240986266074,
          0.03442889339759528,
          0.0376709392576479,
          0.038539754634891135,
          0.020851336038536512,
          0.02592235938564018,
          0.020046225776199196,
          0.021944632570113472,
          0.030437636189110814,
          0.016257316292579913,
          0.021205851822238584,
          0.01948640794439954,
          0.018017292892470303,
          0.03134805054612733,
          0.0440524427726945,
          0.016883251142572296,
          0.045071639275291925,
          0.014109063595744818,
          0.02723719277285228,
          0.016634816421799755,
          0.013476528230261102,
          0.015798146219571582,
          0,
          0.03837560215848169,
          0.009615384615384618,
          0.0400594357452443,
          0.0404415967361414,
          0.031214780896948582,
          0.03773661696412438,
          0.024075836377599556,
          0.030069151512551594,
          0.018974746326635226,
          0,
          0.015822816002659706,
          0.027683157416647116,
          0.010518115228191193,
          0.02373652169113668,
          0.02040871265517781,
          0.03414483240187218,
          0.01578569542325253,
          0.03405908113005866,
          0.02928741406734074,
          0.023065510153903842,
          0.03757164772166706,
          0.02470600225359371,
          0.021982919021162742,
          0.03719095775147151,
          0.011610903455088568,
          0.032436715479735805,
          0.04694979368131869,
          0.035889591476825446,
          0.034596137262991516,
          0.021848050399399268
         ],
         "xaxis": "x",
         "xbins": {
          "end": 0.04954354635325631,
          "size": 0.005,
          "start": 0
         },
         "yaxis": "y"
        },
        {
         "legendgroup": "cosine",
         "marker": {
          "color": "rgb(31, 119, 180)"
         },
         "mode": "lines",
         "name": "cosine",
         "showlegend": false,
         "type": "scatter",
         "x": [
          0,
          9.908709270651261e-05,
          0.00019817418541302523,
          0.0002972612781195378,
          0.00039634837082605046,
          0.000495435463532563,
          0.0005945225562390756,
          0.0006936096489455883,
          0.0007926967416521009,
          0.0008917838343586135,
          0.000990870927065126,
          0.0010899580197716388,
          0.0011890451124781513,
          0.001288132205184664,
          0.0013872192978911767,
          0.0014863063905976891,
          0.0015853934833042018,
          0.0016844805760107145,
          0.001783567668717227,
          0.0018826547614237397,
          0.001981741854130252,
          0.002080828946836765,
          0.0021799160395432776,
          0.00227900313224979,
          0.0023780902249563025,
          0.0024771773176628154,
          0.002576264410369328,
          0.0026753515030758404,
          0.0027744385957823533,
          0.0028735256884888658,
          0.0029726127811953783,
          0.003071699873901891,
          0.0031707869666084037,
          0.003269874059314916,
          0.003368961152021429,
          0.0034680482447279415,
          0.003567135337434454,
          0.003666222430140967,
          0.0037653095228474794,
          0.003864396615553992,
          0.003963483708260504,
          0.004062570800967017,
          0.00416165789367353,
          0.004260744986380042,
          0.004359832079086555,
          0.004458919171793068,
          0.00455800626449958,
          0.004657093357206093,
          0.004756180449912605,
          0.004855267542619118,
          0.004954354635325631,
          0.005053441728032143,
          0.005152528820738656,
          0.005251615913445169,
          0.005350703006151681,
          0.005449790098858194,
          0.005548877191564707,
          0.005647964284271219,
          0.0057470513769777316,
          0.0058461384696842445,
          0.0059452255623907565,
          0.0060443126550972694,
          0.006143399747803782,
          0.006242486840510294,
          0.006341573933216807,
          0.00644066102592332,
          0.006539748118629832,
          0.006638835211336345,
          0.006737922304042858,
          0.00683700939674937,
          0.006936096489455883,
          0.007035183582162396,
          0.007134270674868908,
          0.007233357767575421,
          0.007332444860281934,
          0.007431531952988446,
          0.007530619045694959,
          0.007629706138401472,
          0.007728793231107984,
          0.007827880323814497,
          0.007926967416521009,
          0.00802605450922752,
          0.008125141601934035,
          0.008224228694640548,
          0.00832331578734706,
          0.00842240288005357,
          0.008521489972760084,
          0.008620577065466598,
          0.00871966415817311,
          0.008818751250879622,
          0.008917838343586136,
          0.009016925436292648,
          0.00911601252899916,
          0.009215099621705672,
          0.009314186714412186,
          0.0094132738071187,
          0.00951236089982521,
          0.009611447992531722,
          0.009710535085238236,
          0.00980962217794475,
          0.009908709270651262,
          0.010007796363357774,
          0.010106883456064286,
          0.0102059705487708,
          0.010305057641477312,
          0.010404144734183824,
          0.010503231826890337,
          0.010602318919596851,
          0.010701406012303362,
          0.010800493105009874,
          0.010899580197716387,
          0.010998667290422901,
          0.011097754383129413,
          0.011196841475835925,
          0.011295928568542437,
          0.011395015661248951,
          0.011494102753955463,
          0.011593189846661975,
          0.011692276939368489,
          0.011791364032075003,
          0.011890451124781513,
          0.011989538217488025,
          0.012088625310194539,
          0.012187712402901053,
          0.012286799495607565,
          0.012385886588314075,
          0.012484973681020589,
          0.012584060773727103,
          0.012683147866433615,
          0.012782234959140127,
          0.01288132205184664,
          0.012980409144553152,
          0.013079496237259665,
          0.013178583329966177,
          0.01327767042267269,
          0.013376757515379204,
          0.013475844608085716,
          0.013574931700792226,
          0.01367401879349874,
          0.013773105886205254,
          0.013872192978911766,
          0.013971280071618278,
          0.014070367164324792,
          0.014169454257031304,
          0.014268541349737816,
          0.014367628442444328,
          0.014466715535150842,
          0.014565802627857356,
          0.014664889720563868,
          0.014763976813270378,
          0.014863063905976892,
          0.014962150998683406,
          0.015061238091389918,
          0.01516032518409643,
          0.015259412276802943,
          0.015358499369509455,
          0.015457586462215967,
          0.01555667355492248,
          0.015655760647628993,
          0.015754847740335507,
          0.015853934833042017,
          0.01595302192574853,
          0.01605210901845504,
          0.016151196111161555,
          0.01625028320386807,
          0.01634937029657458,
          0.016448457389281097,
          0.016547544481987607,
          0.01664663157469412,
          0.01674571866740063,
          0.01684480576010714,
          0.01694389285281366,
          0.01704297994552017,
          0.017142067038226683,
          0.017241154130933196,
          0.017340241223639707,
          0.01743932831634622,
          0.01753841540905273,
          0.017637502501759245,
          0.01773658959446576,
          0.017835676687172272,
          0.017934763779878782,
          0.018033850872585296,
          0.01813293796529181,
          0.01823202505799832,
          0.018331112150704834,
          0.018430199243411344,
          0.018529286336117858,
          0.018628373428824372,
          0.018727460521530882,
          0.0188265476142374,
          0.01892563470694391,
          0.01902472179965042,
          0.019123808892356934,
          0.019222895985063444,
          0.01932198307776996,
          0.019421070170476472,
          0.019520157263182986,
          0.0196192443558895,
          0.01971833144859601,
          0.019817418541302523,
          0.019916505634009034,
          0.020015592726715548,
          0.02011467981942206,
          0.02021376691212857,
          0.020312854004835085,
          0.0204119410975416,
          0.020511028190248113,
          0.020610115282954623,
          0.020709202375661137,
          0.020808289468367647,
          0.02090737656107416,
          0.021006463653780675,
          0.021105550746487185,
          0.021204637839193703,
          0.021303724931900213,
          0.021402812024606723,
          0.021501899117313237,
          0.021600986210019747,
          0.021700073302726264,
          0.021799160395432775,
          0.021898247488139285,
          0.021997334580845802,
          0.022096421673552313,
          0.022195508766258826,
          0.022294595858965337,
          0.02239368295167185,
          0.022492770044378364,
          0.022591857137084875,
          0.02269094422979139,
          0.022790031322497902,
          0.022889118415204416,
          0.022988205507910926,
          0.023087292600617437,
          0.02318637969332395,
          0.023285466786030464,
          0.023384553878736978,
          0.023483640971443488,
          0.023582728064150005,
          0.023681815156856516,
          0.023780902249563026,
          0.02387998934226954,
          0.02397907643497605,
          0.024078163527682567,
          0.024177250620389078,
          0.024276337713095588,
          0.024375424805802105,
          0.024474511898508616,
          0.02457359899121513,
          0.02467268608392164,
          0.02477177317662815,
          0.024870860269334667,
          0.024969947362041178,
          0.02506903445474769,
          0.025168121547454205,
          0.02526720864016072,
          0.02536629573286723,
          0.02546538282557374,
          0.025564469918280253,
          0.025663557010986767,
          0.02576264410369328,
          0.02586173119639979,
          0.025960818289106305,
          0.02605990538181282,
          0.02615899247451933,
          0.026258079567225843,
          0.026357166659932353,
          0.02645625375263887,
          0.02655534084534538,
          0.02665442793805189,
          0.026753515030758408,
          0.02685260212346492,
          0.026951689216171432,
          0.027050776308877943,
          0.027149863401584453,
          0.02724895049429097,
          0.02734803758699748,
          0.027447124679703994,
          0.027546211772410508,
          0.027645298865117022,
          0.027744385957823532,
          0.027843473050530042,
          0.027942560143236556,
          0.02804164723594307,
          0.028140734328649584,
          0.028239821421356094,
          0.028338908514062608,
          0.02843799560676912,
          0.028537082699475632,
          0.028636169792182146,
          0.028735256884888656,
          0.02883434397759517,
          0.028933431070301684,
          0.029032518163008194,
          0.02913160525571471,
          0.02923069234842122,
          0.029329779441127735,
          0.029428866533834246,
          0.029527953626540756,
          0.029627040719247273,
          0.029726127811953783,
          0.029825214904660297,
          0.02992430199736681,
          0.03002338909007332,
          0.030122476182779835,
          0.030221563275486345,
          0.03032065036819286,
          0.030419737460899373,
          0.030518824553605887,
          0.030617911646312397,
          0.03071699873901891,
          0.030816085831725425,
          0.030915172924431935,
          0.03101426001713845,
          0.03111334710984496,
          0.031212434202551473,
          0.03131152129525799,
          0.0314106083879645,
          0.031509695480671014,
          0.03160878257337753,
          0.031707869666084035,
          0.03180695675879055,
          0.03190604385149706,
          0.03200513094420357,
          0.03210421803691008,
          0.032203305129616604,
          0.03230239222232311,
          0.032401479315029624,
          0.03250056640773614,
          0.03259965350044265,
          0.03269874059314916,
          0.03279782768585567,
          0.03289691477856219,
          0.0329960018712687,
          0.033095088963975214,
          0.03319417605668173,
          0.03329326314938824,
          0.03339235024209475,
          0.03349143733480126,
          0.033590524427507776,
          0.03368961152021428,
          0.0337886986129208,
          0.03388778570562732,
          0.03398687279833383,
          0.03408595989104034,
          0.03418504698374685,
          0.034284134076453365,
          0.03438322116915987,
          0.03448230826186639,
          0.03458139535457291,
          0.034680482447279413,
          0.03477956953998593,
          0.03487865663269244,
          0.034977743725398955,
          0.03507683081810546,
          0.035175917910811975,
          0.03527500500351849,
          0.035374092096225,
          0.03547317918893152,
          0.03557226628163803,
          0.035671353374344544,
          0.03577044046705105,
          0.035869527559757565,
          0.03596861465246408,
          0.03606770174517059,
          0.036166788837877106,
          0.03626587593058362,
          0.03636496302329013,
          0.03646405011599664,
          0.036563137208703154,
          0.03666222430140967,
          0.036761311394116175,
          0.03686039848682269,
          0.03695948557952921,
          0.037058572672235716,
          0.03715765976494223,
          0.037256746857648744,
          0.03735583395035526,
          0.037454921043061765,
          0.03755400813576828,
          0.0376530952284748,
          0.037752182321181306,
          0.03785126941388782,
          0.037950356506594334,
          0.03804944359930084,
          0.038148530692007354,
          0.03824761778471387,
          0.03834670487742038,
          0.03844579197012689,
          0.03854487906283341,
          0.03864396615553992,
          0.03874305324824643,
          0.038842140340952944,
          0.03894122743365946,
          0.03904031452636597,
          0.03913940161907248,
          0.039238488711779,
          0.03933757580448551,
          0.03943666289719202,
          0.03953574998989853,
          0.03963483708260505,
          0.03973392417531156,
          0.03983301126801807,
          0.03993209836072458,
          0.040031185453431095,
          0.04013027254613761,
          0.04022935963884412,
          0.040328446731550636,
          0.04042753382425714,
          0.04052662091696366,
          0.04062570800967017,
          0.040724795102376685,
          0.0408238821950832,
          0.04092296928778971,
          0.041022056380496226,
          0.04112114347320273,
          0.04122023056590925,
          0.04131931765861576,
          0.041418404751322274,
          0.04151749184402878,
          0.041616578936735295,
          0.041715666029441816,
          0.04181475312214832,
          0.041913840214854836,
          0.04201292730756135,
          0.04211201440026786,
          0.04221110149297437,
          0.042310188585680884,
          0.042409275678387405,
          0.04250836277109391,
          0.042607449863800426,
          0.04270653695650694,
          0.042805624049213446,
          0.04290471114191996,
          0.043003798234626474,
          0.04310288532733299,
          0.043201972420039494,
          0.043301059512746015,
          0.04340014660545253,
          0.043499233698159036,
          0.04359832079086555,
          0.04369740788357206,
          0.04379649497627857,
          0.043895582068985084,
          0.043994669161691605,
          0.04409375625439812,
          0.044192843347104625,
          0.04429193043981114,
          0.04439101753251765,
          0.04449010462522416,
          0.044589191717930673,
          0.04468827881063719,
          0.0447873659033437,
          0.044886452996050215,
          0.04498554008875673,
          0.04508462718146324,
          0.04518371427416975,
          0.04528280136687626,
          0.04538188845958278,
          0.04548097555228929,
          0.045580062644995804,
          0.04567914973770232,
          0.04577823683040883,
          0.04587732392311534,
          0.04597641101582185,
          0.046075498108528366,
          0.04617458520123487,
          0.04627367229394139,
          0.0463727593866479,
          0.04647184647935442,
          0.04657093357206093,
          0.04667002066476744,
          0.046769107757473956,
          0.04686819485018046,
          0.046967281942886976,
          0.04706636903559349,
          0.04716545612830001,
          0.04726454322100652,
          0.04736363031371303,
          0.047462717406419545,
          0.04756180449912605,
          0.047660891591832566,
          0.04775997868453908,
          0.04785906577724559,
          0.0479581528699521,
          0.04805723996265862,
          0.048156327055365135,
          0.04825541414807164,
          0.048354501240778155,
          0.04845358833348467,
          0.048552675426191176,
          0.04865176251889769,
          0.04875084961160421,
          0.048849936704310724,
          0.04894902379701723,
          0.049048110889723745,
          0.04914719798243026,
          0.049246285075136766,
          0.04934537216784328,
          0.04944445926054979
         ],
         "xaxis": "x",
         "y": [
          2.1132082063302042,
          2.1228349534306488,
          2.1318118469705936,
          2.140172227340372,
          2.1479528133334505,
          2.1551936826890445,
          2.16193824285857,
          2.168233192032774,
          2.1741284705047565,
          2.179677202482139,
          2.1849356284992147,
          2.189963028616804,
          2.194821636633602,
          2.1995765455678185,
          2.2042956047017848,
          2.2090493085146607,
          2.213910677859426,
          2.218955133769697,
          2.2242603643094974,
          2.229906184904891,
          2.2359743926200606,
          2.24254861486211,
          2.2497141530183047,
          2.2575578215467074,
          2.2661677830560603,
          2.275633379923344,
          2.2860449630075563,
          2.297493718026042,
          2.3100714901649875,
          2.323870607498538,
          2.338983703791504,
          2.355503541258617,
          2.373522833849024,
          2.3931340716180234,
          2.4144293467391997,
          2.4375001816989394,
          2.4624373602020895,
          2.489330761302249,
          2.518269197252868,
          2.54934025555621,
          2.5826301456663696,
          2.618223550779925,
          2.656203485123726,
          2.696651157123781,
          2.739645838812376,
          2.7852647418025054,
          2.833582900129683,
          2.8846730602311554,
          2.9386055783018112,
          2.995448325234612,
          3.0552665993214645,
          3.1181230468581145,
          3.1840775907640486,
          3.253187367295732,
          3.3255066708988497,
          3.4010869072126817,
          3.4799765542075045,
          3.562221131404145,
          3.6478631770934524,
          3.7369422334428295,
          3.829494839347167,
          3.9255545308523967,
          4.025151848952041,
          4.1283143545301115,
          4.23506665019808,
          4.345430408749186,
          4.459424407930315,
          4.577064571210134,
          4.6983640142019905,
          4.823333096381859,
          4.951979477724566,
          5.0843081798666745,
          5.220321651391009,
          5.360019836816312,
          5.503400248865905,
          5.650458043581462,
          5.801186097842028,
          5.955575088844496,
          6.113613575099603,
          6.2752880784972955,
          6.44058316699689,
          6.609481537501129,
          6.781964098478343,
          6.958010051904113,
          7.137596974102766,
          7.320700895079293,
          7.507296375944667,
          7.697356584051064,
          7.890853365468685,
          8.087757314452455,
          8.288037839564808,
          8.491663226139691,
          8.69860069479339,
          8.908816455708834,
          9.122275758442388,
          9.338942937025116,
          9.558781450154212,
          9.781753916294784,
          10.00782214353691,
          10.236947154078203,
          10.469089203227952,
          10.70420779285424,
          10.942261679221568,
          11.183208875192529,
          11.42700664679225,
          11.67361150416064,
          11.922979186941944,
          12.175064644186556,
          12.429822008864209,
          12.687204567111516,
          12.947164722360338,
          13.209653954515755,
          13.474622774374867,
          13.742020673498123,
          14.011796069765868,
          14.283896248872036,
          14.558267302025342,
          14.834854060146554,
          15.113600024866914,
          15.39444729664852,
          15.67733650036288,
          15.962206708677446,
          16.248995363612917,
          16.53763819664659,
          16.82806914774759,
          17.120220283740405,
          17.414021716402075,
          17.709401520706702,
          18.006285653638585,
          18.304597874001043,
          18.60425966365427,
          18.905190150619152,
          19.207306034488806,
          19.510521514590923,
          19.81474822134706,
          20.119895151274875,
          20.425868606079668,
          20.73257213628034,
          21.039906489812754,
          21.3477695660502,
          21.656056375676922,
          21.96465900684459,
          22.27346659803624,
          22.582365318053256,
          22.89123835353359,
          23.19996590439817,
          23.508425187611728,
          23.816490449631086,
          24.12403298790028,
          24.430921181735524,
          24.73702053292663,
          25.042193716361993,
          25.346300640964813,
          25.64919852120523,
          25.95074195943026,
          26.250783039227684,
          26.549171430012887,
          26.845754502999124,
          27.140377458680828,
          27.432883465927826,
          27.7231138127537,
          28.010908068786502,
          28.296104259432585,
          28.578539051685528,
          28.85804795149169,
          29.134465512542857,
          29.407625556322678,
          29.677361403190158,
          29.943506114237792,
          30.205892743616438,
          30.46435460097151,
          30.718725523588414,
          30.968840157796755,
          31.2145342491358,
          31.455644940734544,
          31.692011079313797,
          31.923473528168632,
          32.14987548644502,
          32.37106281397749,
          32.5868843609116,
          32.79719230129148,
          33.00184246975175,
          33.20069470041482,
          33.3936131670568,
          33.58046672357099,
          33.76112924372743,
          33.93547995919638,
          34.10340379478022,
          34.26479169977389,
          34.4195409743579,
          34.567555589911294,
          34.708746502121635,
          34.84303195576353,
          34.97033778001316,
          35.09059767316964,
          35.20375347565955,
          35.30975543021272,
          35.40856242811233,
          35.500142240443424,
          35.58447173328792,
          35.66153706584438,
          35.73133387048511,
          35.79386741380091,
          35.84915273772835,
          35.89721477990014,
          35.93808847241281,
          35.971818818259926,
          35.99846094473979,
          36.01808013320936,
          36.030751824623394,
          36.03656160036719,
          36.035605137964936,
          36.0279881413214,
          36.013826245232295,
          35.99324489398028,
          35.966379193914705,
          35.93337373999739,
          35.894382416382506,
          35.84956817118384,
          35.79910276566955,
          35.743166498211785,
          35.68194790340506,
          35.61564342685385,
          35.54445707621594,
          35.46860004917136,
          35.38829033907299,
          35.30375231911219,
          35.215216305917735,
          35.1229181035781,
          35.027098529156845,
          34.92800292083911,
          34.825880629917535,
          34.720984497891564,
          34.61357032001405,
          34.50389629667841,
          34.392222474092264,
          34.278810175732566,
          34.16392142612267,
          34.047818368510825,
          33.93076267806473,
          33.81301497222742,
          33.69483421990341,
          33.576477151164696,
          33.45819766917849,
          33.34024626606923,
          33.222869444427964,
          33.10630914618149,
          32.990802190523326,
          32.87657972259561,
          32.76386667459087,
          32.652881240915846,
          32.54383436902979,
          32.43692926753117,
          32.33236093302477,
          32.23031569725265,
          32.1309707959188,
          32.034493960578544,
          31.941043034899216,
          31.850765616529774,
          31.76379872574254,
          31.68026850193206,
          31.600289928972355,
          31.523966590346404,
          31.451390454871046,
          31.382641693743906,
          31.317788529541964,
          31.256887117698376,
          31.19998146088058,
          31.1471033565849,
          31.0982723781551,
          31.053495889319606,
          31.012769092232226,
          30.976075108886246,
          30.943385095659778,
          30.914658390635473,
          30.889842693224757,
          30.868874275515548,
          30.851678224648797,
          30.838168715422693,
          30.828249312213767,
          30.82181329920135,
          30.818744037779368,
          30.818915349942728,
          30.822191926340764,
          30.82842975760226,
          30.83747658745135,
          30.849172386055635,
          30.863349841974173,
          30.879834871006505,
          30.898447140183677,
          30.91900060508799,
          30.941304058643322,
          30.965161689477487,
          30.990373647928312,
          31.016736617741046,
          31.04404439149036,
          31.07208844775277,
          31.100658528057327,
          31.129543211652184,
          31.158530486143118,
          31.187408312086337,
          31.21596517965432,
          31.243990655534486,
          31.27127591827465,
          31.29761428034545,
          31.322801695258978,
          31.346637248155577,
          31.368923628351524,
          31.389467582429333,
          31.40808034654364,
          31.42457805671737,
          31.438782136005074,
          31.450519657511578,
          31.45962368236526,
          31.465933571863502,
          31.469295273126775,
          31.46956157771972,
          31.466592352821493,
          31.460254744651408,
          31.45042335398219,
          31.436980383695705,
          31.419815758461436,
          31.39882721673851,
          31.373920375422372,
          31.34500876757338,
          31.312013853778005,
          31.274865007801505,
          31.233499477296398,
          31.1878623204279,
          31.13790631937284,
          31.083591871733304,
          31.024886860987976,
          30.961766507175874,
          30.894213199073725,
          30.822216309185237,
          30.74577199291121,
          30.664882973310057,
          30.579558312892534,
          30.489813173918666,
          30.39566856868168,
          30.297151101271268,
          30.194292702308243,
          30.087130358134008,
          29.975705835920593,
          29.860065406143498,
          29.740259563825397,
          29.61634274992078,
          29.488373074163416,
          29.356412040645704,
          29.220524277339912,
          29.080777270705475,
          28.937241106456188,
          28.789988217487284,
          28.639093139881663,
          28.484632277833054,
          28.326683678238762,
          28.165326815625075,
          28.000642387981237,
          27.83271212398495,
          27.661618602013007,
          27.487445081238405,
          27.31027534502528,
          27.13019355674406,
          26.947284128041634,
          26.761631599516257,
          26.573320533665502,
          26.382435419895632,
          26.189060591307225,
          25.99328015289984,
          25.7951779207736,
          25.594837371843475,
          25.392341603526532,
          25.187773302812072,
          24.98121472408003,
          24.772747674993663,
          24.562453509760385,
          24.3504131290281,
          24.13670698566297,
          23.921415095641617,
          23.704617053281154,
          23.486392050029348,
          23.266818896039936,
          23.045976043768082,
          22.823941612835515,
          22.60079341543506,
          22.376608981569127,
          22.151465583446583,
          21.92544025839653,
          21.698609829695233,
          21.471050924744212,
          21.242839990082594,
          21.014053302763365,
          20.78476697767464,
          20.555056970437562,
          20.324999075566694,
          20.094668919632795,
          19.864141949222958,
          19.63349341354922,
          19.40279834161027,
          19.1721315138672,
          18.941567428446643,
          18.71118026193682,
          18.481043824893515,
          18.25123151221942,
          18.02181624862904,
          17.79287042945178,
          17.56446585706865,
          17.336673673314067,
          17.109564288208734,
          16.883207305419887,
          16.657671444872584,
          16.433024462957594,
          16.209333070802582,
          15.986662851086976,
          15.76507817389332,
          15.544642112095959,
          15.325416356790265,
          15.107461133267726,
          14.890835118036646,
          14.675595357382479,
          14.461797187950427,
          14.249494159819694,
          14.038737962521557,
          13.829578354433483,
          13.622063095960169,
          13.416237886886407,
          13.212146308260156,
          13.00982976913602,
          12.809327458477313,
          12.610676302484775,
          12.413910927584935,
          12.21906362927897,
          12.026164347017039,
          11.835240645228392,
          11.646317700603134,
          11.459418295685463,
          11.274562818804398,
          11.091769270333833,
          10.91105327524033,
          10.732428101845016,
          10.55590468669487,
          10.381491665409087,
          10.20919540933773,
          10.039020067843728,
          9.87096761599416,
          9.705037907424115,
          9.54122873211496,
          9.379535878810627,
          9.219953201778006,
          9.062472691602762,
          8.907084549699668,
          8.753777266205514,
          8.60253770091432,
          8.453351166908401,
          8.306201516533983,
          8.161071229368458,
          8.01794150182504,
          7.876792338042721,
          7.737602641712228,
          7.600350308493339,
          7.465012318685779,
          7.331564829823373,
          7.199983268870352,
          7.070242423709494,
          6.942316533622702,
          6.816179378478007,
          6.691804366349523,
          6.569164619311846,
          6.448233057164959,
          6.328982478860794,
          6.211385641419228,
          6.095415336136434,
          5.981044461906001,
          5.8682460954887325,
          5.756993558584162,
          5.647260481573394,
          5.539020863818661,
          5.4322491304218525,
          5.326920185359705,
          5.223009460929041,
          5.12049296345079,
          5.01934731519589,
          4.9195497925110585,
          4.821078360135633,
          4.723911701714185,
          4.6280292465225665,
          4.533411192436648,
          4.440038525184985,
          4.347893033937538,
          4.256957323292699,
          4.167214821734932,
          4.078649786644237,
          3.991247305947466,
          3.904993296509269,
          3.8198744993678813,
          3.735878471928044,
          3.652993577229283,
          3.5712089704136925,
          3.4905145825226014,
          3.410901101756045
         ],
         "yaxis": "y"
        },
        {
         "legendgroup": "cosine",
         "marker": {
          "color": "rgb(31, 119, 180)",
          "symbol": "line-ns-open"
         },
         "mode": "markers",
         "name": "cosine",
         "showlegend": false,
         "type": "scatter",
         "x": [
          0.033217067275219885,
          0.020623662983073034,
          0.013790848826189993,
          0.03214134695681702,
          0.020308531162758915,
          0.02952980300653479,
          0.01497215106932855,
          0.0188154633603541,
          0.0363343534733859,
          0.03260364880251138,
          0.023089895462408378,
          0.03977280219833413,
          0.02209534380665114,
          0.024518697234698017,
          0.04326485608695458,
          0.01730927437942031,
          0.029812077702545146,
          0.022756434031593883,
          0.020035778747470093,
          0.023084511967245515,
          0.025195538243854402,
          0.032309371465113215,
          0.0351630312137233,
          0.018437156151321684,
          0.02617098575477064,
          0.017122260853480432,
          0.020438357723630642,
          0.04954354635325631,
          0.033405993089157524,
          0.031626783247436986,
          0.030624145314093684,
          0.04159377559189116,
          0.020115216549536297,
          0.019172248977503394,
          0.025823710666797058,
          0.02850934400309358,
          0.01258930827494218,
          0.013678149383639742,
          0.03121307348506758,
          0.01715036494780279,
          0.030556587292969284,
          0.023170569278996418,
          0.031962826173988775,
          0.01966582329607528,
          0.03572318570758292,
          0.009615384615384616,
          0.03234061667785218,
          0.026739380950639373,
          0.020736280798993003,
          0.039877873775678814,
          0.02891069675418254,
          0.037279240986266074,
          0.03442889339759528,
          0.0376709392576479,
          0.038539754634891135,
          0.020851336038536512,
          0.02592235938564018,
          0.020046225776199196,
          0.021944632570113472,
          0.030437636189110814,
          0.016257316292579913,
          0.021205851822238584,
          0.01948640794439954,
          0.018017292892470303,
          0.03134805054612733,
          0.0440524427726945,
          0.016883251142572296,
          0.045071639275291925,
          0.014109063595744818,
          0.02723719277285228,
          0.016634816421799755,
          0.013476528230261102,
          0.015798146219571582,
          0,
          0.03837560215848169,
          0.009615384615384618,
          0.0400594357452443,
          0.0404415967361414,
          0.031214780896948582,
          0.03773661696412438,
          0.024075836377599556,
          0.030069151512551594,
          0.018974746326635226,
          0,
          0.015822816002659706,
          0.027683157416647116,
          0.010518115228191193,
          0.02373652169113668,
          0.02040871265517781,
          0.03414483240187218,
          0.01578569542325253,
          0.03405908113005866,
          0.02928741406734074,
          0.023065510153903842,
          0.03757164772166706,
          0.02470600225359371,
          0.021982919021162742,
          0.03719095775147151,
          0.011610903455088568,
          0.032436715479735805,
          0.04694979368131869,
          0.035889591476825446,
          0.034596137262991516,
          0.021848050399399268
         ],
         "xaxis": "x",
         "y": [
          "cosine",
          "cosine",
          "cosine",
          "cosine",
          "cosine",
          "cosine",
          "cosine",
          "cosine",
          "cosine",
          "cosine",
          "cosine",
          "cosine",
          "cosine",
          "cosine",
          "cosine",
          "cosine",
          "cosine",
          "cosine",
          "cosine",
          "cosine",
          "cosine",
          "cosine",
          "cosine",
          "cosine",
          "cosine",
          "cosine",
          "cosine",
          "cosine",
          "cosine",
          "cosine",
          "cosine",
          "cosine",
          "cosine",
          "cosine",
          "cosine",
          "cosine",
          "cosine",
          "cosine",
          "cosine",
          "cosine",
          "cosine",
          "cosine",
          "cosine",
          "cosine",
          "cosine",
          "cosine",
          "cosine",
          "cosine",
          "cosine",
          "cosine",
          "cosine",
          "cosine",
          "cosine",
          "cosine",
          "cosine",
          "cosine",
          "cosine",
          "cosine",
          "cosine",
          "cosine",
          "cosine",
          "cosine",
          "cosine",
          "cosine",
          "cosine",
          "cosine",
          "cosine",
          "cosine",
          "cosine",
          "cosine",
          "cosine",
          "cosine",
          "cosine",
          "cosine",
          "cosine",
          "cosine",
          "cosine",
          "cosine",
          "cosine",
          "cosine",
          "cosine",
          "cosine",
          "cosine",
          "cosine",
          "cosine",
          "cosine",
          "cosine",
          "cosine",
          "cosine",
          "cosine",
          "cosine",
          "cosine",
          "cosine",
          "cosine",
          "cosine",
          "cosine",
          "cosine",
          "cosine",
          "cosine",
          "cosine",
          "cosine",
          "cosine",
          "cosine",
          "cosine"
         ],
         "yaxis": "y2"
        }
       ],
       "layout": {
        "barmode": "overlay",
        "hovermode": "closest",
        "legend": {
         "traceorder": "reversed"
        },
        "shapes": [
         {
          "line": {
           "color": "Red",
           "width": 3
          },
          "type": "line",
          "x0": 0.026190527685741934,
          "x1": 0.026190527685741934,
          "y0": 0,
          "y1": 50
         },
         {
          "line": {
           "color": "Red",
           "width": 3
          },
          "type": "line",
          "x0": 0.036073927169728,
          "x1": 0.036073927169728,
          "y0": 0,
          "y1": 50
         },
         {
          "line": {
           "color": "Red",
           "width": 3
          },
          "type": "line",
          "x0": 0.016307128201755866,
          "x1": 0.016307128201755866,
          "y0": 0,
          "y1": 50
         },
         {
          "line": {
           "color": "Red",
           "width": 3
          },
          "type": "line",
          "x0": 0.04595732665371407,
          "x1": 0.04595732665371407,
          "y0": 0,
          "y1": 50
         },
         {
          "line": {
           "color": "Red",
           "width": 3
          },
          "type": "line",
          "x0": 0.0064237287177697985,
          "x1": 0.0064237287177697985,
          "y0": 0,
          "y1": 50
         }
        ],
        "template": {
         "data": {
          "bar": [
           {
            "error_x": {
             "color": "#2a3f5f"
            },
            "error_y": {
             "color": "#2a3f5f"
            },
            "marker": {
             "line": {
              "color": "#E5ECF6",
              "width": 0.5
             }
            },
            "type": "bar"
           }
          ],
          "barpolar": [
           {
            "marker": {
             "line": {
              "color": "#E5ECF6",
              "width": 0.5
             }
            },
            "type": "barpolar"
           }
          ],
          "carpet": [
           {
            "aaxis": {
             "endlinecolor": "#2a3f5f",
             "gridcolor": "white",
             "linecolor": "white",
             "minorgridcolor": "white",
             "startlinecolor": "#2a3f5f"
            },
            "baxis": {
             "endlinecolor": "#2a3f5f",
             "gridcolor": "white",
             "linecolor": "white",
             "minorgridcolor": "white",
             "startlinecolor": "#2a3f5f"
            },
            "type": "carpet"
           }
          ],
          "choropleth": [
           {
            "colorbar": {
             "outlinewidth": 0,
             "ticks": ""
            },
            "type": "choropleth"
           }
          ],
          "contour": [
           {
            "colorbar": {
             "outlinewidth": 0,
             "ticks": ""
            },
            "colorscale": [
             [
              0,
              "#0d0887"
             ],
             [
              0.1111111111111111,
              "#46039f"
             ],
             [
              0.2222222222222222,
              "#7201a8"
             ],
             [
              0.3333333333333333,
              "#9c179e"
             ],
             [
              0.4444444444444444,
              "#bd3786"
             ],
             [
              0.5555555555555556,
              "#d8576b"
             ],
             [
              0.6666666666666666,
              "#ed7953"
             ],
             [
              0.7777777777777778,
              "#fb9f3a"
             ],
             [
              0.8888888888888888,
              "#fdca26"
             ],
             [
              1,
              "#f0f921"
             ]
            ],
            "type": "contour"
           }
          ],
          "contourcarpet": [
           {
            "colorbar": {
             "outlinewidth": 0,
             "ticks": ""
            },
            "type": "contourcarpet"
           }
          ],
          "heatmap": [
           {
            "colorbar": {
             "outlinewidth": 0,
             "ticks": ""
            },
            "colorscale": [
             [
              0,
              "#0d0887"
             ],
             [
              0.1111111111111111,
              "#46039f"
             ],
             [
              0.2222222222222222,
              "#7201a8"
             ],
             [
              0.3333333333333333,
              "#9c179e"
             ],
             [
              0.4444444444444444,
              "#bd3786"
             ],
             [
              0.5555555555555556,
              "#d8576b"
             ],
             [
              0.6666666666666666,
              "#ed7953"
             ],
             [
              0.7777777777777778,
              "#fb9f3a"
             ],
             [
              0.8888888888888888,
              "#fdca26"
             ],
             [
              1,
              "#f0f921"
             ]
            ],
            "type": "heatmap"
           }
          ],
          "heatmapgl": [
           {
            "colorbar": {
             "outlinewidth": 0,
             "ticks": ""
            },
            "colorscale": [
             [
              0,
              "#0d0887"
             ],
             [
              0.1111111111111111,
              "#46039f"
             ],
             [
              0.2222222222222222,
              "#7201a8"
             ],
             [
              0.3333333333333333,
              "#9c179e"
             ],
             [
              0.4444444444444444,
              "#bd3786"
             ],
             [
              0.5555555555555556,
              "#d8576b"
             ],
             [
              0.6666666666666666,
              "#ed7953"
             ],
             [
              0.7777777777777778,
              "#fb9f3a"
             ],
             [
              0.8888888888888888,
              "#fdca26"
             ],
             [
              1,
              "#f0f921"
             ]
            ],
            "type": "heatmapgl"
           }
          ],
          "histogram": [
           {
            "marker": {
             "colorbar": {
              "outlinewidth": 0,
              "ticks": ""
             }
            },
            "type": "histogram"
           }
          ],
          "histogram2d": [
           {
            "colorbar": {
             "outlinewidth": 0,
             "ticks": ""
            },
            "colorscale": [
             [
              0,
              "#0d0887"
             ],
             [
              0.1111111111111111,
              "#46039f"
             ],
             [
              0.2222222222222222,
              "#7201a8"
             ],
             [
              0.3333333333333333,
              "#9c179e"
             ],
             [
              0.4444444444444444,
              "#bd3786"
             ],
             [
              0.5555555555555556,
              "#d8576b"
             ],
             [
              0.6666666666666666,
              "#ed7953"
             ],
             [
              0.7777777777777778,
              "#fb9f3a"
             ],
             [
              0.8888888888888888,
              "#fdca26"
             ],
             [
              1,
              "#f0f921"
             ]
            ],
            "type": "histogram2d"
           }
          ],
          "histogram2dcontour": [
           {
            "colorbar": {
             "outlinewidth": 0,
             "ticks": ""
            },
            "colorscale": [
             [
              0,
              "#0d0887"
             ],
             [
              0.1111111111111111,
              "#46039f"
             ],
             [
              0.2222222222222222,
              "#7201a8"
             ],
             [
              0.3333333333333333,
              "#9c179e"
             ],
             [
              0.4444444444444444,
              "#bd3786"
             ],
             [
              0.5555555555555556,
              "#d8576b"
             ],
             [
              0.6666666666666666,
              "#ed7953"
             ],
             [
              0.7777777777777778,
              "#fb9f3a"
             ],
             [
              0.8888888888888888,
              "#fdca26"
             ],
             [
              1,
              "#f0f921"
             ]
            ],
            "type": "histogram2dcontour"
           }
          ],
          "mesh3d": [
           {
            "colorbar": {
             "outlinewidth": 0,
             "ticks": ""
            },
            "type": "mesh3d"
           }
          ],
          "parcoords": [
           {
            "line": {
             "colorbar": {
              "outlinewidth": 0,
              "ticks": ""
             }
            },
            "type": "parcoords"
           }
          ],
          "pie": [
           {
            "automargin": true,
            "type": "pie"
           }
          ],
          "scatter": [
           {
            "marker": {
             "colorbar": {
              "outlinewidth": 0,
              "ticks": ""
             }
            },
            "type": "scatter"
           }
          ],
          "scatter3d": [
           {
            "line": {
             "colorbar": {
              "outlinewidth": 0,
              "ticks": ""
             }
            },
            "marker": {
             "colorbar": {
              "outlinewidth": 0,
              "ticks": ""
             }
            },
            "type": "scatter3d"
           }
          ],
          "scattercarpet": [
           {
            "marker": {
             "colorbar": {
              "outlinewidth": 0,
              "ticks": ""
             }
            },
            "type": "scattercarpet"
           }
          ],
          "scattergeo": [
           {
            "marker": {
             "colorbar": {
              "outlinewidth": 0,
              "ticks": ""
             }
            },
            "type": "scattergeo"
           }
          ],
          "scattergl": [
           {
            "marker": {
             "colorbar": {
              "outlinewidth": 0,
              "ticks": ""
             }
            },
            "type": "scattergl"
           }
          ],
          "scattermapbox": [
           {
            "marker": {
             "colorbar": {
              "outlinewidth": 0,
              "ticks": ""
             }
            },
            "type": "scattermapbox"
           }
          ],
          "scatterpolar": [
           {
            "marker": {
             "colorbar": {
              "outlinewidth": 0,
              "ticks": ""
             }
            },
            "type": "scatterpolar"
           }
          ],
          "scatterpolargl": [
           {
            "marker": {
             "colorbar": {
              "outlinewidth": 0,
              "ticks": ""
             }
            },
            "type": "scatterpolargl"
           }
          ],
          "scatterternary": [
           {
            "marker": {
             "colorbar": {
              "outlinewidth": 0,
              "ticks": ""
             }
            },
            "type": "scatterternary"
           }
          ],
          "surface": [
           {
            "colorbar": {
             "outlinewidth": 0,
             "ticks": ""
            },
            "colorscale": [
             [
              0,
              "#0d0887"
             ],
             [
              0.1111111111111111,
              "#46039f"
             ],
             [
              0.2222222222222222,
              "#7201a8"
             ],
             [
              0.3333333333333333,
              "#9c179e"
             ],
             [
              0.4444444444444444,
              "#bd3786"
             ],
             [
              0.5555555555555556,
              "#d8576b"
             ],
             [
              0.6666666666666666,
              "#ed7953"
             ],
             [
              0.7777777777777778,
              "#fb9f3a"
             ],
             [
              0.8888888888888888,
              "#fdca26"
             ],
             [
              1,
              "#f0f921"
             ]
            ],
            "type": "surface"
           }
          ],
          "table": [
           {
            "cells": {
             "fill": {
              "color": "#EBF0F8"
             },
             "line": {
              "color": "white"
             }
            },
            "header": {
             "fill": {
              "color": "#C8D4E3"
             },
             "line": {
              "color": "white"
             }
            },
            "type": "table"
           }
          ]
         },
         "layout": {
          "annotationdefaults": {
           "arrowcolor": "#2a3f5f",
           "arrowhead": 0,
           "arrowwidth": 1
          },
          "coloraxis": {
           "colorbar": {
            "outlinewidth": 0,
            "ticks": ""
           }
          },
          "colorscale": {
           "diverging": [
            [
             0,
             "#8e0152"
            ],
            [
             0.1,
             "#c51b7d"
            ],
            [
             0.2,
             "#de77ae"
            ],
            [
             0.3,
             "#f1b6da"
            ],
            [
             0.4,
             "#fde0ef"
            ],
            [
             0.5,
             "#f7f7f7"
            ],
            [
             0.6,
             "#e6f5d0"
            ],
            [
             0.7,
             "#b8e186"
            ],
            [
             0.8,
             "#7fbc41"
            ],
            [
             0.9,
             "#4d9221"
            ],
            [
             1,
             "#276419"
            ]
           ],
           "sequential": [
            [
             0,
             "#0d0887"
            ],
            [
             0.1111111111111111,
             "#46039f"
            ],
            [
             0.2222222222222222,
             "#7201a8"
            ],
            [
             0.3333333333333333,
             "#9c179e"
            ],
            [
             0.4444444444444444,
             "#bd3786"
            ],
            [
             0.5555555555555556,
             "#d8576b"
            ],
            [
             0.6666666666666666,
             "#ed7953"
            ],
            [
             0.7777777777777778,
             "#fb9f3a"
            ],
            [
             0.8888888888888888,
             "#fdca26"
            ],
            [
             1,
             "#f0f921"
            ]
           ],
           "sequentialminus": [
            [
             0,
             "#0d0887"
            ],
            [
             0.1111111111111111,
             "#46039f"
            ],
            [
             0.2222222222222222,
             "#7201a8"
            ],
            [
             0.3333333333333333,
             "#9c179e"
            ],
            [
             0.4444444444444444,
             "#bd3786"
            ],
            [
             0.5555555555555556,
             "#d8576b"
            ],
            [
             0.6666666666666666,
             "#ed7953"
            ],
            [
             0.7777777777777778,
             "#fb9f3a"
            ],
            [
             0.8888888888888888,
             "#fdca26"
            ],
            [
             1,
             "#f0f921"
            ]
           ]
          },
          "colorway": [
           "#636efa",
           "#EF553B",
           "#00cc96",
           "#ab63fa",
           "#FFA15A",
           "#19d3f3",
           "#FF6692",
           "#B6E880",
           "#FF97FF",
           "#FECB52"
          ],
          "font": {
           "color": "#2a3f5f"
          },
          "geo": {
           "bgcolor": "white",
           "lakecolor": "white",
           "landcolor": "#E5ECF6",
           "showlakes": true,
           "showland": true,
           "subunitcolor": "white"
          },
          "hoverlabel": {
           "align": "left"
          },
          "hovermode": "closest",
          "mapbox": {
           "style": "light"
          },
          "paper_bgcolor": "white",
          "plot_bgcolor": "#E5ECF6",
          "polar": {
           "angularaxis": {
            "gridcolor": "white",
            "linecolor": "white",
            "ticks": ""
           },
           "bgcolor": "#E5ECF6",
           "radialaxis": {
            "gridcolor": "white",
            "linecolor": "white",
            "ticks": ""
           }
          },
          "scene": {
           "xaxis": {
            "backgroundcolor": "#E5ECF6",
            "gridcolor": "white",
            "gridwidth": 2,
            "linecolor": "white",
            "showbackground": true,
            "ticks": "",
            "zerolinecolor": "white"
           },
           "yaxis": {
            "backgroundcolor": "#E5ECF6",
            "gridcolor": "white",
            "gridwidth": 2,
            "linecolor": "white",
            "showbackground": true,
            "ticks": "",
            "zerolinecolor": "white"
           },
           "zaxis": {
            "backgroundcolor": "#E5ECF6",
            "gridcolor": "white",
            "gridwidth": 2,
            "linecolor": "white",
            "showbackground": true,
            "ticks": "",
            "zerolinecolor": "white"
           }
          },
          "shapedefaults": {
           "line": {
            "color": "#2a3f5f"
           }
          },
          "ternary": {
           "aaxis": {
            "gridcolor": "white",
            "linecolor": "white",
            "ticks": ""
           },
           "baxis": {
            "gridcolor": "white",
            "linecolor": "white",
            "ticks": ""
           },
           "bgcolor": "#E5ECF6",
           "caxis": {
            "gridcolor": "white",
            "linecolor": "white",
            "ticks": ""
           }
          },
          "title": {
           "x": 0.05
          },
          "xaxis": {
           "automargin": true,
           "gridcolor": "white",
           "linecolor": "white",
           "ticks": "",
           "title": {
            "standoff": 15
           },
           "zerolinecolor": "white",
           "zerolinewidth": 2
          },
          "yaxis": {
           "automargin": true,
           "gridcolor": "white",
           "linecolor": "white",
           "ticks": "",
           "title": {
            "standoff": 15
           },
           "zerolinecolor": "white",
           "zerolinewidth": 2
          }
         }
        },
        "title": {
         "text": "Mean Similarity Distribution for Pasadena",
         "xanchor": "left"
        },
        "xaxis": {
         "anchor": "y2",
         "domain": [
          0,
          1
         ],
         "title": {
          "text": "Cosine Similarity to Average User"
         },
         "zeroline": false
        },
        "yaxis": {
         "anchor": "free",
         "domain": [
          0.35,
          1
         ],
         "position": 0,
         "title": {
          "text": "Frequency"
         }
        },
        "yaxis2": {
         "anchor": "x",
         "domain": [
          0,
          0.25
         ],
         "dtick": 1,
         "showticklabels": false
        }
       }
      },
      "text/html": [
       "<div>\n",
       "        \n",
       "        \n",
       "            <div id=\"dea61aab-8ec9-491b-a390-9e31eb0b5bf0\" class=\"plotly-graph-div\" style=\"height:525px; width:100%;\"></div>\n",
       "            <script type=\"text/javascript\">\n",
       "                require([\"plotly\"], function(Plotly) {\n",
       "                    window.PLOTLYENV=window.PLOTLYENV || {};\n",
       "                    \n",
       "                if (document.getElementById(\"dea61aab-8ec9-491b-a390-9e31eb0b5bf0\")) {\n",
       "                    Plotly.newPlot(\n",
       "                        'dea61aab-8ec9-491b-a390-9e31eb0b5bf0',\n",
       "                        [{\"autobinx\": false, \"histnorm\": \"probability density\", \"legendgroup\": \"cosine\", \"marker\": {\"color\": \"rgb(31, 119, 180)\"}, \"name\": \"cosine\", \"opacity\": 0.7, \"type\": \"histogram\", \"x\": [0.033217067275219885, 0.020623662983073034, 0.013790848826189993, 0.03214134695681702, 0.020308531162758915, 0.02952980300653479, 0.01497215106932855, 0.0188154633603541, 0.0363343534733859, 0.03260364880251138, 0.023089895462408378, 0.03977280219833413, 0.02209534380665114, 0.024518697234698017, 0.04326485608695458, 0.01730927437942031, 0.029812077702545146, 0.022756434031593883, 0.020035778747470093, 0.023084511967245515, 0.025195538243854402, 0.032309371465113215, 0.0351630312137233, 0.018437156151321684, 0.02617098575477064, 0.017122260853480432, 0.020438357723630642, 0.04954354635325631, 0.033405993089157524, 0.031626783247436986, 0.030624145314093684, 0.04159377559189116, 0.020115216549536297, 0.019172248977503394, 0.025823710666797058, 0.02850934400309358, 0.01258930827494218, 0.013678149383639742, 0.03121307348506758, 0.01715036494780279, 0.030556587292969284, 0.023170569278996418, 0.031962826173988775, 0.01966582329607528, 0.03572318570758292, 0.009615384615384616, 0.03234061667785218, 0.026739380950639373, 0.020736280798993003, 0.039877873775678814, 0.02891069675418254, 0.037279240986266074, 0.03442889339759528, 0.0376709392576479, 0.038539754634891135, 0.020851336038536512, 0.02592235938564018, 0.020046225776199196, 0.021944632570113472, 0.030437636189110814, 0.016257316292579913, 0.021205851822238584, 0.01948640794439954, 0.018017292892470303, 0.03134805054612733, 0.0440524427726945, 0.016883251142572296, 0.045071639275291925, 0.014109063595744818, 0.02723719277285228, 0.016634816421799755, 0.013476528230261102, 0.015798146219571582, 0.0, 0.03837560215848169, 0.009615384615384618, 0.0400594357452443, 0.0404415967361414, 0.031214780896948582, 0.03773661696412438, 0.024075836377599556, 0.030069151512551594, 0.018974746326635226, 0.0, 0.015822816002659706, 0.027683157416647116, 0.010518115228191193, 0.02373652169113668, 0.02040871265517781, 0.03414483240187218, 0.01578569542325253, 0.03405908113005866, 0.02928741406734074, 0.023065510153903842, 0.03757164772166706, 0.02470600225359371, 0.021982919021162742, 0.03719095775147151, 0.011610903455088568, 0.032436715479735805, 0.04694979368131869, 0.035889591476825446, 0.034596137262991516, 0.021848050399399268], \"xaxis\": \"x\", \"xbins\": {\"end\": 0.04954354635325631, \"size\": 0.005, \"start\": 0.0}, \"yaxis\": \"y\"}, {\"legendgroup\": \"cosine\", \"marker\": {\"color\": \"rgb(31, 119, 180)\"}, \"mode\": \"lines\", \"name\": \"cosine\", \"showlegend\": false, \"type\": \"scatter\", \"x\": [0.0, 9.908709270651261e-05, 0.00019817418541302523, 0.0002972612781195378, 0.00039634837082605046, 0.000495435463532563, 0.0005945225562390756, 0.0006936096489455883, 0.0007926967416521009, 0.0008917838343586135, 0.000990870927065126, 0.0010899580197716388, 0.0011890451124781513, 0.001288132205184664, 0.0013872192978911767, 0.0014863063905976891, 0.0015853934833042018, 0.0016844805760107145, 0.001783567668717227, 0.0018826547614237397, 0.001981741854130252, 0.002080828946836765, 0.0021799160395432776, 0.00227900313224979, 0.0023780902249563025, 0.0024771773176628154, 0.002576264410369328, 0.0026753515030758404, 0.0027744385957823533, 0.0028735256884888658, 0.0029726127811953783, 0.003071699873901891, 0.0031707869666084037, 0.003269874059314916, 0.003368961152021429, 0.0034680482447279415, 0.003567135337434454, 0.003666222430140967, 0.0037653095228474794, 0.003864396615553992, 0.003963483708260504, 0.004062570800967017, 0.00416165789367353, 0.004260744986380042, 0.004359832079086555, 0.004458919171793068, 0.00455800626449958, 0.004657093357206093, 0.004756180449912605, 0.004855267542619118, 0.004954354635325631, 0.005053441728032143, 0.005152528820738656, 0.005251615913445169, 0.005350703006151681, 0.005449790098858194, 0.005548877191564707, 0.005647964284271219, 0.0057470513769777316, 0.0058461384696842445, 0.0059452255623907565, 0.0060443126550972694, 0.006143399747803782, 0.006242486840510294, 0.006341573933216807, 0.00644066102592332, 0.006539748118629832, 0.006638835211336345, 0.006737922304042858, 0.00683700939674937, 0.006936096489455883, 0.007035183582162396, 0.007134270674868908, 0.007233357767575421, 0.007332444860281934, 0.007431531952988446, 0.007530619045694959, 0.007629706138401472, 0.007728793231107984, 0.007827880323814497, 0.007926967416521009, 0.00802605450922752, 0.008125141601934035, 0.008224228694640548, 0.00832331578734706, 0.00842240288005357, 0.008521489972760084, 0.008620577065466598, 0.00871966415817311, 0.008818751250879622, 0.008917838343586136, 0.009016925436292648, 0.00911601252899916, 0.009215099621705672, 0.009314186714412186, 0.0094132738071187, 0.00951236089982521, 0.009611447992531722, 0.009710535085238236, 0.00980962217794475, 0.009908709270651262, 0.010007796363357774, 0.010106883456064286, 0.0102059705487708, 0.010305057641477312, 0.010404144734183824, 0.010503231826890337, 0.010602318919596851, 0.010701406012303362, 0.010800493105009874, 0.010899580197716387, 0.010998667290422901, 0.011097754383129413, 0.011196841475835925, 0.011295928568542437, 0.011395015661248951, 0.011494102753955463, 0.011593189846661975, 0.011692276939368489, 0.011791364032075003, 0.011890451124781513, 0.011989538217488025, 0.012088625310194539, 0.012187712402901053, 0.012286799495607565, 0.012385886588314075, 0.012484973681020589, 0.012584060773727103, 0.012683147866433615, 0.012782234959140127, 0.01288132205184664, 0.012980409144553152, 0.013079496237259665, 0.013178583329966177, 0.01327767042267269, 0.013376757515379204, 0.013475844608085716, 0.013574931700792226, 0.01367401879349874, 0.013773105886205254, 0.013872192978911766, 0.013971280071618278, 0.014070367164324792, 0.014169454257031304, 0.014268541349737816, 0.014367628442444328, 0.014466715535150842, 0.014565802627857356, 0.014664889720563868, 0.014763976813270378, 0.014863063905976892, 0.014962150998683406, 0.015061238091389918, 0.01516032518409643, 0.015259412276802943, 0.015358499369509455, 0.015457586462215967, 0.01555667355492248, 0.015655760647628993, 0.015754847740335507, 0.015853934833042017, 0.01595302192574853, 0.01605210901845504, 0.016151196111161555, 0.01625028320386807, 0.01634937029657458, 0.016448457389281097, 0.016547544481987607, 0.01664663157469412, 0.01674571866740063, 0.01684480576010714, 0.01694389285281366, 0.01704297994552017, 0.017142067038226683, 0.017241154130933196, 0.017340241223639707, 0.01743932831634622, 0.01753841540905273, 0.017637502501759245, 0.01773658959446576, 0.017835676687172272, 0.017934763779878782, 0.018033850872585296, 0.01813293796529181, 0.01823202505799832, 0.018331112150704834, 0.018430199243411344, 0.018529286336117858, 0.018628373428824372, 0.018727460521530882, 0.0188265476142374, 0.01892563470694391, 0.01902472179965042, 0.019123808892356934, 0.019222895985063444, 0.01932198307776996, 0.019421070170476472, 0.019520157263182986, 0.0196192443558895, 0.01971833144859601, 0.019817418541302523, 0.019916505634009034, 0.020015592726715548, 0.02011467981942206, 0.02021376691212857, 0.020312854004835085, 0.0204119410975416, 0.020511028190248113, 0.020610115282954623, 0.020709202375661137, 0.020808289468367647, 0.02090737656107416, 0.021006463653780675, 0.021105550746487185, 0.021204637839193703, 0.021303724931900213, 0.021402812024606723, 0.021501899117313237, 0.021600986210019747, 0.021700073302726264, 0.021799160395432775, 0.021898247488139285, 0.021997334580845802, 0.022096421673552313, 0.022195508766258826, 0.022294595858965337, 0.02239368295167185, 0.022492770044378364, 0.022591857137084875, 0.02269094422979139, 0.022790031322497902, 0.022889118415204416, 0.022988205507910926, 0.023087292600617437, 0.02318637969332395, 0.023285466786030464, 0.023384553878736978, 0.023483640971443488, 0.023582728064150005, 0.023681815156856516, 0.023780902249563026, 0.02387998934226954, 0.02397907643497605, 0.024078163527682567, 0.024177250620389078, 0.024276337713095588, 0.024375424805802105, 0.024474511898508616, 0.02457359899121513, 0.02467268608392164, 0.02477177317662815, 0.024870860269334667, 0.024969947362041178, 0.02506903445474769, 0.025168121547454205, 0.02526720864016072, 0.02536629573286723, 0.02546538282557374, 0.025564469918280253, 0.025663557010986767, 0.02576264410369328, 0.02586173119639979, 0.025960818289106305, 0.02605990538181282, 0.02615899247451933, 0.026258079567225843, 0.026357166659932353, 0.02645625375263887, 0.02655534084534538, 0.02665442793805189, 0.026753515030758408, 0.02685260212346492, 0.026951689216171432, 0.027050776308877943, 0.027149863401584453, 0.02724895049429097, 0.02734803758699748, 0.027447124679703994, 0.027546211772410508, 0.027645298865117022, 0.027744385957823532, 0.027843473050530042, 0.027942560143236556, 0.02804164723594307, 0.028140734328649584, 0.028239821421356094, 0.028338908514062608, 0.02843799560676912, 0.028537082699475632, 0.028636169792182146, 0.028735256884888656, 0.02883434397759517, 0.028933431070301684, 0.029032518163008194, 0.02913160525571471, 0.02923069234842122, 0.029329779441127735, 0.029428866533834246, 0.029527953626540756, 0.029627040719247273, 0.029726127811953783, 0.029825214904660297, 0.02992430199736681, 0.03002338909007332, 0.030122476182779835, 0.030221563275486345, 0.03032065036819286, 0.030419737460899373, 0.030518824553605887, 0.030617911646312397, 0.03071699873901891, 0.030816085831725425, 0.030915172924431935, 0.03101426001713845, 0.03111334710984496, 0.031212434202551473, 0.03131152129525799, 0.0314106083879645, 0.031509695480671014, 0.03160878257337753, 0.031707869666084035, 0.03180695675879055, 0.03190604385149706, 0.03200513094420357, 0.03210421803691008, 0.032203305129616604, 0.03230239222232311, 0.032401479315029624, 0.03250056640773614, 0.03259965350044265, 0.03269874059314916, 0.03279782768585567, 0.03289691477856219, 0.0329960018712687, 0.033095088963975214, 0.03319417605668173, 0.03329326314938824, 0.03339235024209475, 0.03349143733480126, 0.033590524427507776, 0.03368961152021428, 0.0337886986129208, 0.03388778570562732, 0.03398687279833383, 0.03408595989104034, 0.03418504698374685, 0.034284134076453365, 0.03438322116915987, 0.03448230826186639, 0.03458139535457291, 0.034680482447279413, 0.03477956953998593, 0.03487865663269244, 0.034977743725398955, 0.03507683081810546, 0.035175917910811975, 0.03527500500351849, 0.035374092096225, 0.03547317918893152, 0.03557226628163803, 0.035671353374344544, 0.03577044046705105, 0.035869527559757565, 0.03596861465246408, 0.03606770174517059, 0.036166788837877106, 0.03626587593058362, 0.03636496302329013, 0.03646405011599664, 0.036563137208703154, 0.03666222430140967, 0.036761311394116175, 0.03686039848682269, 0.03695948557952921, 0.037058572672235716, 0.03715765976494223, 0.037256746857648744, 0.03735583395035526, 0.037454921043061765, 0.03755400813576828, 0.0376530952284748, 0.037752182321181306, 0.03785126941388782, 0.037950356506594334, 0.03804944359930084, 0.038148530692007354, 0.03824761778471387, 0.03834670487742038, 0.03844579197012689, 0.03854487906283341, 0.03864396615553992, 0.03874305324824643, 0.038842140340952944, 0.03894122743365946, 0.03904031452636597, 0.03913940161907248, 0.039238488711779, 0.03933757580448551, 0.03943666289719202, 0.03953574998989853, 0.03963483708260505, 0.03973392417531156, 0.03983301126801807, 0.03993209836072458, 0.040031185453431095, 0.04013027254613761, 0.04022935963884412, 0.040328446731550636, 0.04042753382425714, 0.04052662091696366, 0.04062570800967017, 0.040724795102376685, 0.0408238821950832, 0.04092296928778971, 0.041022056380496226, 0.04112114347320273, 0.04122023056590925, 0.04131931765861576, 0.041418404751322274, 0.04151749184402878, 0.041616578936735295, 0.041715666029441816, 0.04181475312214832, 0.041913840214854836, 0.04201292730756135, 0.04211201440026786, 0.04221110149297437, 0.042310188585680884, 0.042409275678387405, 0.04250836277109391, 0.042607449863800426, 0.04270653695650694, 0.042805624049213446, 0.04290471114191996, 0.043003798234626474, 0.04310288532733299, 0.043201972420039494, 0.043301059512746015, 0.04340014660545253, 0.043499233698159036, 0.04359832079086555, 0.04369740788357206, 0.04379649497627857, 0.043895582068985084, 0.043994669161691605, 0.04409375625439812, 0.044192843347104625, 0.04429193043981114, 0.04439101753251765, 0.04449010462522416, 0.044589191717930673, 0.04468827881063719, 0.0447873659033437, 0.044886452996050215, 0.04498554008875673, 0.04508462718146324, 0.04518371427416975, 0.04528280136687626, 0.04538188845958278, 0.04548097555228929, 0.045580062644995804, 0.04567914973770232, 0.04577823683040883, 0.04587732392311534, 0.04597641101582185, 0.046075498108528366, 0.04617458520123487, 0.04627367229394139, 0.0463727593866479, 0.04647184647935442, 0.04657093357206093, 0.04667002066476744, 0.046769107757473956, 0.04686819485018046, 0.046967281942886976, 0.04706636903559349, 0.04716545612830001, 0.04726454322100652, 0.04736363031371303, 0.047462717406419545, 0.04756180449912605, 0.047660891591832566, 0.04775997868453908, 0.04785906577724559, 0.0479581528699521, 0.04805723996265862, 0.048156327055365135, 0.04825541414807164, 0.048354501240778155, 0.04845358833348467, 0.048552675426191176, 0.04865176251889769, 0.04875084961160421, 0.048849936704310724, 0.04894902379701723, 0.049048110889723745, 0.04914719798243026, 0.049246285075136766, 0.04934537216784328, 0.04944445926054979], \"xaxis\": \"x\", \"y\": [2.1132082063302042, 2.1228349534306488, 2.1318118469705936, 2.140172227340372, 2.1479528133334505, 2.1551936826890445, 2.16193824285857, 2.168233192032774, 2.1741284705047565, 2.179677202482139, 2.1849356284992147, 2.189963028616804, 2.194821636633602, 2.1995765455678185, 2.2042956047017848, 2.2090493085146607, 2.213910677859426, 2.218955133769697, 2.2242603643094974, 2.229906184904891, 2.2359743926200606, 2.24254861486211, 2.2497141530183047, 2.2575578215467074, 2.2661677830560603, 2.275633379923344, 2.2860449630075563, 2.297493718026042, 2.3100714901649875, 2.323870607498538, 2.338983703791504, 2.355503541258617, 2.373522833849024, 2.3931340716180234, 2.4144293467391997, 2.4375001816989394, 2.4624373602020895, 2.489330761302249, 2.518269197252868, 2.54934025555621, 2.5826301456663696, 2.618223550779925, 2.656203485123726, 2.696651157123781, 2.739645838812376, 2.7852647418025054, 2.833582900129683, 2.8846730602311554, 2.9386055783018112, 2.995448325234612, 3.0552665993214645, 3.1181230468581145, 3.1840775907640486, 3.253187367295732, 3.3255066708988497, 3.4010869072126817, 3.4799765542075045, 3.562221131404145, 3.6478631770934524, 3.7369422334428295, 3.829494839347167, 3.9255545308523967, 4.025151848952041, 4.1283143545301115, 4.23506665019808, 4.345430408749186, 4.459424407930315, 4.577064571210134, 4.6983640142019905, 4.823333096381859, 4.951979477724566, 5.0843081798666745, 5.220321651391009, 5.360019836816312, 5.503400248865905, 5.650458043581462, 5.801186097842028, 5.955575088844496, 6.113613575099603, 6.2752880784972955, 6.44058316699689, 6.609481537501129, 6.781964098478343, 6.958010051904113, 7.137596974102766, 7.320700895079293, 7.507296375944667, 7.697356584051064, 7.890853365468685, 8.087757314452455, 8.288037839564808, 8.491663226139691, 8.69860069479339, 8.908816455708834, 9.122275758442388, 9.338942937025116, 9.558781450154212, 9.781753916294784, 10.00782214353691, 10.236947154078203, 10.469089203227952, 10.70420779285424, 10.942261679221568, 11.183208875192529, 11.42700664679225, 11.67361150416064, 11.922979186941944, 12.175064644186556, 12.429822008864209, 12.687204567111516, 12.947164722360338, 13.209653954515755, 13.474622774374867, 13.742020673498123, 14.011796069765868, 14.283896248872036, 14.558267302025342, 14.834854060146554, 15.113600024866914, 15.39444729664852, 15.67733650036288, 15.962206708677446, 16.248995363612917, 16.53763819664659, 16.82806914774759, 17.120220283740405, 17.414021716402075, 17.709401520706702, 18.006285653638585, 18.304597874001043, 18.60425966365427, 18.905190150619152, 19.207306034488806, 19.510521514590923, 19.81474822134706, 20.119895151274875, 20.425868606079668, 20.73257213628034, 21.039906489812754, 21.3477695660502, 21.656056375676922, 21.96465900684459, 22.27346659803624, 22.582365318053256, 22.89123835353359, 23.19996590439817, 23.508425187611728, 23.816490449631086, 24.12403298790028, 24.430921181735524, 24.73702053292663, 25.042193716361993, 25.346300640964813, 25.64919852120523, 25.95074195943026, 26.250783039227684, 26.549171430012887, 26.845754502999124, 27.140377458680828, 27.432883465927826, 27.7231138127537, 28.010908068786502, 28.296104259432585, 28.578539051685528, 28.85804795149169, 29.134465512542857, 29.407625556322678, 29.677361403190158, 29.943506114237792, 30.205892743616438, 30.46435460097151, 30.718725523588414, 30.968840157796755, 31.2145342491358, 31.455644940734544, 31.692011079313797, 31.923473528168632, 32.14987548644502, 32.37106281397749, 32.5868843609116, 32.79719230129148, 33.00184246975175, 33.20069470041482, 33.3936131670568, 33.58046672357099, 33.76112924372743, 33.93547995919638, 34.10340379478022, 34.26479169977389, 34.4195409743579, 34.567555589911294, 34.708746502121635, 34.84303195576353, 34.97033778001316, 35.09059767316964, 35.20375347565955, 35.30975543021272, 35.40856242811233, 35.500142240443424, 35.58447173328792, 35.66153706584438, 35.73133387048511, 35.79386741380091, 35.84915273772835, 35.89721477990014, 35.93808847241281, 35.971818818259926, 35.99846094473979, 36.01808013320936, 36.030751824623394, 36.03656160036719, 36.035605137964936, 36.0279881413214, 36.013826245232295, 35.99324489398028, 35.966379193914705, 35.93337373999739, 35.894382416382506, 35.84956817118384, 35.79910276566955, 35.743166498211785, 35.68194790340506, 35.61564342685385, 35.54445707621594, 35.46860004917136, 35.38829033907299, 35.30375231911219, 35.215216305917735, 35.1229181035781, 35.027098529156845, 34.92800292083911, 34.825880629917535, 34.720984497891564, 34.61357032001405, 34.50389629667841, 34.392222474092264, 34.278810175732566, 34.16392142612267, 34.047818368510825, 33.93076267806473, 33.81301497222742, 33.69483421990341, 33.576477151164696, 33.45819766917849, 33.34024626606923, 33.222869444427964, 33.10630914618149, 32.990802190523326, 32.87657972259561, 32.76386667459087, 32.652881240915846, 32.54383436902979, 32.43692926753117, 32.33236093302477, 32.23031569725265, 32.1309707959188, 32.034493960578544, 31.941043034899216, 31.850765616529774, 31.76379872574254, 31.68026850193206, 31.600289928972355, 31.523966590346404, 31.451390454871046, 31.382641693743906, 31.317788529541964, 31.256887117698376, 31.19998146088058, 31.1471033565849, 31.0982723781551, 31.053495889319606, 31.012769092232226, 30.976075108886246, 30.943385095659778, 30.914658390635473, 30.889842693224757, 30.868874275515548, 30.851678224648797, 30.838168715422693, 30.828249312213767, 30.82181329920135, 30.818744037779368, 30.818915349942728, 30.822191926340764, 30.82842975760226, 30.83747658745135, 30.849172386055635, 30.863349841974173, 30.879834871006505, 30.898447140183677, 30.91900060508799, 30.941304058643322, 30.965161689477487, 30.990373647928312, 31.016736617741046, 31.04404439149036, 31.07208844775277, 31.100658528057327, 31.129543211652184, 31.158530486143118, 31.187408312086337, 31.21596517965432, 31.243990655534486, 31.27127591827465, 31.29761428034545, 31.322801695258978, 31.346637248155577, 31.368923628351524, 31.389467582429333, 31.40808034654364, 31.42457805671737, 31.438782136005074, 31.450519657511578, 31.45962368236526, 31.465933571863502, 31.469295273126775, 31.46956157771972, 31.466592352821493, 31.460254744651408, 31.45042335398219, 31.436980383695705, 31.419815758461436, 31.39882721673851, 31.373920375422372, 31.34500876757338, 31.312013853778005, 31.274865007801505, 31.233499477296398, 31.1878623204279, 31.13790631937284, 31.083591871733304, 31.024886860987976, 30.961766507175874, 30.894213199073725, 30.822216309185237, 30.74577199291121, 30.664882973310057, 30.579558312892534, 30.489813173918666, 30.39566856868168, 30.297151101271268, 30.194292702308243, 30.087130358134008, 29.975705835920593, 29.860065406143498, 29.740259563825397, 29.61634274992078, 29.488373074163416, 29.356412040645704, 29.220524277339912, 29.080777270705475, 28.937241106456188, 28.789988217487284, 28.639093139881663, 28.484632277833054, 28.326683678238762, 28.165326815625075, 28.000642387981237, 27.83271212398495, 27.661618602013007, 27.487445081238405, 27.31027534502528, 27.13019355674406, 26.947284128041634, 26.761631599516257, 26.573320533665502, 26.382435419895632, 26.189060591307225, 25.99328015289984, 25.7951779207736, 25.594837371843475, 25.392341603526532, 25.187773302812072, 24.98121472408003, 24.772747674993663, 24.562453509760385, 24.3504131290281, 24.13670698566297, 23.921415095641617, 23.704617053281154, 23.486392050029348, 23.266818896039936, 23.045976043768082, 22.823941612835515, 22.60079341543506, 22.376608981569127, 22.151465583446583, 21.92544025839653, 21.698609829695233, 21.471050924744212, 21.242839990082594, 21.014053302763365, 20.78476697767464, 20.555056970437562, 20.324999075566694, 20.094668919632795, 19.864141949222958, 19.63349341354922, 19.40279834161027, 19.1721315138672, 18.941567428446643, 18.71118026193682, 18.481043824893515, 18.25123151221942, 18.02181624862904, 17.79287042945178, 17.56446585706865, 17.336673673314067, 17.109564288208734, 16.883207305419887, 16.657671444872584, 16.433024462957594, 16.209333070802582, 15.986662851086976, 15.76507817389332, 15.544642112095959, 15.325416356790265, 15.107461133267726, 14.890835118036646, 14.675595357382479, 14.461797187950427, 14.249494159819694, 14.038737962521557, 13.829578354433483, 13.622063095960169, 13.416237886886407, 13.212146308260156, 13.00982976913602, 12.809327458477313, 12.610676302484775, 12.413910927584935, 12.21906362927897, 12.026164347017039, 11.835240645228392, 11.646317700603134, 11.459418295685463, 11.274562818804398, 11.091769270333833, 10.91105327524033, 10.732428101845016, 10.55590468669487, 10.381491665409087, 10.20919540933773, 10.039020067843728, 9.87096761599416, 9.705037907424115, 9.54122873211496, 9.379535878810627, 9.219953201778006, 9.062472691602762, 8.907084549699668, 8.753777266205514, 8.60253770091432, 8.453351166908401, 8.306201516533983, 8.161071229368458, 8.01794150182504, 7.876792338042721, 7.737602641712228, 7.600350308493339, 7.465012318685779, 7.331564829823373, 7.199983268870352, 7.070242423709494, 6.942316533622702, 6.816179378478007, 6.691804366349523, 6.569164619311846, 6.448233057164959, 6.328982478860794, 6.211385641419228, 6.095415336136434, 5.981044461906001, 5.8682460954887325, 5.756993558584162, 5.647260481573394, 5.539020863818661, 5.4322491304218525, 5.326920185359705, 5.223009460929041, 5.12049296345079, 5.01934731519589, 4.9195497925110585, 4.821078360135633, 4.723911701714185, 4.6280292465225665, 4.533411192436648, 4.440038525184985, 4.347893033937538, 4.256957323292699, 4.167214821734932, 4.078649786644237, 3.991247305947466, 3.904993296509269, 3.8198744993678813, 3.735878471928044, 3.652993577229283, 3.5712089704136925, 3.4905145825226014, 3.410901101756045], \"yaxis\": \"y\"}, {\"legendgroup\": \"cosine\", \"marker\": {\"color\": \"rgb(31, 119, 180)\", \"symbol\": \"line-ns-open\"}, \"mode\": \"markers\", \"name\": \"cosine\", \"showlegend\": false, \"type\": \"scatter\", \"x\": [0.033217067275219885, 0.020623662983073034, 0.013790848826189993, 0.03214134695681702, 0.020308531162758915, 0.02952980300653479, 0.01497215106932855, 0.0188154633603541, 0.0363343534733859, 0.03260364880251138, 0.023089895462408378, 0.03977280219833413, 0.02209534380665114, 0.024518697234698017, 0.04326485608695458, 0.01730927437942031, 0.029812077702545146, 0.022756434031593883, 0.020035778747470093, 0.023084511967245515, 0.025195538243854402, 0.032309371465113215, 0.0351630312137233, 0.018437156151321684, 0.02617098575477064, 0.017122260853480432, 0.020438357723630642, 0.04954354635325631, 0.033405993089157524, 0.031626783247436986, 0.030624145314093684, 0.04159377559189116, 0.020115216549536297, 0.019172248977503394, 0.025823710666797058, 0.02850934400309358, 0.01258930827494218, 0.013678149383639742, 0.03121307348506758, 0.01715036494780279, 0.030556587292969284, 0.023170569278996418, 0.031962826173988775, 0.01966582329607528, 0.03572318570758292, 0.009615384615384616, 0.03234061667785218, 0.026739380950639373, 0.020736280798993003, 0.039877873775678814, 0.02891069675418254, 0.037279240986266074, 0.03442889339759528, 0.0376709392576479, 0.038539754634891135, 0.020851336038536512, 0.02592235938564018, 0.020046225776199196, 0.021944632570113472, 0.030437636189110814, 0.016257316292579913, 0.021205851822238584, 0.01948640794439954, 0.018017292892470303, 0.03134805054612733, 0.0440524427726945, 0.016883251142572296, 0.045071639275291925, 0.014109063595744818, 0.02723719277285228, 0.016634816421799755, 0.013476528230261102, 0.015798146219571582, 0.0, 0.03837560215848169, 0.009615384615384618, 0.0400594357452443, 0.0404415967361414, 0.031214780896948582, 0.03773661696412438, 0.024075836377599556, 0.030069151512551594, 0.018974746326635226, 0.0, 0.015822816002659706, 0.027683157416647116, 0.010518115228191193, 0.02373652169113668, 0.02040871265517781, 0.03414483240187218, 0.01578569542325253, 0.03405908113005866, 0.02928741406734074, 0.023065510153903842, 0.03757164772166706, 0.02470600225359371, 0.021982919021162742, 0.03719095775147151, 0.011610903455088568, 0.032436715479735805, 0.04694979368131869, 0.035889591476825446, 0.034596137262991516, 0.021848050399399268], \"xaxis\": \"x\", \"y\": [\"cosine\", \"cosine\", \"cosine\", \"cosine\", \"cosine\", \"cosine\", \"cosine\", \"cosine\", \"cosine\", \"cosine\", \"cosine\", \"cosine\", \"cosine\", \"cosine\", \"cosine\", \"cosine\", \"cosine\", \"cosine\", \"cosine\", \"cosine\", \"cosine\", \"cosine\", \"cosine\", \"cosine\", \"cosine\", \"cosine\", \"cosine\", \"cosine\", \"cosine\", \"cosine\", \"cosine\", \"cosine\", \"cosine\", \"cosine\", \"cosine\", \"cosine\", \"cosine\", \"cosine\", \"cosine\", \"cosine\", \"cosine\", \"cosine\", \"cosine\", \"cosine\", \"cosine\", \"cosine\", \"cosine\", \"cosine\", \"cosine\", \"cosine\", \"cosine\", \"cosine\", \"cosine\", \"cosine\", \"cosine\", \"cosine\", \"cosine\", \"cosine\", \"cosine\", \"cosine\", \"cosine\", \"cosine\", \"cosine\", \"cosine\", \"cosine\", \"cosine\", \"cosine\", \"cosine\", \"cosine\", \"cosine\", \"cosine\", \"cosine\", \"cosine\", \"cosine\", \"cosine\", \"cosine\", \"cosine\", \"cosine\", \"cosine\", \"cosine\", \"cosine\", \"cosine\", \"cosine\", \"cosine\", \"cosine\", \"cosine\", \"cosine\", \"cosine\", \"cosine\", \"cosine\", \"cosine\", \"cosine\", \"cosine\", \"cosine\", \"cosine\", \"cosine\", \"cosine\", \"cosine\", \"cosine\", \"cosine\", \"cosine\", \"cosine\", \"cosine\", \"cosine\"], \"yaxis\": \"y2\"}],\n",
       "                        {\"barmode\": \"overlay\", \"hovermode\": \"closest\", \"legend\": {\"traceorder\": \"reversed\"}, \"shapes\": [{\"line\": {\"color\": \"Red\", \"width\": 3}, \"type\": \"line\", \"x0\": 0.026190527685741934, \"x1\": 0.026190527685741934, \"y0\": 0, \"y1\": 50}, {\"line\": {\"color\": \"Red\", \"width\": 3}, \"type\": \"line\", \"x0\": 0.036073927169728, \"x1\": 0.036073927169728, \"y0\": 0, \"y1\": 50}, {\"line\": {\"color\": \"Red\", \"width\": 3}, \"type\": \"line\", \"x0\": 0.016307128201755866, \"x1\": 0.016307128201755866, \"y0\": 0, \"y1\": 50}, {\"line\": {\"color\": \"Red\", \"width\": 3}, \"type\": \"line\", \"x0\": 0.04595732665371407, \"x1\": 0.04595732665371407, \"y0\": 0, \"y1\": 50}, {\"line\": {\"color\": \"Red\", \"width\": 3}, \"type\": \"line\", \"x0\": 0.0064237287177697985, \"x1\": 0.0064237287177697985, \"y0\": 0, \"y1\": 50}], \"template\": {\"data\": {\"bar\": [{\"error_x\": {\"color\": \"#2a3f5f\"}, \"error_y\": {\"color\": \"#2a3f5f\"}, \"marker\": {\"line\": {\"color\": \"#E5ECF6\", \"width\": 0.5}}, \"type\": \"bar\"}], \"barpolar\": [{\"marker\": {\"line\": {\"color\": \"#E5ECF6\", \"width\": 0.5}}, \"type\": \"barpolar\"}], \"carpet\": [{\"aaxis\": {\"endlinecolor\": \"#2a3f5f\", \"gridcolor\": \"white\", \"linecolor\": \"white\", \"minorgridcolor\": \"white\", \"startlinecolor\": \"#2a3f5f\"}, \"baxis\": {\"endlinecolor\": \"#2a3f5f\", \"gridcolor\": \"white\", \"linecolor\": \"white\", \"minorgridcolor\": \"white\", \"startlinecolor\": \"#2a3f5f\"}, \"type\": \"carpet\"}], \"choropleth\": [{\"colorbar\": {\"outlinewidth\": 0, \"ticks\": \"\"}, \"type\": \"choropleth\"}], \"contour\": [{\"colorbar\": {\"outlinewidth\": 0, \"ticks\": \"\"}, \"colorscale\": [[0.0, \"#0d0887\"], [0.1111111111111111, \"#46039f\"], [0.2222222222222222, \"#7201a8\"], [0.3333333333333333, \"#9c179e\"], [0.4444444444444444, \"#bd3786\"], [0.5555555555555556, \"#d8576b\"], [0.6666666666666666, \"#ed7953\"], [0.7777777777777778, \"#fb9f3a\"], [0.8888888888888888, \"#fdca26\"], [1.0, \"#f0f921\"]], \"type\": \"contour\"}], \"contourcarpet\": [{\"colorbar\": {\"outlinewidth\": 0, \"ticks\": \"\"}, \"type\": \"contourcarpet\"}], \"heatmap\": [{\"colorbar\": {\"outlinewidth\": 0, \"ticks\": \"\"}, \"colorscale\": [[0.0, \"#0d0887\"], [0.1111111111111111, \"#46039f\"], [0.2222222222222222, \"#7201a8\"], [0.3333333333333333, \"#9c179e\"], [0.4444444444444444, \"#bd3786\"], [0.5555555555555556, \"#d8576b\"], [0.6666666666666666, \"#ed7953\"], [0.7777777777777778, \"#fb9f3a\"], [0.8888888888888888, \"#fdca26\"], [1.0, \"#f0f921\"]], \"type\": \"heatmap\"}], \"heatmapgl\": [{\"colorbar\": {\"outlinewidth\": 0, \"ticks\": \"\"}, \"colorscale\": [[0.0, \"#0d0887\"], [0.1111111111111111, \"#46039f\"], [0.2222222222222222, \"#7201a8\"], [0.3333333333333333, \"#9c179e\"], [0.4444444444444444, \"#bd3786\"], [0.5555555555555556, \"#d8576b\"], [0.6666666666666666, \"#ed7953\"], [0.7777777777777778, \"#fb9f3a\"], [0.8888888888888888, \"#fdca26\"], [1.0, \"#f0f921\"]], \"type\": \"heatmapgl\"}], \"histogram\": [{\"marker\": {\"colorbar\": {\"outlinewidth\": 0, \"ticks\": \"\"}}, \"type\": \"histogram\"}], \"histogram2d\": [{\"colorbar\": {\"outlinewidth\": 0, \"ticks\": \"\"}, \"colorscale\": [[0.0, \"#0d0887\"], [0.1111111111111111, \"#46039f\"], [0.2222222222222222, \"#7201a8\"], [0.3333333333333333, \"#9c179e\"], [0.4444444444444444, \"#bd3786\"], [0.5555555555555556, \"#d8576b\"], [0.6666666666666666, \"#ed7953\"], [0.7777777777777778, \"#fb9f3a\"], [0.8888888888888888, \"#fdca26\"], [1.0, \"#f0f921\"]], \"type\": \"histogram2d\"}], \"histogram2dcontour\": [{\"colorbar\": {\"outlinewidth\": 0, \"ticks\": \"\"}, \"colorscale\": [[0.0, \"#0d0887\"], [0.1111111111111111, \"#46039f\"], [0.2222222222222222, \"#7201a8\"], [0.3333333333333333, \"#9c179e\"], [0.4444444444444444, \"#bd3786\"], [0.5555555555555556, \"#d8576b\"], [0.6666666666666666, \"#ed7953\"], [0.7777777777777778, \"#fb9f3a\"], [0.8888888888888888, \"#fdca26\"], [1.0, \"#f0f921\"]], \"type\": \"histogram2dcontour\"}], \"mesh3d\": [{\"colorbar\": {\"outlinewidth\": 0, \"ticks\": \"\"}, \"type\": \"mesh3d\"}], \"parcoords\": [{\"line\": {\"colorbar\": {\"outlinewidth\": 0, \"ticks\": \"\"}}, \"type\": \"parcoords\"}], \"pie\": [{\"automargin\": true, \"type\": \"pie\"}], \"scatter\": [{\"marker\": {\"colorbar\": {\"outlinewidth\": 0, \"ticks\": \"\"}}, \"type\": \"scatter\"}], \"scatter3d\": [{\"line\": {\"colorbar\": {\"outlinewidth\": 0, \"ticks\": \"\"}}, \"marker\": {\"colorbar\": {\"outlinewidth\": 0, \"ticks\": \"\"}}, \"type\": \"scatter3d\"}], \"scattercarpet\": [{\"marker\": {\"colorbar\": {\"outlinewidth\": 0, \"ticks\": \"\"}}, \"type\": \"scattercarpet\"}], \"scattergeo\": [{\"marker\": {\"colorbar\": {\"outlinewidth\": 0, \"ticks\": \"\"}}, \"type\": \"scattergeo\"}], \"scattergl\": [{\"marker\": {\"colorbar\": {\"outlinewidth\": 0, \"ticks\": \"\"}}, \"type\": \"scattergl\"}], \"scattermapbox\": [{\"marker\": {\"colorbar\": {\"outlinewidth\": 0, \"ticks\": \"\"}}, \"type\": \"scattermapbox\"}], \"scatterpolar\": [{\"marker\": {\"colorbar\": {\"outlinewidth\": 0, \"ticks\": \"\"}}, \"type\": \"scatterpolar\"}], \"scatterpolargl\": [{\"marker\": {\"colorbar\": {\"outlinewidth\": 0, \"ticks\": \"\"}}, \"type\": \"scatterpolargl\"}], \"scatterternary\": [{\"marker\": {\"colorbar\": {\"outlinewidth\": 0, \"ticks\": \"\"}}, \"type\": \"scatterternary\"}], \"surface\": [{\"colorbar\": {\"outlinewidth\": 0, \"ticks\": \"\"}, \"colorscale\": [[0.0, \"#0d0887\"], [0.1111111111111111, \"#46039f\"], [0.2222222222222222, \"#7201a8\"], [0.3333333333333333, \"#9c179e\"], [0.4444444444444444, \"#bd3786\"], [0.5555555555555556, \"#d8576b\"], [0.6666666666666666, \"#ed7953\"], [0.7777777777777778, \"#fb9f3a\"], [0.8888888888888888, \"#fdca26\"], [1.0, \"#f0f921\"]], \"type\": \"surface\"}], \"table\": [{\"cells\": {\"fill\": {\"color\": \"#EBF0F8\"}, \"line\": {\"color\": \"white\"}}, \"header\": {\"fill\": {\"color\": \"#C8D4E3\"}, \"line\": {\"color\": \"white\"}}, \"type\": \"table\"}]}, \"layout\": {\"annotationdefaults\": {\"arrowcolor\": \"#2a3f5f\", \"arrowhead\": 0, \"arrowwidth\": 1}, \"coloraxis\": {\"colorbar\": {\"outlinewidth\": 0, \"ticks\": \"\"}}, \"colorscale\": {\"diverging\": [[0, \"#8e0152\"], [0.1, \"#c51b7d\"], [0.2, \"#de77ae\"], [0.3, \"#f1b6da\"], [0.4, \"#fde0ef\"], [0.5, \"#f7f7f7\"], [0.6, \"#e6f5d0\"], [0.7, \"#b8e186\"], [0.8, \"#7fbc41\"], [0.9, \"#4d9221\"], [1, \"#276419\"]], \"sequential\": [[0.0, \"#0d0887\"], [0.1111111111111111, \"#46039f\"], [0.2222222222222222, \"#7201a8\"], [0.3333333333333333, \"#9c179e\"], [0.4444444444444444, \"#bd3786\"], [0.5555555555555556, \"#d8576b\"], [0.6666666666666666, \"#ed7953\"], [0.7777777777777778, \"#fb9f3a\"], [0.8888888888888888, \"#fdca26\"], [1.0, \"#f0f921\"]], \"sequentialminus\": [[0.0, \"#0d0887\"], [0.1111111111111111, \"#46039f\"], [0.2222222222222222, \"#7201a8\"], [0.3333333333333333, \"#9c179e\"], [0.4444444444444444, \"#bd3786\"], [0.5555555555555556, \"#d8576b\"], [0.6666666666666666, \"#ed7953\"], [0.7777777777777778, \"#fb9f3a\"], [0.8888888888888888, \"#fdca26\"], [1.0, \"#f0f921\"]]}, \"colorway\": [\"#636efa\", \"#EF553B\", \"#00cc96\", \"#ab63fa\", \"#FFA15A\", \"#19d3f3\", \"#FF6692\", \"#B6E880\", \"#FF97FF\", \"#FECB52\"], \"font\": {\"color\": \"#2a3f5f\"}, \"geo\": {\"bgcolor\": \"white\", \"lakecolor\": \"white\", \"landcolor\": \"#E5ECF6\", \"showlakes\": true, \"showland\": true, \"subunitcolor\": \"white\"}, \"hoverlabel\": {\"align\": \"left\"}, \"hovermode\": \"closest\", \"mapbox\": {\"style\": \"light\"}, \"paper_bgcolor\": \"white\", \"plot_bgcolor\": \"#E5ECF6\", \"polar\": {\"angularaxis\": {\"gridcolor\": \"white\", \"linecolor\": \"white\", \"ticks\": \"\"}, \"bgcolor\": \"#E5ECF6\", \"radialaxis\": {\"gridcolor\": \"white\", \"linecolor\": \"white\", \"ticks\": \"\"}}, \"scene\": {\"xaxis\": {\"backgroundcolor\": \"#E5ECF6\", \"gridcolor\": \"white\", \"gridwidth\": 2, \"linecolor\": \"white\", \"showbackground\": true, \"ticks\": \"\", \"zerolinecolor\": \"white\"}, \"yaxis\": {\"backgroundcolor\": \"#E5ECF6\", \"gridcolor\": \"white\", \"gridwidth\": 2, \"linecolor\": \"white\", \"showbackground\": true, \"ticks\": \"\", \"zerolinecolor\": \"white\"}, \"zaxis\": {\"backgroundcolor\": \"#E5ECF6\", \"gridcolor\": \"white\", \"gridwidth\": 2, \"linecolor\": \"white\", \"showbackground\": true, \"ticks\": \"\", \"zerolinecolor\": \"white\"}}, \"shapedefaults\": {\"line\": {\"color\": \"#2a3f5f\"}}, \"ternary\": {\"aaxis\": {\"gridcolor\": \"white\", \"linecolor\": \"white\", \"ticks\": \"\"}, \"baxis\": {\"gridcolor\": \"white\", \"linecolor\": \"white\", \"ticks\": \"\"}, \"bgcolor\": \"#E5ECF6\", \"caxis\": {\"gridcolor\": \"white\", \"linecolor\": \"white\", \"ticks\": \"\"}}, \"title\": {\"x\": 0.05}, \"xaxis\": {\"automargin\": true, \"gridcolor\": \"white\", \"linecolor\": \"white\", \"ticks\": \"\", \"title\": {\"standoff\": 15}, \"zerolinecolor\": \"white\", \"zerolinewidth\": 2}, \"yaxis\": {\"automargin\": true, \"gridcolor\": \"white\", \"linecolor\": \"white\", \"ticks\": \"\", \"title\": {\"standoff\": 15}, \"zerolinecolor\": \"white\", \"zerolinewidth\": 2}}}, \"title\": {\"text\": \"Mean Similarity Distribution for Pasadena\", \"xanchor\": \"left\"}, \"xaxis\": {\"anchor\": \"y2\", \"domain\": [0.0, 1.0], \"title\": {\"text\": \"Cosine Similarity to Average User\"}, \"zeroline\": false}, \"yaxis\": {\"anchor\": \"free\", \"domain\": [0.35, 1], \"position\": 0.0, \"title\": {\"text\": \"Frequency\"}}, \"yaxis2\": {\"anchor\": \"x\", \"domain\": [0, 0.25], \"dtick\": 1, \"showticklabels\": false}},\n",
       "                        {\"responsive\": true}\n",
       "                    ).then(function(){\n",
       "                            \n",
       "var gd = document.getElementById('dea61aab-8ec9-491b-a390-9e31eb0b5bf0');\n",
       "var x = new MutationObserver(function (mutations, observer) {{\n",
       "        var display = window.getComputedStyle(gd).display;\n",
       "        if (!display || display === 'none') {{\n",
       "            console.log([gd, 'removed!']);\n",
       "            Plotly.purge(gd);\n",
       "            observer.disconnect();\n",
       "        }}\n",
       "}});\n",
       "\n",
       "// Listen for the removal of the full notebook cells\n",
       "var notebookContainer = gd.closest('#notebook-container');\n",
       "if (notebookContainer) {{\n",
       "    x.observe(notebookContainer, {childList: true});\n",
       "}}\n",
       "\n",
       "// Listen for the clearing of the current output cell\n",
       "var outputEl = gd.closest('.output');\n",
       "if (outputEl) {{\n",
       "    x.observe(outputEl, {childList: true});\n",
       "}}\n",
       "\n",
       "                        })\n",
       "                };\n",
       "                });\n",
       "            </script>\n",
       "        </div>"
      ]
     },
     "metadata": {},
     "output_type": "display_data"
    }
   ],
   "source": [
    "fig = ff.create_distplot(np.array([df.cosine.to_list()]), ['cosine'],bin_size=.005)\n",
    "mean = df.cosine.mean()\n",
    "std = df.cosine.std()\n",
    "lines = [mean,mean+std,mean-std,mean+2*std,mean-2*std]\n",
    "for each in lines:\n",
    "    fig.add_shape(\n",
    "            # Line Vertical\n",
    "            dict(\n",
    "                type=\"line\",\n",
    "                x0=each,\n",
    "                y0=0,\n",
    "                x1=each,\n",
    "                y1=50,\n",
    "                line=dict(\n",
    "                    color=\"Red\",\n",
    "                    width=3\n",
    "                )\n",
    "    ))\n",
    "fig.update_layout(title={'text':'Mean Similarity Distribution for {}'.format('Pasadena'),\n",
    "                    'xanchor': 'left'},\n",
    "                    xaxis_title=\"Cosine Similarity to Average User\",\n",
    "                    yaxis_title=\"Frequency\",)\n",
    "fig.show()"
   ]
  },
  {
   "cell_type": "code",
   "execution_count": 163,
   "metadata": {},
   "outputs": [
    {
     "data": {
      "text/plain": [
       "count    104.000000\n",
       "mean       0.026191\n",
       "std        0.009883\n",
       "min        0.000000\n",
       "25%        0.019408\n",
       "50%        0.025510\n",
       "75%        0.033264\n",
       "max        0.049544\n",
       "Name: cosine, dtype: float64"
      ]
     },
     "execution_count": 163,
     "metadata": {},
     "output_type": "execute_result"
    }
   ],
   "source": [
    "df.cosine.describe()"
   ]
  },
  {
   "cell_type": "code",
   "execution_count": null,
   "metadata": {},
   "outputs": [],
   "source": []
  }
 ],
 "metadata": {
  "kernelspec": {
   "display_name": "Python 3",
   "language": "python",
   "name": "python3"
  },
  "language_info": {
   "codemirror_mode": {
    "name": "ipython",
    "version": 3
   },
   "file_extension": ".py",
   "mimetype": "text/x-python",
   "name": "python",
   "nbconvert_exporter": "python",
   "pygments_lexer": "ipython3",
   "version": "3.7.3"
  }
 },
 "nbformat": 4,
 "nbformat_minor": 2
}
