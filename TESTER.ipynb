{
 "cells": [
  {
   "cell_type": "code",
   "execution_count": 39,
   "metadata": {
    "scrolled": true
   },
   "outputs": [],
   "source": [
    "from selenium import webdriver\n",
    "import sys\n",
    "sys.path.append('/Users/matthewhwang/Documents/Resources')\n",
    "from login import username, password\n",
    "from time import sleep\n",
    "\n",
    "class TinderBot():\n",
    "    def __init__(self):\n",
    "        self.driver = webdriver.Chrome('/Users/matthewhwang/Documents/GitHub/chromedriver')\n",
    "\n",
    "    def login(self):\n",
    "        self.driver.get('https://tinder.com')\n",
    "\n",
    "        sleep(5)\n",
    "        string = \"//button[contains(.,'More Options')]\"\n",
    "        try:\n",
    "            moreops = self.driver.find_element_by_xpath(string)\n",
    "            moreops.click()\n",
    "            fb_path = '//*[@id=\"modal-manager\"]/div/div/div/div/div[3]/span/div[3]/button'\n",
    "            fb_btn = self.driver.find_element_by_xpath(fb_path)\n",
    "            fb_btn.click()\n",
    "        except:\n",
    "            fb_path = '//*[@id=\"modal-manager\"]/div/div/div/div/div[3]/span/div[2]/button'\n",
    "            fb_btn = self.driver.find_element_by_xpath(fb_path)\n",
    "            fb_btn.click()   \n",
    "bot = TinderBot()\n",
    "bot.login()\n",
    "sleep(5)\n",
    "# bot.auto_swipe()\n",
    "# bot.auto_message()"
   ]
  },
  {
   "cell_type": "code",
   "execution_count": null,
   "metadata": {},
   "outputs": [],
   "source": []
  }
 ],
 "metadata": {
  "kernelspec": {
   "display_name": "Python 3",
   "language": "python",
   "name": "python3"
  },
  "language_info": {
   "codemirror_mode": {
    "name": "ipython",
    "version": 3
   },
   "file_extension": ".py",
   "mimetype": "text/x-python",
   "name": "python",
   "nbconvert_exporter": "python",
   "pygments_lexer": "ipython3",
   "version": "3.7.3"
  }
 },
 "nbformat": 4,
 "nbformat_minor": 2
}
