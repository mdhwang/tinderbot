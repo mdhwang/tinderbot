{
 "cells": [
  {
   "cell_type": "code",
   "execution_count": 10,
   "metadata": {
    "scrolled": true
   },
   "outputs": [],
   "source": [
    "from selenium import webdriver\n",
    "import sys\n",
    "sys.path.append('/Users/matthewhwang/Documents/Resources')\n",
    "from login import username, password\n",
    "from time import sleep\n",
    "from selenium.webdriver.common.keys import Keys\n",
    "from selenium.webdriver.common.action_chains import ActionChains\n",
    "\n",
    "class TinderBot():\n",
    "    def __init__(self):\n",
    "        self.driver = webdriver.Chrome('/Users/matthewhwang/Documents/GitHub/chromedriver')\n",
    "\n",
    "    def login(self):\n",
    "        self.driver.get('https://tinder.com')\n",
    "\n",
    "        sleep(3)\n",
    "        \n",
    "        try:\n",
    "            string = \"//button[contains(.,'More Options')]\"\n",
    "            moreops = self.driver.find_element_by_xpath(string)\n",
    "            moreops.click()\n",
    "            fb_path = '//*[@id=\"modal-manager\"]/div/div/div/div/div[3]/span/div[3]/button'\n",
    "            fb_btn = self.driver.find_element_by_xpath(fb_path)\n",
    "            fb_btn.click()\n",
    "        except:\n",
    "            fb_path = '//*[@id=\"modal-manager\"]/div/div/div/div/div[3]/span/div[2]/button'\n",
    "            fb_btn = self.driver.find_element_by_xpath(fb_path)\n",
    "            fb_btn.click()       \n",
    "\n",
    "        # switch to login popup\n",
    "        base_window = self.driver.window_handles[0]\n",
    "        popup = self.driver.window_handles[1]\n",
    "        self.driver.switch_to.window(popup)\n",
    "\n",
    "        sleep(0.5)\n",
    "\n",
    "        email_in = self.driver.find_element_by_xpath('//*[@id=\"email\"]')\n",
    "        email_in.send_keys(username)\n",
    "\n",
    "        pw_in = self.driver.find_element_by_xpath('//*[@id=\"pass\"]')\n",
    "        pw_in.send_keys(password)\n",
    "\n",
    "\n",
    "        login_btn = self.driver.find_element_by_xpath('//*[@id=\"u_0_0\"]')\n",
    "        login_btn.click()\n",
    "\n",
    "        sleep(3)\n",
    "        # switch to original window\n",
    "\n",
    "        self.driver.switch_to.window(base_window)\n",
    "\n",
    "        sleep(2)\n",
    "\n",
    "        loc_popup = self.driver.find_element_by_xpath('//*[@id=\"modal-manager\"]/div/div/div/div/div[3]/button[1]')\n",
    "        loc_popup.click()\n",
    "\n",
    "        notif_popup = self.driver.find_element_by_xpath('//*[@id=\"modal-manager\"]/div/div/div/div/div[3]/button[1]')\n",
    "        notif_popup.click()\n",
    "\n",
    "    def profile_scrape(self):\n",
    "        self.open_profile()\n",
    "        \n",
    "        profile_data = {}\n",
    "\n",
    "        # Profile Pic URL\n",
    "        try:\n",
    "            profile_pic_elem = self.driver.find_element_by_xpath('//*[@id=\"content\"]/div/div[1]/div/main/div[1]/div/div/div[1]/div[1]/div/div[1]/span/a[2]/div/div[1]/div/div[1]/div/div/div')\n",
    "            profile_pic_contents = profile_pic_elem.get_attribute('style')\n",
    "            profile_pic_url = profile_pic_contents.split('\"')[1]\n",
    "        except:\n",
    "            print('Failed to get Profile Pic URL')\n",
    "            profile_pic_url = None\n",
    "\n",
    "        profile_data['profile_pic_url'] = profile_pic_url\n",
    "\n",
    "        # Profile Name\n",
    "        try:\n",
    "            profile_name_elem = self.driver.find_element_by_xpath('//*[@id=\"content\"]/div/div[1]/div/main/div[1]/div/div/div[1]/div[1]/div/div[2]/div[1]/div/div[1]/div/h1')\n",
    "            print(profile_name_elem)\n",
    "            profile_name = profile_pic_elem.text()\n",
    "            print(profile_name)\n",
    "        except:\n",
    "            print('EXCEPTION')\n",
    "            profile_name_elem = self.driver.find_element_by_xpath('//*[@id=\"content\"]/div/div[1]/div/main/div[1]/div/div/div[1]/div[1]/div/div[2]/div[1]/div/div[1]/div/h1')\n",
    "            print(profile_name_elem)\n",
    "            print('')\n",
    "            profile_name = None\n",
    "            print('Failed to get Name')\n",
    "\n",
    "        profile_data['name'] = profile_name\n",
    "\n",
    "        \n",
    "\n",
    "    def open_profile(self):\n",
    "        ActionChains(self.driver).send_keys(Keys.ARROW_UP).perform()\n",
    "\n",
    "    def like_key(self):\n",
    "        ActionChains(self.driver).send_keys(Keys.ARROW_RIGHT).perform()\n",
    "\n",
    "    def dislike_key(self):\n",
    "        ActionChains(self.driver).send_keys(Keys.ARROW_LEFT).perform()\n",
    "\n",
    "bot = TinderBot()\n",
    "bot.login()\n",
    "sleep(5)\n",
    "# bot.auto_swipe()\n",
    "# bot.auto_message()"
   ]
  },
  {
   "cell_type": "code",
   "execution_count": 1,
   "metadata": {},
   "outputs": [],
   "source": [
    "string = 'background-image: url(\"https://images-ssl.gotinder.com/5d9eb229e1eb600100d03963/640x800_75_5a231bf1-f40a-44da-949d-d6486169f9df.webp\"); background-position: 50% 50%; background-size: auto 100%;'"
   ]
  },
  {
   "cell_type": "code",
   "execution_count": 5,
   "metadata": {},
   "outputs": [],
   "source": [
    "my_list = string.split('\"')"
   ]
  },
  {
   "cell_type": "code",
   "execution_count": 6,
   "metadata": {},
   "outputs": [
    {
     "data": {
      "text/plain": [
       "3"
      ]
     },
     "execution_count": 6,
     "metadata": {},
     "output_type": "execute_result"
    }
   ],
   "source": [
    "len(my_list)"
   ]
  },
  {
   "cell_type": "code",
   "execution_count": 8,
   "metadata": {},
   "outputs": [
    {
     "data": {
      "text/plain": [
       "'https://images-ssl.gotinder.com/5d9eb229e1eb600100d03963/640x800_75_5a231bf1-f40a-44da-949d-d6486169f9df.webp'"
      ]
     },
     "execution_count": 8,
     "metadata": {},
     "output_type": "execute_result"
    }
   ],
   "source": [
    "my_list[1]"
   ]
  },
  {
   "cell_type": "code",
   "execution_count": null,
   "metadata": {},
   "outputs": [],
   "source": []
  }
 ],
 "metadata": {
  "kernelspec": {
   "display_name": "Python 3",
   "language": "python",
   "name": "python3"
  },
  "language_info": {
   "codemirror_mode": {
    "name": "ipython",
    "version": 3
   },
   "file_extension": ".py",
   "mimetype": "text/x-python",
   "name": "python",
   "nbconvert_exporter": "python",
   "pygments_lexer": "ipython3",
   "version": "3.7.3"
  }
 },
 "nbformat": 4,
 "nbformat_minor": 2
}
