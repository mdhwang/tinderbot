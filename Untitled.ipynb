{
 "cells": [
  {
   "cell_type": "code",
   "execution_count": 1,
   "metadata": {},
   "outputs": [],
   "source": [
    "import pandas as pd\n",
    "from clean import *"
   ]
  },
  {
   "cell_type": "code",
   "execution_count": 2,
   "metadata": {},
   "outputs": [
    {
     "name": "stdout",
     "output_type": "stream",
     "text": [
      "-----------------\n",
      "CLEANING DATA\n",
      "...\n",
      "FOUND 118396 ENTRIES\n",
      "REMOVED 40960 EMPTY ENTRIES\n",
      "REMOVED 1224 DUPLICATED ENTRIES\n",
      "76212 ENTRIES REMAIN\n",
      "-----------------\n",
      "FILLING MISSING CITY VALUES\n",
      "FOUND 57254 MISSING VALUES\n",
      "1264 MISSING CITY VALUES REMAIN (0.02%)\n",
      "-----------------\n",
      "ADDING LOCATION COORDINATE VALUES\n",
      "COULD NOT FIND LOCATION DATA FOR 1958 ENTRIES (0.03%)\n"
     ]
    }
   ],
   "source": [
    "df = pd.read_csv('data/raw/profile_data.csv')\n",
    "df = clean(df)\n",
    "df = fill_missing_cities(df)\n",
    "df = add_location_values(df)"
   ]
  },
  {
   "cell_type": "code",
   "execution_count": 19,
   "metadata": {},
   "outputs": [
    {
     "data": {
      "text/html": [
       "<div>\n",
       "<style scoped>\n",
       "    .dataframe tbody tr th:only-of-type {\n",
       "        vertical-align: middle;\n",
       "    }\n",
       "\n",
       "    .dataframe tbody tr th {\n",
       "        vertical-align: top;\n",
       "    }\n",
       "\n",
       "    .dataframe thead th {\n",
       "        text-align: right;\n",
       "    }\n",
       "</style>\n",
       "<table border=\"1\" class=\"dataframe\">\n",
       "  <thead>\n",
       "    <tr style=\"text-align: right;\">\n",
       "      <th></th>\n",
       "      <th>name</th>\n",
       "      <th>age</th>\n",
       "      <th>college</th>\n",
       "      <th>job</th>\n",
       "      <th>city</th>\n",
       "      <th>gender</th>\n",
       "      <th>distance</th>\n",
       "      <th>details</th>\n",
       "      <th>anthem</th>\n",
       "      <th>profile_pic_urls</th>\n",
       "      <th>num_pics</th>\n",
       "      <th>filtered_details</th>\n",
       "      <th>location</th>\n",
       "      <th>country</th>\n",
       "      <th>state</th>\n",
       "    </tr>\n",
       "  </thead>\n",
       "  <tbody>\n",
       "    <tr>\n",
       "      <th>0</th>\n",
       "      <td>Gianna</td>\n",
       "      <td>19.0</td>\n",
       "      <td>NaN</td>\n",
       "      <td>NaN</td>\n",
       "      <td>Barnegat</td>\n",
       "      <td>NaN</td>\n",
       "      <td>2430.0</td>\n",
       "      <td>ig- _.giaannaa_\\r\\nsc- gianna8378</td>\n",
       "      <td>('Slide (Remix) (feat. Pop Smoke, A Boogie Wit...</td>\n",
       "      <td>['https://images-ssl.gotinder.com/5dc0814dfc09...</td>\n",
       "      <td>4</td>\n",
       "      <td>{ig-, _.giaannaa_, gianna8378, sc-}</td>\n",
       "      <td>(39.7557462, -74.2207174)</td>\n",
       "      <td>United States of America</td>\n",
       "      <td>New Jersey</td>\n",
       "    </tr>\n",
       "    <tr>\n",
       "      <th>1</th>\n",
       "      <td>Lauren</td>\n",
       "      <td>21.0</td>\n",
       "      <td>Florida State University</td>\n",
       "      <td>NaN</td>\n",
       "      <td>Tallahassee</td>\n",
       "      <td>NaN</td>\n",
       "      <td>1981.0</td>\n",
       "      <td>A meme</td>\n",
       "      <td>NaN</td>\n",
       "      <td>['https://images-ssl.gotinder.com/5e8a352520cc...</td>\n",
       "      <td>4</td>\n",
       "      <td>{meme}</td>\n",
       "      <td>(30.4380832, -84.2809332)</td>\n",
       "      <td>United States of America</td>\n",
       "      <td>Florida</td>\n",
       "    </tr>\n",
       "    <tr>\n",
       "      <th>2</th>\n",
       "      <td>Britanny</td>\n",
       "      <td>19.0</td>\n",
       "      <td>Santa Ana College</td>\n",
       "      <td>Boys and girls club</td>\n",
       "      <td>Garden Grove</td>\n",
       "      <td>NaN</td>\n",
       "      <td>19.0</td>\n",
       "      <td>Get to know me ☺️ Never been to Disneyland 😅 S...</td>\n",
       "      <td>NaN</td>\n",
       "      <td>['https://images-ssl.gotinder.com/5cace3ad9b7a...</td>\n",
       "      <td>7</td>\n",
       "      <td>{get, brix207, georgely_, sc, insta, know, ☺️,...</td>\n",
       "      <td>(33.7746292, -117.9463717)</td>\n",
       "      <td>United States of America</td>\n",
       "      <td>California</td>\n",
       "    </tr>\n",
       "    <tr>\n",
       "      <th>3</th>\n",
       "      <td>Kayla</td>\n",
       "      <td>28.0</td>\n",
       "      <td>School</td>\n",
       "      <td>NaN</td>\n",
       "      <td>Los Angeles</td>\n",
       "      <td>Woman</td>\n",
       "      <td>18.0</td>\n",
       "      <td>I am a creative person that loves simple, inno...</td>\n",
       "      <td>NaN</td>\n",
       "      <td>['https://images-ssl.gotinder.com/5e90cb67da1c...</td>\n",
       "      <td>1</td>\n",
       "      <td>{decently, art, loves, someone, looks, animati...</td>\n",
       "      <td>(34.0536909, -118.2427666)</td>\n",
       "      <td>United States of America</td>\n",
       "      <td>California</td>\n",
       "    </tr>\n",
       "    <tr>\n",
       "      <th>4</th>\n",
       "      <td>Kimberly</td>\n",
       "      <td>18.0</td>\n",
       "      <td>California State University, Los Angeles</td>\n",
       "      <td>NaN</td>\n",
       "      <td>Monterey Park</td>\n",
       "      <td>Woman</td>\n",
       "      <td>15.0</td>\n",
       "      <td>Just for fun\\r\\nI’m 5’2</td>\n",
       "      <td>NaN</td>\n",
       "      <td>['https://images-ssl.gotinder.com/5e0ffa53349f...</td>\n",
       "      <td>6</td>\n",
       "      <td>{fun, ’, 5, 2}</td>\n",
       "      <td>(34.051522, -118.129807)</td>\n",
       "      <td>United States of America</td>\n",
       "      <td>California</td>\n",
       "    </tr>\n",
       "  </tbody>\n",
       "</table>\n",
       "</div>"
      ],
      "text/plain": [
       "       name   age                                   college  \\\n",
       "0    Gianna  19.0                                       NaN   \n",
       "1    Lauren  21.0                  Florida State University   \n",
       "2  Britanny  19.0                         Santa Ana College   \n",
       "3     Kayla  28.0                                    School   \n",
       "4  Kimberly  18.0  California State University, Los Angeles   \n",
       "\n",
       "                   job           city gender  distance  \\\n",
       "0                  NaN       Barnegat    NaN    2430.0   \n",
       "1                  NaN    Tallahassee    NaN    1981.0   \n",
       "2  Boys and girls club   Garden Grove    NaN      19.0   \n",
       "3                  NaN    Los Angeles  Woman      18.0   \n",
       "4                  NaN  Monterey Park  Woman      15.0   \n",
       "\n",
       "                                             details  \\\n",
       "0                 ig- _.giaannaa_\\r\\nsc- gianna8378    \n",
       "1                                            A meme    \n",
       "2  Get to know me ☺️ Never been to Disneyland 😅 S...   \n",
       "3  I am a creative person that loves simple, inno...   \n",
       "4                           Just for fun\\r\\nI’m 5’2    \n",
       "\n",
       "                                              anthem  \\\n",
       "0  ('Slide (Remix) (feat. Pop Smoke, A Boogie Wit...   \n",
       "1                                                NaN   \n",
       "2                                                NaN   \n",
       "3                                                NaN   \n",
       "4                                                NaN   \n",
       "\n",
       "                                    profile_pic_urls  num_pics  \\\n",
       "0  ['https://images-ssl.gotinder.com/5dc0814dfc09...         4   \n",
       "1  ['https://images-ssl.gotinder.com/5e8a352520cc...         4   \n",
       "2  ['https://images-ssl.gotinder.com/5cace3ad9b7a...         7   \n",
       "3  ['https://images-ssl.gotinder.com/5e90cb67da1c...         1   \n",
       "4  ['https://images-ssl.gotinder.com/5e0ffa53349f...         6   \n",
       "\n",
       "                                    filtered_details  \\\n",
       "0                {ig-, _.giaannaa_, gianna8378, sc-}   \n",
       "1                                             {meme}   \n",
       "2  {get, brix207, georgely_, sc, insta, know, ☺️,...   \n",
       "3  {decently, art, loves, someone, looks, animati...   \n",
       "4                                     {fun, ’, 5, 2}   \n",
       "\n",
       "                     location                   country       state  \n",
       "0   (39.7557462, -74.2207174)  United States of America  New Jersey  \n",
       "1   (30.4380832, -84.2809332)  United States of America     Florida  \n",
       "2  (33.7746292, -117.9463717)  United States of America  California  \n",
       "3  (34.0536909, -118.2427666)  United States of America  California  \n",
       "4    (34.051522, -118.129807)  United States of America  California  "
      ]
     },
     "execution_count": 19,
     "metadata": {},
     "output_type": "execute_result"
    }
   ],
   "source": [
    "df.head()"
   ]
  },
  {
   "cell_type": "code",
   "execution_count": 8,
   "metadata": {},
   "outputs": [],
   "source": [
    "a = df.iloc[0,9]"
   ]
  },
  {
   "cell_type": "code",
   "execution_count": 3,
   "metadata": {},
   "outputs": [],
   "source": [
    "l = '640x800_75_83633378-7fec-4f6d-8af2-91fef8b2d726.webp'"
   ]
  },
  {
   "cell_type": "code",
   "execution_count": 35,
   "metadata": {},
   "outputs": [
    {
     "data": {
      "text/plain": [
       "[\"'https://images-ssl.gotinder.com/5dc0814dfc09b801007b6c1b/640x800_75_90983506-a499-436b-80d4-d3d7944bf2f6.webp'\",\n",
       " \"'https://images-ssl.gotinder.com/5dc0814dfc09b801007b6c1b/640x800_75_70d06d7f-7bf8-418b-84b9-d285b139a3db.webp'\",\n",
       " \"'https://images-ssl.gotinder.com/5dc0814dfc09b801007b6c1b/640x800_75_f6c88ec2-6883-433b-85a6-3086faee56cf.webp'\",\n",
       " \"'https://images-ssl.gotinder.com/5dc0814dfc09b801007b6c1b/640x800_75_620ec41b-b461-455e-b66e-937810b968c1.webp'\"]"
      ]
     },
     "execution_count": 35,
     "metadata": {},
     "output_type": "execute_result"
    }
   ],
   "source": [
    "a"
   ]
  },
  {
   "cell_type": "code",
   "execution_count": 41,
   "metadata": {},
   "outputs": [],
   "source": [
    "def check(user):\n",
    "    for each in user:\n",
    "        if l in each:\n",
    "            return True\n",
    "        else:\n",
    "            return False"
   ]
  },
  {
   "cell_type": "code",
   "execution_count": 42,
   "metadata": {},
   "outputs": [],
   "source": [
    "df['check'] = df.profile_pic_urls.apply(lambda x: check(x))"
   ]
  },
  {
   "cell_type": "code",
   "execution_count": 43,
   "metadata": {},
   "outputs": [
    {
     "data": {
      "text/plain": [
       "0"
      ]
     },
     "execution_count": 43,
     "metadata": {},
     "output_type": "execute_result"
    }
   ],
   "source": [
    "df.check.sum()"
   ]
  },
  {
   "cell_type": "code",
   "execution_count": 4,
   "metadata": {},
   "outputs": [],
   "source": [
    "mask = df.apply(lambda row: row.astype(str).str.contains(l).any(), axis=1)"
   ]
  },
  {
   "cell_type": "code",
   "execution_count": 7,
   "metadata": {},
   "outputs": [],
   "source": [
    "df = df.reset_index"
   ]
  },
  {
   "cell_type": "code",
   "execution_count": 8,
   "metadata": {
    "scrolled": true
   },
   "outputs": [
    {
     "ename": "TypeError",
     "evalue": "'method' object is not subscriptable",
     "output_type": "error",
     "traceback": [
      "\u001b[0;31m---------------------------------------------------------------------------\u001b[0m",
      "\u001b[0;31mTypeError\u001b[0m                                 Traceback (most recent call last)",
      "\u001b[0;32m<ipython-input-8-06b8270ef14a>\u001b[0m in \u001b[0;36m<module>\u001b[0;34m()\u001b[0m\n\u001b[0;32m----> 1\u001b[0;31m \u001b[0mdf\u001b[0m\u001b[0;34m[\u001b[0m\u001b[0mmask\u001b[0m\u001b[0;34m]\u001b[0m\u001b[0;34m\u001b[0m\u001b[0;34m\u001b[0m\u001b[0m\n\u001b[0m",
      "\u001b[0;31mTypeError\u001b[0m: 'method' object is not subscriptable"
     ]
    }
   ],
   "source": [
    "df[mask]"
   ]
  },
  {
   "cell_type": "code",
   "execution_count": 56,
   "metadata": {},
   "outputs": [
    {
     "data": {
      "text/plain": [
       "name                                                             Tina\n",
       "age                                                                32\n",
       "college                                                           NaN\n",
       "job                                                         Dj, model\n",
       "city                                                      Los Angeles\n",
       "gender                                                            NaN\n",
       "distance                                                           15\n",
       "details                                  Love dogs and Pinot Grigio. \n",
       "anthem                                                            NaN\n",
       "profile_pic_urls    ['https://images-ssl.gotinder.com/5cf362926ea5...\n",
       "num_pics                                                            7\n",
       "filtered_details                          {grigio, pinot, love, dogs}\n",
       "location                                   (34.0536909, -118.2427666)\n",
       "country                                      United States of America\n",
       "state                                                      California\n",
       "check                                                           False\n",
       "Name: 1607, dtype: object"
      ]
     },
     "execution_count": 56,
     "metadata": {},
     "output_type": "execute_result"
    }
   ],
   "source": [
    "df.iloc[1604,:]"
   ]
  },
  {
   "cell_type": "code",
   "execution_count": null,
   "metadata": {},
   "outputs": [],
   "source": []
  }
 ],
 "metadata": {
  "kernelspec": {
   "display_name": "Python 3",
   "language": "python",
   "name": "python3"
  },
  "language_info": {
   "codemirror_mode": {
    "name": "ipython",
    "version": 3
   },
   "file_extension": ".py",
   "mimetype": "text/x-python",
   "name": "python",
   "nbconvert_exporter": "python",
   "pygments_lexer": "ipython3",
   "version": "3.7.3"
  }
 },
 "nbformat": 4,
 "nbformat_minor": 2
}
